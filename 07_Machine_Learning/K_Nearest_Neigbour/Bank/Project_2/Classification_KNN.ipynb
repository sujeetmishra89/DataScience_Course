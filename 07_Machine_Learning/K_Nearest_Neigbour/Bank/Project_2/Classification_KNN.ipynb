{
 "cells": [
  {
   "cell_type": "markdown",
   "metadata": {},
   "source": [
    "#Knn classifier using default euclidean distance method.\n",
    "#Description of the variables as given in Readme.md file"
   ]
  },
  {
   "cell_type": "code",
   "execution_count": 4,
   "metadata": {
    "collapsed": true
   },
   "outputs": [],
   "source": [
    "#Reading file\n",
    "url=\"https://raw.githubusercontent.com/rajsiddarth/Datasets/master/Bank_dataset.csv\"\n",
    "import pandas as pd\n",
    "data=pd.read_csv(url,header=0,names=[\"id\",\"age\",\"experience\",\"income\",\"zipcode\",\"family\"\n",
    "             ,\"ccavg\",\"education\",\"mortgage\",\"pers_loan\",\"sec_amount\",\"cd_account\",\"online\",\"credit_card\"])\n",
    "#Removing id,zipcode and experience\n",
    "data.drop(['id','experience','zipcode'],inplace=True,axis=1)\n",
    "categ_data=data.loc[:,['family','education','sec_amount','cd_account','online','credit_card']]\n",
    "dep_data=data['pers_loan']\n",
    "data.drop(['family','education','pers_loan','sec_amount','cd_account','online','credit_card'],inplace=True,axis=1)\n",
    "\n",
    "#Converting to categorical variables\n",
    "for i in categ_data.columns:\n",
    "    categ_data= pd.get_dummies(categ_data,prefix= str(i)+'_',columns=[i])\n",
    "    \n",
    "#Using mean normalizationfor numerical variables\n",
    "from sklearn import preprocessing\n",
    "min_max_scaler=preprocessing.MinMaxScaler()\n",
    "data=pd.DataFrame(min_max_scaler.fit_transform(data.values),columns=['age','income','ccavg','mortgage'])\n",
    "data=pd.concat([data,categ_data,dep_data],axis=1)\n",
    "\n",
    "#Converting target variable to category \n",
    "data['pers_loan']=data['pers_loan'].astype('category')\n"
   ]
  },
  {
   "cell_type": "code",
   "execution_count": 5,
   "metadata": {
    "collapsed": false
   },
   "outputs": [
    {
     "name": "stdout",
     "output_type": "stream",
     "text": [
      "0    3164\n",
      "1     336\n",
      "Name: pers_loan, dtype: int64\n",
      "0    1356\n",
      "1     144\n",
      "Name: pers_loan, dtype: int64\n"
     ]
    }
   ],
   "source": [
    "#Dividing into train and test using cross validation\n",
    "#Taking out evaluation set using stratified sampling\n",
    "import random\n",
    "random.seed(123)\n",
    "from sklearn.cross_validation import StratifiedShuffleSplit,StratifiedKFold\n",
    "X,Y=data.ix[:,:-1],data.ix[:,-1]\n",
    "data_index=StratifiedShuffleSplit(Y,n_iter=1,test_size=0.3)\n",
    "for train_index,test_index in data_index:\n",
    "    X_data,X_evaldata=X.loc[train_index],X.loc[test_index]\n",
    "    Y_data,Y_evaldata=Y.loc[train_index],Y.loc[test_index]\n",
    "data=pd.concat([X_data,Y_data],axis=1).reset_index()\n",
    "eval_data=pd.concat([X_evaldata,Y_evaldata],axis=1).reset_index()\n",
    "#Checking the sampling for data and eval data\n",
    "print(data['pers_loan'].value_counts())\n",
    "print(eval_data['pers_loan'].value_counts())\n",
    "import warnings\n",
    "warnings.filterwarnings(\"ignore\")"
   ]
  },
  {
   "cell_type": "code",
   "execution_count": 6,
   "metadata": {
    "collapsed": false,
    "scrolled": true
   },
   "outputs": [
    {
     "name": "stdout",
     "output_type": "stream",
     "text": [
      "0.951333333333\n"
     ]
    }
   ],
   "source": [
    "#Knn without parameter tuning\n",
    "\n",
    "from sklearn.neighbors import KNeighborsClassifier\n",
    "from sklearn.metrics import accuracy_score\n",
    "\n",
    "# instantiate learning model (k = 3)\n",
    "knn = KNeighborsClassifier(n_neighbors=3)\n",
    "\n",
    "# fitting the model\n",
    "knn.fit(X_data, Y_data)\n",
    "\n",
    "# predict the response\n",
    "pred = knn.predict(X_evaldata)\n",
    "\n",
    "# evaluate accuracy\n",
    "print (accuracy_score(Y_evaldata,pred))\n",
    "\n",
    "#Predicting loan defaulters as "
   ]
  },
  {
   "cell_type": "code",
   "execution_count": 7,
   "metadata": {
    "collapsed": false
   },
   "outputs": [
    {
     "name": "stdout",
     "output_type": "stream",
     "text": [
      "The optimal number of neighbors is 1\n"
     ]
    }
   ],
   "source": [
    "#Parameter tuning for Knn using 10-fold cross validation\n",
    "from sklearn.model_selection import cross_val_score\n",
    "\n",
    "# creating odd list of K for KNN\n",
    "myList = list(range(1,50))\n",
    "\n",
    "# subsetting just the odd ones\n",
    "neighbors = list(filter(lambda x: x % 2 != 0, myList))\n",
    "\n",
    "# empty list that will hold cv scores\n",
    "cv_scores = []\n",
    "\n",
    "# perform 10-fold cross validation\n",
    "for k in neighbors:\n",
    "    knn = KNeighborsClassifier(n_neighbors=k)\n",
    "    scores = cross_val_score(knn, X_data, Y_data, cv=10, scoring='accuracy')\n",
    "    cv_scores.append(scores.mean())\n",
    "\n",
    "#Misclassification error\n",
    "MSE=[1-x for x in cv_scores]\n",
    "optimal_k=neighbors[MSE.index(min(MSE))]\n",
    "print (\"The optimal number of neighbors is %d\" % optimal_k)"
   ]
  },
  {
   "cell_type": "code",
   "execution_count": 8,
   "metadata": {
    "collapsed": false
   },
   "outputs": [
    {
     "data": {
      "image/png": "[encoded data removed]",
      "text/plain": [
       "<matplotlib.figure.Figure at 0x2501615dac8>"
      ]
     },
     "metadata": {},
     "output_type": "display_data"
    }
   ],
   "source": [
    "# plot misclassification error vs k\n",
    "import matplotlib.pyplot as plt\n",
    "plt.plot(neighbors, MSE)\n",
    "plt.xlabel('Number of Neighbors K')\n",
    "plt.ylabel('Misclassification Error')\n",
    "plt.show()   "
   ]
  },
  {
   "cell_type": "code",
   "execution_count": 9,
   "metadata": {
    "collapsed": false
   },
   "outputs": [
    {
     "name": "stdout",
     "output_type": "stream",
     "text": [
      "The accuracy of the knn model is 0.957333\n"
     ]
    }
   ],
   "source": [
    "#Making predictions using K=1;optimal k on eval data\n",
    "import numpy as np\n",
    "def  kNearestNeighbor(X_train,Y_train,x_test,k):\n",
    "    # instantiate learning model \n",
    "    knn = KNeighborsClassifier(n_neighbors=k)\n",
    "\n",
    "    # fitting the model\n",
    "    knn.fit(X_train,Y_train)\n",
    "\n",
    "    # predict the response\n",
    "    pred = knn.predict(x_test)\n",
    "    \n",
    "    return np.asarray(pred)\n",
    "\n",
    "predictions=kNearestNeighbor(X_data, Y_data, X_evaldata,1)\n",
    "\n",
    "print ('The accuracy of the knn model is %f' %accuracy_score(Y_evaldata,predictions))"
   ]
  },
  {
   "cell_type": "code",
   "execution_count": null,
   "metadata": {
    "collapsed": true
   },
   "outputs": [],
   "source": []
  }
 ],
 "metadata": {
  "anaconda-cloud": {},
  "kernelspec": {
   "display_name": "Python 3",
   "language": "python",
   "name": "python3"
  },
  "language_info": {
   "codemirror_mode": {
    "name": "ipython",
    "version": 3
   },
   "file_extension": ".py",
   "mimetype": "text/x-python",
   "name": "python",
   "nbconvert_exporter": "python",
   "pygments_lexer": "ipython3",
   "version": "3.6.1"
  }
 },
 "nbformat": 4,
 "nbformat_minor": 2
}
