{
 "cells": [
  {
   "cell_type": "code",
   "execution_count": 1,
   "metadata": {},
   "outputs": [
    {
     "name": "stderr",
     "output_type": "stream",
     "text": [
      "Using TensorFlow backend.\n"
     ]
    }
   ],
   "source": [
    "from keras.models import Sequential\n",
    "from keras.layers import Dense\n",
    "import numpy as np\n",
    "import matplotlib.pyplot as plt\n",
    "%matplotlib inline"
   ]
  },
  {
   "cell_type": "code",
   "execution_count": 2,
   "metadata": {},
   "outputs": [],
   "source": [
    "# Generate dataset\n",
    "trX = np.linspace(-1, 1, 101)\n",
    "trY = 2 * trX + np.random.randn(*trX.shape) * 0.33 # create a y value which is approximately linear but with some random noise"
   ]
  },
  {
   "cell_type": "code",
   "execution_count": 3,
   "metadata": {},
   "outputs": [
    {
     "name": "stderr",
     "output_type": "stream",
     "text": [
      "C:\\Users\\PR269KB\\AppData\\Local\\Continuum\\anaconda3\\lib\\site-packages\\ipykernel_launcher.py:3: UserWarning: Update your `Dense` call to the Keras 2 API: `Dense(input_dim=1, activation=\"linear\", units=1, kernel_initializer=\"uniform\")`\n",
      "  This is separate from the ipykernel package so we can avoid doing imports until\n"
     ]
    }
   ],
   "source": [
    "# Linear regression model\n",
    "model = Sequential()\n",
    "model.add(Dense(input_dim=1, output_dim=1, init='uniform', activation='linear'))\n",
    "model.compile(optimizer='sgd', loss='mse')"
   ]
  },
  {
   "cell_type": "code",
   "execution_count": 4,
   "metadata": {},
   "outputs": [
    {
     "name": "stdout",
     "output_type": "stream",
     "text": [
      "Linear regression model is initialized with weight w: 0.04, b: 0.00\n"
     ]
    }
   ],
   "source": [
    "# Print initial weights\n",
    "weights = model.layers[0].get_weights()\n",
    "w_init = weights[0][0][0]\n",
    "b_init = weights[1][0]\n",
    "print('Linear regression model is initialized with weight w: %.2f, b: %.2f' % (w_init, b_init))"
   ]
  },
  {
   "cell_type": "code",
   "execution_count": 5,
   "metadata": {},
   "outputs": [
    {
     "name": "stderr",
     "output_type": "stream",
     "text": [
      "C:\\Users\\PR269KB\\AppData\\Local\\Continuum\\anaconda3\\lib\\site-packages\\ipykernel_launcher.py:2: UserWarning: The `nb_epoch` argument in `fit` has been renamed `epochs`.\n",
      "  \n"
     ]
    },
    {
     "name": "stdout",
     "output_type": "stream",
     "text": [
      "Epoch 1/100\n",
      "101/101 [==============================] - 0s 4ms/step - loss: 1.3817\n",
      "Epoch 2/100\n",
      "101/101 [==============================] - 0s 89us/step - loss: 1.3069\n",
      "Epoch 3/100\n",
      "101/101 [==============================] - 0s 129us/step - loss: 1.2512\n",
      "Epoch 4/100\n",
      "101/101 [==============================] - 0s 119us/step - loss: 1.1919\n",
      "Epoch 5/100\n",
      "101/101 [==============================] - 0s 208us/step - loss: 1.1393\n",
      "Epoch 6/100\n",
      "101/101 [==============================] - 0s 198us/step - loss: 1.0797\n",
      "Epoch 7/100\n",
      "101/101 [==============================] - 0s 188us/step - loss: 1.0266\n",
      "Epoch 8/100\n",
      "101/101 [==============================] - 0s 188us/step - loss: 0.9727\n",
      "Epoch 9/100\n",
      "101/101 [==============================] - 0s 178us/step - loss: 0.9223\n",
      "Epoch 10/100\n",
      "101/101 [==============================] - 0s 238us/step - loss: 0.8805\n",
      "Epoch 11/100\n",
      "101/101 [==============================] - 0s 248us/step - loss: 0.8408\n",
      "Epoch 12/100\n",
      "101/101 [==============================] - 0s 169us/step - loss: 0.8010\n",
      "Epoch 13/100\n",
      "101/101 [==============================] - 0s 218us/step - loss: 0.7607\n",
      "Epoch 14/100\n",
      "101/101 [==============================] - 0s 218us/step - loss: 0.7217\n",
      "Epoch 15/100\n",
      "101/101 [==============================] - 0s 149us/step - loss: 0.6875\n",
      "Epoch 16/100\n",
      "101/101 [==============================] - 0s 208us/step - loss: 0.6546\n",
      "Epoch 17/100\n",
      "101/101 [==============================] - 0s 218us/step - loss: 0.6219\n",
      "Epoch 18/100\n",
      "101/101 [==============================] - 0s 178us/step - loss: 0.5916\n",
      "Epoch 19/100\n",
      "101/101 [==============================] - 0s 218us/step - loss: 0.5659\n",
      "Epoch 20/100\n",
      "101/101 [==============================] - 0s 268us/step - loss: 0.5415\n",
      "Epoch 21/100\n",
      "101/101 [==============================] - 0s 188us/step - loss: 0.5187\n",
      "Epoch 22/100\n",
      "101/101 [==============================] - 0s 218us/step - loss: 0.4932\n",
      "Epoch 23/100\n",
      "101/101 [==============================] - ETA: 0s - loss: 0.499 - 0s 228us/step - loss: 0.4734\n",
      "Epoch 24/100\n",
      "101/101 [==============================] - 0s 188us/step - loss: 0.4532\n",
      "Epoch 25/100\n",
      "101/101 [==============================] - 0s 168us/step - loss: 0.4326\n",
      "Epoch 26/100\n",
      "101/101 [==============================] - 0s 188us/step - loss: 0.4149\n",
      "Epoch 27/100\n",
      "101/101 [==============================] - 0s 168us/step - loss: 0.3956\n",
      "Epoch 28/100\n",
      "101/101 [==============================] - 0s 248us/step - loss: 0.3771\n",
      "Epoch 29/100\n",
      "101/101 [==============================] - 0s 138us/step - loss: 0.3623\n",
      "Epoch 30/100\n",
      "101/101 [==============================] - 0s 237us/step - loss: 0.3505\n",
      "Epoch 31/100\n",
      "101/101 [==============================] - 0s 257us/step - loss: 0.3393\n",
      "Epoch 32/100\n",
      "101/101 [==============================] - 0s 267us/step - loss: 0.3254\n",
      "Epoch 33/100\n",
      "101/101 [==============================] - 0s 297us/step - loss: 0.3131\n",
      "Epoch 34/100\n",
      "101/101 [==============================] - 0s 247us/step - loss: 0.3019\n",
      "Epoch 35/100\n",
      "101/101 [==============================] - 0s 229us/step - loss: 0.2906\n",
      "Epoch 36/100\n",
      "101/101 [==============================] - ETA: 0s - loss: 0.282 - 0s 178us/step - loss: 0.2794\n",
      "Epoch 37/100\n",
      "101/101 [==============================] - ETA: 0s - loss: 0.234 - 0s 248us/step - loss: 0.2691\n",
      "Epoch 38/100\n",
      "101/101 [==============================] - 0s 267us/step - loss: 0.2610\n",
      "Epoch 39/100\n",
      "101/101 [==============================] - 0s 149us/step - loss: 0.2500\n",
      "Epoch 40/100\n",
      "101/101 [==============================] - 0s 168us/step - loss: 0.2425\n",
      "Epoch 41/100\n",
      "101/101 [==============================] - 0s 188us/step - loss: 0.2353\n",
      "Epoch 42/100\n",
      "101/101 [==============================] - 0s 188us/step - loss: 0.2256\n",
      "Epoch 43/100\n",
      "101/101 [==============================] - 0s 168us/step - loss: 0.2184\n",
      "Epoch 44/100\n",
      "101/101 [==============================] - 0s 218us/step - loss: 0.2113\n",
      "Epoch 45/100\n",
      "101/101 [==============================] - 0s 218us/step - loss: 0.2043\n",
      "Epoch 46/100\n",
      "101/101 [==============================] - 0s 198us/step - loss: 0.1991\n",
      "Epoch 47/100\n",
      "101/101 [==============================] - 0s 198us/step - loss: 0.1922\n",
      "Epoch 48/100\n",
      "101/101 [==============================] - 0s 198us/step - loss: 0.1868\n",
      "Epoch 49/100\n",
      "101/101 [==============================] - 0s 198us/step - loss: 0.1814\n",
      "Epoch 50/100\n",
      "101/101 [==============================] - 0s 188us/step - loss: 0.1774\n",
      "Epoch 51/100\n",
      "101/101 [==============================] - 0s 149us/step - loss: 0.1719\n",
      "Epoch 52/100\n",
      "101/101 [==============================] - 0s 247us/step - loss: 0.1676\n",
      "Epoch 53/100\n",
      "101/101 [==============================] - 0s 208us/step - loss: 0.1637\n",
      "Epoch 54/100\n",
      "101/101 [==============================] - 0s 158us/step - loss: 0.1606\n",
      "Epoch 55/100\n",
      "101/101 [==============================] - 0s 158us/step - loss: 0.1574\n",
      "Epoch 56/100\n",
      "101/101 [==============================] - 0s 158us/step - loss: 0.1536\n",
      "Epoch 57/100\n",
      "101/101 [==============================] - ETA: 0s - loss: 0.143 - 0s 208us/step - loss: 0.1508\n",
      "Epoch 58/100\n",
      "101/101 [==============================] - 0s 168us/step - loss: 0.1474\n",
      "Epoch 59/100\n",
      "101/101 [==============================] - 0s 228us/step - loss: 0.1438\n",
      "Epoch 60/100\n",
      "101/101 [==============================] - 0s 158us/step - loss: 0.1402\n",
      "Epoch 61/100\n",
      "101/101 [==============================] - 0s 208us/step - loss: 0.1371\n",
      "Epoch 62/100\n",
      "101/101 [==============================] - 0s 228us/step - loss: 0.1351\n",
      "Epoch 63/100\n",
      "101/101 [==============================] - 0s 218us/step - loss: 0.1326\n",
      "Epoch 64/100\n",
      "101/101 [==============================] - 0s 178us/step - loss: 0.1302\n",
      "Epoch 65/100\n",
      "101/101 [==============================] - 0s 119us/step - loss: 0.1278\n",
      "Epoch 66/100\n",
      "101/101 [==============================] - 0s 208us/step - loss: 0.1259\n",
      "Epoch 67/100\n",
      "101/101 [==============================] - 0s 129us/step - loss: 0.1240\n",
      "Epoch 68/100\n",
      "101/101 [==============================] - 0s 178us/step - loss: 0.1220\n",
      "Epoch 69/100\n",
      "101/101 [==============================] - 0s 139us/step - loss: 0.1203\n",
      "Epoch 70/100\n",
      "101/101 [==============================] - 0s 277us/step - loss: 0.1189\n",
      "Epoch 71/100\n",
      "101/101 [==============================] - 0s 238us/step - loss: 0.1179\n",
      "Epoch 72/100\n",
      "101/101 [==============================] - 0s 188us/step - loss: 0.1167\n",
      "Epoch 73/100\n",
      "101/101 [==============================] - 0s 198us/step - loss: 0.1153\n",
      "Epoch 74/100\n",
      "101/101 [==============================] - 0s 178us/step - loss: 0.1139\n",
      "Epoch 75/100\n",
      "101/101 [==============================] - 0s 218us/step - loss: 0.1125\n",
      "Epoch 76/100\n",
      "101/101 [==============================] - 0s 168us/step - loss: 0.1110\n",
      "Epoch 77/100\n",
      "101/101 [==============================] - 0s 158us/step - loss: 0.1100\n",
      "Epoch 78/100\n",
      "101/101 [==============================] - 0s 228us/step - loss: 0.1086\n",
      "Epoch 79/100\n",
      "101/101 [==============================] - 0s 188us/step - loss: 0.1078\n",
      "Epoch 80/100\n",
      "101/101 [==============================] - 0s 198us/step - loss: 0.1070\n",
      "Epoch 81/100\n",
      "101/101 [==============================] - 0s 208us/step - loss: 0.1061\n",
      "Epoch 82/100\n",
      "101/101 [==============================] - 0s 188us/step - loss: 0.1052\n",
      "Epoch 83/100\n",
      "101/101 [==============================] - 0s 168us/step - loss: 0.1039\n",
      "Epoch 84/100\n",
      "101/101 [==============================] - 0s 198us/step - loss: 0.1031\n",
      "Epoch 85/100\n",
      "101/101 [==============================] - 0s 168us/step - loss: 0.1026\n",
      "Epoch 86/100\n",
      "101/101 [==============================] - 0s 198us/step - loss: 0.1018\n",
      "Epoch 87/100\n",
      "101/101 [==============================] - 0s 109us/step - loss: 0.1013\n",
      "Epoch 88/100\n",
      "101/101 [==============================] - 0s 168us/step - loss: 0.1007\n",
      "Epoch 89/100\n",
      "101/101 [==============================] - 0s 188us/step - loss: 0.1002\n",
      "Epoch 90/100\n",
      "101/101 [==============================] - 0s 109us/step - loss: 0.0996\n",
      "Epoch 91/100\n",
      "101/101 [==============================] - ETA: 0s - loss: 0.116 - 0s 158us/step - loss: 0.0991\n",
      "Epoch 92/100\n",
      "101/101 [==============================] - 0s 139us/step - loss: 0.0988\n",
      "Epoch 93/100\n",
      "101/101 [==============================] - 0s 178us/step - loss: 0.0985\n",
      "Epoch 94/100\n",
      "101/101 [==============================] - 0s 168us/step - loss: 0.0980\n",
      "Epoch 95/100\n",
      "101/101 [==============================] - 0s 139us/step - loss: 0.0976\n",
      "Epoch 96/100\n"
     ]
    },
    {
     "name": "stdout",
     "output_type": "stream",
     "text": [
      "101/101 [==============================] - 0s 178us/step - loss: 0.0969\n",
      "Epoch 97/100\n",
      "101/101 [==============================] - 0s 218us/step - loss: 0.0968\n",
      "Epoch 98/100\n",
      "101/101 [==============================] - 0s 178us/step - loss: 0.0964\n",
      "Epoch 99/100\n",
      "101/101 [==============================] - 0s 188us/step - loss: 0.0961\n",
      "Epoch 100/100\n",
      "101/101 [==============================] - 0s 158us/step - loss: 0.0961\n"
     ]
    },
    {
     "data": {
      "text/plain": [
       "<keras.callbacks.callbacks.History at 0x176a8f84bc8>"
      ]
     },
     "execution_count": 5,
     "metadata": {},
     "output_type": "execute_result"
    }
   ],
   "source": [
    "# Train\n",
    "model.fit(trX, trY, nb_epoch=100, verbose=1)"
   ]
  },
  {
   "cell_type": "code",
   "execution_count": 6,
   "metadata": {},
   "outputs": [
    {
     "name": "stdout",
     "output_type": "stream",
     "text": [
      "Linear regression model is trained with weight w: 1.87, b: -0.00\n"
     ]
    }
   ],
   "source": [
    "# Print trained weights\n",
    "weights = model.layers[0].get_weights()\n",
    "w = weights[0][0][0]\n",
    "b = weights[1][0]\n",
    "print('Linear regression model is trained with weight w: %.2f, b: %.2f' % (w, b))"
   ]
  },
  {
   "cell_type": "code",
   "execution_count": 7,
   "metadata": {},
   "outputs": [
    {
     "data": {
      "image/png": "[encoded data removed]",
      "text/plain": [
       "<Figure size 432x288 with 1 Axes>"
      ]
     },
     "metadata": {
      "needs_background": "light"
     },
     "output_type": "display_data"
    }
   ],
   "source": [
    "plt.plot(trX, trY, label='data')\n",
    "plt.plot(trX, w_init*trX + b_init, label='init')\n",
    "plt.plot(trX, w*trX + b, label='prediction')\n",
    "plt.legend()\n",
    "plt.show()"
   ]
  }
 ],
 "metadata": {
  "kernelspec": {
   "display_name": "Python 3",
   "language": "python",
   "name": "python3"
  },
  "language_info": {
   "codemirror_mode": {
    "name": "ipython",
    "version": 3
   },
   "file_extension": ".py",
   "mimetype": "text/x-python",
   "name": "python",
   "nbconvert_exporter": "python",
   "pygments_lexer": "ipython3",
   "version": "3.7.7"
  }
 },
 "nbformat": 4,
 "nbformat_minor": 1
}
