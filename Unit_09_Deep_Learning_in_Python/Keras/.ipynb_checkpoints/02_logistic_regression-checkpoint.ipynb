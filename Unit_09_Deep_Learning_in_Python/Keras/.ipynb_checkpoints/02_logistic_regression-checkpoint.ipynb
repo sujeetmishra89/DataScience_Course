{
 "cells": [
  {
   "cell_type": "code",
   "execution_count": 1,
   "metadata": {},
   "outputs": [
    {
     "name": "stderr",
     "output_type": "stream",
     "text": [
      "Using TensorFlow backend.\n"
     ]
    }
   ],
   "source": [
    "from keras.models import Sequential\n",
    "from keras.layers import Dense\n",
    "from keras.optimizers import SGD\n",
    "from keras.datasets import mnist\n",
    "from keras.utils import np_utils"
   ]
  },
  {
   "cell_type": "code",
   "execution_count": 2,
   "metadata": {},
   "outputs": [],
   "source": [
    "batch_size = 128\n",
    "nb_classes = 10\n",
    "nb_epoch = 100"
   ]
  },
  {
   "cell_type": "code",
   "execution_count": 3,
   "metadata": {},
   "outputs": [
    {
     "name": "stdout",
     "output_type": "stream",
     "text": [
      "Downloading data from https://s3.amazonaws.com/img-datasets/mnist.npz\n",
      "11493376/11490434 [==============================] - 21s 2us/step\n"
     ]
    }
   ],
   "source": [
    "# Load MNIST dataset\n",
    "(X_train, y_train), (X_test, y_test) = mnist.load_data()\n",
    "X_train = X_train.reshape(60000, 784)\n",
    "X_test = X_test.reshape(10000, 784)\n",
    "X_train = X_train.astype('float32')\n",
    "X_test = X_test.astype('float32')\n",
    "X_train /= 255\n",
    "X_test /= 255\n",
    "Y_Train = np_utils.to_categorical(y_train, nb_classes)\n",
    "Y_Test = np_utils.to_categorical(y_test, nb_classes)"
   ]
  },
  {
   "cell_type": "code",
   "execution_count": 4,
   "metadata": {},
   "outputs": [
    {
     "name": "stderr",
     "output_type": "stream",
     "text": [
      "C:\\Users\\PR269KB\\AppData\\Local\\Continuum\\anaconda3\\lib\\site-packages\\ipykernel_launcher.py:3: UserWarning: Update your `Dense` call to the Keras 2 API: `Dense(input_shape=(784,), activation=\"softmax\", units=10, kernel_initializer=\"normal\")`\n",
      "  This is separate from the ipykernel package so we can avoid doing imports until\n"
     ]
    },
    {
     "name": "stdout",
     "output_type": "stream",
     "text": [
      "Model: \"sequential_1\"\n",
      "_________________________________________________________________\n",
      "Layer (type)                 Output Shape              Param #   \n",
      "=================================================================\n",
      "dense_1 (Dense)              (None, 10)                7850      \n",
      "=================================================================\n",
      "Total params: 7,850\n",
      "Trainable params: 7,850\n",
      "Non-trainable params: 0\n",
      "_________________________________________________________________\n"
     ]
    }
   ],
   "source": [
    "# Logistic regression model\n",
    "model = Sequential()\n",
    "model.add(Dense(output_dim=10, input_shape=(784,), init='normal', activation='softmax'))\n",
    "model.compile(optimizer=SGD(lr=0.05), loss='categorical_crossentropy', metrics=['accuracy'])\n",
    "model.summary()"
   ]
  },
  {
   "cell_type": "code",
   "execution_count": 5,
   "metadata": {
    "scrolled": true
   },
   "outputs": [
    {
     "name": "stderr",
     "output_type": "stream",
     "text": [
      "C:\\Users\\PR269KB\\AppData\\Local\\Continuum\\anaconda3\\lib\\site-packages\\ipykernel_launcher.py:2: UserWarning: The `nb_epoch` argument in `fit` has been renamed `epochs`.\n",
      "  \n"
     ]
    },
    {
     "name": "stdout",
     "output_type": "stream",
     "text": [
      "Epoch 1/100\n",
      "60000/60000 [==============================] - 4s 64us/step - loss: 0.7192 - accuracy: 0.8271\n",
      "Epoch 2/100\n",
      "60000/60000 [==============================] - 4s 60us/step - loss: 0.4314 - accuracy: 0.8857\n",
      "Epoch 3/100\n",
      "60000/60000 [==============================] - 4s 61us/step - loss: 0.3849 - accuracy: 0.8949\n",
      "Epoch 4/100\n",
      "60000/60000 [==============================] - 3s 49us/step - loss: 0.3617 - accuracy: 0.9003\n",
      "Epoch 5/100\n",
      "60000/60000 [==============================] - 4s 71us/step - loss: 0.3467 - accuracy: 0.9035\n",
      "Epoch 6/100\n",
      "60000/60000 [==============================] - 5s 82us/step - loss: 0.3362 - accuracy: 0.9068\n",
      "Epoch 7/100\n",
      "60000/60000 [==============================] - 3s 54us/step - loss: 0.3282 - accuracy: 0.9087\n",
      "Epoch 8/100\n",
      "60000/60000 [==============================] - 3s 55us/step - loss: 0.3218 - accuracy: 0.9102\n",
      "Epoch 9/100\n",
      "60000/60000 [==============================] - 3s 51us/step - loss: 0.3166 - accuracy: 0.9117\n",
      "Epoch 10/100\n",
      "60000/60000 [==============================] - 3s 57us/step - loss: 0.3123 - accuracy: 0.9129\n",
      "Epoch 11/100\n",
      "60000/60000 [==============================] - 3s 53us/step - loss: 0.3085 - accuracy: 0.9140\n",
      "Epoch 12/100\n",
      "60000/60000 [==============================] - 4s 60us/step - loss: 0.3052 - accuracy: 0.9146\n",
      "Epoch 13/100\n",
      "60000/60000 [==============================] - 5s 86us/step - loss: 0.3022 - accuracy: 0.9162\n",
      "Epoch 14/100\n",
      "60000/60000 [==============================] - 3s 53us/step - loss: 0.2998 - accuracy: 0.9167\n",
      "Epoch 15/100\n",
      "60000/60000 [==============================] - 4s 62us/step - loss: 0.2973 - accuracy: 0.9170\n",
      "Epoch 16/100\n",
      "60000/60000 [==============================] - 3s 53us/step - loss: 0.2953 - accuracy: 0.9178\n",
      "Epoch 17/100\n",
      "60000/60000 [==============================] - 3s 47us/step - loss: 0.2935 - accuracy: 0.9182\n",
      "Epoch 18/100\n",
      "60000/60000 [==============================] - 3s 43us/step - loss: 0.2915 - accuracy: 0.9188\n",
      "Epoch 19/100\n",
      "60000/60000 [==============================] - 3s 45us/step - loss: 0.2901 - accuracy: 0.9193\n",
      "Epoch 20/100\n",
      "60000/60000 [==============================] - 3s 43us/step - loss: 0.2885 - accuracy: 0.9194\n",
      "Epoch 21/100\n",
      "60000/60000 [==============================] - 2s 41us/step - loss: 0.2871 - accuracy: 0.9201\n",
      "Epoch 22/100\n",
      "60000/60000 [==============================] - 4s 72us/step - loss: 0.2858 - accuracy: 0.9204\n",
      "Epoch 23/100\n",
      "60000/60000 [==============================] - 3s 55us/step - loss: 0.2845 - accuracy: 0.9204\n",
      "Epoch 24/100\n",
      "60000/60000 [==============================] - 3s 54us/step - loss: 0.2835 - accuracy: 0.9208\n",
      "Epoch 25/100\n",
      "60000/60000 [==============================] - 4s 63us/step - loss: 0.2824 - accuracy: 0.9211\n",
      "Epoch 26/100\n",
      "60000/60000 [==============================] - 3s 53us/step - loss: 0.2813 - accuracy: 0.9215\n",
      "Epoch 27/100\n",
      "60000/60000 [==============================] - 3s 48us/step - loss: 0.2805 - accuracy: 0.9219\n",
      "Epoch 28/100\n",
      "60000/60000 [==============================] - 3s 56us/step - loss: 0.2796 - accuracy: 0.9218\n",
      "Epoch 29/100\n",
      "60000/60000 [==============================] - 3s 48us/step - loss: 0.2785 - accuracy: 0.9226\n",
      "Epoch 30/100\n",
      "60000/60000 [==============================] - 3s 50us/step - loss: 0.2778 - accuracy: 0.9225\n",
      "Epoch 31/100\n",
      "60000/60000 [==============================] - 3s 51us/step - loss: 0.2769 - accuracy: 0.9229\n",
      "Epoch 32/100\n",
      "60000/60000 [==============================] - 3s 47us/step - loss: 0.2763 - accuracy: 0.9230\n",
      "Epoch 33/100\n",
      "60000/60000 [==============================] - 4s 64us/step - loss: 0.2754 - accuracy: 0.9229\n",
      "Epoch 34/100\n",
      "60000/60000 [==============================] - 3s 54us/step - loss: 0.2750 - accuracy: 0.9235\n",
      "Epoch 35/100\n",
      "60000/60000 [==============================] - 4s 59us/step - loss: 0.2742 - accuracy: 0.9236\n",
      "Epoch 36/100\n",
      "60000/60000 [==============================] - 5s 87us/step - loss: 0.2736 - accuracy: 0.9239\n",
      "Epoch 37/100\n",
      "60000/60000 [==============================] - 3s 57us/step - loss: 0.2728 - accuracy: 0.9239\n",
      "Epoch 38/100\n",
      "60000/60000 [==============================] - 3s 56us/step - loss: 0.2723 - accuracy: 0.9245\n",
      "Epoch 39/100\n",
      " 9472/60000 [===>..........................] - ETA: 4s - loss: 0.2675 - accuracy: 0.9249"
     ]
    },
    {
     "name": "stderr",
     "output_type": "stream",
     "text": [
      "ERROR:root:Internal Python error in the inspect module.\n",
      "Below is the traceback from this internal error.\n",
      "\n"
     ]
    },
    {
     "name": "stdout",
     "output_type": "stream",
     "text": [
      "Traceback (most recent call last):\n",
      "  File \"C:\\Users\\PR269KB\\AppData\\Local\\Continuum\\anaconda3\\lib\\site-packages\\IPython\\core\\interactiveshell.py\", line 3331, in run_code\n",
      "    exec(code_obj, self.user_global_ns, self.user_ns)\n",
      "  File \"<ipython-input-5-d42c50912c99>\", line 2, in <module>\n",
      "    history = model.fit(X_train, Y_Train, nb_epoch=nb_epoch, batch_size=batch_size, verbose=1)\n",
      "  File \"C:\\Users\\PR269KB\\AppData\\Roaming\\Python\\Python37\\site-packages\\keras\\engine\\training.py\", line 1239, in fit\n",
      "    validation_freq=validation_freq)\n",
      "  File \"C:\\Users\\PR269KB\\AppData\\Roaming\\Python\\Python37\\site-packages\\keras\\engine\\training_arrays.py\", line 196, in fit_loop\n",
      "    outs = fit_function(ins_batch)\n",
      "  File \"C:\\Users\\PR269KB\\AppData\\Local\\Continuum\\anaconda3\\lib\\site-packages\\tensorflow_core\\python\\keras\\backend.py\", line 3740, in __call__\n",
      "    outputs = self._graph_fn(*converted_inputs)\n",
      "  File \"C:\\Users\\PR269KB\\AppData\\Local\\Continuum\\anaconda3\\lib\\site-packages\\tensorflow_core\\python\\eager\\function.py\", line 1081, in __call__\n",
      "    return self._call_impl(args, kwargs)\n",
      "  File \"C:\\Users\\PR269KB\\AppData\\Local\\Continuum\\anaconda3\\lib\\site-packages\\tensorflow_core\\python\\eager\\function.py\", line 1121, in _call_impl\n",
      "    return self._call_flat(args, self.captured_inputs, cancellation_manager)\n",
      "  File \"C:\\Users\\PR269KB\\AppData\\Local\\Continuum\\anaconda3\\lib\\site-packages\\tensorflow_core\\python\\eager\\function.py\", line 1224, in _call_flat\n",
      "    ctx, args, cancellation_manager=cancellation_manager)\n",
      "  File \"C:\\Users\\PR269KB\\AppData\\Local\\Continuum\\anaconda3\\lib\\site-packages\\tensorflow_core\\python\\eager\\function.py\", line 511, in call\n",
      "    ctx=ctx)\n",
      "  File \"C:\\Users\\PR269KB\\AppData\\Local\\Continuum\\anaconda3\\lib\\site-packages\\tensorflow_core\\python\\eager\\execute.py\", line 61, in quick_execute\n",
      "    num_outputs)\n",
      "KeyboardInterrupt\n",
      "\n",
      "During handling of the above exception, another exception occurred:\n",
      "\n",
      "Traceback (most recent call last):\n",
      "  File \"C:\\Users\\PR269KB\\AppData\\Local\\Continuum\\anaconda3\\lib\\site-packages\\IPython\\core\\interactiveshell.py\", line 2044, in showtraceback\n",
      "    stb = value._render_traceback_()\n",
      "AttributeError: 'KeyboardInterrupt' object has no attribute '_render_traceback_'\n",
      "\n",
      "During handling of the above exception, another exception occurred:\n",
      "\n",
      "Traceback (most recent call last):\n",
      "  File \"<frozen importlib._bootstrap_external>\", line 87, in _path_is_mode_type\n",
      "  File \"<frozen importlib._bootstrap_external>\", line 81, in _path_stat\n",
      "FileNotFoundError: [WinError 2] The system cannot find the file specified: 'C:\\\\Users\\\\PR269KB\\\\AppData\\\\Local\\\\Continuum\\\\anaconda3\\\\lib\\\\site-packages\\\\tensorflow_core\\\\_api\\\\v2\\\\compat\\\\v1\\\\xla\\\\experimental\\\\__init__.cp37-win_amd64.pyd'\n",
      "\n",
      "During handling of the above exception, another exception occurred:\n",
      "\n",
      "Traceback (most recent call last):\n",
      "  File \"C:\\Users\\PR269KB\\AppData\\Local\\Continuum\\anaconda3\\lib\\site-packages\\IPython\\core\\ultratb.py\", line 1148, in get_records\n",
      "    return _fixed_getinnerframes(etb, number_of_lines_of_context, tb_offset)\n",
      "  File \"C:\\Users\\PR269KB\\AppData\\Local\\Continuum\\anaconda3\\lib\\site-packages\\IPython\\core\\ultratb.py\", line 316, in wrapped\n",
      "    return f(*args, **kwargs)\n",
      "  File \"C:\\Users\\PR269KB\\AppData\\Local\\Continuum\\anaconda3\\lib\\site-packages\\IPython\\core\\ultratb.py\", line 350, in _fixed_getinnerframes\n",
      "    records = fix_frame_records_filenames(inspect.getinnerframes(etb, context))\n",
      "  File \"C:\\Users\\PR269KB\\AppData\\Local\\Continuum\\anaconda3\\lib\\inspect.py\", line 1502, in getinnerframes\n",
      "    frameinfo = (tb.tb_frame,) + getframeinfo(tb, context)\n",
      "  File \"C:\\Users\\PR269KB\\AppData\\Local\\Continuum\\anaconda3\\lib\\inspect.py\", line 1460, in getframeinfo\n",
      "    filename = getsourcefile(frame) or getfile(frame)\n",
      "  File \"C:\\Users\\PR269KB\\AppData\\Local\\Continuum\\anaconda3\\lib\\inspect.py\", line 696, in getsourcefile\n",
      "    if getattr(getmodule(object, filename), '__loader__', None) is not None:\n",
      "  File \"C:\\Users\\PR269KB\\AppData\\Local\\Continuum\\anaconda3\\lib\\inspect.py\", line 733, in getmodule\n",
      "    if ismodule(module) and hasattr(module, '__file__'):\n",
      "  File \"C:\\Users\\PR269KB\\AppData\\Local\\Continuum\\anaconda3\\lib\\site-packages\\tensorflow\\__init__.py\", line 50, in __getattr__\n",
      "    module = self._load()\n",
      "  File \"C:\\Users\\PR269KB\\AppData\\Local\\Continuum\\anaconda3\\lib\\site-packages\\tensorflow\\__init__.py\", line 44, in _load\n",
      "    module = _importlib.import_module(self.__name__)\n",
      "  File \"C:\\Users\\PR269KB\\AppData\\Local\\Continuum\\anaconda3\\lib\\importlib\\__init__.py\", line 127, in import_module\n",
      "    return _bootstrap._gcd_import(name[level:], package, level)\n",
      "  File \"<frozen importlib._bootstrap>\", line 1006, in _gcd_import\n",
      "  File \"<frozen importlib._bootstrap>\", line 983, in _find_and_load\n",
      "  File \"<frozen importlib._bootstrap>\", line 967, in _find_and_load_unlocked\n",
      "  File \"<frozen importlib._bootstrap>\", line 677, in _load_unlocked\n",
      "  File \"<frozen importlib._bootstrap_external>\", line 728, in exec_module\n",
      "  File \"<frozen importlib._bootstrap>\", line 219, in _call_with_frames_removed\n",
      "  File \"C:\\Users\\PR269KB\\AppData\\Local\\Continuum\\anaconda3\\lib\\site-packages\\tensorflow_core\\_api\\v2\\compat\\__init__.py\", line 23, in <module>\n",
      "    from . import v1\n",
      "  File \"C:\\Users\\PR269KB\\AppData\\Local\\Continuum\\anaconda3\\lib\\site-packages\\tensorflow_core\\_api\\v2\\compat\\v1\\__init__.py\", line 79, in <module>\n",
      "    from . import xla\n",
      "  File \"C:\\Users\\PR269KB\\AppData\\Local\\Continuum\\anaconda3\\lib\\site-packages\\tensorflow_core\\_api\\v2\\compat\\v1\\xla\\__init__.py\", line 10, in <module>\n",
      "    from . import experimental\n",
      "  File \"<frozen importlib._bootstrap>\", line 983, in _find_and_load\n",
      "  File \"<frozen importlib._bootstrap>\", line 963, in _find_and_load_unlocked\n",
      "  File \"<frozen importlib._bootstrap>\", line 906, in _find_spec\n",
      "  File \"<frozen importlib._bootstrap_external>\", line 1280, in find_spec\n",
      "  File \"<frozen importlib._bootstrap_external>\", line 1252, in _get_spec\n",
      "  File \"<frozen importlib._bootstrap_external>\", line 1383, in find_spec\n",
      "  File \"<frozen importlib._bootstrap_external>\", line 95, in _path_isfile\n",
      "  File \"<frozen importlib._bootstrap_external>\", line 87, in _path_is_mode_type\n",
      "KeyboardInterrupt\n"
     ]
    },
    {
     "ename": "KeyboardInterrupt",
     "evalue": "",
     "output_type": "error",
     "traceback": [
      "\u001b[1;31m---------------------------------------------------------------------------\u001b[0m"
     ]
    }
   ],
   "source": [
    "# Train\n",
    "history = model.fit(X_train, Y_Train, nb_epoch=nb_epoch, batch_size=batch_size, verbose=1)"
   ]
  },
  {
   "cell_type": "code",
   "execution_count": 6,
   "metadata": {},
   "outputs": [
    {
     "name": "stdout",
     "output_type": "stream",
     "text": [
      "10000/10000 [==============================] - 1s 123us/step\n",
      "Summary: Loss over the test dataset: 0.27, Accuracy: 0.92\n"
     ]
    }
   ],
   "source": [
    "# Evaluate\n",
    "evaluation = model.evaluate(X_test, Y_Test, verbose=1)\n",
    "print('Summary: Loss over the test dataset: %.2f, Accuracy: %.2f' % (evaluation[0], evaluation[1]))"
   ]
  }
 ],
 "metadata": {
  "kernelspec": {
   "display_name": "Python 3",
   "language": "python",
   "name": "python3"
  },
  "language_info": {
   "codemirror_mode": {
    "name": "ipython",
    "version": 3
   },
   "file_extension": ".py",
   "mimetype": "text/x-python",
   "name": "python",
   "nbconvert_exporter": "python",
   "pygments_lexer": "ipython3",
   "version": "3.7.7"
  }
 },
 "nbformat": 4,
 "nbformat_minor": 1
}
