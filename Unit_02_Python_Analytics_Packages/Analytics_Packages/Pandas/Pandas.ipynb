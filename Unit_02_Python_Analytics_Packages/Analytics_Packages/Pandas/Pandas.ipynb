{
 "cells": [
  {
   "cell_type": "code",
   "execution_count": 1,
   "metadata": {},
   "outputs": [],
   "source": [
    "import numpy as np\n",
    "import pandas as pd\n",
    "import matplotlib.pyplot as plt\n",
    "from matplotlib import pyplot as plt\n",
    "import glob\n",
    "import re\n",
    "import math"
   ]
  },
  {
   "cell_type": "code",
   "execution_count": null,
   "metadata": {},
   "outputs": [],
   "source": [
    "a = 2.3333"
   ]
  },
  {
   "cell_type": "code",
   "execution_count": null,
   "metadata": {},
   "outputs": [],
   "source": [
    "round(a,2)"
   ]
  },
  {
   "cell_type": "code",
   "execution_count": null,
   "metadata": {},
   "outputs": [],
   "source": [
    "np.ceil(a)"
   ]
  },
  {
   "cell_type": "code",
   "execution_count": null,
   "metadata": {},
   "outputs": [],
   "source": [
    "np.floor(a)"
   ]
  },
  {
   "cell_type": "code",
   "execution_count": null,
   "metadata": {},
   "outputs": [],
   "source": [
    "import warnings\n",
    "warnings.filterwarnings(\"ignore\")"
   ]
  },
  {
   "cell_type": "markdown",
   "metadata": {},
   "source": [
    "# Series"
   ]
  },
  {
   "cell_type": "markdown",
   "metadata": {},
   "source": [
    "## Create Series"
   ]
  },
  {
   "cell_type": "code",
   "execution_count": null,
   "metadata": {},
   "outputs": [],
   "source": [
    "# Create series from Nump Array\n",
    "v = np.array([1,2,3,4,5,6,7])\n",
    "v"
   ]
  },
  {
   "cell_type": "code",
   "execution_count": null,
   "metadata": {},
   "outputs": [],
   "source": [
    "s1 = pd.Series(v)\n",
    "s1"
   ]
  },
  {
   "cell_type": "code",
   "execution_count": null,
   "metadata": {},
   "outputs": [],
   "source": [
    "#Datatype of Series\n",
    "s1.dtype"
   ]
  },
  {
   "cell_type": "code",
   "execution_count": null,
   "metadata": {},
   "outputs": [],
   "source": [
    "# number of bytes allocated to each item\n",
    "len(s1)"
   ]
  },
  {
   "cell_type": "code",
   "execution_count": null,
   "metadata": {},
   "outputs": [],
   "source": [
    "# Number of bytes consumed by Series\n",
    "s1.nbytes"
   ]
  },
  {
   "cell_type": "code",
   "execution_count": null,
   "metadata": {},
   "outputs": [],
   "source": [
    "# Shape of the Series\n",
    "s1.shape"
   ]
  },
  {
   "cell_type": "code",
   "execution_count": null,
   "metadata": {},
   "outputs": [],
   "source": [
    "# number of dimensions\n",
    "s1.ndim"
   ]
  },
  {
   "cell_type": "code",
   "execution_count": null,
   "metadata": {},
   "outputs": [],
   "source": [
    "# Length of Series\n",
    "len(s1)"
   ]
  },
  {
   "cell_type": "code",
   "execution_count": null,
   "metadata": {},
   "outputs": [],
   "source": [
    "s1.count()"
   ]
  },
  {
   "cell_type": "code",
   "execution_count": null,
   "metadata": {},
   "outputs": [],
   "source": [
    "s1.size"
   ]
  },
  {
   "cell_type": "code",
   "execution_count": null,
   "metadata": {},
   "outputs": [],
   "source": [
    "# Create series from List \n",
    "s0 = pd.Series([1,2,3],index = ['a','b','c'])\n",
    "s0"
   ]
  },
  {
   "cell_type": "code",
   "execution_count": null,
   "metadata": {},
   "outputs": [],
   "source": [
    "# Modifying index in Series\n",
    "s1.index = ['a' , 'b' , 'c' , 'd' , 'e' , 'f' , 'g']\n",
    "s1"
   ]
  },
  {
   "cell_type": "code",
   "execution_count": null,
   "metadata": {},
   "outputs": [],
   "source": [
    "# # Create Series using Random and Range function\n",
    "# import random\n",
    "# random.seed(1234)"
   ]
  },
  {
   "cell_type": "code",
   "execution_count": null,
   "metadata": {},
   "outputs": [],
   "source": [
    "import numpy.random as rnd\n",
    "v2 = rnd.random(10)\n",
    "v2"
   ]
  },
  {
   "cell_type": "code",
   "execution_count": null,
   "metadata": {},
   "outputs": [],
   "source": [
    "a = range(0,10)\n",
    "np.array(a)"
   ]
  },
  {
   "cell_type": "code",
   "execution_count": null,
   "metadata": {},
   "outputs": [],
   "source": [
    "(a,b)\n",
    "[a,b]\n",
    "[a,b)\n",
    "(a,b]"
   ]
  },
  {
   "cell_type": "code",
   "execution_count": null,
   "metadata": {
    "scrolled": true
   },
   "outputs": [],
   "source": [
    "ind2 = np.arange(1.1,2.1,0.1)\n",
    "ind2"
   ]
  },
  {
   "cell_type": "code",
   "execution_count": null,
   "metadata": {},
   "outputs": [],
   "source": [
    "pd.Series?"
   ]
  },
  {
   "cell_type": "code",
   "execution_count": null,
   "metadata": {},
   "outputs": [],
   "source": [
    "s = pd.Series(v2,ind2)\n",
    "s\n",
    "# v2 , ind2 , s"
   ]
  },
  {
   "cell_type": "code",
   "execution_count": null,
   "metadata": {},
   "outputs": [],
   "source": [
    "# Creating Series from Dictionary\n",
    "dict1 = {'a1' :10 , 'a2' :20 , 'a3':30 , 'a4':40}\n",
    "s3 = pd.Series(dict1)\n",
    "s3"
   ]
  },
  {
   "cell_type": "code",
   "execution_count": null,
   "metadata": {},
   "outputs": [],
   "source": [
    "pd.Series(99, index=[0, 1, 2, 3, 4, 5]) "
   ]
  },
  {
   "cell_type": "markdown",
   "metadata": {},
   "source": [
    "## Slicing Series"
   ]
  },
  {
   "cell_type": "code",
   "execution_count": null,
   "metadata": {},
   "outputs": [],
   "source": [
    "s"
   ]
  },
  {
   "cell_type": "code",
   "execution_count": null,
   "metadata": {},
   "outputs": [],
   "source": [
    "# Return all elements of the series\n",
    "s[:]"
   ]
  },
  {
   "cell_type": "code",
   "execution_count": null,
   "metadata": {},
   "outputs": [],
   "source": [
    "s.iloc[0:5]"
   ]
  },
  {
   "cell_type": "code",
   "execution_count": null,
   "metadata": {},
   "outputs": [],
   "source": [
    "s.loc[1.1]"
   ]
  },
  {
   "cell_type": "code",
   "execution_count": null,
   "metadata": {},
   "outputs": [],
   "source": [
    "s.iloc[0]"
   ]
  },
  {
   "cell_type": "code",
   "execution_count": null,
   "metadata": {},
   "outputs": [],
   "source": [
    "# First three element of the Series\n",
    "s.iloc[0:3]"
   ]
  },
  {
   "cell_type": "code",
   "execution_count": null,
   "metadata": {},
   "outputs": [],
   "source": [
    "s.iloc[-3:]"
   ]
  },
  {
   "cell_type": "code",
   "execution_count": null,
   "metadata": {},
   "outputs": [],
   "source": [
    "# Last element of the Series\n",
    "s[-1:]"
   ]
  },
  {
   "cell_type": "code",
   "execution_count": null,
   "metadata": {},
   "outputs": [],
   "source": [
    "# Fetch first 4 elements in a series\n",
    "s[:4]"
   ]
  },
  {
   "cell_type": "code",
   "execution_count": null,
   "metadata": {},
   "outputs": [],
   "source": [
    "# Return all elements of the series except last two elements.\n",
    "s[:-2]"
   ]
  },
  {
   "cell_type": "code",
   "execution_count": null,
   "metadata": {},
   "outputs": [],
   "source": [
    "# Return all elements of the series except last element.\n",
    "s[:-1]"
   ]
  },
  {
   "cell_type": "code",
   "execution_count": null,
   "metadata": {},
   "outputs": [],
   "source": [
    "# Return last two elements of the series\n",
    "s[-2:]"
   ]
  },
  {
   "cell_type": "code",
   "execution_count": null,
   "metadata": {},
   "outputs": [],
   "source": [
    "# # Return last element of the series\n",
    "s[-1:]"
   ]
  },
  {
   "cell_type": "code",
   "execution_count": null,
   "metadata": {},
   "outputs": [],
   "source": [
    "s[-3:-1]"
   ]
  },
  {
   "cell_type": "markdown",
   "metadata": {},
   "source": [
    "## Append Series"
   ]
  },
  {
   "cell_type": "code",
   "execution_count": null,
   "metadata": {},
   "outputs": [],
   "source": [
    "s2 = s.copy()\n",
    "s2"
   ]
  },
  {
   "cell_type": "code",
   "execution_count": null,
   "metadata": {},
   "outputs": [],
   "source": [
    "s3"
   ]
  },
  {
   "cell_type": "code",
   "execution_count": null,
   "metadata": {},
   "outputs": [],
   "source": [
    "# Append S2 & S3 Series\n",
    "s4 = s2.append(s3)\n",
    "s4"
   ]
  },
  {
   "cell_type": "code",
   "execution_count": null,
   "metadata": {},
   "outputs": [],
   "source": [
    "s4.drop('a4', inplace=False)"
   ]
  },
  {
   "cell_type": "code",
   "execution_count": null,
   "metadata": {},
   "outputs": [],
   "source": [
    "# When \"inplace=False\" it will return a new copy of data with the operation performed\n",
    "s4.drop('a4', inplace=True)"
   ]
  },
  {
   "cell_type": "code",
   "execution_count": null,
   "metadata": {},
   "outputs": [],
   "source": [
    "s4"
   ]
  },
  {
   "cell_type": "code",
   "execution_count": null,
   "metadata": {},
   "outputs": [],
   "source": [
    "s4"
   ]
  },
  {
   "cell_type": "code",
   "execution_count": null,
   "metadata": {},
   "outputs": [],
   "source": [
    "# When we use \"inplace=True\" it will affect the dataframe\n",
    "s4.drop('a4', inplace=True)\n",
    "s4"
   ]
  },
  {
   "cell_type": "code",
   "execution_count": null,
   "metadata": {},
   "outputs": [],
   "source": [
    "s4 = s4.append(pd.Series({'a4': 7}))\n",
    "s4"
   ]
  },
  {
   "cell_type": "markdown",
   "metadata": {},
   "source": [
    "## Operation on Series"
   ]
  },
  {
   "cell_type": "code",
   "execution_count": null,
   "metadata": {},
   "outputs": [],
   "source": [
    "v1 = np.array([10,20,30])\n",
    "v2 = np.array([1,2,3])\n",
    "s1 = pd.Series(v1) \n",
    "s2 = pd.Series(v2)\n",
    "s1 , s2"
   ]
  },
  {
   "cell_type": "code",
   "execution_count": null,
   "metadata": {},
   "outputs": [],
   "source": [
    "# Addition of two series\n",
    "s1.add(s2)"
   ]
  },
  {
   "cell_type": "code",
   "execution_count": null,
   "metadata": {},
   "outputs": [],
   "source": [
    "# Subtraction of two series\n",
    "s1.sub(s2)"
   ]
  },
  {
   "cell_type": "code",
   "execution_count": null,
   "metadata": {},
   "outputs": [],
   "source": [
    "# Subtraction of two series\n",
    "s1.subtract(s2)"
   ]
  },
  {
   "cell_type": "code",
   "execution_count": null,
   "metadata": {},
   "outputs": [],
   "source": [
    "# Increment all numbers in a series by 9\n",
    "s1.add(9)"
   ]
  },
  {
   "cell_type": "code",
   "execution_count": null,
   "metadata": {},
   "outputs": [],
   "source": [
    "# Multiplication of two series\n",
    "s1.mul(s2)"
   ]
  },
  {
   "cell_type": "code",
   "execution_count": null,
   "metadata": {},
   "outputs": [],
   "source": [
    "# Multiplication of two series\n",
    "s1.multiply(s2)"
   ]
  },
  {
   "cell_type": "code",
   "execution_count": null,
   "metadata": {},
   "outputs": [],
   "source": [
    "# Multiply each element by 1000\n",
    "s1.multiply(1000)"
   ]
  },
  {
   "cell_type": "code",
   "execution_count": null,
   "metadata": {},
   "outputs": [],
   "source": [
    "# Division\n",
    "s1.divide(s2)"
   ]
  },
  {
   "cell_type": "code",
   "execution_count": null,
   "metadata": {},
   "outputs": [],
   "source": [
    "# Division\n",
    "s1.div(s2)"
   ]
  },
  {
   "cell_type": "code",
   "execution_count": null,
   "metadata": {},
   "outputs": [],
   "source": [
    "# MAX number in a series\n",
    "s1.max()"
   ]
  },
  {
   "cell_type": "code",
   "execution_count": null,
   "metadata": {},
   "outputs": [],
   "source": [
    "# Min number in a series\n",
    "s1.min()"
   ]
  },
  {
   "cell_type": "code",
   "execution_count": null,
   "metadata": {},
   "outputs": [],
   "source": [
    "# Average\n",
    "s1.mean()"
   ]
  },
  {
   "cell_type": "code",
   "execution_count": null,
   "metadata": {},
   "outputs": [],
   "source": [
    "# Median\n",
    "s1.median()"
   ]
  },
  {
   "cell_type": "code",
   "execution_count": null,
   "metadata": {},
   "outputs": [],
   "source": [
    "# Standard Deviation\n",
    "s1.std()"
   ]
  },
  {
   "cell_type": "code",
   "execution_count": null,
   "metadata": {},
   "outputs": [],
   "source": [
    "# Series comparison\n",
    "s1.equals(s2)"
   ]
  },
  {
   "cell_type": "code",
   "execution_count": null,
   "metadata": {},
   "outputs": [],
   "source": [
    "s4 =s1"
   ]
  },
  {
   "cell_type": "code",
   "execution_count": null,
   "metadata": {},
   "outputs": [],
   "source": [
    "# Series comparison\n",
    "s1.equals(s4)"
   ]
  },
  {
   "cell_type": "code",
   "execution_count": null,
   "metadata": {},
   "outputs": [],
   "source": [
    "s5 = pd.Series([1,1,2,2,3,3], index=[0, 1, 2, 3, 4, 5])\n",
    "s5"
   ]
  },
  {
   "cell_type": "code",
   "execution_count": null,
   "metadata": {},
   "outputs": [],
   "source": [
    "s5.value_counts()"
   ]
  },
  {
   "cell_type": "code",
   "execution_count": null,
   "metadata": {},
   "outputs": [],
   "source": []
  },
  {
   "cell_type": "markdown",
   "metadata": {},
   "source": [
    "# DataFrame"
   ]
  },
  {
   "cell_type": "markdown",
   "metadata": {},
   "source": [
    "## Create DataFrame"
   ]
  },
  {
   "cell_type": "code",
   "execution_count": null,
   "metadata": {},
   "outputs": [],
   "source": [
    "df = pd.DataFrame()\n",
    "df"
   ]
  },
  {
   "cell_type": "code",
   "execution_count": null,
   "metadata": {},
   "outputs": [],
   "source": [
    "# Create Dataframe using List\n",
    "lang = ['Java' , 'Python' , 'C' , 'C++']\n",
    "df = pd.DataFrame(lang)\n",
    "df"
   ]
  },
  {
   "cell_type": "code",
   "execution_count": null,
   "metadata": {},
   "outputs": [],
   "source": [
    "# Add column in the Dataframe\n",
    "rating = [1,2,3,4]\n",
    "df[1] = rating\n",
    "df"
   ]
  },
  {
   "cell_type": "code",
   "execution_count": null,
   "metadata": {},
   "outputs": [],
   "source": [
    "df.columns"
   ]
  },
  {
   "cell_type": "code",
   "execution_count": null,
   "metadata": {},
   "outputs": [],
   "source": [
    "df.columns = ['Language','Rating']"
   ]
  },
  {
   "cell_type": "code",
   "execution_count": null,
   "metadata": {},
   "outputs": [],
   "source": [
    "df"
   ]
  },
  {
   "cell_type": "code",
   "execution_count": null,
   "metadata": {},
   "outputs": [],
   "source": [
    "# Create Dataframe from Dictionary\n",
    "\n",
    "data = [{'a': 1, 'b': 2},{'a': 5, 'b': 10, 'c': 20}]\n",
    "\n",
    "df2 = pd.DataFrame(data)\n",
    "df2"
   ]
  },
  {
   "cell_type": "code",
   "execution_count": null,
   "metadata": {},
   "outputs": [],
   "source": [
    "df3 = pd.DataFrame(data, index=['row1', 'row2'], columns=['a', 'b'])\n",
    "df3"
   ]
  },
  {
   "cell_type": "code",
   "execution_count": null,
   "metadata": {},
   "outputs": [],
   "source": [
    "df4 = pd.DataFrame(data, index=['row1', 'row2'], columns=['a', 'b' ,'c'])\n",
    "df4"
   ]
  },
  {
   "cell_type": "code",
   "execution_count": null,
   "metadata": {},
   "outputs": [],
   "source": [
    "df5 = pd.DataFrame(data, index=['row1', 'row2'], columns=['a', 'b' ,'c' , 'd'])\n",
    "df5"
   ]
  },
  {
   "cell_type": "code",
   "execution_count": null,
   "metadata": {},
   "outputs": [],
   "source": [
    "df2"
   ]
  },
  {
   "cell_type": "code",
   "execution_count": null,
   "metadata": {},
   "outputs": [],
   "source": [
    "df3"
   ]
  },
  {
   "cell_type": "code",
   "execution_count": null,
   "metadata": {},
   "outputs": [],
   "source": [
    "df4"
   ]
  },
  {
   "cell_type": "code",
   "execution_count": null,
   "metadata": {},
   "outputs": [],
   "source": [
    "df5"
   ]
  },
  {
   "cell_type": "code",
   "execution_count": null,
   "metadata": {},
   "outputs": [],
   "source": [
    "# Create Dataframe from Dictionary\n",
    "df0 = pd.DataFrame({'ID' :[1,2,3,4] , 'Name' :['Asif' , 'Basit' , 'Ross' , 'John']})\n",
    "df0"
   ]
  },
  {
   "cell_type": "code",
   "execution_count": null,
   "metadata": {},
   "outputs": [],
   "source": [
    "# Create a DataFrame from Dictionary of Series\n",
    "dict = {'A' : pd.Series([1, 2, 3],    index=['a', 'b', 'c']),\n",
    "        'B' : pd.Series([1, 2, 3, 4], index=['a', 'b', 'c', 'd'])}\n",
    "\n",
    "df1 = pd.DataFrame(dict)\n",
    "df1"
   ]
  },
  {
   "cell_type": "markdown",
   "metadata": {},
   "source": [
    "#### Dataframe of Random Numbers with Date Indices"
   ]
  },
  {
   "cell_type": "code",
   "execution_count": null,
   "metadata": {},
   "outputs": [],
   "source": [
    "pd.date_range?"
   ]
  },
  {
   "cell_type": "code",
   "execution_count": null,
   "metadata": {},
   "outputs": [],
   "source": [
    "dates = pd.date_range(start='2020-01-20', end='2020-01-26')\n",
    "dates"
   ]
  },
  {
   "cell_type": "code",
   "execution_count": null,
   "metadata": {},
   "outputs": [],
   "source": [
    "dates = pd.date_range('today',periods= 7)\n",
    "dates"
   ]
  },
  {
   "cell_type": "code",
   "execution_count": null,
   "metadata": {},
   "outputs": [],
   "source": [
    "dates = pd.date_range(start='2020-01-20', periods=7)\n",
    "dates"
   ]
  },
  {
   "cell_type": "code",
   "execution_count": null,
   "metadata": {},
   "outputs": [],
   "source": [
    "M = np.random.random((7,7))\n",
    "M"
   ]
  },
  {
   "cell_type": "code",
   "execution_count": null,
   "metadata": {},
   "outputs": [],
   "source": [
    "dframe = pd.DataFrame(M , index=dates)\n",
    "dframe"
   ]
  },
  {
   "cell_type": "code",
   "execution_count": null,
   "metadata": {},
   "outputs": [],
   "source": [
    "#Changing Column Names\n",
    "dframe.columns = ['C1' , 'C2' , 'C3', 'C4', 'C5', 'C6', 'C7']\n",
    "dframe"
   ]
  },
  {
   "cell_type": "code",
   "execution_count": null,
   "metadata": {},
   "outputs": [],
   "source": [
    "# List Index\n",
    "dframe.index"
   ]
  },
  {
   "cell_type": "code",
   "execution_count": null,
   "metadata": {},
   "outputs": [],
   "source": [
    "# List Column Names\n",
    "dframe.columns"
   ]
  },
  {
   "cell_type": "code",
   "execution_count": null,
   "metadata": {},
   "outputs": [],
   "source": [
    "# Datatype of each column\n",
    "dframe.dtypes"
   ]
  },
  {
   "cell_type": "code",
   "execution_count": null,
   "metadata": {},
   "outputs": [],
   "source": [
    "dframe.sort_values?"
   ]
  },
  {
   "cell_type": "code",
   "execution_count": null,
   "metadata": {},
   "outputs": [],
   "source": [
    "# Sort Dataframe by Column 'C1' in Ascending Order\n",
    "dframe.sort_values(by='C1', ascending=False)"
   ]
  },
  {
   "cell_type": "code",
   "execution_count": null,
   "metadata": {},
   "outputs": [],
   "source": [
    "# Sort Dataframe by Column 'C1' in Descending Order\n",
    "dframe.sort_values(by='C1' , ascending=False)"
   ]
  },
  {
   "cell_type": "markdown",
   "metadata": {},
   "source": [
    "## Delete Column in DataFrame"
   ]
  },
  {
   "cell_type": "code",
   "execution_count": null,
   "metadata": {},
   "outputs": [],
   "source": [
    "df1"
   ]
  },
  {
   "cell_type": "code",
   "execution_count": null,
   "metadata": {},
   "outputs": [],
   "source": [
    "# Delete Column using \"del\" function\n",
    "del df1['B']"
   ]
  },
  {
   "cell_type": "code",
   "execution_count": null,
   "metadata": {},
   "outputs": [],
   "source": [
    "df1"
   ]
  },
  {
   "cell_type": "code",
   "execution_count": null,
   "metadata": {},
   "outputs": [],
   "source": [
    "df5"
   ]
  },
  {
   "cell_type": "code",
   "execution_count": null,
   "metadata": {},
   "outputs": [],
   "source": [
    "# Delete Column using pop()\n",
    "df5.pop('c')"
   ]
  },
  {
   "cell_type": "code",
   "execution_count": null,
   "metadata": {},
   "outputs": [],
   "source": [
    "df5"
   ]
  },
  {
   "cell_type": "code",
   "execution_count": null,
   "metadata": {},
   "outputs": [],
   "source": [
    "dict = {'A' : pd.Series([1, 2, 3,11],    index=['a', 'b', 'c','d']),\n",
    "        'B' : pd.Series([1, 2, 3, 4], index=['a', 'b', 'c', 'd'])}\n",
    "\n",
    "df12 = pd.DataFrame(dict)\n",
    "df12"
   ]
  },
  {
   "cell_type": "code",
   "execution_count": null,
   "metadata": {},
   "outputs": [],
   "source": [
    "# df12.drop(['A'], axis=1,inplace=True)\n",
    "# df12 = df12.drop(['A'], axis=1)\n",
    "df12 = df12.drop(columns=['A'])\n",
    "df12 = df12.rename({'B':'AAA'}, axis=1)\n",
    "df12"
   ]
  },
  {
   "cell_type": "markdown",
   "metadata": {},
   "source": [
    "## Delete Rows in DataFrame"
   ]
  },
  {
   "cell_type": "code",
   "execution_count": null,
   "metadata": {},
   "outputs": [],
   "source": [
    "col1 = np.linspace(10, 100, 30)\n",
    "col2 = np.random.randint(10,100,30)\n",
    "df10 = pd.DataFrame({\"C1\" : col1 , \"C2\" :col2})\n",
    "df10"
   ]
  },
  {
   "cell_type": "code",
   "execution_count": null,
   "metadata": {},
   "outputs": [],
   "source": [
    "# Delete rows with index values 17,18,19\n",
    "df10 = df10.drop([17,18,19], axis=0)\n",
    "df10"
   ]
  },
  {
   "cell_type": "code",
   "execution_count": null,
   "metadata": {},
   "outputs": [],
   "source": [
    "# Delete rows with index values 16 without using assignment operation\n",
    "df10.drop([16], axis=0,inplace=True)\n",
    "df10"
   ]
  },
  {
   "cell_type": "code",
   "execution_count": null,
   "metadata": {},
   "outputs": [],
   "source": [
    "df10.drop(df10.index[5] , inplace=True)\n",
    "df10"
   ]
  },
  {
   "cell_type": "code",
   "execution_count": null,
   "metadata": {},
   "outputs": [],
   "source": [
    "#Delete first three rows\n",
    "# df10 = \n",
    "df10.iloc[3:,:]\n",
    "# df10"
   ]
  },
  {
   "cell_type": "code",
   "execution_count": null,
   "metadata": {},
   "outputs": [],
   "source": [
    "#Delete last four rows\n",
    "df10 = df10.iloc[:-4,]\n",
    "df10"
   ]
  },
  {
   "cell_type": "code",
   "execution_count": null,
   "metadata": {},
   "outputs": [],
   "source": [
    "#Keep top 10 rows\n",
    "df10 = df10.iloc[:10,]\n",
    "df10"
   ]
  },
  {
   "cell_type": "code",
   "execution_count": null,
   "metadata": {},
   "outputs": [],
   "source": [
    "df10"
   ]
  },
  {
   "cell_type": "code",
   "execution_count": null,
   "metadata": {},
   "outputs": [],
   "source": [
    "list(df10.index[df10['C2'] >= 58])\n",
    "# .tolist()"
   ]
  },
  {
   "cell_type": "code",
   "execution_count": null,
   "metadata": {},
   "outputs": [],
   "source": [
    "# Delete row based on Column value\n",
    "df10.drop(df10.index[df10['C2'] == 56].tolist() , axis=0,inplace=True)\n",
    "df10"
   ]
  },
  {
   "cell_type": "code",
   "execution_count": null,
   "metadata": {},
   "outputs": [],
   "source": [
    "# Delete row based on Column value\n",
    "df10 = df10.drop(df10[df10[\"C2\"]==79].index)\n",
    "df10"
   ]
  },
  {
   "cell_type": "code",
   "execution_count": null,
   "metadata": {},
   "outputs": [],
   "source": [
    "# Delete all rows with column C2 value 14\n",
    "df10 = df10[df10.C2 != 44]\n",
    "df10"
   ]
  },
  {
   "cell_type": "code",
   "execution_count": null,
   "metadata": {},
   "outputs": [],
   "source": [
    "# Delete all rows with column C2 value 88 & 55 using isin operator\n",
    "df10 = df10[~(df10.C2.isin ([21,48]))]\n",
    "df10"
   ]
  },
  {
   "cell_type": "code",
   "execution_count": null,
   "metadata": {},
   "outputs": [],
   "source": [
    "# Keep all rows with column C2 value 10,89,31 & 64 using isin operator\n",
    "df10 = df10[df10.C2.isin ([42,76])]\n",
    "df10"
   ]
  },
  {
   "cell_type": "code",
   "execution_count": null,
   "metadata": {},
   "outputs": [],
   "source": [
    "dict = {'A' : pd.Series([1, 2, 3,11],    index=['a', 'b', 'c','d']),\n",
    "        'B' : pd.Series([1, 2, 3, 4], index=['a', 'b', 'c', 'd'])}\n",
    "\n",
    "df11 = pd.DataFrame(dict)\n",
    "df11"
   ]
  },
  {
   "cell_type": "code",
   "execution_count": null,
   "metadata": {},
   "outputs": [],
   "source": [
    "#Delete all rows with label \"d\"\n",
    "df11.drop(\"d\", axis=0,inplace=True)\n",
    "df11"
   ]
  },
  {
   "cell_type": "code",
   "execution_count": null,
   "metadata": {},
   "outputs": [],
   "source": [
    "df13 = pd.DataFrame({ 'ID' :[1,2,3,4] , \n",
    "                     'Name' :['Asif' , 'Basit' , 'Ross' , 'John'] , \n",
    "                     'location' : ['India' , 'Australia','UK' , 'US'] })\n",
    "df13"
   ]
  },
  {
   "cell_type": "code",
   "execution_count": null,
   "metadata": {},
   "outputs": [],
   "source": [
    "ind = df13[((df13.Name == 'Ross') &(df13.ID == 3) & (df13.location == 'UK'))].index\n",
    "df13.drop(ind,inplace=True)\n",
    "df13"
   ]
  },
  {
   "cell_type": "markdown",
   "metadata": {},
   "source": [
    "## Data Selection in Dataframe"
   ]
  },
  {
   "cell_type": "code",
   "execution_count": null,
   "metadata": {},
   "outputs": [],
   "source": [
    "df"
   ]
  },
  {
   "cell_type": "code",
   "execution_count": null,
   "metadata": {},
   "outputs": [],
   "source": [
    "df.index = [1,2,3,4]\n",
    "df"
   ]
  },
  {
   "cell_type": "code",
   "execution_count": null,
   "metadata": {},
   "outputs": [],
   "source": [
    "# Data selection using row label\n",
    "df.loc[1]"
   ]
  },
  {
   "cell_type": "code",
   "execution_count": null,
   "metadata": {},
   "outputs": [],
   "source": [
    "# Data selection using position (Integer Index based)\n",
    "df.iloc[1]"
   ]
  },
  {
   "cell_type": "code",
   "execution_count": null,
   "metadata": {},
   "outputs": [],
   "source": [
    "df.loc[1:2]"
   ]
  },
  {
   "cell_type": "code",
   "execution_count": null,
   "metadata": {},
   "outputs": [],
   "source": [
    "df.iloc[1:2]"
   ]
  },
  {
   "cell_type": "code",
   "execution_count": null,
   "metadata": {},
   "outputs": [],
   "source": [
    "# Data selection based on Condition\n",
    "df.loc[df.Rating > 2]"
   ]
  },
  {
   "cell_type": "code",
   "execution_count": null,
   "metadata": {},
   "outputs": [],
   "source": [
    "df1"
   ]
  },
  {
   "cell_type": "code",
   "execution_count": null,
   "metadata": {},
   "outputs": [],
   "source": [
    "# Row & Column label based selection\n",
    "df1.loc['a']"
   ]
  },
  {
   "cell_type": "code",
   "execution_count": null,
   "metadata": {},
   "outputs": [],
   "source": [
    "df1.iloc['a'] # This will throw error because iloc will not work on labels"
   ]
  },
  {
   "cell_type": "code",
   "execution_count": null,
   "metadata": {},
   "outputs": [],
   "source": [
    "dframe"
   ]
  },
  {
   "cell_type": "code",
   "execution_count": null,
   "metadata": {},
   "outputs": [],
   "source": [
    "dframe[0:2]"
   ]
  },
  {
   "cell_type": "code",
   "execution_count": null,
   "metadata": {},
   "outputs": [],
   "source": [
    "# Data selection using Row Label\n",
    "dframe['2020-01-20':'2020-01-22']"
   ]
  },
  {
   "cell_type": "code",
   "execution_count": null,
   "metadata": {},
   "outputs": [],
   "source": [
    "# Selecting all rows & selected columns\n",
    "dframe.loc[:,['C1' , 'C7']]"
   ]
  },
  {
   "cell_type": "code",
   "execution_count": null,
   "metadata": {},
   "outputs": [],
   "source": [
    "#row & column label based selection\n",
    "dframe.loc['2020-01-20' : '2020-01-22',['C1' , 'C7']]"
   ]
  },
  {
   "cell_type": "code",
   "execution_count": null,
   "metadata": {},
   "outputs": [],
   "source": [
    "# Data selection based on Condition\n",
    "dframe[dframe['C1'] > 0.5]"
   ]
  },
  {
   "cell_type": "code",
   "execution_count": null,
   "metadata": {},
   "outputs": [],
   "source": [
    "# Data selection based on Condition\n",
    "dframe[(dframe['C1'] > 0.5) & (dframe['C4'] > 0.5)]"
   ]
  },
  {
   "cell_type": "code",
   "execution_count": null,
   "metadata": {},
   "outputs": [],
   "source": [
    "# Data selection using position (Integer Index based)\n",
    "dframe.iloc[0][0]"
   ]
  },
  {
   "cell_type": "code",
   "execution_count": null,
   "metadata": {},
   "outputs": [],
   "source": [
    "# Select all rows & first three columns\n",
    "dframe.iloc[:,0:3]"
   ]
  },
  {
   "cell_type": "code",
   "execution_count": null,
   "metadata": {},
   "outputs": [],
   "source": [
    "dframe.iloc[0][0] = 10"
   ]
  },
  {
   "cell_type": "code",
   "execution_count": null,
   "metadata": {},
   "outputs": [],
   "source": [
    "# Display all rows where C1 has value of 10 or 20\n",
    "dframe[dframe['C1'].isin([10,20])]"
   ]
  },
  {
   "cell_type": "markdown",
   "metadata": {},
   "source": [
    "## Set Value"
   ]
  },
  {
   "cell_type": "code",
   "execution_count": null,
   "metadata": {},
   "outputs": [],
   "source": [
    "# Set value of 888 for all elements in column 'C1'\n",
    "dframe['C1'] = 888\n",
    "dframe"
   ]
  },
  {
   "cell_type": "code",
   "execution_count": null,
   "metadata": {},
   "outputs": [],
   "source": [
    "# Set value of 777 for first three rows in Column 'C6'\n",
    "dframe.at[0:3,'C6'] = 777"
   ]
  },
  {
   "cell_type": "code",
   "execution_count": null,
   "metadata": {},
   "outputs": [],
   "source": [
    "dframe"
   ]
  },
  {
   "cell_type": "code",
   "execution_count": null,
   "metadata": {},
   "outputs": [],
   "source": [
    "# Set value of 333 in first row and third column\n",
    "dframe.iat[0,2] = 333"
   ]
  },
  {
   "cell_type": "code",
   "execution_count": null,
   "metadata": {},
   "outputs": [],
   "source": [
    "dframe"
   ]
  },
  {
   "cell_type": "code",
   "execution_count": null,
   "metadata": {},
   "outputs": [],
   "source": [
    "dframe.iloc[0,2] = 555\n",
    "dframe"
   ]
  },
  {
   "cell_type": "code",
   "execution_count": null,
   "metadata": {},
   "outputs": [],
   "source": [
    "# Create Copy of the calling objects data along with indices.\n",
    "# Modifications to the data or indices of the copy will not be reflected in the original object \n",
    "dframe1 = dframe.copy(deep=True)"
   ]
  },
  {
   "cell_type": "code",
   "execution_count": null,
   "metadata": {},
   "outputs": [],
   "source": [
    "dframe1[(dframe1['C1'] > 0.5) & (dframe1['C4'] > 0.5)] = 0"
   ]
  },
  {
   "cell_type": "code",
   "execution_count": null,
   "metadata": {},
   "outputs": [],
   "source": [
    "dframe1[dframe1['C1'] == 0]"
   ]
  },
  {
   "cell_type": "code",
   "execution_count": null,
   "metadata": {},
   "outputs": [],
   "source": [
    "# Replace zeros in Column C1 with 99\n",
    "dframe1[dframe1['C1'].isin([0])] = 99\n",
    "dframe1"
   ]
  },
  {
   "cell_type": "code",
   "execution_count": null,
   "metadata": {},
   "outputs": [],
   "source": [
    "dframe"
   ]
  },
  {
   "cell_type": "code",
   "execution_count": null,
   "metadata": {},
   "outputs": [],
   "source": [
    "# Display all rows where value of C1 is 99\n",
    "dframe1[dframe1['C1'] == 99]"
   ]
  },
  {
   "cell_type": "markdown",
   "metadata": {},
   "source": [
    "## Dealing with NULL Values"
   ]
  },
  {
   "cell_type": "code",
   "execution_count": null,
   "metadata": {},
   "outputs": [],
   "source": [
    "dframe.at[0:8 , 'C7'] = np.NaN\n",
    "dframe.at[0:2 , 'C6'] = np.NaN\n",
    "dframe.at[5:6 , 'C5'] = np.NaN\n",
    "dframe"
   ]
  },
  {
   "cell_type": "code",
   "execution_count": null,
   "metadata": {},
   "outputs": [],
   "source": [
    "# Detect Non-Missing Values\n",
    "# It will return True for NOT-NULL values and False for NULL values\n",
    "dframe.notna()"
   ]
  },
  {
   "cell_type": "code",
   "execution_count": null,
   "metadata": {},
   "outputs": [],
   "source": [
    "# Detect Missing or NULL Values\n",
    "# It will return True for NULL values and False for NOT-NULL values\n",
    "dframe.isna()"
   ]
  },
  {
   "cell_type": "code",
   "execution_count": null,
   "metadata": {},
   "outputs": [],
   "source": [
    "# Fill all NULL values with 1020\n",
    "dframe = dframe.fillna(1020)\n",
    "dframe"
   ]
  },
  {
   "cell_type": "code",
   "execution_count": null,
   "metadata": {},
   "outputs": [],
   "source": [
    "dframe.at[0:5 , 'C7'] = np.NaN\n",
    "dframe.at[0:2 , 'C6'] = np.NaN\n",
    "dframe.at[5:6 , 'C5'] = np.NaN\n",
    "dframe"
   ]
  },
  {
   "cell_type": "code",
   "execution_count": null,
   "metadata": {},
   "outputs": [],
   "source": [
    "# Replace Null values in Column 'C5' with number 123\n",
    "# Replace Null values in Column 'C6' with number 789\n",
    "dframe.fillna(value={'C5' : 123 , 'C6' : 789})"
   ]
  },
  {
   "cell_type": "code",
   "execution_count": null,
   "metadata": {},
   "outputs": [],
   "source": [
    "#Replace first NULL value in Column C7 with 789\n",
    "dframe.fillna(value={'C7' : 789} , limit=1)"
   ]
  },
  {
   "cell_type": "code",
   "execution_count": null,
   "metadata": {},
   "outputs": [],
   "source": [
    "# Drop Rows with NULL values\n",
    "dframe.dropna()"
   ]
  },
  {
   "cell_type": "code",
   "execution_count": null,
   "metadata": {},
   "outputs": [],
   "source": [
    "# Drop Columns with NULL values\n",
    "dframe.dropna(axis='columns')"
   ]
  },
  {
   "cell_type": "code",
   "execution_count": null,
   "metadata": {},
   "outputs": [],
   "source": [
    "dframe"
   ]
  },
  {
   "cell_type": "code",
   "execution_count": null,
   "metadata": {},
   "outputs": [],
   "source": [
    "# Drop Rows with NULL values present in C5 or C6\n",
    "dframe.dropna(subset=['C5' ,'C6'])"
   ]
  },
  {
   "cell_type": "markdown",
   "metadata": {},
   "source": [
    "## Descriptive Statistics "
   ]
  },
  {
   "cell_type": "code",
   "execution_count": null,
   "metadata": {},
   "outputs": [],
   "source": [
    "# Fill NULL values with 55\n",
    "dframe.fillna(55 , inplace=True)\n",
    "dframe"
   ]
  },
  {
   "cell_type": "code",
   "execution_count": null,
   "metadata": {},
   "outputs": [],
   "source": [
    "# Mean of all Columns\n",
    "dframe.mean()"
   ]
  },
  {
   "cell_type": "code",
   "execution_count": null,
   "metadata": {},
   "outputs": [],
   "source": [
    "# Max value per column\n",
    "dframe.max()"
   ]
  },
  {
   "cell_type": "code",
   "execution_count": null,
   "metadata": {},
   "outputs": [],
   "source": [
    "# Min value per column\n",
    "dframe.min()"
   ]
  },
  {
   "cell_type": "code",
   "execution_count": null,
   "metadata": {},
   "outputs": [],
   "source": [
    "# Median \n",
    "dframe.median()"
   ]
  },
  {
   "cell_type": "code",
   "execution_count": null,
   "metadata": {},
   "outputs": [],
   "source": [
    "dframe.std() #Standard Deviation"
   ]
  },
  {
   "cell_type": "code",
   "execution_count": null,
   "metadata": {},
   "outputs": [],
   "source": [
    "dframe.var()  #Variance "
   ]
  },
  {
   "cell_type": "code",
   "execution_count": null,
   "metadata": {},
   "outputs": [],
   "source": [
    "#Lower Quartile / First Quartile\n",
    "dframe.quantile(0.25) "
   ]
  },
  {
   "cell_type": "code",
   "execution_count": null,
   "metadata": {},
   "outputs": [],
   "source": [
    "#Second Quartile / Median\n",
    "dframe.quantile(0.50)"
   ]
  },
  {
   "cell_type": "code",
   "execution_count": null,
   "metadata": {},
   "outputs": [],
   "source": [
    "# Upper Quartile\n",
    "dframe.quantile(0.75)"
   ]
  },
  {
   "cell_type": "code",
   "execution_count": null,
   "metadata": {},
   "outputs": [],
   "source": [
    " #IQR (Interquartile Range)\n",
    "dframe.quantile(0.75) - dframe.quantile(0.25)"
   ]
  },
  {
   "cell_type": "code",
   "execution_count": null,
   "metadata": {},
   "outputs": [],
   "source": [
    "# SUM of column values\n",
    "dframe.sum()"
   ]
  },
  {
   "cell_type": "code",
   "execution_count": null,
   "metadata": {},
   "outputs": [],
   "source": [
    "# GENERATES DESCRIPTIVE STATS\n",
    "dframe.describe()"
   ]
  },
  {
   "cell_type": "code",
   "execution_count": null,
   "metadata": {},
   "outputs": [],
   "source": [
    "#Return unbiased skew\n",
    "# https://www.youtube.com/watch?v=HnMGKsupF8Q\n",
    "dframe.skew()"
   ]
  },
  {
   "cell_type": "code",
   "execution_count": null,
   "metadata": {},
   "outputs": [],
   "source": [
    "# Return unbiased kurtosis using Fisher’s definition of kurtosis\n",
    "# https://www.youtube.com/watch?v=HnMGKsupF8Q\n",
    "dframe.kurt()"
   ]
  },
  {
   "cell_type": "code",
   "execution_count": null,
   "metadata": {},
   "outputs": [],
   "source": [
    "#Correlation\n",
    "# https://www.youtube.com/watch?v=qtaqvPAeEJY&list=PLblh5JKOoLUK0FLuzwntyYI10UQFUhsY9&index=10\n",
    "# https://www.youtube.com/watch?v=xZ_z8KWkhXE&list=PLblh5JKOoLUK0FLuzwntyYI10UQFUhsY9&index=11\n",
    "dframe.corr()"
   ]
  },
  {
   "cell_type": "code",
   "execution_count": null,
   "metadata": {},
   "outputs": [],
   "source": [
    "#Covariance\n",
    "# https://www.youtube.com/watch?v=qtaqvPAeEJY&list=PLblh5JKOoLUK0FLuzwntyYI10UQFUhsY9&index=10\n",
    "# https://www.youtube.com/watch?v=xZ_z8KWkhXE&list=PLblh5JKOoLUK0FLuzwntyYI10UQFUhsY9&index=11\n",
    "dframe.cov()"
   ]
  },
  {
   "cell_type": "code",
   "execution_count": null,
   "metadata": {},
   "outputs": [],
   "source": [
    "import statistics as st\n",
    "dframe.at[3:6,'C1'] = 22\n",
    "dframe"
   ]
  },
  {
   "cell_type": "code",
   "execution_count": null,
   "metadata": {},
   "outputs": [],
   "source": [
    "# Average \n",
    "st.mean(dframe['C1'])"
   ]
  },
  {
   "cell_type": "code",
   "execution_count": null,
   "metadata": {},
   "outputs": [],
   "source": [
    "# Hormonic Mean\n",
    "st.harmonic_mean(dframe['C1'])"
   ]
  },
  {
   "cell_type": "code",
   "execution_count": null,
   "metadata": {},
   "outputs": [],
   "source": [
    "#Returns average of the two middle numbers when length is EVEN\n",
    "arr = np.array([1,2,3,4,5,6,7,8])\n",
    "st.median(arr)"
   ]
  },
  {
   "cell_type": "code",
   "execution_count": null,
   "metadata": {},
   "outputs": [],
   "source": [
    "# low median of the data with EVEN length\n",
    "st.median_low(arr)"
   ]
  },
  {
   "cell_type": "code",
   "execution_count": null,
   "metadata": {},
   "outputs": [],
   "source": [
    "# High median of the data with EVEN length\n",
    "st.median_high(arr)"
   ]
  },
  {
   "cell_type": "code",
   "execution_count": null,
   "metadata": {},
   "outputs": [],
   "source": [
    "# Mode of Dataset\n",
    "st.mode(dframe['C7'])"
   ]
  },
  {
   "cell_type": "code",
   "execution_count": null,
   "metadata": {},
   "outputs": [],
   "source": [
    "# Sample Variance\n",
    "st.variance(dframe['C1'])"
   ]
  },
  {
   "cell_type": "code",
   "execution_count": null,
   "metadata": {},
   "outputs": [],
   "source": [
    "#Population Variance\n",
    "st.pvariance(dframe['C1'])"
   ]
  },
  {
   "cell_type": "code",
   "execution_count": null,
   "metadata": {},
   "outputs": [],
   "source": [
    "#Sample  Standard Deviation\n",
    "st.stdev(dframe['C1'])"
   ]
  },
  {
   "cell_type": "code",
   "execution_count": null,
   "metadata": {},
   "outputs": [],
   "source": [
    "#Population Standard Deviation\n",
    "st.pstdev(dframe['C1'])"
   ]
  },
  {
   "cell_type": "markdown",
   "metadata": {},
   "source": [
    "## Apply function on Dataframe"
   ]
  },
  {
   "cell_type": "code",
   "execution_count": null,
   "metadata": {},
   "outputs": [],
   "source": [
    "dframe"
   ]
  },
  {
   "cell_type": "code",
   "execution_count": null,
   "metadata": {},
   "outputs": [],
   "source": [
    "# Finding MAX value in Columns\n",
    "dframe.apply(max)"
   ]
  },
  {
   "cell_type": "code",
   "execution_count": null,
   "metadata": {},
   "outputs": [],
   "source": [
    "# Finding minimum value in Columns\n",
    "dframe.apply(min)"
   ]
  },
  {
   "cell_type": "code",
   "execution_count": null,
   "metadata": {},
   "outputs": [],
   "source": [
    "#Sum of Column Values\n",
    "dframe.apply(sum)"
   ]
  },
  {
   "cell_type": "code",
   "execution_count": null,
   "metadata": {},
   "outputs": [],
   "source": [
    "#Sum of Column Values\n",
    "dframe.apply(np.sum)"
   ]
  },
  {
   "cell_type": "code",
   "execution_count": null,
   "metadata": {},
   "outputs": [],
   "source": [
    "# Sum of rows\n",
    "dframe.apply(np.sum ,axis=1)"
   ]
  },
  {
   "cell_type": "code",
   "execution_count": null,
   "metadata": {},
   "outputs": [],
   "source": [
    "# Square root of all values in a DataFrame\n",
    "dframe.applymap(np.sqrt)"
   ]
  },
  {
   "cell_type": "code",
   "execution_count": null,
   "metadata": {},
   "outputs": [],
   "source": [
    "# Square root of all values in a DataFrame\n",
    "dframe.applymap(math.sqrt)"
   ]
  },
  {
   "cell_type": "code",
   "execution_count": null,
   "metadata": {},
   "outputs": [],
   "source": [
    "dframe.applymap(float)"
   ]
  },
  {
   "cell_type": "code",
   "execution_count": null,
   "metadata": {},
   "outputs": [],
   "source": [
    "# Using Lambda function in Dataframes\n",
    "dframe.apply(lambda x: min(x))"
   ]
  },
  {
   "cell_type": "code",
   "execution_count": null,
   "metadata": {},
   "outputs": [],
   "source": [
    "# Using Lambda function in Dataframes\n",
    "dframe.apply(lambda x: x*x)"
   ]
  },
  {
   "cell_type": "markdown",
   "metadata": {},
   "source": [
    "# Merge Dataframes"
   ]
  },
  {
   "cell_type": "code",
   "execution_count": null,
   "metadata": {},
   "outputs": [],
   "source": [
    "daf1 =  pd.DataFrame ({'id': ['1', '2', '3', '4', '5'], 'Name': ['Asif', 'Basit', 'Bran', 'John', 'David']})\n",
    "daf1"
   ]
  },
  {
   "cell_type": "code",
   "execution_count": null,
   "metadata": {},
   "outputs": [],
   "source": [
    "daf2 =  pd.DataFrame ({'id': ['1', '2', '6', '7', '8'], 'Score': [40 , 60 , 80 , 90 , 70]})\n",
    "daf2"
   ]
  },
  {
   "cell_type": "code",
   "execution_count": null,
   "metadata": {},
   "outputs": [],
   "source": [
    "# Inner Join\n",
    "pd.merge(daf1, daf2, on='id', how='inner')"
   ]
  },
  {
   "cell_type": "code",
   "execution_count": null,
   "metadata": {},
   "outputs": [],
   "source": [
    "# Full Outer Join\n",
    "pd.merge(daf1, daf2, on='id', how='outer')"
   ]
  },
  {
   "cell_type": "code",
   "execution_count": null,
   "metadata": {},
   "outputs": [],
   "source": [
    "# Left Outer Join\n",
    "pd.merge(daf1, daf2, on='id', how='left')"
   ]
  },
  {
   "cell_type": "code",
   "execution_count": null,
   "metadata": {},
   "outputs": [],
   "source": [
    "#Right Outer Join\n",
    "pd.merge(daf1, daf2, on='id', how='right')"
   ]
  },
  {
   "cell_type": "markdown",
   "metadata": {},
   "source": [
    "# Importing multiple CSV files in DataFrame"
   ]
  },
  {
   "cell_type": "code",
   "execution_count": 2,
   "metadata": {},
   "outputs": [
    {
     "data": {
      "text/plain": [
       "'C:\\\\Users\\\\PR269KB\\\\Google Drive\\\\Career\\\\06_QuickXpert\\\\QXI_DataScience_Sujeet\\\\Unit_15_Projects_Case_Studies\\\\csse_covid_19_data\\\\csse_covid_19_daily_reports'"
      ]
     },
     "execution_count": 2,
     "metadata": {},
     "output_type": "execute_result"
    }
   ],
   "source": [
    "# https://github.com/CSSEGISandData/COVID-19\n",
    "    \n",
    "# Append all CSV files \n",
    "path = r'C:\\Users\\PR269KB\\Google Drive\\Career\\06_QuickXpert\\QXI_DataScience_Sujeet\\Unit_15_Projects_Case_Studies\\csse_covid_19_data\\csse_covid_19_daily_reports'\n",
    "path"
   ]
  },
  {
   "cell_type": "code",
   "execution_count": 3,
   "metadata": {},
   "outputs": [
    {
     "data": {
      "text/plain": [
       "['C:\\\\Users\\\\PR269KB\\\\Google Drive\\\\Career\\\\06_QuickXpert\\\\QXI_DataScience_Sujeet\\\\Unit_15_Projects_Case_Studies\\\\csse_covid_19_data\\\\csse_covid_19_daily_reports\\\\01-22-2020.csv',\n",
       " 'C:\\\\Users\\\\PR269KB\\\\Google Drive\\\\Career\\\\06_QuickXpert\\\\QXI_DataScience_Sujeet\\\\Unit_15_Projects_Case_Studies\\\\csse_covid_19_data\\\\csse_covid_19_daily_reports\\\\01-23-2020.csv',\n",
       " 'C:\\\\Users\\\\PR269KB\\\\Google Drive\\\\Career\\\\06_QuickXpert\\\\QXI_DataScience_Sujeet\\\\Unit_15_Projects_Case_Studies\\\\csse_covid_19_data\\\\csse_covid_19_daily_reports\\\\01-24-2020.csv',\n",
       " 'C:\\\\Users\\\\PR269KB\\\\Google Drive\\\\Career\\\\06_QuickXpert\\\\QXI_DataScience_Sujeet\\\\Unit_15_Projects_Case_Studies\\\\csse_covid_19_data\\\\csse_covid_19_daily_reports\\\\01-25-2020.csv',\n",
       " 'C:\\\\Users\\\\PR269KB\\\\Google Drive\\\\Career\\\\06_QuickXpert\\\\QXI_DataScience_Sujeet\\\\Unit_15_Projects_Case_Studies\\\\csse_covid_19_data\\\\csse_covid_19_daily_reports\\\\01-26-2020.csv',\n",
       " 'C:\\\\Users\\\\PR269KB\\\\Google Drive\\\\Career\\\\06_QuickXpert\\\\QXI_DataScience_Sujeet\\\\Unit_15_Projects_Case_Studies\\\\csse_covid_19_data\\\\csse_covid_19_daily_reports\\\\01-27-2020.csv',\n",
       " 'C:\\\\Users\\\\PR269KB\\\\Google Drive\\\\Career\\\\06_QuickXpert\\\\QXI_DataScience_Sujeet\\\\Unit_15_Projects_Case_Studies\\\\csse_covid_19_data\\\\csse_covid_19_daily_reports\\\\01-28-2020.csv',\n",
       " 'C:\\\\Users\\\\PR269KB\\\\Google Drive\\\\Career\\\\06_QuickXpert\\\\QXI_DataScience_Sujeet\\\\Unit_15_Projects_Case_Studies\\\\csse_covid_19_data\\\\csse_covid_19_daily_reports\\\\01-29-2020.csv',\n",
       " 'C:\\\\Users\\\\PR269KB\\\\Google Drive\\\\Career\\\\06_QuickXpert\\\\QXI_DataScience_Sujeet\\\\Unit_15_Projects_Case_Studies\\\\csse_covid_19_data\\\\csse_covid_19_daily_reports\\\\01-30-2020.csv',\n",
       " 'C:\\\\Users\\\\PR269KB\\\\Google Drive\\\\Career\\\\06_QuickXpert\\\\QXI_DataScience_Sujeet\\\\Unit_15_Projects_Case_Studies\\\\csse_covid_19_data\\\\csse_covid_19_daily_reports\\\\01-31-2020.csv',\n",
       " 'C:\\\\Users\\\\PR269KB\\\\Google Drive\\\\Career\\\\06_QuickXpert\\\\QXI_DataScience_Sujeet\\\\Unit_15_Projects_Case_Studies\\\\csse_covid_19_data\\\\csse_covid_19_daily_reports\\\\02-01-2020.csv',\n",
       " 'C:\\\\Users\\\\PR269KB\\\\Google Drive\\\\Career\\\\06_QuickXpert\\\\QXI_DataScience_Sujeet\\\\Unit_15_Projects_Case_Studies\\\\csse_covid_19_data\\\\csse_covid_19_daily_reports\\\\02-02-2020.csv',\n",
       " 'C:\\\\Users\\\\PR269KB\\\\Google Drive\\\\Career\\\\06_QuickXpert\\\\QXI_DataScience_Sujeet\\\\Unit_15_Projects_Case_Studies\\\\csse_covid_19_data\\\\csse_covid_19_daily_reports\\\\02-03-2020.csv',\n",
       " 'C:\\\\Users\\\\PR269KB\\\\Google Drive\\\\Career\\\\06_QuickXpert\\\\QXI_DataScience_Sujeet\\\\Unit_15_Projects_Case_Studies\\\\csse_covid_19_data\\\\csse_covid_19_daily_reports\\\\02-04-2020.csv',\n",
       " 'C:\\\\Users\\\\PR269KB\\\\Google Drive\\\\Career\\\\06_QuickXpert\\\\QXI_DataScience_Sujeet\\\\Unit_15_Projects_Case_Studies\\\\csse_covid_19_data\\\\csse_covid_19_daily_reports\\\\02-05-2020.csv',\n",
       " 'C:\\\\Users\\\\PR269KB\\\\Google Drive\\\\Career\\\\06_QuickXpert\\\\QXI_DataScience_Sujeet\\\\Unit_15_Projects_Case_Studies\\\\csse_covid_19_data\\\\csse_covid_19_daily_reports\\\\02-06-2020.csv',\n",
       " 'C:\\\\Users\\\\PR269KB\\\\Google Drive\\\\Career\\\\06_QuickXpert\\\\QXI_DataScience_Sujeet\\\\Unit_15_Projects_Case_Studies\\\\csse_covid_19_data\\\\csse_covid_19_daily_reports\\\\02-07-2020.csv',\n",
       " 'C:\\\\Users\\\\PR269KB\\\\Google Drive\\\\Career\\\\06_QuickXpert\\\\QXI_DataScience_Sujeet\\\\Unit_15_Projects_Case_Studies\\\\csse_covid_19_data\\\\csse_covid_19_daily_reports\\\\02-08-2020.csv',\n",
       " 'C:\\\\Users\\\\PR269KB\\\\Google Drive\\\\Career\\\\06_QuickXpert\\\\QXI_DataScience_Sujeet\\\\Unit_15_Projects_Case_Studies\\\\csse_covid_19_data\\\\csse_covid_19_daily_reports\\\\02-09-2020.csv',\n",
       " 'C:\\\\Users\\\\PR269KB\\\\Google Drive\\\\Career\\\\06_QuickXpert\\\\QXI_DataScience_Sujeet\\\\Unit_15_Projects_Case_Studies\\\\csse_covid_19_data\\\\csse_covid_19_daily_reports\\\\02-10-2020.csv',\n",
       " 'C:\\\\Users\\\\PR269KB\\\\Google Drive\\\\Career\\\\06_QuickXpert\\\\QXI_DataScience_Sujeet\\\\Unit_15_Projects_Case_Studies\\\\csse_covid_19_data\\\\csse_covid_19_daily_reports\\\\02-11-2020.csv',\n",
       " 'C:\\\\Users\\\\PR269KB\\\\Google Drive\\\\Career\\\\06_QuickXpert\\\\QXI_DataScience_Sujeet\\\\Unit_15_Projects_Case_Studies\\\\csse_covid_19_data\\\\csse_covid_19_daily_reports\\\\02-12-2020.csv',\n",
       " 'C:\\\\Users\\\\PR269KB\\\\Google Drive\\\\Career\\\\06_QuickXpert\\\\QXI_DataScience_Sujeet\\\\Unit_15_Projects_Case_Studies\\\\csse_covid_19_data\\\\csse_covid_19_daily_reports\\\\02-13-2020.csv',\n",
       " 'C:\\\\Users\\\\PR269KB\\\\Google Drive\\\\Career\\\\06_QuickXpert\\\\QXI_DataScience_Sujeet\\\\Unit_15_Projects_Case_Studies\\\\csse_covid_19_data\\\\csse_covid_19_daily_reports\\\\02-14-2020.csv',\n",
       " 'C:\\\\Users\\\\PR269KB\\\\Google Drive\\\\Career\\\\06_QuickXpert\\\\QXI_DataScience_Sujeet\\\\Unit_15_Projects_Case_Studies\\\\csse_covid_19_data\\\\csse_covid_19_daily_reports\\\\02-15-2020.csv',\n",
       " 'C:\\\\Users\\\\PR269KB\\\\Google Drive\\\\Career\\\\06_QuickXpert\\\\QXI_DataScience_Sujeet\\\\Unit_15_Projects_Case_Studies\\\\csse_covid_19_data\\\\csse_covid_19_daily_reports\\\\02-16-2020.csv',\n",
       " 'C:\\\\Users\\\\PR269KB\\\\Google Drive\\\\Career\\\\06_QuickXpert\\\\QXI_DataScience_Sujeet\\\\Unit_15_Projects_Case_Studies\\\\csse_covid_19_data\\\\csse_covid_19_daily_reports\\\\02-17-2020.csv',\n",
       " 'C:\\\\Users\\\\PR269KB\\\\Google Drive\\\\Career\\\\06_QuickXpert\\\\QXI_DataScience_Sujeet\\\\Unit_15_Projects_Case_Studies\\\\csse_covid_19_data\\\\csse_covid_19_daily_reports\\\\02-18-2020.csv',\n",
       " 'C:\\\\Users\\\\PR269KB\\\\Google Drive\\\\Career\\\\06_QuickXpert\\\\QXI_DataScience_Sujeet\\\\Unit_15_Projects_Case_Studies\\\\csse_covid_19_data\\\\csse_covid_19_daily_reports\\\\02-19-2020.csv',\n",
       " 'C:\\\\Users\\\\PR269KB\\\\Google Drive\\\\Career\\\\06_QuickXpert\\\\QXI_DataScience_Sujeet\\\\Unit_15_Projects_Case_Studies\\\\csse_covid_19_data\\\\csse_covid_19_daily_reports\\\\02-20-2020.csv',\n",
       " 'C:\\\\Users\\\\PR269KB\\\\Google Drive\\\\Career\\\\06_QuickXpert\\\\QXI_DataScience_Sujeet\\\\Unit_15_Projects_Case_Studies\\\\csse_covid_19_data\\\\csse_covid_19_daily_reports\\\\02-21-2020.csv',\n",
       " 'C:\\\\Users\\\\PR269KB\\\\Google Drive\\\\Career\\\\06_QuickXpert\\\\QXI_DataScience_Sujeet\\\\Unit_15_Projects_Case_Studies\\\\csse_covid_19_data\\\\csse_covid_19_daily_reports\\\\02-22-2020.csv',\n",
       " 'C:\\\\Users\\\\PR269KB\\\\Google Drive\\\\Career\\\\06_QuickXpert\\\\QXI_DataScience_Sujeet\\\\Unit_15_Projects_Case_Studies\\\\csse_covid_19_data\\\\csse_covid_19_daily_reports\\\\02-23-2020.csv',\n",
       " 'C:\\\\Users\\\\PR269KB\\\\Google Drive\\\\Career\\\\06_QuickXpert\\\\QXI_DataScience_Sujeet\\\\Unit_15_Projects_Case_Studies\\\\csse_covid_19_data\\\\csse_covid_19_daily_reports\\\\02-24-2020.csv',\n",
       " 'C:\\\\Users\\\\PR269KB\\\\Google Drive\\\\Career\\\\06_QuickXpert\\\\QXI_DataScience_Sujeet\\\\Unit_15_Projects_Case_Studies\\\\csse_covid_19_data\\\\csse_covid_19_daily_reports\\\\02-25-2020.csv',\n",
       " 'C:\\\\Users\\\\PR269KB\\\\Google Drive\\\\Career\\\\06_QuickXpert\\\\QXI_DataScience_Sujeet\\\\Unit_15_Projects_Case_Studies\\\\csse_covid_19_data\\\\csse_covid_19_daily_reports\\\\02-26-2020.csv',\n",
       " 'C:\\\\Users\\\\PR269KB\\\\Google Drive\\\\Career\\\\06_QuickXpert\\\\QXI_DataScience_Sujeet\\\\Unit_15_Projects_Case_Studies\\\\csse_covid_19_data\\\\csse_covid_19_daily_reports\\\\02-27-2020.csv',\n",
       " 'C:\\\\Users\\\\PR269KB\\\\Google Drive\\\\Career\\\\06_QuickXpert\\\\QXI_DataScience_Sujeet\\\\Unit_15_Projects_Case_Studies\\\\csse_covid_19_data\\\\csse_covid_19_daily_reports\\\\02-28-2020.csv',\n",
       " 'C:\\\\Users\\\\PR269KB\\\\Google Drive\\\\Career\\\\06_QuickXpert\\\\QXI_DataScience_Sujeet\\\\Unit_15_Projects_Case_Studies\\\\csse_covid_19_data\\\\csse_covid_19_daily_reports\\\\02-29-2020.csv',\n",
       " 'C:\\\\Users\\\\PR269KB\\\\Google Drive\\\\Career\\\\06_QuickXpert\\\\QXI_DataScience_Sujeet\\\\Unit_15_Projects_Case_Studies\\\\csse_covid_19_data\\\\csse_covid_19_daily_reports\\\\03-01-2020.csv',\n",
       " 'C:\\\\Users\\\\PR269KB\\\\Google Drive\\\\Career\\\\06_QuickXpert\\\\QXI_DataScience_Sujeet\\\\Unit_15_Projects_Case_Studies\\\\csse_covid_19_data\\\\csse_covid_19_daily_reports\\\\03-02-2020.csv',\n",
       " 'C:\\\\Users\\\\PR269KB\\\\Google Drive\\\\Career\\\\06_QuickXpert\\\\QXI_DataScience_Sujeet\\\\Unit_15_Projects_Case_Studies\\\\csse_covid_19_data\\\\csse_covid_19_daily_reports\\\\03-03-2020.csv',\n",
       " 'C:\\\\Users\\\\PR269KB\\\\Google Drive\\\\Career\\\\06_QuickXpert\\\\QXI_DataScience_Sujeet\\\\Unit_15_Projects_Case_Studies\\\\csse_covid_19_data\\\\csse_covid_19_daily_reports\\\\03-04-2020.csv',\n",
       " 'C:\\\\Users\\\\PR269KB\\\\Google Drive\\\\Career\\\\06_QuickXpert\\\\QXI_DataScience_Sujeet\\\\Unit_15_Projects_Case_Studies\\\\csse_covid_19_data\\\\csse_covid_19_daily_reports\\\\03-05-2020.csv',\n",
       " 'C:\\\\Users\\\\PR269KB\\\\Google Drive\\\\Career\\\\06_QuickXpert\\\\QXI_DataScience_Sujeet\\\\Unit_15_Projects_Case_Studies\\\\csse_covid_19_data\\\\csse_covid_19_daily_reports\\\\03-06-2020.csv',\n",
       " 'C:\\\\Users\\\\PR269KB\\\\Google Drive\\\\Career\\\\06_QuickXpert\\\\QXI_DataScience_Sujeet\\\\Unit_15_Projects_Case_Studies\\\\csse_covid_19_data\\\\csse_covid_19_daily_reports\\\\03-07-2020.csv',\n",
       " 'C:\\\\Users\\\\PR269KB\\\\Google Drive\\\\Career\\\\06_QuickXpert\\\\QXI_DataScience_Sujeet\\\\Unit_15_Projects_Case_Studies\\\\csse_covid_19_data\\\\csse_covid_19_daily_reports\\\\03-08-2020.csv',\n",
       " 'C:\\\\Users\\\\PR269KB\\\\Google Drive\\\\Career\\\\06_QuickXpert\\\\QXI_DataScience_Sujeet\\\\Unit_15_Projects_Case_Studies\\\\csse_covid_19_data\\\\csse_covid_19_daily_reports\\\\03-09-2020.csv',\n",
       " 'C:\\\\Users\\\\PR269KB\\\\Google Drive\\\\Career\\\\06_QuickXpert\\\\QXI_DataScience_Sujeet\\\\Unit_15_Projects_Case_Studies\\\\csse_covid_19_data\\\\csse_covid_19_daily_reports\\\\03-10-2020.csv',\n",
       " 'C:\\\\Users\\\\PR269KB\\\\Google Drive\\\\Career\\\\06_QuickXpert\\\\QXI_DataScience_Sujeet\\\\Unit_15_Projects_Case_Studies\\\\csse_covid_19_data\\\\csse_covid_19_daily_reports\\\\03-11-2020.csv',\n",
       " 'C:\\\\Users\\\\PR269KB\\\\Google Drive\\\\Career\\\\06_QuickXpert\\\\QXI_DataScience_Sujeet\\\\Unit_15_Projects_Case_Studies\\\\csse_covid_19_data\\\\csse_covid_19_daily_reports\\\\03-12-2020.csv',\n",
       " 'C:\\\\Users\\\\PR269KB\\\\Google Drive\\\\Career\\\\06_QuickXpert\\\\QXI_DataScience_Sujeet\\\\Unit_15_Projects_Case_Studies\\\\csse_covid_19_data\\\\csse_covid_19_daily_reports\\\\03-13-2020.csv',\n",
       " 'C:\\\\Users\\\\PR269KB\\\\Google Drive\\\\Career\\\\06_QuickXpert\\\\QXI_DataScience_Sujeet\\\\Unit_15_Projects_Case_Studies\\\\csse_covid_19_data\\\\csse_covid_19_daily_reports\\\\03-14-2020.csv',\n",
       " 'C:\\\\Users\\\\PR269KB\\\\Google Drive\\\\Career\\\\06_QuickXpert\\\\QXI_DataScience_Sujeet\\\\Unit_15_Projects_Case_Studies\\\\csse_covid_19_data\\\\csse_covid_19_daily_reports\\\\03-15-2020.csv',\n",
       " 'C:\\\\Users\\\\PR269KB\\\\Google Drive\\\\Career\\\\06_QuickXpert\\\\QXI_DataScience_Sujeet\\\\Unit_15_Projects_Case_Studies\\\\csse_covid_19_data\\\\csse_covid_19_daily_reports\\\\03-16-2020.csv',\n",
       " 'C:\\\\Users\\\\PR269KB\\\\Google Drive\\\\Career\\\\06_QuickXpert\\\\QXI_DataScience_Sujeet\\\\Unit_15_Projects_Case_Studies\\\\csse_covid_19_data\\\\csse_covid_19_daily_reports\\\\03-17-2020.csv',\n",
       " 'C:\\\\Users\\\\PR269KB\\\\Google Drive\\\\Career\\\\06_QuickXpert\\\\QXI_DataScience_Sujeet\\\\Unit_15_Projects_Case_Studies\\\\csse_covid_19_data\\\\csse_covid_19_daily_reports\\\\03-18-2020.csv',\n",
       " 'C:\\\\Users\\\\PR269KB\\\\Google Drive\\\\Career\\\\06_QuickXpert\\\\QXI_DataScience_Sujeet\\\\Unit_15_Projects_Case_Studies\\\\csse_covid_19_data\\\\csse_covid_19_daily_reports\\\\03-19-2020.csv',\n",
       " 'C:\\\\Users\\\\PR269KB\\\\Google Drive\\\\Career\\\\06_QuickXpert\\\\QXI_DataScience_Sujeet\\\\Unit_15_Projects_Case_Studies\\\\csse_covid_19_data\\\\csse_covid_19_daily_reports\\\\03-20-2020.csv',\n",
       " 'C:\\\\Users\\\\PR269KB\\\\Google Drive\\\\Career\\\\06_QuickXpert\\\\QXI_DataScience_Sujeet\\\\Unit_15_Projects_Case_Studies\\\\csse_covid_19_data\\\\csse_covid_19_daily_reports\\\\03-21-2020.csv',\n",
       " 'C:\\\\Users\\\\PR269KB\\\\Google Drive\\\\Career\\\\06_QuickXpert\\\\QXI_DataScience_Sujeet\\\\Unit_15_Projects_Case_Studies\\\\csse_covid_19_data\\\\csse_covid_19_daily_reports\\\\03-22-2020.csv',\n",
       " 'C:\\\\Users\\\\PR269KB\\\\Google Drive\\\\Career\\\\06_QuickXpert\\\\QXI_DataScience_Sujeet\\\\Unit_15_Projects_Case_Studies\\\\csse_covid_19_data\\\\csse_covid_19_daily_reports\\\\03-23-2020.csv',\n",
       " 'C:\\\\Users\\\\PR269KB\\\\Google Drive\\\\Career\\\\06_QuickXpert\\\\QXI_DataScience_Sujeet\\\\Unit_15_Projects_Case_Studies\\\\csse_covid_19_data\\\\csse_covid_19_daily_reports\\\\03-24-2020.csv',\n",
       " 'C:\\\\Users\\\\PR269KB\\\\Google Drive\\\\Career\\\\06_QuickXpert\\\\QXI_DataScience_Sujeet\\\\Unit_15_Projects_Case_Studies\\\\csse_covid_19_data\\\\csse_covid_19_daily_reports\\\\03-25-2020.csv',\n",
       " 'C:\\\\Users\\\\PR269KB\\\\Google Drive\\\\Career\\\\06_QuickXpert\\\\QXI_DataScience_Sujeet\\\\Unit_15_Projects_Case_Studies\\\\csse_covid_19_data\\\\csse_covid_19_daily_reports\\\\03-26-2020.csv',\n",
       " 'C:\\\\Users\\\\PR269KB\\\\Google Drive\\\\Career\\\\06_QuickXpert\\\\QXI_DataScience_Sujeet\\\\Unit_15_Projects_Case_Studies\\\\csse_covid_19_data\\\\csse_covid_19_daily_reports\\\\03-27-2020.csv',\n",
       " 'C:\\\\Users\\\\PR269KB\\\\Google Drive\\\\Career\\\\06_QuickXpert\\\\QXI_DataScience_Sujeet\\\\Unit_15_Projects_Case_Studies\\\\csse_covid_19_data\\\\csse_covid_19_daily_reports\\\\03-28-2020.csv',\n",
       " 'C:\\\\Users\\\\PR269KB\\\\Google Drive\\\\Career\\\\06_QuickXpert\\\\QXI_DataScience_Sujeet\\\\Unit_15_Projects_Case_Studies\\\\csse_covid_19_data\\\\csse_covid_19_daily_reports\\\\03-29-2020.csv',\n",
       " 'C:\\\\Users\\\\PR269KB\\\\Google Drive\\\\Career\\\\06_QuickXpert\\\\QXI_DataScience_Sujeet\\\\Unit_15_Projects_Case_Studies\\\\csse_covid_19_data\\\\csse_covid_19_daily_reports\\\\03-30-2020.csv',\n",
       " 'C:\\\\Users\\\\PR269KB\\\\Google Drive\\\\Career\\\\06_QuickXpert\\\\QXI_DataScience_Sujeet\\\\Unit_15_Projects_Case_Studies\\\\csse_covid_19_data\\\\csse_covid_19_daily_reports\\\\03-31-2020.csv',\n",
       " 'C:\\\\Users\\\\PR269KB\\\\Google Drive\\\\Career\\\\06_QuickXpert\\\\QXI_DataScience_Sujeet\\\\Unit_15_Projects_Case_Studies\\\\csse_covid_19_data\\\\csse_covid_19_daily_reports\\\\04-01-2020.csv',\n",
       " 'C:\\\\Users\\\\PR269KB\\\\Google Drive\\\\Career\\\\06_QuickXpert\\\\QXI_DataScience_Sujeet\\\\Unit_15_Projects_Case_Studies\\\\csse_covid_19_data\\\\csse_covid_19_daily_reports\\\\04-02-2020.csv',\n",
       " 'C:\\\\Users\\\\PR269KB\\\\Google Drive\\\\Career\\\\06_QuickXpert\\\\QXI_DataScience_Sujeet\\\\Unit_15_Projects_Case_Studies\\\\csse_covid_19_data\\\\csse_covid_19_daily_reports\\\\04-03-2020.csv',\n",
       " 'C:\\\\Users\\\\PR269KB\\\\Google Drive\\\\Career\\\\06_QuickXpert\\\\QXI_DataScience_Sujeet\\\\Unit_15_Projects_Case_Studies\\\\csse_covid_19_data\\\\csse_covid_19_daily_reports\\\\04-04-2020.csv',\n",
       " 'C:\\\\Users\\\\PR269KB\\\\Google Drive\\\\Career\\\\06_QuickXpert\\\\QXI_DataScience_Sujeet\\\\Unit_15_Projects_Case_Studies\\\\csse_covid_19_data\\\\csse_covid_19_daily_reports\\\\04-05-2020.csv',\n",
       " 'C:\\\\Users\\\\PR269KB\\\\Google Drive\\\\Career\\\\06_QuickXpert\\\\QXI_DataScience_Sujeet\\\\Unit_15_Projects_Case_Studies\\\\csse_covid_19_data\\\\csse_covid_19_daily_reports\\\\04-06-2020.csv',\n",
       " 'C:\\\\Users\\\\PR269KB\\\\Google Drive\\\\Career\\\\06_QuickXpert\\\\QXI_DataScience_Sujeet\\\\Unit_15_Projects_Case_Studies\\\\csse_covid_19_data\\\\csse_covid_19_daily_reports\\\\04-07-2020.csv',\n",
       " 'C:\\\\Users\\\\PR269KB\\\\Google Drive\\\\Career\\\\06_QuickXpert\\\\QXI_DataScience_Sujeet\\\\Unit_15_Projects_Case_Studies\\\\csse_covid_19_data\\\\csse_covid_19_daily_reports\\\\04-08-2020.csv',\n",
       " 'C:\\\\Users\\\\PR269KB\\\\Google Drive\\\\Career\\\\06_QuickXpert\\\\QXI_DataScience_Sujeet\\\\Unit_15_Projects_Case_Studies\\\\csse_covid_19_data\\\\csse_covid_19_daily_reports\\\\04-09-2020.csv',\n",
       " 'C:\\\\Users\\\\PR269KB\\\\Google Drive\\\\Career\\\\06_QuickXpert\\\\QXI_DataScience_Sujeet\\\\Unit_15_Projects_Case_Studies\\\\csse_covid_19_data\\\\csse_covid_19_daily_reports\\\\04-10-2020.csv',\n",
       " 'C:\\\\Users\\\\PR269KB\\\\Google Drive\\\\Career\\\\06_QuickXpert\\\\QXI_DataScience_Sujeet\\\\Unit_15_Projects_Case_Studies\\\\csse_covid_19_data\\\\csse_covid_19_daily_reports\\\\04-11-2020.csv',\n",
       " 'C:\\\\Users\\\\PR269KB\\\\Google Drive\\\\Career\\\\06_QuickXpert\\\\QXI_DataScience_Sujeet\\\\Unit_15_Projects_Case_Studies\\\\csse_covid_19_data\\\\csse_covid_19_daily_reports\\\\04-12-2020.csv',\n",
       " 'C:\\\\Users\\\\PR269KB\\\\Google Drive\\\\Career\\\\06_QuickXpert\\\\QXI_DataScience_Sujeet\\\\Unit_15_Projects_Case_Studies\\\\csse_covid_19_data\\\\csse_covid_19_daily_reports\\\\04-13-2020.csv',\n",
       " 'C:\\\\Users\\\\PR269KB\\\\Google Drive\\\\Career\\\\06_QuickXpert\\\\QXI_DataScience_Sujeet\\\\Unit_15_Projects_Case_Studies\\\\csse_covid_19_data\\\\csse_covid_19_daily_reports\\\\04-14-2020.csv',\n",
       " 'C:\\\\Users\\\\PR269KB\\\\Google Drive\\\\Career\\\\06_QuickXpert\\\\QXI_DataScience_Sujeet\\\\Unit_15_Projects_Case_Studies\\\\csse_covid_19_data\\\\csse_covid_19_daily_reports\\\\04-15-2020.csv',\n",
       " 'C:\\\\Users\\\\PR269KB\\\\Google Drive\\\\Career\\\\06_QuickXpert\\\\QXI_DataScience_Sujeet\\\\Unit_15_Projects_Case_Studies\\\\csse_covid_19_data\\\\csse_covid_19_daily_reports\\\\04-16-2020.csv',\n",
       " 'C:\\\\Users\\\\PR269KB\\\\Google Drive\\\\Career\\\\06_QuickXpert\\\\QXI_DataScience_Sujeet\\\\Unit_15_Projects_Case_Studies\\\\csse_covid_19_data\\\\csse_covid_19_daily_reports\\\\04-17-2020.csv',\n",
       " 'C:\\\\Users\\\\PR269KB\\\\Google Drive\\\\Career\\\\06_QuickXpert\\\\QXI_DataScience_Sujeet\\\\Unit_15_Projects_Case_Studies\\\\csse_covid_19_data\\\\csse_covid_19_daily_reports\\\\04-18-2020.csv',\n",
       " 'C:\\\\Users\\\\PR269KB\\\\Google Drive\\\\Career\\\\06_QuickXpert\\\\QXI_DataScience_Sujeet\\\\Unit_15_Projects_Case_Studies\\\\csse_covid_19_data\\\\csse_covid_19_daily_reports\\\\04-19-2020.csv',\n",
       " 'C:\\\\Users\\\\PR269KB\\\\Google Drive\\\\Career\\\\06_QuickXpert\\\\QXI_DataScience_Sujeet\\\\Unit_15_Projects_Case_Studies\\\\csse_covid_19_data\\\\csse_covid_19_daily_reports\\\\04-20-2020.csv',\n",
       " 'C:\\\\Users\\\\PR269KB\\\\Google Drive\\\\Career\\\\06_QuickXpert\\\\QXI_DataScience_Sujeet\\\\Unit_15_Projects_Case_Studies\\\\csse_covid_19_data\\\\csse_covid_19_daily_reports\\\\04-21-2020.csv',\n",
       " 'C:\\\\Users\\\\PR269KB\\\\Google Drive\\\\Career\\\\06_QuickXpert\\\\QXI_DataScience_Sujeet\\\\Unit_15_Projects_Case_Studies\\\\csse_covid_19_data\\\\csse_covid_19_daily_reports\\\\04-22-2020.csv',\n",
       " 'C:\\\\Users\\\\PR269KB\\\\Google Drive\\\\Career\\\\06_QuickXpert\\\\QXI_DataScience_Sujeet\\\\Unit_15_Projects_Case_Studies\\\\csse_covid_19_data\\\\csse_covid_19_daily_reports\\\\04-23-2020.csv',\n",
       " 'C:\\\\Users\\\\PR269KB\\\\Google Drive\\\\Career\\\\06_QuickXpert\\\\QXI_DataScience_Sujeet\\\\Unit_15_Projects_Case_Studies\\\\csse_covid_19_data\\\\csse_covid_19_daily_reports\\\\04-24-2020.csv',\n",
       " 'C:\\\\Users\\\\PR269KB\\\\Google Drive\\\\Career\\\\06_QuickXpert\\\\QXI_DataScience_Sujeet\\\\Unit_15_Projects_Case_Studies\\\\csse_covid_19_data\\\\csse_covid_19_daily_reports\\\\04-25-2020.csv',\n",
       " 'C:\\\\Users\\\\PR269KB\\\\Google Drive\\\\Career\\\\06_QuickXpert\\\\QXI_DataScience_Sujeet\\\\Unit_15_Projects_Case_Studies\\\\csse_covid_19_data\\\\csse_covid_19_daily_reports\\\\04-26-2020.csv',\n",
       " 'C:\\\\Users\\\\PR269KB\\\\Google Drive\\\\Career\\\\06_QuickXpert\\\\QXI_DataScience_Sujeet\\\\Unit_15_Projects_Case_Studies\\\\csse_covid_19_data\\\\csse_covid_19_daily_reports\\\\04-27-2020.csv',\n",
       " 'C:\\\\Users\\\\PR269KB\\\\Google Drive\\\\Career\\\\06_QuickXpert\\\\QXI_DataScience_Sujeet\\\\Unit_15_Projects_Case_Studies\\\\csse_covid_19_data\\\\csse_covid_19_daily_reports\\\\04-28-2020.csv',\n",
       " 'C:\\\\Users\\\\PR269KB\\\\Google Drive\\\\Career\\\\06_QuickXpert\\\\QXI_DataScience_Sujeet\\\\Unit_15_Projects_Case_Studies\\\\csse_covid_19_data\\\\csse_covid_19_daily_reports\\\\04-29-2020.csv',\n",
       " 'C:\\\\Users\\\\PR269KB\\\\Google Drive\\\\Career\\\\06_QuickXpert\\\\QXI_DataScience_Sujeet\\\\Unit_15_Projects_Case_Studies\\\\csse_covid_19_data\\\\csse_covid_19_daily_reports\\\\04-30-2020.csv',\n",
       " 'C:\\\\Users\\\\PR269KB\\\\Google Drive\\\\Career\\\\06_QuickXpert\\\\QXI_DataScience_Sujeet\\\\Unit_15_Projects_Case_Studies\\\\csse_covid_19_data\\\\csse_covid_19_daily_reports\\\\05-01-2020.csv',\n",
       " 'C:\\\\Users\\\\PR269KB\\\\Google Drive\\\\Career\\\\06_QuickXpert\\\\QXI_DataScience_Sujeet\\\\Unit_15_Projects_Case_Studies\\\\csse_covid_19_data\\\\csse_covid_19_daily_reports\\\\05-02-2020.csv',\n",
       " 'C:\\\\Users\\\\PR269KB\\\\Google Drive\\\\Career\\\\06_QuickXpert\\\\QXI_DataScience_Sujeet\\\\Unit_15_Projects_Case_Studies\\\\csse_covid_19_data\\\\csse_covid_19_daily_reports\\\\05-03-2020.csv',\n",
       " 'C:\\\\Users\\\\PR269KB\\\\Google Drive\\\\Career\\\\06_QuickXpert\\\\QXI_DataScience_Sujeet\\\\Unit_15_Projects_Case_Studies\\\\csse_covid_19_data\\\\csse_covid_19_daily_reports\\\\05-04-2020.csv',\n",
       " 'C:\\\\Users\\\\PR269KB\\\\Google Drive\\\\Career\\\\06_QuickXpert\\\\QXI_DataScience_Sujeet\\\\Unit_15_Projects_Case_Studies\\\\csse_covid_19_data\\\\csse_covid_19_daily_reports\\\\05-05-2020.csv',\n",
       " 'C:\\\\Users\\\\PR269KB\\\\Google Drive\\\\Career\\\\06_QuickXpert\\\\QXI_DataScience_Sujeet\\\\Unit_15_Projects_Case_Studies\\\\csse_covid_19_data\\\\csse_covid_19_daily_reports\\\\05-06-2020.csv',\n",
       " 'C:\\\\Users\\\\PR269KB\\\\Google Drive\\\\Career\\\\06_QuickXpert\\\\QXI_DataScience_Sujeet\\\\Unit_15_Projects_Case_Studies\\\\csse_covid_19_data\\\\csse_covid_19_daily_reports\\\\05-07-2020.csv',\n",
       " 'C:\\\\Users\\\\PR269KB\\\\Google Drive\\\\Career\\\\06_QuickXpert\\\\QXI_DataScience_Sujeet\\\\Unit_15_Projects_Case_Studies\\\\csse_covid_19_data\\\\csse_covid_19_daily_reports\\\\05-08-2020.csv',\n",
       " 'C:\\\\Users\\\\PR269KB\\\\Google Drive\\\\Career\\\\06_QuickXpert\\\\QXI_DataScience_Sujeet\\\\Unit_15_Projects_Case_Studies\\\\csse_covid_19_data\\\\csse_covid_19_daily_reports\\\\05-09-2020.csv',\n",
       " 'C:\\\\Users\\\\PR269KB\\\\Google Drive\\\\Career\\\\06_QuickXpert\\\\QXI_DataScience_Sujeet\\\\Unit_15_Projects_Case_Studies\\\\csse_covid_19_data\\\\csse_covid_19_daily_reports\\\\05-10-2020.csv',\n",
       " 'C:\\\\Users\\\\PR269KB\\\\Google Drive\\\\Career\\\\06_QuickXpert\\\\QXI_DataScience_Sujeet\\\\Unit_15_Projects_Case_Studies\\\\csse_covid_19_data\\\\csse_covid_19_daily_reports\\\\05-11-2020.csv',\n",
       " 'C:\\\\Users\\\\PR269KB\\\\Google Drive\\\\Career\\\\06_QuickXpert\\\\QXI_DataScience_Sujeet\\\\Unit_15_Projects_Case_Studies\\\\csse_covid_19_data\\\\csse_covid_19_daily_reports\\\\05-12-2020.csv',\n",
       " 'C:\\\\Users\\\\PR269KB\\\\Google Drive\\\\Career\\\\06_QuickXpert\\\\QXI_DataScience_Sujeet\\\\Unit_15_Projects_Case_Studies\\\\csse_covid_19_data\\\\csse_covid_19_daily_reports\\\\05-13-2020.csv',\n",
       " 'C:\\\\Users\\\\PR269KB\\\\Google Drive\\\\Career\\\\06_QuickXpert\\\\QXI_DataScience_Sujeet\\\\Unit_15_Projects_Case_Studies\\\\csse_covid_19_data\\\\csse_covid_19_daily_reports\\\\05-14-2020.csv',\n",
       " 'C:\\\\Users\\\\PR269KB\\\\Google Drive\\\\Career\\\\06_QuickXpert\\\\QXI_DataScience_Sujeet\\\\Unit_15_Projects_Case_Studies\\\\csse_covid_19_data\\\\csse_covid_19_daily_reports\\\\05-15-2020.csv',\n",
       " 'C:\\\\Users\\\\PR269KB\\\\Google Drive\\\\Career\\\\06_QuickXpert\\\\QXI_DataScience_Sujeet\\\\Unit_15_Projects_Case_Studies\\\\csse_covid_19_data\\\\csse_covid_19_daily_reports\\\\05-16-2020.csv',\n",
       " 'C:\\\\Users\\\\PR269KB\\\\Google Drive\\\\Career\\\\06_QuickXpert\\\\QXI_DataScience_Sujeet\\\\Unit_15_Projects_Case_Studies\\\\csse_covid_19_data\\\\csse_covid_19_daily_reports\\\\05-17-2020.csv',\n",
       " 'C:\\\\Users\\\\PR269KB\\\\Google Drive\\\\Career\\\\06_QuickXpert\\\\QXI_DataScience_Sujeet\\\\Unit_15_Projects_Case_Studies\\\\csse_covid_19_data\\\\csse_covid_19_daily_reports\\\\05-18-2020.csv',\n",
       " 'C:\\\\Users\\\\PR269KB\\\\Google Drive\\\\Career\\\\06_QuickXpert\\\\QXI_DataScience_Sujeet\\\\Unit_15_Projects_Case_Studies\\\\csse_covid_19_data\\\\csse_covid_19_daily_reports\\\\05-19-2020.csv',\n",
       " 'C:\\\\Users\\\\PR269KB\\\\Google Drive\\\\Career\\\\06_QuickXpert\\\\QXI_DataScience_Sujeet\\\\Unit_15_Projects_Case_Studies\\\\csse_covid_19_data\\\\csse_covid_19_daily_reports\\\\05-20-2020.csv',\n",
       " 'C:\\\\Users\\\\PR269KB\\\\Google Drive\\\\Career\\\\06_QuickXpert\\\\QXI_DataScience_Sujeet\\\\Unit_15_Projects_Case_Studies\\\\csse_covid_19_data\\\\csse_covid_19_daily_reports\\\\05-21-2020.csv',\n",
       " 'C:\\\\Users\\\\PR269KB\\\\Google Drive\\\\Career\\\\06_QuickXpert\\\\QXI_DataScience_Sujeet\\\\Unit_15_Projects_Case_Studies\\\\csse_covid_19_data\\\\csse_covid_19_daily_reports\\\\05-22-2020.csv',\n",
       " 'C:\\\\Users\\\\PR269KB\\\\Google Drive\\\\Career\\\\06_QuickXpert\\\\QXI_DataScience_Sujeet\\\\Unit_15_Projects_Case_Studies\\\\csse_covid_19_data\\\\csse_covid_19_daily_reports\\\\05-23-2020.csv',\n",
       " 'C:\\\\Users\\\\PR269KB\\\\Google Drive\\\\Career\\\\06_QuickXpert\\\\QXI_DataScience_Sujeet\\\\Unit_15_Projects_Case_Studies\\\\csse_covid_19_data\\\\csse_covid_19_daily_reports\\\\05-24-2020.csv',\n",
       " 'C:\\\\Users\\\\PR269KB\\\\Google Drive\\\\Career\\\\06_QuickXpert\\\\QXI_DataScience_Sujeet\\\\Unit_15_Projects_Case_Studies\\\\csse_covid_19_data\\\\csse_covid_19_daily_reports\\\\05-25-2020.csv',\n",
       " 'C:\\\\Users\\\\PR269KB\\\\Google Drive\\\\Career\\\\06_QuickXpert\\\\QXI_DataScience_Sujeet\\\\Unit_15_Projects_Case_Studies\\\\csse_covid_19_data\\\\csse_covid_19_daily_reports\\\\05-26-2020.csv',\n",
       " 'C:\\\\Users\\\\PR269KB\\\\Google Drive\\\\Career\\\\06_QuickXpert\\\\QXI_DataScience_Sujeet\\\\Unit_15_Projects_Case_Studies\\\\csse_covid_19_data\\\\csse_covid_19_daily_reports\\\\05-27-2020.csv',\n",
       " 'C:\\\\Users\\\\PR269KB\\\\Google Drive\\\\Career\\\\06_QuickXpert\\\\QXI_DataScience_Sujeet\\\\Unit_15_Projects_Case_Studies\\\\csse_covid_19_data\\\\csse_covid_19_daily_reports\\\\05-28-2020.csv',\n",
       " 'C:\\\\Users\\\\PR269KB\\\\Google Drive\\\\Career\\\\06_QuickXpert\\\\QXI_DataScience_Sujeet\\\\Unit_15_Projects_Case_Studies\\\\csse_covid_19_data\\\\csse_covid_19_daily_reports\\\\05-29-2020.csv',\n",
       " 'C:\\\\Users\\\\PR269KB\\\\Google Drive\\\\Career\\\\06_QuickXpert\\\\QXI_DataScience_Sujeet\\\\Unit_15_Projects_Case_Studies\\\\csse_covid_19_data\\\\csse_covid_19_daily_reports\\\\05-30-2020.csv',\n",
       " 'C:\\\\Users\\\\PR269KB\\\\Google Drive\\\\Career\\\\06_QuickXpert\\\\QXI_DataScience_Sujeet\\\\Unit_15_Projects_Case_Studies\\\\csse_covid_19_data\\\\csse_covid_19_daily_reports\\\\05-31-2020.csv',\n",
       " 'C:\\\\Users\\\\PR269KB\\\\Google Drive\\\\Career\\\\06_QuickXpert\\\\QXI_DataScience_Sujeet\\\\Unit_15_Projects_Case_Studies\\\\csse_covid_19_data\\\\csse_covid_19_daily_reports\\\\06-01-2020.csv',\n",
       " 'C:\\\\Users\\\\PR269KB\\\\Google Drive\\\\Career\\\\06_QuickXpert\\\\QXI_DataScience_Sujeet\\\\Unit_15_Projects_Case_Studies\\\\csse_covid_19_data\\\\csse_covid_19_daily_reports\\\\06-02-2020.csv',\n",
       " 'C:\\\\Users\\\\PR269KB\\\\Google Drive\\\\Career\\\\06_QuickXpert\\\\QXI_DataScience_Sujeet\\\\Unit_15_Projects_Case_Studies\\\\csse_covid_19_data\\\\csse_covid_19_daily_reports\\\\06-03-2020.csv',\n",
       " 'C:\\\\Users\\\\PR269KB\\\\Google Drive\\\\Career\\\\06_QuickXpert\\\\QXI_DataScience_Sujeet\\\\Unit_15_Projects_Case_Studies\\\\csse_covid_19_data\\\\csse_covid_19_daily_reports\\\\06-04-2020.csv',\n",
       " 'C:\\\\Users\\\\PR269KB\\\\Google Drive\\\\Career\\\\06_QuickXpert\\\\QXI_DataScience_Sujeet\\\\Unit_15_Projects_Case_Studies\\\\csse_covid_19_data\\\\csse_covid_19_daily_reports\\\\06-05-2020.csv',\n",
       " 'C:\\\\Users\\\\PR269KB\\\\Google Drive\\\\Career\\\\06_QuickXpert\\\\QXI_DataScience_Sujeet\\\\Unit_15_Projects_Case_Studies\\\\csse_covid_19_data\\\\csse_covid_19_daily_reports\\\\06-06-2020.csv',\n",
       " 'C:\\\\Users\\\\PR269KB\\\\Google Drive\\\\Career\\\\06_QuickXpert\\\\QXI_DataScience_Sujeet\\\\Unit_15_Projects_Case_Studies\\\\csse_covid_19_data\\\\csse_covid_19_daily_reports\\\\06-07-2020.csv',\n",
       " 'C:\\\\Users\\\\PR269KB\\\\Google Drive\\\\Career\\\\06_QuickXpert\\\\QXI_DataScience_Sujeet\\\\Unit_15_Projects_Case_Studies\\\\csse_covid_19_data\\\\csse_covid_19_daily_reports\\\\06-08-2020.csv',\n",
       " 'C:\\\\Users\\\\PR269KB\\\\Google Drive\\\\Career\\\\06_QuickXpert\\\\QXI_DataScience_Sujeet\\\\Unit_15_Projects_Case_Studies\\\\csse_covid_19_data\\\\csse_covid_19_daily_reports\\\\06-09-2020.csv',\n",
       " 'C:\\\\Users\\\\PR269KB\\\\Google Drive\\\\Career\\\\06_QuickXpert\\\\QXI_DataScience_Sujeet\\\\Unit_15_Projects_Case_Studies\\\\csse_covid_19_data\\\\csse_covid_19_daily_reports\\\\06-10-2020.csv',\n",
       " 'C:\\\\Users\\\\PR269KB\\\\Google Drive\\\\Career\\\\06_QuickXpert\\\\QXI_DataScience_Sujeet\\\\Unit_15_Projects_Case_Studies\\\\csse_covid_19_data\\\\csse_covid_19_daily_reports\\\\06-11-2020.csv',\n",
       " 'C:\\\\Users\\\\PR269KB\\\\Google Drive\\\\Career\\\\06_QuickXpert\\\\QXI_DataScience_Sujeet\\\\Unit_15_Projects_Case_Studies\\\\csse_covid_19_data\\\\csse_covid_19_daily_reports\\\\06-12-2020.csv',\n",
       " 'C:\\\\Users\\\\PR269KB\\\\Google Drive\\\\Career\\\\06_QuickXpert\\\\QXI_DataScience_Sujeet\\\\Unit_15_Projects_Case_Studies\\\\csse_covid_19_data\\\\csse_covid_19_daily_reports\\\\06-13-2020.csv',\n",
       " 'C:\\\\Users\\\\PR269KB\\\\Google Drive\\\\Career\\\\06_QuickXpert\\\\QXI_DataScience_Sujeet\\\\Unit_15_Projects_Case_Studies\\\\csse_covid_19_data\\\\csse_covid_19_daily_reports\\\\06-14-2020.csv',\n",
       " 'C:\\\\Users\\\\PR269KB\\\\Google Drive\\\\Career\\\\06_QuickXpert\\\\QXI_DataScience_Sujeet\\\\Unit_15_Projects_Case_Studies\\\\csse_covid_19_data\\\\csse_covid_19_daily_reports\\\\06-15-2020.csv',\n",
       " 'C:\\\\Users\\\\PR269KB\\\\Google Drive\\\\Career\\\\06_QuickXpert\\\\QXI_DataScience_Sujeet\\\\Unit_15_Projects_Case_Studies\\\\csse_covid_19_data\\\\csse_covid_19_daily_reports\\\\06-16-2020.csv',\n",
       " 'C:\\\\Users\\\\PR269KB\\\\Google Drive\\\\Career\\\\06_QuickXpert\\\\QXI_DataScience_Sujeet\\\\Unit_15_Projects_Case_Studies\\\\csse_covid_19_data\\\\csse_covid_19_daily_reports\\\\06-17-2020.csv',\n",
       " 'C:\\\\Users\\\\PR269KB\\\\Google Drive\\\\Career\\\\06_QuickXpert\\\\QXI_DataScience_Sujeet\\\\Unit_15_Projects_Case_Studies\\\\csse_covid_19_data\\\\csse_covid_19_daily_reports\\\\06-18-2020.csv',\n",
       " 'C:\\\\Users\\\\PR269KB\\\\Google Drive\\\\Career\\\\06_QuickXpert\\\\QXI_DataScience_Sujeet\\\\Unit_15_Projects_Case_Studies\\\\csse_covid_19_data\\\\csse_covid_19_daily_reports\\\\06-19-2020.csv',\n",
       " 'C:\\\\Users\\\\PR269KB\\\\Google Drive\\\\Career\\\\06_QuickXpert\\\\QXI_DataScience_Sujeet\\\\Unit_15_Projects_Case_Studies\\\\csse_covid_19_data\\\\csse_covid_19_daily_reports\\\\06-20-2020.csv',\n",
       " 'C:\\\\Users\\\\PR269KB\\\\Google Drive\\\\Career\\\\06_QuickXpert\\\\QXI_DataScience_Sujeet\\\\Unit_15_Projects_Case_Studies\\\\csse_covid_19_data\\\\csse_covid_19_daily_reports\\\\06-21-2020.csv',\n",
       " 'C:\\\\Users\\\\PR269KB\\\\Google Drive\\\\Career\\\\06_QuickXpert\\\\QXI_DataScience_Sujeet\\\\Unit_15_Projects_Case_Studies\\\\csse_covid_19_data\\\\csse_covid_19_daily_reports\\\\06-22-2020.csv',\n",
       " 'C:\\\\Users\\\\PR269KB\\\\Google Drive\\\\Career\\\\06_QuickXpert\\\\QXI_DataScience_Sujeet\\\\Unit_15_Projects_Case_Studies\\\\csse_covid_19_data\\\\csse_covid_19_daily_reports\\\\06-23-2020.csv',\n",
       " 'C:\\\\Users\\\\PR269KB\\\\Google Drive\\\\Career\\\\06_QuickXpert\\\\QXI_DataScience_Sujeet\\\\Unit_15_Projects_Case_Studies\\\\csse_covid_19_data\\\\csse_covid_19_daily_reports\\\\06-24-2020.csv',\n",
       " 'C:\\\\Users\\\\PR269KB\\\\Google Drive\\\\Career\\\\06_QuickXpert\\\\QXI_DataScience_Sujeet\\\\Unit_15_Projects_Case_Studies\\\\csse_covid_19_data\\\\csse_covid_19_daily_reports\\\\06-25-2020.csv',\n",
       " 'C:\\\\Users\\\\PR269KB\\\\Google Drive\\\\Career\\\\06_QuickXpert\\\\QXI_DataScience_Sujeet\\\\Unit_15_Projects_Case_Studies\\\\csse_covid_19_data\\\\csse_covid_19_daily_reports\\\\06-26-2020.csv',\n",
       " 'C:\\\\Users\\\\PR269KB\\\\Google Drive\\\\Career\\\\06_QuickXpert\\\\QXI_DataScience_Sujeet\\\\Unit_15_Projects_Case_Studies\\\\csse_covid_19_data\\\\csse_covid_19_daily_reports\\\\06-27-2020.csv',\n",
       " 'C:\\\\Users\\\\PR269KB\\\\Google Drive\\\\Career\\\\06_QuickXpert\\\\QXI_DataScience_Sujeet\\\\Unit_15_Projects_Case_Studies\\\\csse_covid_19_data\\\\csse_covid_19_daily_reports\\\\06-28-2020.csv',\n",
       " 'C:\\\\Users\\\\PR269KB\\\\Google Drive\\\\Career\\\\06_QuickXpert\\\\QXI_DataScience_Sujeet\\\\Unit_15_Projects_Case_Studies\\\\csse_covid_19_data\\\\csse_covid_19_daily_reports\\\\06-29-2020.csv',\n",
       " 'C:\\\\Users\\\\PR269KB\\\\Google Drive\\\\Career\\\\06_QuickXpert\\\\QXI_DataScience_Sujeet\\\\Unit_15_Projects_Case_Studies\\\\csse_covid_19_data\\\\csse_covid_19_daily_reports\\\\06-30-2020.csv',\n",
       " 'C:\\\\Users\\\\PR269KB\\\\Google Drive\\\\Career\\\\06_QuickXpert\\\\QXI_DataScience_Sujeet\\\\Unit_15_Projects_Case_Studies\\\\csse_covid_19_data\\\\csse_covid_19_daily_reports\\\\07-01-2020.csv',\n",
       " 'C:\\\\Users\\\\PR269KB\\\\Google Drive\\\\Career\\\\06_QuickXpert\\\\QXI_DataScience_Sujeet\\\\Unit_15_Projects_Case_Studies\\\\csse_covid_19_data\\\\csse_covid_19_daily_reports\\\\07-02-2020.csv',\n",
       " 'C:\\\\Users\\\\PR269KB\\\\Google Drive\\\\Career\\\\06_QuickXpert\\\\QXI_DataScience_Sujeet\\\\Unit_15_Projects_Case_Studies\\\\csse_covid_19_data\\\\csse_covid_19_daily_reports\\\\07-03-2020.csv',\n",
       " 'C:\\\\Users\\\\PR269KB\\\\Google Drive\\\\Career\\\\06_QuickXpert\\\\QXI_DataScience_Sujeet\\\\Unit_15_Projects_Case_Studies\\\\csse_covid_19_data\\\\csse_covid_19_daily_reports\\\\07-04-2020.csv',\n",
       " 'C:\\\\Users\\\\PR269KB\\\\Google Drive\\\\Career\\\\06_QuickXpert\\\\QXI_DataScience_Sujeet\\\\Unit_15_Projects_Case_Studies\\\\csse_covid_19_data\\\\csse_covid_19_daily_reports\\\\07-05-2020.csv',\n",
       " 'C:\\\\Users\\\\PR269KB\\\\Google Drive\\\\Career\\\\06_QuickXpert\\\\QXI_DataScience_Sujeet\\\\Unit_15_Projects_Case_Studies\\\\csse_covid_19_data\\\\csse_covid_19_daily_reports\\\\07-06-2020.csv',\n",
       " 'C:\\\\Users\\\\PR269KB\\\\Google Drive\\\\Career\\\\06_QuickXpert\\\\QXI_DataScience_Sujeet\\\\Unit_15_Projects_Case_Studies\\\\csse_covid_19_data\\\\csse_covid_19_daily_reports\\\\07-07-2020.csv',\n",
       " 'C:\\\\Users\\\\PR269KB\\\\Google Drive\\\\Career\\\\06_QuickXpert\\\\QXI_DataScience_Sujeet\\\\Unit_15_Projects_Case_Studies\\\\csse_covid_19_data\\\\csse_covid_19_daily_reports\\\\07-08-2020.csv',\n",
       " 'C:\\\\Users\\\\PR269KB\\\\Google Drive\\\\Career\\\\06_QuickXpert\\\\QXI_DataScience_Sujeet\\\\Unit_15_Projects_Case_Studies\\\\csse_covid_19_data\\\\csse_covid_19_daily_reports\\\\07-09-2020.csv',\n",
       " 'C:\\\\Users\\\\PR269KB\\\\Google Drive\\\\Career\\\\06_QuickXpert\\\\QXI_DataScience_Sujeet\\\\Unit_15_Projects_Case_Studies\\\\csse_covid_19_data\\\\csse_covid_19_daily_reports\\\\07-10-2020.csv',\n",
       " 'C:\\\\Users\\\\PR269KB\\\\Google Drive\\\\Career\\\\06_QuickXpert\\\\QXI_DataScience_Sujeet\\\\Unit_15_Projects_Case_Studies\\\\csse_covid_19_data\\\\csse_covid_19_daily_reports\\\\07-11-2020.csv',\n",
       " 'C:\\\\Users\\\\PR269KB\\\\Google Drive\\\\Career\\\\06_QuickXpert\\\\QXI_DataScience_Sujeet\\\\Unit_15_Projects_Case_Studies\\\\csse_covid_19_data\\\\csse_covid_19_daily_reports\\\\07-12-2020.csv',\n",
       " 'C:\\\\Users\\\\PR269KB\\\\Google Drive\\\\Career\\\\06_QuickXpert\\\\QXI_DataScience_Sujeet\\\\Unit_15_Projects_Case_Studies\\\\csse_covid_19_data\\\\csse_covid_19_daily_reports\\\\07-13-2020.csv',\n",
       " 'C:\\\\Users\\\\PR269KB\\\\Google Drive\\\\Career\\\\06_QuickXpert\\\\QXI_DataScience_Sujeet\\\\Unit_15_Projects_Case_Studies\\\\csse_covid_19_data\\\\csse_covid_19_daily_reports\\\\07-14-2020.csv',\n",
       " 'C:\\\\Users\\\\PR269KB\\\\Google Drive\\\\Career\\\\06_QuickXpert\\\\QXI_DataScience_Sujeet\\\\Unit_15_Projects_Case_Studies\\\\csse_covid_19_data\\\\csse_covid_19_daily_reports\\\\07-15-2020.csv',\n",
       " 'C:\\\\Users\\\\PR269KB\\\\Google Drive\\\\Career\\\\06_QuickXpert\\\\QXI_DataScience_Sujeet\\\\Unit_15_Projects_Case_Studies\\\\csse_covid_19_data\\\\csse_covid_19_daily_reports\\\\07-16-2020.csv',\n",
       " 'C:\\\\Users\\\\PR269KB\\\\Google Drive\\\\Career\\\\06_QuickXpert\\\\QXI_DataScience_Sujeet\\\\Unit_15_Projects_Case_Studies\\\\csse_covid_19_data\\\\csse_covid_19_daily_reports\\\\07-17-2020.csv',\n",
       " 'C:\\\\Users\\\\PR269KB\\\\Google Drive\\\\Career\\\\06_QuickXpert\\\\QXI_DataScience_Sujeet\\\\Unit_15_Projects_Case_Studies\\\\csse_covid_19_data\\\\csse_covid_19_daily_reports\\\\07-18-2020.csv',\n",
       " 'C:\\\\Users\\\\PR269KB\\\\Google Drive\\\\Career\\\\06_QuickXpert\\\\QXI_DataScience_Sujeet\\\\Unit_15_Projects_Case_Studies\\\\csse_covid_19_data\\\\csse_covid_19_daily_reports\\\\07-19-2020.csv',\n",
       " 'C:\\\\Users\\\\PR269KB\\\\Google Drive\\\\Career\\\\06_QuickXpert\\\\QXI_DataScience_Sujeet\\\\Unit_15_Projects_Case_Studies\\\\csse_covid_19_data\\\\csse_covid_19_daily_reports\\\\07-20-2020.csv',\n",
       " 'C:\\\\Users\\\\PR269KB\\\\Google Drive\\\\Career\\\\06_QuickXpert\\\\QXI_DataScience_Sujeet\\\\Unit_15_Projects_Case_Studies\\\\csse_covid_19_data\\\\csse_covid_19_daily_reports\\\\07-21-2020.csv',\n",
       " 'C:\\\\Users\\\\PR269KB\\\\Google Drive\\\\Career\\\\06_QuickXpert\\\\QXI_DataScience_Sujeet\\\\Unit_15_Projects_Case_Studies\\\\csse_covid_19_data\\\\csse_covid_19_daily_reports\\\\07-22-2020.csv',\n",
       " 'C:\\\\Users\\\\PR269KB\\\\Google Drive\\\\Career\\\\06_QuickXpert\\\\QXI_DataScience_Sujeet\\\\Unit_15_Projects_Case_Studies\\\\csse_covid_19_data\\\\csse_covid_19_daily_reports\\\\07-23-2020.csv',\n",
       " 'C:\\\\Users\\\\PR269KB\\\\Google Drive\\\\Career\\\\06_QuickXpert\\\\QXI_DataScience_Sujeet\\\\Unit_15_Projects_Case_Studies\\\\csse_covid_19_data\\\\csse_covid_19_daily_reports\\\\07-24-2020.csv',\n",
       " 'C:\\\\Users\\\\PR269KB\\\\Google Drive\\\\Career\\\\06_QuickXpert\\\\QXI_DataScience_Sujeet\\\\Unit_15_Projects_Case_Studies\\\\csse_covid_19_data\\\\csse_covid_19_daily_reports\\\\07-25-2020.csv',\n",
       " 'C:\\\\Users\\\\PR269KB\\\\Google Drive\\\\Career\\\\06_QuickXpert\\\\QXI_DataScience_Sujeet\\\\Unit_15_Projects_Case_Studies\\\\csse_covid_19_data\\\\csse_covid_19_daily_reports\\\\07-26-2020.csv',\n",
       " 'C:\\\\Users\\\\PR269KB\\\\Google Drive\\\\Career\\\\06_QuickXpert\\\\QXI_DataScience_Sujeet\\\\Unit_15_Projects_Case_Studies\\\\csse_covid_19_data\\\\csse_covid_19_daily_reports\\\\07-27-2020.csv',\n",
       " 'C:\\\\Users\\\\PR269KB\\\\Google Drive\\\\Career\\\\06_QuickXpert\\\\QXI_DataScience_Sujeet\\\\Unit_15_Projects_Case_Studies\\\\csse_covid_19_data\\\\csse_covid_19_daily_reports\\\\07-28-2020.csv',\n",
       " 'C:\\\\Users\\\\PR269KB\\\\Google Drive\\\\Career\\\\06_QuickXpert\\\\QXI_DataScience_Sujeet\\\\Unit_15_Projects_Case_Studies\\\\csse_covid_19_data\\\\csse_covid_19_daily_reports\\\\07-29-2020.csv',\n",
       " 'C:\\\\Users\\\\PR269KB\\\\Google Drive\\\\Career\\\\06_QuickXpert\\\\QXI_DataScience_Sujeet\\\\Unit_15_Projects_Case_Studies\\\\csse_covid_19_data\\\\csse_covid_19_daily_reports\\\\07-30-2020.csv',\n",
       " 'C:\\\\Users\\\\PR269KB\\\\Google Drive\\\\Career\\\\06_QuickXpert\\\\QXI_DataScience_Sujeet\\\\Unit_15_Projects_Case_Studies\\\\csse_covid_19_data\\\\csse_covid_19_daily_reports\\\\07-31-2020.csv',\n",
       " 'C:\\\\Users\\\\PR269KB\\\\Google Drive\\\\Career\\\\06_QuickXpert\\\\QXI_DataScience_Sujeet\\\\Unit_15_Projects_Case_Studies\\\\csse_covid_19_data\\\\csse_covid_19_daily_reports\\\\08-01-2020.csv',\n",
       " 'C:\\\\Users\\\\PR269KB\\\\Google Drive\\\\Career\\\\06_QuickXpert\\\\QXI_DataScience_Sujeet\\\\Unit_15_Projects_Case_Studies\\\\csse_covid_19_data\\\\csse_covid_19_daily_reports\\\\08-02-2020.csv',\n",
       " 'C:\\\\Users\\\\PR269KB\\\\Google Drive\\\\Career\\\\06_QuickXpert\\\\QXI_DataScience_Sujeet\\\\Unit_15_Projects_Case_Studies\\\\csse_covid_19_data\\\\csse_covid_19_daily_reports\\\\08-03-2020.csv',\n",
       " 'C:\\\\Users\\\\PR269KB\\\\Google Drive\\\\Career\\\\06_QuickXpert\\\\QXI_DataScience_Sujeet\\\\Unit_15_Projects_Case_Studies\\\\csse_covid_19_data\\\\csse_covid_19_daily_reports\\\\08-04-2020.csv',\n",
       " 'C:\\\\Users\\\\PR269KB\\\\Google Drive\\\\Career\\\\06_QuickXpert\\\\QXI_DataScience_Sujeet\\\\Unit_15_Projects_Case_Studies\\\\csse_covid_19_data\\\\csse_covid_19_daily_reports\\\\08-05-2020.csv',\n",
       " 'C:\\\\Users\\\\PR269KB\\\\Google Drive\\\\Career\\\\06_QuickXpert\\\\QXI_DataScience_Sujeet\\\\Unit_15_Projects_Case_Studies\\\\csse_covid_19_data\\\\csse_covid_19_daily_reports\\\\08-06-2020.csv',\n",
       " 'C:\\\\Users\\\\PR269KB\\\\Google Drive\\\\Career\\\\06_QuickXpert\\\\QXI_DataScience_Sujeet\\\\Unit_15_Projects_Case_Studies\\\\csse_covid_19_data\\\\csse_covid_19_daily_reports\\\\08-07-2020.csv',\n",
       " 'C:\\\\Users\\\\PR269KB\\\\Google Drive\\\\Career\\\\06_QuickXpert\\\\QXI_DataScience_Sujeet\\\\Unit_15_Projects_Case_Studies\\\\csse_covid_19_data\\\\csse_covid_19_daily_reports\\\\08-08-2020.csv',\n",
       " 'C:\\\\Users\\\\PR269KB\\\\Google Drive\\\\Career\\\\06_QuickXpert\\\\QXI_DataScience_Sujeet\\\\Unit_15_Projects_Case_Studies\\\\csse_covid_19_data\\\\csse_covid_19_daily_reports\\\\08-09-2020.csv',\n",
       " 'C:\\\\Users\\\\PR269KB\\\\Google Drive\\\\Career\\\\06_QuickXpert\\\\QXI_DataScience_Sujeet\\\\Unit_15_Projects_Case_Studies\\\\csse_covid_19_data\\\\csse_covid_19_daily_reports\\\\08-10-2020.csv',\n",
       " 'C:\\\\Users\\\\PR269KB\\\\Google Drive\\\\Career\\\\06_QuickXpert\\\\QXI_DataScience_Sujeet\\\\Unit_15_Projects_Case_Studies\\\\csse_covid_19_data\\\\csse_covid_19_daily_reports\\\\08-11-2020.csv',\n",
       " 'C:\\\\Users\\\\PR269KB\\\\Google Drive\\\\Career\\\\06_QuickXpert\\\\QXI_DataScience_Sujeet\\\\Unit_15_Projects_Case_Studies\\\\csse_covid_19_data\\\\csse_covid_19_daily_reports\\\\08-12-2020.csv',\n",
       " 'C:\\\\Users\\\\PR269KB\\\\Google Drive\\\\Career\\\\06_QuickXpert\\\\QXI_DataScience_Sujeet\\\\Unit_15_Projects_Case_Studies\\\\csse_covid_19_data\\\\csse_covid_19_daily_reports\\\\08-13-2020.csv',\n",
       " 'C:\\\\Users\\\\PR269KB\\\\Google Drive\\\\Career\\\\06_QuickXpert\\\\QXI_DataScience_Sujeet\\\\Unit_15_Projects_Case_Studies\\\\csse_covid_19_data\\\\csse_covid_19_daily_reports\\\\08-14-2020.csv',\n",
       " 'C:\\\\Users\\\\PR269KB\\\\Google Drive\\\\Career\\\\06_QuickXpert\\\\QXI_DataScience_Sujeet\\\\Unit_15_Projects_Case_Studies\\\\csse_covid_19_data\\\\csse_covid_19_daily_reports\\\\08-15-2020.csv',\n",
       " 'C:\\\\Users\\\\PR269KB\\\\Google Drive\\\\Career\\\\06_QuickXpert\\\\QXI_DataScience_Sujeet\\\\Unit_15_Projects_Case_Studies\\\\csse_covid_19_data\\\\csse_covid_19_daily_reports\\\\08-16-2020.csv',\n",
       " 'C:\\\\Users\\\\PR269KB\\\\Google Drive\\\\Career\\\\06_QuickXpert\\\\QXI_DataScience_Sujeet\\\\Unit_15_Projects_Case_Studies\\\\csse_covid_19_data\\\\csse_covid_19_daily_reports\\\\08-17-2020.csv',\n",
       " 'C:\\\\Users\\\\PR269KB\\\\Google Drive\\\\Career\\\\06_QuickXpert\\\\QXI_DataScience_Sujeet\\\\Unit_15_Projects_Case_Studies\\\\csse_covid_19_data\\\\csse_covid_19_daily_reports\\\\08-18-2020.csv',\n",
       " 'C:\\\\Users\\\\PR269KB\\\\Google Drive\\\\Career\\\\06_QuickXpert\\\\QXI_DataScience_Sujeet\\\\Unit_15_Projects_Case_Studies\\\\csse_covid_19_data\\\\csse_covid_19_daily_reports\\\\08-19-2020.csv',\n",
       " 'C:\\\\Users\\\\PR269KB\\\\Google Drive\\\\Career\\\\06_QuickXpert\\\\QXI_DataScience_Sujeet\\\\Unit_15_Projects_Case_Studies\\\\csse_covid_19_data\\\\csse_covid_19_daily_reports\\\\08-20-2020.csv',\n",
       " 'C:\\\\Users\\\\PR269KB\\\\Google Drive\\\\Career\\\\06_QuickXpert\\\\QXI_DataScience_Sujeet\\\\Unit_15_Projects_Case_Studies\\\\csse_covid_19_data\\\\csse_covid_19_daily_reports\\\\08-21-2020.csv',\n",
       " 'C:\\\\Users\\\\PR269KB\\\\Google Drive\\\\Career\\\\06_QuickXpert\\\\QXI_DataScience_Sujeet\\\\Unit_15_Projects_Case_Studies\\\\csse_covid_19_data\\\\csse_covid_19_daily_reports\\\\08-22-2020.csv',\n",
       " 'C:\\\\Users\\\\PR269KB\\\\Google Drive\\\\Career\\\\06_QuickXpert\\\\QXI_DataScience_Sujeet\\\\Unit_15_Projects_Case_Studies\\\\csse_covid_19_data\\\\csse_covid_19_daily_reports\\\\08-23-2020.csv',\n",
       " 'C:\\\\Users\\\\PR269KB\\\\Google Drive\\\\Career\\\\06_QuickXpert\\\\QXI_DataScience_Sujeet\\\\Unit_15_Projects_Case_Studies\\\\csse_covid_19_data\\\\csse_covid_19_daily_reports\\\\08-24-2020.csv',\n",
       " 'C:\\\\Users\\\\PR269KB\\\\Google Drive\\\\Career\\\\06_QuickXpert\\\\QXI_DataScience_Sujeet\\\\Unit_15_Projects_Case_Studies\\\\csse_covid_19_data\\\\csse_covid_19_daily_reports\\\\08-25-2020.csv',\n",
       " 'C:\\\\Users\\\\PR269KB\\\\Google Drive\\\\Career\\\\06_QuickXpert\\\\QXI_DataScience_Sujeet\\\\Unit_15_Projects_Case_Studies\\\\csse_covid_19_data\\\\csse_covid_19_daily_reports\\\\08-26-2020.csv',\n",
       " 'C:\\\\Users\\\\PR269KB\\\\Google Drive\\\\Career\\\\06_QuickXpert\\\\QXI_DataScience_Sujeet\\\\Unit_15_Projects_Case_Studies\\\\csse_covid_19_data\\\\csse_covid_19_daily_reports\\\\08-27-2020.csv',\n",
       " 'C:\\\\Users\\\\PR269KB\\\\Google Drive\\\\Career\\\\06_QuickXpert\\\\QXI_DataScience_Sujeet\\\\Unit_15_Projects_Case_Studies\\\\csse_covid_19_data\\\\csse_covid_19_daily_reports\\\\08-28-2020.csv',\n",
       " 'C:\\\\Users\\\\PR269KB\\\\Google Drive\\\\Career\\\\06_QuickXpert\\\\QXI_DataScience_Sujeet\\\\Unit_15_Projects_Case_Studies\\\\csse_covid_19_data\\\\csse_covid_19_daily_reports\\\\08-29-2020.csv',\n",
       " 'C:\\\\Users\\\\PR269KB\\\\Google Drive\\\\Career\\\\06_QuickXpert\\\\QXI_DataScience_Sujeet\\\\Unit_15_Projects_Case_Studies\\\\csse_covid_19_data\\\\csse_covid_19_daily_reports\\\\08-30-2020.csv',\n",
       " 'C:\\\\Users\\\\PR269KB\\\\Google Drive\\\\Career\\\\06_QuickXpert\\\\QXI_DataScience_Sujeet\\\\Unit_15_Projects_Case_Studies\\\\csse_covid_19_data\\\\csse_covid_19_daily_reports\\\\08-31-2020.csv',\n",
       " 'C:\\\\Users\\\\PR269KB\\\\Google Drive\\\\Career\\\\06_QuickXpert\\\\QXI_DataScience_Sujeet\\\\Unit_15_Projects_Case_Studies\\\\csse_covid_19_data\\\\csse_covid_19_daily_reports\\\\09-01-2020.csv',\n",
       " 'C:\\\\Users\\\\PR269KB\\\\Google Drive\\\\Career\\\\06_QuickXpert\\\\QXI_DataScience_Sujeet\\\\Unit_15_Projects_Case_Studies\\\\csse_covid_19_data\\\\csse_covid_19_daily_reports\\\\09-02-2020.csv',\n",
       " 'C:\\\\Users\\\\PR269KB\\\\Google Drive\\\\Career\\\\06_QuickXpert\\\\QXI_DataScience_Sujeet\\\\Unit_15_Projects_Case_Studies\\\\csse_covid_19_data\\\\csse_covid_19_daily_reports\\\\09-03-2020.csv',\n",
       " 'C:\\\\Users\\\\PR269KB\\\\Google Drive\\\\Career\\\\06_QuickXpert\\\\QXI_DataScience_Sujeet\\\\Unit_15_Projects_Case_Studies\\\\csse_covid_19_data\\\\csse_covid_19_daily_reports\\\\09-04-2020.csv',\n",
       " 'C:\\\\Users\\\\PR269KB\\\\Google Drive\\\\Career\\\\06_QuickXpert\\\\QXI_DataScience_Sujeet\\\\Unit_15_Projects_Case_Studies\\\\csse_covid_19_data\\\\csse_covid_19_daily_reports\\\\09-05-2020.csv',\n",
       " 'C:\\\\Users\\\\PR269KB\\\\Google Drive\\\\Career\\\\06_QuickXpert\\\\QXI_DataScience_Sujeet\\\\Unit_15_Projects_Case_Studies\\\\csse_covid_19_data\\\\csse_covid_19_daily_reports\\\\09-06-2020.csv',\n",
       " 'C:\\\\Users\\\\PR269KB\\\\Google Drive\\\\Career\\\\06_QuickXpert\\\\QXI_DataScience_Sujeet\\\\Unit_15_Projects_Case_Studies\\\\csse_covid_19_data\\\\csse_covid_19_daily_reports\\\\09-07-2020.csv',\n",
       " 'C:\\\\Users\\\\PR269KB\\\\Google Drive\\\\Career\\\\06_QuickXpert\\\\QXI_DataScience_Sujeet\\\\Unit_15_Projects_Case_Studies\\\\csse_covid_19_data\\\\csse_covid_19_daily_reports\\\\09-08-2020.csv',\n",
       " 'C:\\\\Users\\\\PR269KB\\\\Google Drive\\\\Career\\\\06_QuickXpert\\\\QXI_DataScience_Sujeet\\\\Unit_15_Projects_Case_Studies\\\\csse_covid_19_data\\\\csse_covid_19_daily_reports\\\\09-09-2020.csv',\n",
       " 'C:\\\\Users\\\\PR269KB\\\\Google Drive\\\\Career\\\\06_QuickXpert\\\\QXI_DataScience_Sujeet\\\\Unit_15_Projects_Case_Studies\\\\csse_covid_19_data\\\\csse_covid_19_daily_reports\\\\09-10-2020.csv',\n",
       " 'C:\\\\Users\\\\PR269KB\\\\Google Drive\\\\Career\\\\06_QuickXpert\\\\QXI_DataScience_Sujeet\\\\Unit_15_Projects_Case_Studies\\\\csse_covid_19_data\\\\csse_covid_19_daily_reports\\\\09-11-2020.csv',\n",
       " 'C:\\\\Users\\\\PR269KB\\\\Google Drive\\\\Career\\\\06_QuickXpert\\\\QXI_DataScience_Sujeet\\\\Unit_15_Projects_Case_Studies\\\\csse_covid_19_data\\\\csse_covid_19_daily_reports\\\\09-12-2020.csv',\n",
       " 'C:\\\\Users\\\\PR269KB\\\\Google Drive\\\\Career\\\\06_QuickXpert\\\\QXI_DataScience_Sujeet\\\\Unit_15_Projects_Case_Studies\\\\csse_covid_19_data\\\\csse_covid_19_daily_reports\\\\09-13-2020.csv',\n",
       " 'C:\\\\Users\\\\PR269KB\\\\Google Drive\\\\Career\\\\06_QuickXpert\\\\QXI_DataScience_Sujeet\\\\Unit_15_Projects_Case_Studies\\\\csse_covid_19_data\\\\csse_covid_19_daily_reports\\\\09-14-2020.csv',\n",
       " 'C:\\\\Users\\\\PR269KB\\\\Google Drive\\\\Career\\\\06_QuickXpert\\\\QXI_DataScience_Sujeet\\\\Unit_15_Projects_Case_Studies\\\\csse_covid_19_data\\\\csse_covid_19_daily_reports\\\\09-15-2020.csv',\n",
       " 'C:\\\\Users\\\\PR269KB\\\\Google Drive\\\\Career\\\\06_QuickXpert\\\\QXI_DataScience_Sujeet\\\\Unit_15_Projects_Case_Studies\\\\csse_covid_19_data\\\\csse_covid_19_daily_reports\\\\09-16-2020.csv',\n",
       " 'C:\\\\Users\\\\PR269KB\\\\Google Drive\\\\Career\\\\06_QuickXpert\\\\QXI_DataScience_Sujeet\\\\Unit_15_Projects_Case_Studies\\\\csse_covid_19_data\\\\csse_covid_19_daily_reports\\\\09-17-2020.csv',\n",
       " 'C:\\\\Users\\\\PR269KB\\\\Google Drive\\\\Career\\\\06_QuickXpert\\\\QXI_DataScience_Sujeet\\\\Unit_15_Projects_Case_Studies\\\\csse_covid_19_data\\\\csse_covid_19_daily_reports\\\\09-18-2020.csv',\n",
       " 'C:\\\\Users\\\\PR269KB\\\\Google Drive\\\\Career\\\\06_QuickXpert\\\\QXI_DataScience_Sujeet\\\\Unit_15_Projects_Case_Studies\\\\csse_covid_19_data\\\\csse_covid_19_daily_reports\\\\09-19-2020.csv',\n",
       " 'C:\\\\Users\\\\PR269KB\\\\Google Drive\\\\Career\\\\06_QuickXpert\\\\QXI_DataScience_Sujeet\\\\Unit_15_Projects_Case_Studies\\\\csse_covid_19_data\\\\csse_covid_19_daily_reports\\\\09-20-2020.csv',\n",
       " 'C:\\\\Users\\\\PR269KB\\\\Google Drive\\\\Career\\\\06_QuickXpert\\\\QXI_DataScience_Sujeet\\\\Unit_15_Projects_Case_Studies\\\\csse_covid_19_data\\\\csse_covid_19_daily_reports\\\\09-21-2020.csv',\n",
       " 'C:\\\\Users\\\\PR269KB\\\\Google Drive\\\\Career\\\\06_QuickXpert\\\\QXI_DataScience_Sujeet\\\\Unit_15_Projects_Case_Studies\\\\csse_covid_19_data\\\\csse_covid_19_daily_reports\\\\09-22-2020.csv',\n",
       " 'C:\\\\Users\\\\PR269KB\\\\Google Drive\\\\Career\\\\06_QuickXpert\\\\QXI_DataScience_Sujeet\\\\Unit_15_Projects_Case_Studies\\\\csse_covid_19_data\\\\csse_covid_19_daily_reports\\\\09-23-2020.csv',\n",
       " 'C:\\\\Users\\\\PR269KB\\\\Google Drive\\\\Career\\\\06_QuickXpert\\\\QXI_DataScience_Sujeet\\\\Unit_15_Projects_Case_Studies\\\\csse_covid_19_data\\\\csse_covid_19_daily_reports\\\\09-24-2020.csv',\n",
       " 'C:\\\\Users\\\\PR269KB\\\\Google Drive\\\\Career\\\\06_QuickXpert\\\\QXI_DataScience_Sujeet\\\\Unit_15_Projects_Case_Studies\\\\csse_covid_19_data\\\\csse_covid_19_daily_reports\\\\09-25-2020.csv',\n",
       " 'C:\\\\Users\\\\PR269KB\\\\Google Drive\\\\Career\\\\06_QuickXpert\\\\QXI_DataScience_Sujeet\\\\Unit_15_Projects_Case_Studies\\\\csse_covid_19_data\\\\csse_covid_19_daily_reports\\\\09-26-2020.csv',\n",
       " 'C:\\\\Users\\\\PR269KB\\\\Google Drive\\\\Career\\\\06_QuickXpert\\\\QXI_DataScience_Sujeet\\\\Unit_15_Projects_Case_Studies\\\\csse_covid_19_data\\\\csse_covid_19_daily_reports\\\\09-27-2020.csv',\n",
       " 'C:\\\\Users\\\\PR269KB\\\\Google Drive\\\\Career\\\\06_QuickXpert\\\\QXI_DataScience_Sujeet\\\\Unit_15_Projects_Case_Studies\\\\csse_covid_19_data\\\\csse_covid_19_daily_reports\\\\09-28-2020.csv',\n",
       " 'C:\\\\Users\\\\PR269KB\\\\Google Drive\\\\Career\\\\06_QuickXpert\\\\QXI_DataScience_Sujeet\\\\Unit_15_Projects_Case_Studies\\\\csse_covid_19_data\\\\csse_covid_19_daily_reports\\\\09-29-2020.csv',\n",
       " 'C:\\\\Users\\\\PR269KB\\\\Google Drive\\\\Career\\\\06_QuickXpert\\\\QXI_DataScience_Sujeet\\\\Unit_15_Projects_Case_Studies\\\\csse_covid_19_data\\\\csse_covid_19_daily_reports\\\\09-30-2020.csv',\n",
       " 'C:\\\\Users\\\\PR269KB\\\\Google Drive\\\\Career\\\\06_QuickXpert\\\\QXI_DataScience_Sujeet\\\\Unit_15_Projects_Case_Studies\\\\csse_covid_19_data\\\\csse_covid_19_daily_reports\\\\10-01-2020.csv',\n",
       " 'C:\\\\Users\\\\PR269KB\\\\Google Drive\\\\Career\\\\06_QuickXpert\\\\QXI_DataScience_Sujeet\\\\Unit_15_Projects_Case_Studies\\\\csse_covid_19_data\\\\csse_covid_19_daily_reports\\\\10-02-2020.csv',\n",
       " 'C:\\\\Users\\\\PR269KB\\\\Google Drive\\\\Career\\\\06_QuickXpert\\\\QXI_DataScience_Sujeet\\\\Unit_15_Projects_Case_Studies\\\\csse_covid_19_data\\\\csse_covid_19_daily_reports\\\\10-03-2020.csv',\n",
       " 'C:\\\\Users\\\\PR269KB\\\\Google Drive\\\\Career\\\\06_QuickXpert\\\\QXI_DataScience_Sujeet\\\\Unit_15_Projects_Case_Studies\\\\csse_covid_19_data\\\\csse_covid_19_daily_reports\\\\10-04-2020.csv',\n",
       " 'C:\\\\Users\\\\PR269KB\\\\Google Drive\\\\Career\\\\06_QuickXpert\\\\QXI_DataScience_Sujeet\\\\Unit_15_Projects_Case_Studies\\\\csse_covid_19_data\\\\csse_covid_19_daily_reports\\\\10-05-2020.csv',\n",
       " 'C:\\\\Users\\\\PR269KB\\\\Google Drive\\\\Career\\\\06_QuickXpert\\\\QXI_DataScience_Sujeet\\\\Unit_15_Projects_Case_Studies\\\\csse_covid_19_data\\\\csse_covid_19_daily_reports\\\\10-06-2020.csv',\n",
       " 'C:\\\\Users\\\\PR269KB\\\\Google Drive\\\\Career\\\\06_QuickXpert\\\\QXI_DataScience_Sujeet\\\\Unit_15_Projects_Case_Studies\\\\csse_covid_19_data\\\\csse_covid_19_daily_reports\\\\10-07-2020.csv',\n",
       " 'C:\\\\Users\\\\PR269KB\\\\Google Drive\\\\Career\\\\06_QuickXpert\\\\QXI_DataScience_Sujeet\\\\Unit_15_Projects_Case_Studies\\\\csse_covid_19_data\\\\csse_covid_19_daily_reports\\\\10-08-2020.csv',\n",
       " 'C:\\\\Users\\\\PR269KB\\\\Google Drive\\\\Career\\\\06_QuickXpert\\\\QXI_DataScience_Sujeet\\\\Unit_15_Projects_Case_Studies\\\\csse_covid_19_data\\\\csse_covid_19_daily_reports\\\\10-09-2020.csv',\n",
       " 'C:\\\\Users\\\\PR269KB\\\\Google Drive\\\\Career\\\\06_QuickXpert\\\\QXI_DataScience_Sujeet\\\\Unit_15_Projects_Case_Studies\\\\csse_covid_19_data\\\\csse_covid_19_daily_reports\\\\10-10-2020.csv',\n",
       " 'C:\\\\Users\\\\PR269KB\\\\Google Drive\\\\Career\\\\06_QuickXpert\\\\QXI_DataScience_Sujeet\\\\Unit_15_Projects_Case_Studies\\\\csse_covid_19_data\\\\csse_covid_19_daily_reports\\\\10-11-2020.csv',\n",
       " 'C:\\\\Users\\\\PR269KB\\\\Google Drive\\\\Career\\\\06_QuickXpert\\\\QXI_DataScience_Sujeet\\\\Unit_15_Projects_Case_Studies\\\\csse_covid_19_data\\\\csse_covid_19_daily_reports\\\\10-12-2020.csv',\n",
       " 'C:\\\\Users\\\\PR269KB\\\\Google Drive\\\\Career\\\\06_QuickXpert\\\\QXI_DataScience_Sujeet\\\\Unit_15_Projects_Case_Studies\\\\csse_covid_19_data\\\\csse_covid_19_daily_reports\\\\10-13-2020.csv',\n",
       " 'C:\\\\Users\\\\PR269KB\\\\Google Drive\\\\Career\\\\06_QuickXpert\\\\QXI_DataScience_Sujeet\\\\Unit_15_Projects_Case_Studies\\\\csse_covid_19_data\\\\csse_covid_19_daily_reports\\\\10-14-2020.csv',\n",
       " 'C:\\\\Users\\\\PR269KB\\\\Google Drive\\\\Career\\\\06_QuickXpert\\\\QXI_DataScience_Sujeet\\\\Unit_15_Projects_Case_Studies\\\\csse_covid_19_data\\\\csse_covid_19_daily_reports\\\\10-15-2020.csv',\n",
       " 'C:\\\\Users\\\\PR269KB\\\\Google Drive\\\\Career\\\\06_QuickXpert\\\\QXI_DataScience_Sujeet\\\\Unit_15_Projects_Case_Studies\\\\csse_covid_19_data\\\\csse_covid_19_daily_reports\\\\10-16-2020.csv',\n",
       " 'C:\\\\Users\\\\PR269KB\\\\Google Drive\\\\Career\\\\06_QuickXpert\\\\QXI_DataScience_Sujeet\\\\Unit_15_Projects_Case_Studies\\\\csse_covid_19_data\\\\csse_covid_19_daily_reports\\\\10-17-2020.csv',\n",
       " 'C:\\\\Users\\\\PR269KB\\\\Google Drive\\\\Career\\\\06_QuickXpert\\\\QXI_DataScience_Sujeet\\\\Unit_15_Projects_Case_Studies\\\\csse_covid_19_data\\\\csse_covid_19_daily_reports\\\\10-18-2020.csv',\n",
       " 'C:\\\\Users\\\\PR269KB\\\\Google Drive\\\\Career\\\\06_QuickXpert\\\\QXI_DataScience_Sujeet\\\\Unit_15_Projects_Case_Studies\\\\csse_covid_19_data\\\\csse_covid_19_daily_reports\\\\10-19-2020.csv',\n",
       " 'C:\\\\Users\\\\PR269KB\\\\Google Drive\\\\Career\\\\06_QuickXpert\\\\QXI_DataScience_Sujeet\\\\Unit_15_Projects_Case_Studies\\\\csse_covid_19_data\\\\csse_covid_19_daily_reports\\\\10-20-2020.csv',\n",
       " 'C:\\\\Users\\\\PR269KB\\\\Google Drive\\\\Career\\\\06_QuickXpert\\\\QXI_DataScience_Sujeet\\\\Unit_15_Projects_Case_Studies\\\\csse_covid_19_data\\\\csse_covid_19_daily_reports\\\\10-21-2020.csv',\n",
       " 'C:\\\\Users\\\\PR269KB\\\\Google Drive\\\\Career\\\\06_QuickXpert\\\\QXI_DataScience_Sujeet\\\\Unit_15_Projects_Case_Studies\\\\csse_covid_19_data\\\\csse_covid_19_daily_reports\\\\10-22-2020.csv',\n",
       " 'C:\\\\Users\\\\PR269KB\\\\Google Drive\\\\Career\\\\06_QuickXpert\\\\QXI_DataScience_Sujeet\\\\Unit_15_Projects_Case_Studies\\\\csse_covid_19_data\\\\csse_covid_19_daily_reports\\\\10-23-2020.csv']"
      ]
     },
     "execution_count": 3,
     "metadata": {},
     "output_type": "execute_result"
    }
   ],
   "source": [
    "filenames = glob.glob(path + \"/*.csv\")\n",
    "filenames"
   ]
  },
  {
   "cell_type": "code",
   "execution_count": 4,
   "metadata": {
    "scrolled": true
   },
   "outputs": [
    {
     "data": {
      "text/plain": [
       "276"
      ]
     },
     "execution_count": 4,
     "metadata": {},
     "output_type": "execute_result"
    }
   ],
   "source": [
    "len(filenames)"
   ]
  },
  {
   "cell_type": "code",
   "execution_count": 5,
   "metadata": {},
   "outputs": [],
   "source": [
    "pd.DataFrame?"
   ]
  },
  {
   "cell_type": "code",
   "execution_count": 19,
   "metadata": {},
   "outputs": [],
   "source": [
    "from IPython.display import Image, SVG, HTML, display, clear_output"
   ]
  },
  {
   "cell_type": "code",
   "execution_count": 20,
   "metadata": {},
   "outputs": [],
   "source": [
    "clear_output?"
   ]
  },
  {
   "cell_type": "code",
   "execution_count": 21,
   "metadata": {
    "scrolled": true
   },
   "outputs": [],
   "source": [
    "covid = pd.DataFrame()\n",
    "for f in filenames:\n",
    "    df = pd.read_csv(f)\n",
    "    covid = covid.append(df,ignore_index=True,sort=True)\n",
    "    print(filenames.index(f))\n",
    "    clear_output(wait=False)"
   ]
  },
  {
   "cell_type": "code",
   "execution_count": 23,
   "metadata": {},
   "outputs": [
    {
     "data": {
      "text/plain": [
       "(796500, 19)"
      ]
     },
     "execution_count": 23,
     "metadata": {},
     "output_type": "execute_result"
    }
   ],
   "source": [
    "covid.shape"
   ]
  },
  {
   "cell_type": "code",
   "execution_count": 24,
   "metadata": {},
   "outputs": [
    {
     "data": {
      "text/html": [
       "<div>\n",
       "<style scoped>\n",
       "    .dataframe tbody tr th:only-of-type {\n",
       "        vertical-align: middle;\n",
       "    }\n",
       "\n",
       "    .dataframe tbody tr th {\n",
       "        vertical-align: top;\n",
       "    }\n",
       "\n",
       "    .dataframe thead th {\n",
       "        text-align: right;\n",
       "    }\n",
       "</style>\n",
       "<table border=\"1\" class=\"dataframe\">\n",
       "  <thead>\n",
       "    <tr style=\"text-align: right;\">\n",
       "      <th></th>\n",
       "      <th>Confirmed</th>\n",
       "      <th>Country/Region</th>\n",
       "      <th>Deaths</th>\n",
       "      <th>Last Update</th>\n",
       "      <th>Latitude</th>\n",
       "      <th>Longitude</th>\n",
       "      <th>Province/State</th>\n",
       "      <th>Recovered</th>\n",
       "    </tr>\n",
       "  </thead>\n",
       "  <tbody>\n",
       "    <tr>\n",
       "      <th>0</th>\n",
       "      <td>66907.0</td>\n",
       "      <td>Mainland China</td>\n",
       "      <td>2761.0</td>\n",
       "      <td>2020-03-01T10:13:19</td>\n",
       "      <td>30.9756</td>\n",
       "      <td>112.2707</td>\n",
       "      <td>Hubei</td>\n",
       "      <td>31536.0</td>\n",
       "    </tr>\n",
       "    <tr>\n",
       "      <th>1</th>\n",
       "      <td>1349.0</td>\n",
       "      <td>Mainland China</td>\n",
       "      <td>7.0</td>\n",
       "      <td>2020-03-01T14:13:18</td>\n",
       "      <td>23.3417</td>\n",
       "      <td>113.4244</td>\n",
       "      <td>Guangdong</td>\n",
       "      <td>1016.0</td>\n",
       "    </tr>\n",
       "    <tr>\n",
       "      <th>2</th>\n",
       "      <td>1272.0</td>\n",
       "      <td>Mainland China</td>\n",
       "      <td>22.0</td>\n",
       "      <td>2020-03-01T14:13:18</td>\n",
       "      <td>33.8820</td>\n",
       "      <td>113.6140</td>\n",
       "      <td>Henan</td>\n",
       "      <td>1198.0</td>\n",
       "    </tr>\n",
       "    <tr>\n",
       "      <th>3</th>\n",
       "      <td>1205.0</td>\n",
       "      <td>Mainland China</td>\n",
       "      <td>1.0</td>\n",
       "      <td>2020-03-01T10:13:33</td>\n",
       "      <td>29.1832</td>\n",
       "      <td>120.0934</td>\n",
       "      <td>Zhejiang</td>\n",
       "      <td>1046.0</td>\n",
       "    </tr>\n",
       "    <tr>\n",
       "      <th>4</th>\n",
       "      <td>1018.0</td>\n",
       "      <td>Mainland China</td>\n",
       "      <td>4.0</td>\n",
       "      <td>2020-03-01T10:03:03</td>\n",
       "      <td>27.6104</td>\n",
       "      <td>111.7088</td>\n",
       "      <td>Hunan</td>\n",
       "      <td>866.0</td>\n",
       "    </tr>\n",
       "    <tr>\n",
       "      <th>5</th>\n",
       "      <td>990.0</td>\n",
       "      <td>Mainland China</td>\n",
       "      <td>6.0</td>\n",
       "      <td>2020-03-01T10:03:03</td>\n",
       "      <td>31.8257</td>\n",
       "      <td>117.2264</td>\n",
       "      <td>Anhui</td>\n",
       "      <td>873.0</td>\n",
       "    </tr>\n",
       "    <tr>\n",
       "      <th>6</th>\n",
       "      <td>935.0</td>\n",
       "      <td>Mainland China</td>\n",
       "      <td>1.0</td>\n",
       "      <td>2020-03-01T01:13:10</td>\n",
       "      <td>27.6140</td>\n",
       "      <td>115.7221</td>\n",
       "      <td>Jiangxi</td>\n",
       "      <td>831.0</td>\n",
       "    </tr>\n",
       "    <tr>\n",
       "      <th>7</th>\n",
       "      <td>758.0</td>\n",
       "      <td>Mainland China</td>\n",
       "      <td>6.0</td>\n",
       "      <td>2020-03-01T11:33:03</td>\n",
       "      <td>36.3427</td>\n",
       "      <td>118.1498</td>\n",
       "      <td>Shandong</td>\n",
       "      <td>443.0</td>\n",
       "    </tr>\n",
       "    <tr>\n",
       "      <th>8</th>\n",
       "      <td>705.0</td>\n",
       "      <td>Others</td>\n",
       "      <td>6.0</td>\n",
       "      <td>2020-02-29T01:43:02</td>\n",
       "      <td>35.4437</td>\n",
       "      <td>139.6380</td>\n",
       "      <td>Diamond Princess cruise ship</td>\n",
       "      <td>10.0</td>\n",
       "    </tr>\n",
       "    <tr>\n",
       "      <th>9</th>\n",
       "      <td>631.0</td>\n",
       "      <td>Mainland China</td>\n",
       "      <td>0.0</td>\n",
       "      <td>2020-03-01T10:03:03</td>\n",
       "      <td>32.9711</td>\n",
       "      <td>119.4550</td>\n",
       "      <td>Jiangsu</td>\n",
       "      <td>536.0</td>\n",
       "    </tr>\n",
       "  </tbody>\n",
       "</table>\n",
       "</div>"
      ],
      "text/plain": [
       "   Confirmed  Country/Region  Deaths          Last Update  Latitude  \\\n",
       "0    66907.0  Mainland China  2761.0  2020-03-01T10:13:19   30.9756   \n",
       "1     1349.0  Mainland China     7.0  2020-03-01T14:13:18   23.3417   \n",
       "2     1272.0  Mainland China    22.0  2020-03-01T14:13:18   33.8820   \n",
       "3     1205.0  Mainland China     1.0  2020-03-01T10:13:33   29.1832   \n",
       "4     1018.0  Mainland China     4.0  2020-03-01T10:03:03   27.6104   \n",
       "5      990.0  Mainland China     6.0  2020-03-01T10:03:03   31.8257   \n",
       "6      935.0  Mainland China     1.0  2020-03-01T01:13:10   27.6140   \n",
       "7      758.0  Mainland China     6.0  2020-03-01T11:33:03   36.3427   \n",
       "8      705.0          Others     6.0  2020-02-29T01:43:02   35.4437   \n",
       "9      631.0  Mainland China     0.0  2020-03-01T10:03:03   32.9711   \n",
       "\n",
       "   Longitude                Province/State  Recovered  \n",
       "0   112.2707                         Hubei    31536.0  \n",
       "1   113.4244                     Guangdong     1016.0  \n",
       "2   113.6140                         Henan     1198.0  \n",
       "3   120.0934                      Zhejiang     1046.0  \n",
       "4   111.7088                         Hunan      866.0  \n",
       "5   117.2264                         Anhui      873.0  \n",
       "6   115.7221                       Jiangxi      831.0  \n",
       "7   118.1498                      Shandong      443.0  \n",
       "8   139.6380  Diamond Princess cruise ship       10.0  \n",
       "9   119.4550                       Jiangsu      536.0  "
      ]
     },
     "execution_count": 24,
     "metadata": {},
     "output_type": "execute_result"
    }
   ],
   "source": [
    "# Top 10 rows of the Dataframe\n",
    "covid = covid[['Confirmed','Country/Region','Deaths','Last Update','Latitude','Longitude','Province/State','Recovered']].dropna().reset_index(drop=True)\n",
    "covid.head(10)"
   ]
  },
  {
   "cell_type": "code",
   "execution_count": 25,
   "metadata": {},
   "outputs": [
    {
     "data": {
      "text/html": [
       "<div>\n",
       "<style scoped>\n",
       "    .dataframe tbody tr th:only-of-type {\n",
       "        vertical-align: middle;\n",
       "    }\n",
       "\n",
       "    .dataframe tbody tr th {\n",
       "        vertical-align: top;\n",
       "    }\n",
       "\n",
       "    .dataframe thead th {\n",
       "        text-align: right;\n",
       "    }\n",
       "</style>\n",
       "<table border=\"1\" class=\"dataframe\">\n",
       "  <thead>\n",
       "    <tr style=\"text-align: right;\">\n",
       "      <th></th>\n",
       "      <th>Confirmed</th>\n",
       "      <th>Country/Region</th>\n",
       "      <th>Deaths</th>\n",
       "      <th>Last Update</th>\n",
       "      <th>Latitude</th>\n",
       "      <th>Longitude</th>\n",
       "      <th>Province/State</th>\n",
       "      <th>Recovered</th>\n",
       "    </tr>\n",
       "  </thead>\n",
       "  <tbody>\n",
       "    <tr>\n",
       "      <th>2385</th>\n",
       "      <td>1.0</td>\n",
       "      <td>China</td>\n",
       "      <td>0.0</td>\n",
       "      <td>2020-03-11T02:18:14</td>\n",
       "      <td>31.6927</td>\n",
       "      <td>88.0924</td>\n",
       "      <td>Tibet</td>\n",
       "      <td>1.0</td>\n",
       "    </tr>\n",
       "    <tr>\n",
       "      <th>2386</th>\n",
       "      <td>1.0</td>\n",
       "      <td>Netherlands</td>\n",
       "      <td>0.0</td>\n",
       "      <td>2020-03-20T21:13:30</td>\n",
       "      <td>18.0425</td>\n",
       "      <td>-63.0548</td>\n",
       "      <td>Sint Maarten</td>\n",
       "      <td>0.0</td>\n",
       "    </tr>\n",
       "    <tr>\n",
       "      <th>2387</th>\n",
       "      <td>1.0</td>\n",
       "      <td>US</td>\n",
       "      <td>0.0</td>\n",
       "      <td>2020-03-21T19:43:03</td>\n",
       "      <td>37.0902</td>\n",
       "      <td>-95.7129</td>\n",
       "      <td>US</td>\n",
       "      <td>171.0</td>\n",
       "    </tr>\n",
       "    <tr>\n",
       "      <th>2388</th>\n",
       "      <td>1.0</td>\n",
       "      <td>United Kingdom</td>\n",
       "      <td>0.0</td>\n",
       "      <td>2020-03-20T15:13:21</td>\n",
       "      <td>54.2361</td>\n",
       "      <td>-4.5481</td>\n",
       "      <td>Isle of Man</td>\n",
       "      <td>0.0</td>\n",
       "    </tr>\n",
       "    <tr>\n",
       "      <th>2389</th>\n",
       "      <td>1.0</td>\n",
       "      <td>United Kingdom</td>\n",
       "      <td>0.0</td>\n",
       "      <td>2020-03-18T11:53:04</td>\n",
       "      <td>16.7425</td>\n",
       "      <td>-62.1874</td>\n",
       "      <td>Montserrat</td>\n",
       "      <td>0.0</td>\n",
       "    </tr>\n",
       "    <tr>\n",
       "      <th>2390</th>\n",
       "      <td>0.0</td>\n",
       "      <td>Australia</td>\n",
       "      <td>0.0</td>\n",
       "      <td>2020-03-14T02:33:04</td>\n",
       "      <td>35.4437</td>\n",
       "      <td>139.6380</td>\n",
       "      <td>From Diamond Princess</td>\n",
       "      <td>0.0</td>\n",
       "    </tr>\n",
       "    <tr>\n",
       "      <th>2391</th>\n",
       "      <td>0.0</td>\n",
       "      <td>France</td>\n",
       "      <td>0.0</td>\n",
       "      <td>2020-03-18T14:33:15</td>\n",
       "      <td>4.0000</td>\n",
       "      <td>-53.0000</td>\n",
       "      <td>French Guiana</td>\n",
       "      <td>0.0</td>\n",
       "    </tr>\n",
       "    <tr>\n",
       "      <th>2392</th>\n",
       "      <td>0.0</td>\n",
       "      <td>France</td>\n",
       "      <td>0.0</td>\n",
       "      <td>2020-03-18T14:33:15</td>\n",
       "      <td>16.2500</td>\n",
       "      <td>-61.5833</td>\n",
       "      <td>Guadeloupe</td>\n",
       "      <td>0.0</td>\n",
       "    </tr>\n",
       "    <tr>\n",
       "      <th>2393</th>\n",
       "      <td>0.0</td>\n",
       "      <td>France</td>\n",
       "      <td>0.0</td>\n",
       "      <td>2020-03-18T14:33:15</td>\n",
       "      <td>-12.8431</td>\n",
       "      <td>45.1383</td>\n",
       "      <td>Mayotte</td>\n",
       "      <td>0.0</td>\n",
       "    </tr>\n",
       "    <tr>\n",
       "      <th>2394</th>\n",
       "      <td>0.0</td>\n",
       "      <td>France</td>\n",
       "      <td>0.0</td>\n",
       "      <td>2020-03-18T14:33:15</td>\n",
       "      <td>-21.1351</td>\n",
       "      <td>55.2471</td>\n",
       "      <td>Reunion</td>\n",
       "      <td>0.0</td>\n",
       "    </tr>\n",
       "  </tbody>\n",
       "</table>\n",
       "</div>"
      ],
      "text/plain": [
       "      Confirmed  Country/Region  Deaths          Last Update  Latitude  \\\n",
       "2385        1.0           China     0.0  2020-03-11T02:18:14   31.6927   \n",
       "2386        1.0     Netherlands     0.0  2020-03-20T21:13:30   18.0425   \n",
       "2387        1.0              US     0.0  2020-03-21T19:43:03   37.0902   \n",
       "2388        1.0  United Kingdom     0.0  2020-03-20T15:13:21   54.2361   \n",
       "2389        1.0  United Kingdom     0.0  2020-03-18T11:53:04   16.7425   \n",
       "2390        0.0       Australia     0.0  2020-03-14T02:33:04   35.4437   \n",
       "2391        0.0          France     0.0  2020-03-18T14:33:15    4.0000   \n",
       "2392        0.0          France     0.0  2020-03-18T14:33:15   16.2500   \n",
       "2393        0.0          France     0.0  2020-03-18T14:33:15  -12.8431   \n",
       "2394        0.0          France     0.0  2020-03-18T14:33:15  -21.1351   \n",
       "\n",
       "      Longitude         Province/State  Recovered  \n",
       "2385    88.0924                  Tibet        1.0  \n",
       "2386   -63.0548           Sint Maarten        0.0  \n",
       "2387   -95.7129                     US      171.0  \n",
       "2388    -4.5481            Isle of Man        0.0  \n",
       "2389   -62.1874             Montserrat        0.0  \n",
       "2390   139.6380  From Diamond Princess        0.0  \n",
       "2391   -53.0000          French Guiana        0.0  \n",
       "2392   -61.5833             Guadeloupe        0.0  \n",
       "2393    45.1383                Mayotte        0.0  \n",
       "2394    55.2471                Reunion        0.0  "
      ]
     },
     "execution_count": 25,
     "metadata": {},
     "output_type": "execute_result"
    }
   ],
   "source": [
    "# Bottom 10 rows of the Dataframe\n",
    "covid.tail(10)"
   ]
  },
  {
   "cell_type": "code",
   "execution_count": 26,
   "metadata": {},
   "outputs": [
    {
     "data": {
      "text/plain": [
       "array(['Mainland China', 'Others', 'Hong Kong', 'US', 'Taiwan', 'Canada',\n",
       "       'Macau', 'Australia', 'Hong Kong SAR', 'Taipei and environs',\n",
       "       'Macao SAR', 'China', 'France', 'Cruise Ship', 'United Kingdom',\n",
       "       'Denmark', 'Netherlands'], dtype=object)"
      ]
     },
     "execution_count": 26,
     "metadata": {},
     "output_type": "execute_result"
    }
   ],
   "source": [
    "# Unique values in Country column\n",
    "covid['Country/Region'].unique()"
   ]
  },
  {
   "cell_type": "code",
   "execution_count": 27,
   "metadata": {},
   "outputs": [
    {
     "data": {
      "text/plain": [
       "17"
      ]
     },
     "execution_count": 27,
     "metadata": {},
     "output_type": "execute_result"
    }
   ],
   "source": [
    "# Number of Unique values in Country column\n",
    "covid['Country/Region'].nunique()"
   ]
  },
  {
   "cell_type": "code",
   "execution_count": 28,
   "metadata": {},
   "outputs": [
    {
     "name": "stdout",
     "output_type": "stream",
     "text": [
      "<class 'pandas.core.frame.DataFrame'>\n",
      "RangeIndex: 2395 entries, 0 to 2394\n",
      "Data columns (total 8 columns):\n",
      " #   Column          Non-Null Count  Dtype  \n",
      "---  ------          --------------  -----  \n",
      " 0   Confirmed       2395 non-null   float64\n",
      " 1   Country/Region  2395 non-null   object \n",
      " 2   Deaths          2395 non-null   float64\n",
      " 3   Last Update     2395 non-null   object \n",
      " 4   Latitude        2395 non-null   float64\n",
      " 5   Longitude       2395 non-null   float64\n",
      " 6   Province/State  2395 non-null   object \n",
      " 7   Recovered       2395 non-null   float64\n",
      "dtypes: float64(5), object(3)\n",
      "memory usage: 149.8+ KB\n"
     ]
    }
   ],
   "source": [
    "#Dataframe information\n",
    "covid.info()"
   ]
  },
  {
   "cell_type": "code",
   "execution_count": null,
   "metadata": {},
   "outputs": [],
   "source": [
    "covid.to_csv(\"\",index=False)"
   ]
  },
  {
   "cell_type": "code",
   "execution_count": null,
   "metadata": {},
   "outputs": [],
   "source": [
    "# Reading columns\n",
    "covid['Country/Region'].head(10)"
   ]
  },
  {
   "cell_type": "code",
   "execution_count": 30,
   "metadata": {},
   "outputs": [
    {
     "data": {
      "text/html": [
       "<div>\n",
       "<style scoped>\n",
       "    .dataframe tbody tr th:only-of-type {\n",
       "        vertical-align: middle;\n",
       "    }\n",
       "\n",
       "    .dataframe tbody tr th {\n",
       "        vertical-align: top;\n",
       "    }\n",
       "\n",
       "    .dataframe thead th {\n",
       "        text-align: right;\n",
       "    }\n",
       "</style>\n",
       "<table border=\"1\" class=\"dataframe\">\n",
       "  <thead>\n",
       "    <tr style=\"text-align: right;\">\n",
       "      <th></th>\n",
       "      <th>Country/Region</th>\n",
       "      <th>Province/State</th>\n",
       "      <th>Confirmed</th>\n",
       "      <th>Last Update</th>\n",
       "    </tr>\n",
       "  </thead>\n",
       "  <tbody>\n",
       "    <tr>\n",
       "      <th>0</th>\n",
       "      <td>Mainland China</td>\n",
       "      <td>Hubei</td>\n",
       "      <td>66907.0</td>\n",
       "      <td>2020-03-01T10:13:19</td>\n",
       "    </tr>\n",
       "    <tr>\n",
       "      <th>1</th>\n",
       "      <td>Mainland China</td>\n",
       "      <td>Guangdong</td>\n",
       "      <td>1349.0</td>\n",
       "      <td>2020-03-01T14:13:18</td>\n",
       "    </tr>\n",
       "    <tr>\n",
       "      <th>2</th>\n",
       "      <td>Mainland China</td>\n",
       "      <td>Henan</td>\n",
       "      <td>1272.0</td>\n",
       "      <td>2020-03-01T14:13:18</td>\n",
       "    </tr>\n",
       "    <tr>\n",
       "      <th>3</th>\n",
       "      <td>Mainland China</td>\n",
       "      <td>Zhejiang</td>\n",
       "      <td>1205.0</td>\n",
       "      <td>2020-03-01T10:13:33</td>\n",
       "    </tr>\n",
       "    <tr>\n",
       "      <th>4</th>\n",
       "      <td>Mainland China</td>\n",
       "      <td>Hunan</td>\n",
       "      <td>1018.0</td>\n",
       "      <td>2020-03-01T10:03:03</td>\n",
       "    </tr>\n",
       "    <tr>\n",
       "      <th>5</th>\n",
       "      <td>Mainland China</td>\n",
       "      <td>Anhui</td>\n",
       "      <td>990.0</td>\n",
       "      <td>2020-03-01T10:03:03</td>\n",
       "    </tr>\n",
       "    <tr>\n",
       "      <th>6</th>\n",
       "      <td>Mainland China</td>\n",
       "      <td>Jiangxi</td>\n",
       "      <td>935.0</td>\n",
       "      <td>2020-03-01T01:13:10</td>\n",
       "    </tr>\n",
       "    <tr>\n",
       "      <th>7</th>\n",
       "      <td>Mainland China</td>\n",
       "      <td>Shandong</td>\n",
       "      <td>758.0</td>\n",
       "      <td>2020-03-01T11:33:03</td>\n",
       "    </tr>\n",
       "    <tr>\n",
       "      <th>8</th>\n",
       "      <td>Others</td>\n",
       "      <td>Diamond Princess cruise ship</td>\n",
       "      <td>705.0</td>\n",
       "      <td>2020-02-29T01:43:02</td>\n",
       "    </tr>\n",
       "    <tr>\n",
       "      <th>9</th>\n",
       "      <td>Mainland China</td>\n",
       "      <td>Jiangsu</td>\n",
       "      <td>631.0</td>\n",
       "      <td>2020-03-01T10:03:03</td>\n",
       "    </tr>\n",
       "  </tbody>\n",
       "</table>\n",
       "</div>"
      ],
      "text/plain": [
       "   Country/Region                Province/State  Confirmed  \\\n",
       "0  Mainland China                         Hubei    66907.0   \n",
       "1  Mainland China                     Guangdong     1349.0   \n",
       "2  Mainland China                         Henan     1272.0   \n",
       "3  Mainland China                      Zhejiang     1205.0   \n",
       "4  Mainland China                         Hunan     1018.0   \n",
       "5  Mainland China                         Anhui      990.0   \n",
       "6  Mainland China                       Jiangxi      935.0   \n",
       "7  Mainland China                      Shandong      758.0   \n",
       "8          Others  Diamond Princess cruise ship      705.0   \n",
       "9  Mainland China                       Jiangsu      631.0   \n",
       "\n",
       "           Last Update  \n",
       "0  2020-03-01T10:13:19  \n",
       "1  2020-03-01T14:13:18  \n",
       "2  2020-03-01T14:13:18  \n",
       "3  2020-03-01T10:13:33  \n",
       "4  2020-03-01T10:03:03  \n",
       "5  2020-03-01T10:03:03  \n",
       "6  2020-03-01T01:13:10  \n",
       "7  2020-03-01T11:33:03  \n",
       "8  2020-02-29T01:43:02  \n",
       "9  2020-03-01T10:03:03  "
      ]
     },
     "execution_count": 30,
     "metadata": {},
     "output_type": "execute_result"
    }
   ],
   "source": [
    "# Reading columns\n",
    "df1 = covid[['Country/Region' ,'Province/State','Confirmed' , 'Last Update']]\n",
    "df1.head(10)"
   ]
  },
  {
   "cell_type": "code",
   "execution_count": null,
   "metadata": {},
   "outputs": [],
   "source": [
    "#Read specific rows \n",
    "df1.iloc[1:4]"
   ]
  },
  {
   "cell_type": "code",
   "execution_count": 31,
   "metadata": {},
   "outputs": [
    {
     "data": {
      "text/html": [
       "<div>\n",
       "<style scoped>\n",
       "    .dataframe tbody tr th:only-of-type {\n",
       "        vertical-align: middle;\n",
       "    }\n",
       "\n",
       "    .dataframe tbody tr th {\n",
       "        vertical-align: top;\n",
       "    }\n",
       "\n",
       "    .dataframe thead th {\n",
       "        text-align: right;\n",
       "    }\n",
       "</style>\n",
       "<table border=\"1\" class=\"dataframe\">\n",
       "  <thead>\n",
       "    <tr style=\"text-align: right;\">\n",
       "      <th></th>\n",
       "      <th>Country/Region</th>\n",
       "      <th>Province/State</th>\n",
       "      <th>Confirmed</th>\n",
       "      <th>Last Update</th>\n",
       "    </tr>\n",
       "  </thead>\n",
       "  <tbody>\n",
       "    <tr>\n",
       "      <th>1048</th>\n",
       "      <td>China</td>\n",
       "      <td>Hubei</td>\n",
       "      <td>67773.0</td>\n",
       "      <td>2020-03-11T10:53:02</td>\n",
       "    </tr>\n",
       "    <tr>\n",
       "      <th>1050</th>\n",
       "      <td>China</td>\n",
       "      <td>Guangdong</td>\n",
       "      <td>1356.0</td>\n",
       "      <td>2020-03-11T10:13:06</td>\n",
       "    </tr>\n",
       "    <tr>\n",
       "      <th>1051</th>\n",
       "      <td>China</td>\n",
       "      <td>Henan</td>\n",
       "      <td>1273.0</td>\n",
       "      <td>2020-03-11T08:13:09</td>\n",
       "    </tr>\n",
       "    <tr>\n",
       "      <th>1052</th>\n",
       "      <td>China</td>\n",
       "      <td>Zhejiang</td>\n",
       "      <td>1215.0</td>\n",
       "      <td>2020-03-11T09:33:12</td>\n",
       "    </tr>\n",
       "    <tr>\n",
       "      <th>1053</th>\n",
       "      <td>China</td>\n",
       "      <td>Hunan</td>\n",
       "      <td>1018.0</td>\n",
       "      <td>2020-03-11T02:18:14</td>\n",
       "    </tr>\n",
       "    <tr>\n",
       "      <th>...</th>\n",
       "      <td>...</td>\n",
       "      <td>...</td>\n",
       "      <td>...</td>\n",
       "      <td>...</td>\n",
       "    </tr>\n",
       "    <tr>\n",
       "      <th>2334</th>\n",
       "      <td>China</td>\n",
       "      <td>Inner Mongolia</td>\n",
       "      <td>75.0</td>\n",
       "      <td>2020-03-19T01:03:02</td>\n",
       "    </tr>\n",
       "    <tr>\n",
       "      <th>2335</th>\n",
       "      <td>China</td>\n",
       "      <td>Ningxia</td>\n",
       "      <td>75.0</td>\n",
       "      <td>2020-03-16T14:38:45</td>\n",
       "    </tr>\n",
       "    <tr>\n",
       "      <th>2360</th>\n",
       "      <td>China</td>\n",
       "      <td>Macau</td>\n",
       "      <td>18.0</td>\n",
       "      <td>2020-03-21T22:13:24</td>\n",
       "    </tr>\n",
       "    <tr>\n",
       "      <th>2361</th>\n",
       "      <td>China</td>\n",
       "      <td>Qinghai</td>\n",
       "      <td>18.0</td>\n",
       "      <td>2020-03-11T02:18:14</td>\n",
       "    </tr>\n",
       "    <tr>\n",
       "      <th>2385</th>\n",
       "      <td>China</td>\n",
       "      <td>Tibet</td>\n",
       "      <td>1.0</td>\n",
       "      <td>2020-03-11T02:18:14</td>\n",
       "    </tr>\n",
       "  </tbody>\n",
       "</table>\n",
       "<p>363 rows × 4 columns</p>\n",
       "</div>"
      ],
      "text/plain": [
       "     Country/Region  Province/State  Confirmed          Last Update\n",
       "1048          China           Hubei    67773.0  2020-03-11T10:53:02\n",
       "1050          China       Guangdong     1356.0  2020-03-11T10:13:06\n",
       "1051          China           Henan     1273.0  2020-03-11T08:13:09\n",
       "1052          China        Zhejiang     1215.0  2020-03-11T09:33:12\n",
       "1053          China           Hunan     1018.0  2020-03-11T02:18:14\n",
       "...             ...             ...        ...                  ...\n",
       "2334          China  Inner Mongolia       75.0  2020-03-19T01:03:02\n",
       "2335          China         Ningxia       75.0  2020-03-16T14:38:45\n",
       "2360          China           Macau       18.0  2020-03-21T22:13:24\n",
       "2361          China         Qinghai       18.0  2020-03-11T02:18:14\n",
       "2385          China           Tibet        1.0  2020-03-11T02:18:14\n",
       "\n",
       "[363 rows x 4 columns]"
      ]
     },
     "execution_count": 31,
     "metadata": {},
     "output_type": "execute_result"
    }
   ],
   "source": [
    "#Filter data \n",
    "df1.loc[df1['Country/Region']== 'China']"
   ]
  },
  {
   "cell_type": "code",
   "execution_count": 32,
   "metadata": {},
   "outputs": [
    {
     "data": {
      "text/plain": [
       "891682.0"
      ]
     },
     "execution_count": 32,
     "metadata": {},
     "output_type": "execute_result"
    }
   ],
   "source": [
    "df1.loc[df1['Country/Region']== 'China']['Confirmed'].sum()"
   ]
  },
  {
   "cell_type": "code",
   "execution_count": 35,
   "metadata": {},
   "outputs": [
    {
     "data": {
      "text/plain": [
       "'Sorted Data Frame'"
      ]
     },
     "metadata": {},
     "output_type": "display_data"
    },
    {
     "data": {
      "text/html": [
       "<div>\n",
       "<style scoped>\n",
       "    .dataframe tbody tr th:only-of-type {\n",
       "        vertical-align: middle;\n",
       "    }\n",
       "\n",
       "    .dataframe tbody tr th {\n",
       "        vertical-align: top;\n",
       "    }\n",
       "\n",
       "    .dataframe thead th {\n",
       "        text-align: right;\n",
       "    }\n",
       "</style>\n",
       "<table border=\"1\" class=\"dataframe\">\n",
       "  <thead>\n",
       "    <tr style=\"text-align: right;\">\n",
       "      <th></th>\n",
       "      <th>Country/Region</th>\n",
       "      <th>Province/State</th>\n",
       "      <th>Confirmed</th>\n",
       "      <th>Last Update</th>\n",
       "    </tr>\n",
       "  </thead>\n",
       "  <tbody>\n",
       "    <tr>\n",
       "      <th>1863</th>\n",
       "      <td>China</td>\n",
       "      <td>Hubei</td>\n",
       "      <td>67800.0</td>\n",
       "      <td>2020-03-18T12:13:09</td>\n",
       "    </tr>\n",
       "    <tr>\n",
       "      <th>2126</th>\n",
       "      <td>China</td>\n",
       "      <td>Hubei</td>\n",
       "      <td>67800.0</td>\n",
       "      <td>2020-03-20T07:43:02</td>\n",
       "    </tr>\n",
       "    <tr>\n",
       "      <th>1993</th>\n",
       "      <td>China</td>\n",
       "      <td>Hubei</td>\n",
       "      <td>67800.0</td>\n",
       "      <td>2020-03-19T10:13:14</td>\n",
       "    </tr>\n",
       "    <tr>\n",
       "      <th>2260</th>\n",
       "      <td>China</td>\n",
       "      <td>Hubei</td>\n",
       "      <td>67800.0</td>\n",
       "      <td>2020-03-21T10:13:08</td>\n",
       "    </tr>\n",
       "    <tr>\n",
       "      <th>1737</th>\n",
       "      <td>China</td>\n",
       "      <td>Hubei</td>\n",
       "      <td>67799.0</td>\n",
       "      <td>2020-03-17T11:53:10</td>\n",
       "    </tr>\n",
       "  </tbody>\n",
       "</table>\n",
       "</div>"
      ],
      "text/plain": [
       "     Country/Region Province/State  Confirmed          Last Update\n",
       "1863          China          Hubei    67800.0  2020-03-18T12:13:09\n",
       "2126          China          Hubei    67800.0  2020-03-20T07:43:02\n",
       "1993          China          Hubei    67800.0  2020-03-19T10:13:14\n",
       "2260          China          Hubei    67800.0  2020-03-21T10:13:08\n",
       "1737          China          Hubei    67799.0  2020-03-17T11:53:10"
      ]
     },
     "metadata": {},
     "output_type": "display_data"
    }
   ],
   "source": [
    "#Sort Data Frame\n",
    "display('Sorted Data Frame', df1.sort_values(['Confirmed'], ascending=False).head(5))"
   ]
  },
  {
   "cell_type": "code",
   "execution_count": null,
   "metadata": {},
   "outputs": [],
   "source": [
    "#Sort Data Frame\n",
    "display('Sorted Data Frame', df1.sort_values(['Country/Region'], ascending=False).head(5))"
   ]
  },
  {
   "cell_type": "code",
   "execution_count": 36,
   "metadata": {},
   "outputs": [
    {
     "data": {
      "text/plain": [
       "'Sorted Data Frame'"
      ]
     },
     "metadata": {},
     "output_type": "display_data"
    },
    {
     "data": {
      "text/html": [
       "<div>\n",
       "<style scoped>\n",
       "    .dataframe tbody tr th:only-of-type {\n",
       "        vertical-align: middle;\n",
       "    }\n",
       "\n",
       "    .dataframe tbody tr th {\n",
       "        vertical-align: top;\n",
       "    }\n",
       "\n",
       "    .dataframe thead th {\n",
       "        text-align: right;\n",
       "    }\n",
       "</style>\n",
       "<table border=\"1\" class=\"dataframe\">\n",
       "  <thead>\n",
       "    <tr style=\"text-align: right;\">\n",
       "      <th></th>\n",
       "      <th>Country/Region</th>\n",
       "      <th>Province/State</th>\n",
       "      <th>Confirmed</th>\n",
       "      <th>Last Update</th>\n",
       "    </tr>\n",
       "  </thead>\n",
       "  <tbody>\n",
       "    <tr>\n",
       "      <th>2289</th>\n",
       "      <td>Australia</td>\n",
       "      <td>New South Wales</td>\n",
       "      <td>436.0</td>\n",
       "      <td>2020-03-21T13:13:35</td>\n",
       "    </tr>\n",
       "    <tr>\n",
       "      <th>2304</th>\n",
       "      <td>Australia</td>\n",
       "      <td>Victoria</td>\n",
       "      <td>229.0</td>\n",
       "      <td>2020-03-21T13:13:35</td>\n",
       "    </tr>\n",
       "    <tr>\n",
       "      <th>2305</th>\n",
       "      <td>Australia</td>\n",
       "      <td>Queensland</td>\n",
       "      <td>221.0</td>\n",
       "      <td>2020-03-21T13:13:35</td>\n",
       "    </tr>\n",
       "    <tr>\n",
       "      <th>2330</th>\n",
       "      <td>Australia</td>\n",
       "      <td>Western Australia</td>\n",
       "      <td>90.0</td>\n",
       "      <td>2020-03-21T13:13:35</td>\n",
       "    </tr>\n",
       "    <tr>\n",
       "      <th>2339</th>\n",
       "      <td>Australia</td>\n",
       "      <td>South Australia</td>\n",
       "      <td>67.0</td>\n",
       "      <td>2020-03-21T13:13:35</td>\n",
       "    </tr>\n",
       "  </tbody>\n",
       "</table>\n",
       "</div>"
      ],
      "text/plain": [
       "     Country/Region     Province/State  Confirmed          Last Update\n",
       "2289      Australia    New South Wales      436.0  2020-03-21T13:13:35\n",
       "2304      Australia           Victoria      229.0  2020-03-21T13:13:35\n",
       "2305      Australia         Queensland      221.0  2020-03-21T13:13:35\n",
       "2330      Australia  Western Australia       90.0  2020-03-21T13:13:35\n",
       "2339      Australia    South Australia       67.0  2020-03-21T13:13:35"
      ]
     },
     "metadata": {},
     "output_type": "display_data"
    }
   ],
   "source": [
    "#Sort Data Frame - Ascending on \"Country\" & descending on \"Last update\"\n",
    "display('Sorted Data Frame', df1.sort_values(['Country/Region', 'Last Update'], ascending=[1,0]).head(5))"
   ]
  },
  {
   "cell_type": "code",
   "execution_count": 38,
   "metadata": {},
   "outputs": [
    {
     "data": {
      "text/plain": [
       "Country/Region    China\n",
       "Confirmed         67773\n",
       "Name: 1048, dtype: object"
      ]
     },
     "metadata": {},
     "output_type": "display_data"
    },
    {
     "data": {
      "text/plain": [
       "Country/Region    China\n",
       "Confirmed          1356\n",
       "Name: 1050, dtype: object"
      ]
     },
     "metadata": {},
     "output_type": "display_data"
    },
    {
     "data": {
      "text/plain": [
       "Country/Region    China\n",
       "Confirmed          1273\n",
       "Name: 1051, dtype: object"
      ]
     },
     "metadata": {},
     "output_type": "display_data"
    },
    {
     "data": {
      "text/plain": [
       "Country/Region    China\n",
       "Confirmed          1215\n",
       "Name: 1052, dtype: object"
      ]
     },
     "metadata": {},
     "output_type": "display_data"
    },
    {
     "data": {
      "text/plain": [
       "Country/Region    China\n",
       "Confirmed          1018\n",
       "Name: 1053, dtype: object"
      ]
     },
     "metadata": {},
     "output_type": "display_data"
    },
    {
     "data": {
      "text/plain": [
       "Country/Region    China\n",
       "Confirmed           990\n",
       "Name: 1054, dtype: object"
      ]
     },
     "metadata": {},
     "output_type": "display_data"
    },
    {
     "data": {
      "text/plain": [
       "Country/Region    China\n",
       "Confirmed           935\n",
       "Name: 1055, dtype: object"
      ]
     },
     "metadata": {},
     "output_type": "display_data"
    },
    {
     "data": {
      "text/plain": [
       "Country/Region    China\n",
       "Confirmed           760\n",
       "Name: 1056, dtype: object"
      ]
     },
     "metadata": {},
     "output_type": "display_data"
    },
    {
     "data": {
      "text/plain": [
       "Country/Region    China\n",
       "Confirmed           631\n",
       "Name: 1058, dtype: object"
      ]
     },
     "metadata": {},
     "output_type": "display_data"
    },
    {
     "data": {
      "text/plain": [
       "Country/Region    China\n",
       "Confirmed           576\n",
       "Name: 1059, dtype: object"
      ]
     },
     "metadata": {},
     "output_type": "display_data"
    },
    {
     "data": {
      "text/plain": [
       "Country/Region    China\n",
       "Confirmed           539\n",
       "Name: 1060, dtype: object"
      ]
     },
     "metadata": {},
     "output_type": "display_data"
    },
    {
     "data": {
      "text/plain": [
       "Country/Region    China\n",
       "Confirmed           482\n",
       "Name: 1061, dtype: object"
      ]
     },
     "metadata": {},
     "output_type": "display_data"
    },
    {
     "data": {
      "text/plain": [
       "Country/Region    China\n",
       "Confirmed           435\n",
       "Name: 1064, dtype: object"
      ]
     },
     "metadata": {},
     "output_type": "display_data"
    },
    {
     "data": {
      "text/plain": [
       "Country/Region    China\n",
       "Confirmed           344\n",
       "Name: 1066, dtype: object"
      ]
     },
     "metadata": {},
     "output_type": "display_data"
    },
    {
     "data": {
      "text/plain": [
       "Country/Region    China\n",
       "Confirmed           318\n",
       "Name: 1067, dtype: object"
      ]
     },
     "metadata": {},
     "output_type": "display_data"
    },
    {
     "data": {
      "text/plain": [
       "Country/Region    China\n",
       "Confirmed           296\n",
       "Name: 1068, dtype: object"
      ]
     },
     "metadata": {},
     "output_type": "display_data"
    },
    {
     "data": {
      "text/plain": [
       "Country/Region    China\n",
       "Confirmed           252\n",
       "Name: 1069, dtype: object"
      ]
     },
     "metadata": {},
     "output_type": "display_data"
    },
    {
     "data": {
      "text/plain": [
       "Country/Region    China\n",
       "Confirmed           245\n",
       "Name: 1070, dtype: object"
      ]
     },
     "metadata": {},
     "output_type": "display_data"
    },
    {
     "data": {
      "text/plain": [
       "Country/Region    China\n",
       "Confirmed           174\n",
       "Name: 1073, dtype: object"
      ]
     },
     "metadata": {},
     "output_type": "display_data"
    },
    {
     "data": {
      "text/plain": [
       "Country/Region    China\n",
       "Confirmed           168\n",
       "Name: 1074, dtype: object"
      ]
     },
     "metadata": {},
     "output_type": "display_data"
    },
    {
     "data": {
      "text/plain": [
       "Country/Region    China\n",
       "Confirmed           146\n",
       "Name: 1075, dtype: object"
      ]
     },
     "metadata": {},
     "output_type": "display_data"
    },
    {
     "data": {
      "text/plain": [
       "Country/Region    China\n",
       "Confirmed           136\n",
       "Name: 1076, dtype: object"
      ]
     },
     "metadata": {},
     "output_type": "display_data"
    },
    {
     "data": {
      "text/plain": [
       "Country/Region    China\n",
       "Confirmed           133\n",
       "Name: 1077, dtype: object"
      ]
     },
     "metadata": {},
     "output_type": "display_data"
    },
    {
     "data": {
      "text/plain": [
       "Country/Region    China\n",
       "Confirmed           127\n",
       "Name: 1078, dtype: object"
      ]
     },
     "metadata": {},
     "output_type": "display_data"
    },
    {
     "data": {
      "text/plain": [
       "Country/Region    China\n",
       "Confirmed           126\n",
       "Name: 1079, dtype: object"
      ]
     },
     "metadata": {},
     "output_type": "display_data"
    },
    {
     "data": {
      "text/plain": [
       "Country/Region    China\n",
       "Confirmed           125\n",
       "Name: 1080, dtype: object"
      ]
     },
     "metadata": {},
     "output_type": "display_data"
    },
    {
     "data": {
      "text/plain": [
       "Country/Region    China\n",
       "Confirmed            93\n",
       "Name: 1082, dtype: object"
      ]
     },
     "metadata": {},
     "output_type": "display_data"
    },
    {
     "data": {
      "text/plain": [
       "Country/Region    China\n",
       "Confirmed            76\n",
       "Name: 1083, dtype: object"
      ]
     },
     "metadata": {},
     "output_type": "display_data"
    },
    {
     "data": {
      "text/plain": [
       "Country/Region    China\n",
       "Confirmed            75\n",
       "Name: 1084, dtype: object"
      ]
     },
     "metadata": {},
     "output_type": "display_data"
    },
    {
     "data": {
      "text/plain": [
       "Country/Region    China\n",
       "Confirmed            75\n",
       "Name: 1085, dtype: object"
      ]
     },
     "metadata": {},
     "output_type": "display_data"
    },
    {
     "data": {
      "text/plain": [
       "Country/Region    China\n",
       "Confirmed            18\n",
       "Name: 1101, dtype: object"
      ]
     },
     "metadata": {},
     "output_type": "display_data"
    },
    {
     "data": {
      "text/plain": [
       "Country/Region    China\n",
       "Confirmed            10\n",
       "Name: 1105, dtype: object"
      ]
     },
     "metadata": {},
     "output_type": "display_data"
    },
    {
     "data": {
      "text/plain": [
       "Country/Region    China\n",
       "Confirmed             1\n",
       "Name: 1138, dtype: object"
      ]
     },
     "metadata": {},
     "output_type": "display_data"
    },
    {
     "data": {
      "text/plain": [
       "Country/Region    China\n",
       "Confirmed         67781\n",
       "Name: 1157, dtype: object"
      ]
     },
     "metadata": {},
     "output_type": "display_data"
    },
    {
     "data": {
      "text/plain": [
       "Country/Region    China\n",
       "Confirmed          1356\n",
       "Name: 1159, dtype: object"
      ]
     },
     "metadata": {},
     "output_type": "display_data"
    },
    {
     "data": {
      "text/plain": [
       "Country/Region    China\n",
       "Confirmed          1273\n",
       "Name: 1160, dtype: object"
      ]
     },
     "metadata": {},
     "output_type": "display_data"
    },
    {
     "data": {
      "text/plain": [
       "Country/Region    China\n",
       "Confirmed          1215\n",
       "Name: 1161, dtype: object"
      ]
     },
     "metadata": {},
     "output_type": "display_data"
    },
    {
     "data": {
      "text/plain": [
       "Country/Region    China\n",
       "Confirmed          1018\n",
       "Name: 1162, dtype: object"
      ]
     },
     "metadata": {},
     "output_type": "display_data"
    },
    {
     "data": {
      "text/plain": [
       "Country/Region    China\n",
       "Confirmed           990\n",
       "Name: 1163, dtype: object"
      ]
     },
     "metadata": {},
     "output_type": "display_data"
    },
    {
     "data": {
      "text/plain": [
       "Country/Region    China\n",
       "Confirmed           935\n",
       "Name: 1164, dtype: object"
      ]
     },
     "metadata": {},
     "output_type": "display_data"
    },
    {
     "data": {
      "text/plain": [
       "Country/Region    China\n",
       "Confirmed           760\n",
       "Name: 1165, dtype: object"
      ]
     },
     "metadata": {},
     "output_type": "display_data"
    },
    {
     "data": {
      "text/plain": [
       "Country/Region    China\n",
       "Confirmed           631\n",
       "Name: 1167, dtype: object"
      ]
     },
     "metadata": {},
     "output_type": "display_data"
    },
    {
     "data": {
      "text/plain": [
       "Country/Region    China\n",
       "Confirmed           576\n",
       "Name: 1169, dtype: object"
      ]
     },
     "metadata": {},
     "output_type": "display_data"
    },
    {
     "data": {
      "text/plain": [
       "Country/Region    China\n",
       "Confirmed           539\n",
       "Name: 1170, dtype: object"
      ]
     },
     "metadata": {},
     "output_type": "display_data"
    },
    {
     "data": {
      "text/plain": [
       "Country/Region    China\n",
       "Confirmed           482\n",
       "Name: 1171, dtype: object"
      ]
     },
     "metadata": {},
     "output_type": "display_data"
    },
    {
     "data": {
      "text/plain": [
       "Country/Region    China\n",
       "Confirmed           435\n",
       "Name: 1174, dtype: object"
      ]
     },
     "metadata": {},
     "output_type": "display_data"
    },
    {
     "data": {
      "text/plain": [
       "Country/Region    China\n",
       "Confirmed           344\n",
       "Name: 1175, dtype: object"
      ]
     },
     "metadata": {},
     "output_type": "display_data"
    },
    {
     "data": {
      "text/plain": [
       "Country/Region    China\n",
       "Confirmed           318\n",
       "Name: 1177, dtype: object"
      ]
     },
     "metadata": {},
     "output_type": "display_data"
    },
    {
     "data": {
      "text/plain": [
       "Country/Region    China\n",
       "Confirmed           296\n",
       "Name: 1178, dtype: object"
      ]
     },
     "metadata": {},
     "output_type": "display_data"
    },
    {
     "data": {
      "text/plain": [
       "Country/Region    China\n",
       "Confirmed           252\n",
       "Name: 1179, dtype: object"
      ]
     },
     "metadata": {},
     "output_type": "display_data"
    },
    {
     "data": {
      "text/plain": [
       "Country/Region    China\n",
       "Confirmed           245\n",
       "Name: 1180, dtype: object"
      ]
     },
     "metadata": {},
     "output_type": "display_data"
    },
    {
     "data": {
      "text/plain": [
       "Country/Region    China\n",
       "Confirmed           174\n",
       "Name: 1182, dtype: object"
      ]
     },
     "metadata": {},
     "output_type": "display_data"
    },
    {
     "data": {
      "text/plain": [
       "Country/Region    China\n",
       "Confirmed           168\n",
       "Name: 1183, dtype: object"
      ]
     },
     "metadata": {},
     "output_type": "display_data"
    },
    {
     "data": {
      "text/plain": [
       "Country/Region    China\n",
       "Confirmed           146\n",
       "Name: 1184, dtype: object"
      ]
     },
     "metadata": {},
     "output_type": "display_data"
    },
    {
     "data": {
      "text/plain": [
       "Country/Region    China\n",
       "Confirmed           136\n",
       "Name: 1185, dtype: object"
      ]
     },
     "metadata": {},
     "output_type": "display_data"
    },
    {
     "data": {
      "text/plain": [
       "Country/Region    China\n",
       "Confirmed           133\n",
       "Name: 1186, dtype: object"
      ]
     },
     "metadata": {},
     "output_type": "display_data"
    },
    {
     "data": {
      "text/plain": [
       "Country/Region    China\n",
       "Confirmed           129\n",
       "Name: 1187, dtype: object"
      ]
     },
     "metadata": {},
     "output_type": "display_data"
    },
    {
     "data": {
      "text/plain": [
       "Country/Region    China\n",
       "Confirmed           127\n",
       "Name: 1188, dtype: object"
      ]
     },
     "metadata": {},
     "output_type": "display_data"
    },
    {
     "data": {
      "text/plain": [
       "Country/Region    China\n",
       "Confirmed           125\n",
       "Name: 1189, dtype: object"
      ]
     },
     "metadata": {},
     "output_type": "display_data"
    },
    {
     "data": {
      "text/plain": [
       "Country/Region    China\n",
       "Confirmed            93\n",
       "Name: 1191, dtype: object"
      ]
     },
     "metadata": {},
     "output_type": "display_data"
    },
    {
     "data": {
      "text/plain": [
       "Country/Region    China\n",
       "Confirmed            76\n",
       "Name: 1192, dtype: object"
      ]
     },
     "metadata": {},
     "output_type": "display_data"
    },
    {
     "data": {
      "text/plain": [
       "Country/Region    China\n",
       "Confirmed            75\n",
       "Name: 1193, dtype: object"
      ]
     },
     "metadata": {},
     "output_type": "display_data"
    },
    {
     "data": {
      "text/plain": [
       "Country/Region    China\n",
       "Confirmed            75\n",
       "Name: 1194, dtype: object"
      ]
     },
     "metadata": {},
     "output_type": "display_data"
    },
    {
     "data": {
      "text/plain": [
       "Country/Region    China\n",
       "Confirmed            18\n",
       "Name: 1212, dtype: object"
      ]
     },
     "metadata": {},
     "output_type": "display_data"
    },
    {
     "data": {
      "text/plain": [
       "Country/Region    China\n",
       "Confirmed            10\n",
       "Name: 1221, dtype: object"
      ]
     },
     "metadata": {},
     "output_type": "display_data"
    },
    {
     "data": {
      "text/plain": [
       "Country/Region    China\n",
       "Confirmed             1\n",
       "Name: 1249, dtype: object"
      ]
     },
     "metadata": {},
     "output_type": "display_data"
    },
    {
     "data": {
      "text/plain": [
       "Country/Region    China\n",
       "Confirmed         67786\n",
       "Name: 1266, dtype: object"
      ]
     },
     "metadata": {},
     "output_type": "display_data"
    },
    {
     "data": {
      "text/plain": [
       "Country/Region    China\n",
       "Confirmed          1356\n",
       "Name: 1267, dtype: object"
      ]
     },
     "metadata": {},
     "output_type": "display_data"
    },
    {
     "data": {
      "text/plain": [
       "Country/Region    China\n",
       "Confirmed          1273\n",
       "Name: 1268, dtype: object"
      ]
     },
     "metadata": {},
     "output_type": "display_data"
    },
    {
     "data": {
      "text/plain": [
       "Country/Region    China\n",
       "Confirmed          1215\n",
       "Name: 1269, dtype: object"
      ]
     },
     "metadata": {},
     "output_type": "display_data"
    },
    {
     "data": {
      "text/plain": [
       "Country/Region    China\n",
       "Confirmed          1018\n",
       "Name: 1270, dtype: object"
      ]
     },
     "metadata": {},
     "output_type": "display_data"
    },
    {
     "data": {
      "text/plain": [
       "Country/Region    China\n",
       "Confirmed           990\n",
       "Name: 1271, dtype: object"
      ]
     },
     "metadata": {},
     "output_type": "display_data"
    },
    {
     "data": {
      "text/plain": [
       "Country/Region    China\n",
       "Confirmed           935\n",
       "Name: 1272, dtype: object"
      ]
     },
     "metadata": {},
     "output_type": "display_data"
    },
    {
     "data": {
      "text/plain": [
       "Country/Region    China\n",
       "Confirmed           760\n",
       "Name: 1273, dtype: object"
      ]
     },
     "metadata": {},
     "output_type": "display_data"
    },
    {
     "data": {
      "text/plain": [
       "Country/Region    China\n",
       "Confirmed           631\n",
       "Name: 1274, dtype: object"
      ]
     },
     "metadata": {},
     "output_type": "display_data"
    },
    {
     "data": {
      "text/plain": [
       "Country/Region    China\n",
       "Confirmed           576\n",
       "Name: 1275, dtype: object"
      ]
     },
     "metadata": {},
     "output_type": "display_data"
    },
    {
     "data": {
      "text/plain": [
       "Country/Region    China\n",
       "Confirmed           539\n",
       "Name: 1276, dtype: object"
      ]
     },
     "metadata": {},
     "output_type": "display_data"
    },
    {
     "data": {
      "text/plain": [
       "Country/Region    China\n",
       "Confirmed           482\n",
       "Name: 1277, dtype: object"
      ]
     },
     "metadata": {},
     "output_type": "display_data"
    },
    {
     "data": {
      "text/plain": [
       "Country/Region    China\n",
       "Confirmed           436\n",
       "Name: 1278, dtype: object"
      ]
     },
     "metadata": {},
     "output_type": "display_data"
    },
    {
     "data": {
      "text/plain": [
       "Country/Region    China\n",
       "Confirmed           346\n",
       "Name: 1279, dtype: object"
      ]
     },
     "metadata": {},
     "output_type": "display_data"
    },
    {
     "data": {
      "text/plain": [
       "Country/Region    China\n",
       "Confirmed           318\n",
       "Name: 1280, dtype: object"
      ]
     },
     "metadata": {},
     "output_type": "display_data"
    },
    {
     "data": {
      "text/plain": [
       "Country/Region    China\n",
       "Confirmed           296\n",
       "Name: 1281, dtype: object"
      ]
     },
     "metadata": {},
     "output_type": "display_data"
    },
    {
     "data": {
      "text/plain": [
       "Country/Region    China\n",
       "Confirmed           252\n",
       "Name: 1282, dtype: object"
      ]
     },
     "metadata": {},
     "output_type": "display_data"
    },
    {
     "data": {
      "text/plain": [
       "Country/Region    China\n",
       "Confirmed           245\n",
       "Name: 1283, dtype: object"
      ]
     },
     "metadata": {},
     "output_type": "display_data"
    },
    {
     "data": {
      "text/plain": [
       "Country/Region    China\n",
       "Confirmed           174\n",
       "Name: 1284, dtype: object"
      ]
     },
     "metadata": {},
     "output_type": "display_data"
    },
    {
     "data": {
      "text/plain": [
       "Country/Region    China\n",
       "Confirmed           168\n",
       "Name: 1285, dtype: object"
      ]
     },
     "metadata": {},
     "output_type": "display_data"
    },
    {
     "data": {
      "text/plain": [
       "Country/Region    China\n",
       "Confirmed           146\n",
       "Name: 1286, dtype: object"
      ]
     },
     "metadata": {},
     "output_type": "display_data"
    },
    {
     "data": {
      "text/plain": [
       "Country/Region    China\n",
       "Confirmed           136\n",
       "Name: 1287, dtype: object"
      ]
     },
     "metadata": {},
     "output_type": "display_data"
    },
    {
     "data": {
      "text/plain": [
       "Country/Region    China\n",
       "Confirmed           134\n",
       "Name: 1288, dtype: object"
      ]
     },
     "metadata": {},
     "output_type": "display_data"
    },
    {
     "data": {
      "text/plain": [
       "Country/Region    China\n",
       "Confirmed           133\n",
       "Name: 1289, dtype: object"
      ]
     },
     "metadata": {},
     "output_type": "display_data"
    },
    {
     "data": {
      "text/plain": [
       "Country/Region    China\n",
       "Confirmed           127\n",
       "Name: 1290, dtype: object"
      ]
     },
     "metadata": {},
     "output_type": "display_data"
    },
    {
     "data": {
      "text/plain": [
       "Country/Region    China\n",
       "Confirmed           125\n",
       "Name: 1291, dtype: object"
      ]
     },
     "metadata": {},
     "output_type": "display_data"
    },
    {
     "data": {
      "text/plain": [
       "Country/Region    China\n",
       "Confirmed            76\n",
       "Name: 1292, dtype: object"
      ]
     },
     "metadata": {},
     "output_type": "display_data"
    },
    {
     "data": {
      "text/plain": [
       "Country/Region    China\n",
       "Confirmed            75\n",
       "Name: 1293, dtype: object"
      ]
     },
     "metadata": {},
     "output_type": "display_data"
    },
    {
     "data": {
      "text/plain": [
       "Country/Region    China\n",
       "Confirmed            75\n",
       "Name: 1294, dtype: object"
      ]
     },
     "metadata": {},
     "output_type": "display_data"
    },
    {
     "data": {
      "text/plain": [
       "Country/Region    China\n",
       "Confirmed            93\n",
       "Name: 1295, dtype: object"
      ]
     },
     "metadata": {},
     "output_type": "display_data"
    },
    {
     "data": {
      "text/plain": [
       "Country/Region    China\n",
       "Confirmed            18\n",
       "Name: 1296, dtype: object"
      ]
     },
     "metadata": {},
     "output_type": "display_data"
    },
    {
     "data": {
      "text/plain": [
       "Country/Region    China\n",
       "Confirmed            10\n",
       "Name: 1297, dtype: object"
      ]
     },
     "metadata": {},
     "output_type": "display_data"
    },
    {
     "data": {
      "text/plain": [
       "Country/Region    China\n",
       "Confirmed             1\n",
       "Name: 1298, dtype: object"
      ]
     },
     "metadata": {},
     "output_type": "display_data"
    },
    {
     "data": {
      "text/plain": [
       "Country/Region    China\n",
       "Confirmed         67790\n",
       "Name: 1379, dtype: object"
      ]
     },
     "metadata": {},
     "output_type": "display_data"
    },
    {
     "data": {
      "text/plain": [
       "Country/Region    China\n",
       "Confirmed          1356\n",
       "Name: 1381, dtype: object"
      ]
     },
     "metadata": {},
     "output_type": "display_data"
    },
    {
     "data": {
      "text/plain": [
       "Country/Region    China\n",
       "Confirmed          1273\n",
       "Name: 1382, dtype: object"
      ]
     },
     "metadata": {},
     "output_type": "display_data"
    },
    {
     "data": {
      "text/plain": [
       "Country/Region    China\n",
       "Confirmed          1227\n",
       "Name: 1383, dtype: object"
      ]
     },
     "metadata": {},
     "output_type": "display_data"
    },
    {
     "data": {
      "text/plain": [
       "Country/Region    China\n",
       "Confirmed          1018\n",
       "Name: 1385, dtype: object"
      ]
     },
     "metadata": {},
     "output_type": "display_data"
    },
    {
     "data": {
      "text/plain": [
       "Country/Region    China\n",
       "Confirmed           990\n",
       "Name: 1386, dtype: object"
      ]
     },
     "metadata": {},
     "output_type": "display_data"
    },
    {
     "data": {
      "text/plain": [
       "Country/Region    China\n",
       "Confirmed           935\n",
       "Name: 1387, dtype: object"
      ]
     },
     "metadata": {},
     "output_type": "display_data"
    },
    {
     "data": {
      "text/plain": [
       "Country/Region    China\n",
       "Confirmed           760\n",
       "Name: 1389, dtype: object"
      ]
     },
     "metadata": {},
     "output_type": "display_data"
    },
    {
     "data": {
      "text/plain": [
       "Country/Region    China\n",
       "Confirmed           631\n",
       "Name: 1391, dtype: object"
      ]
     },
     "metadata": {},
     "output_type": "display_data"
    },
    {
     "data": {
      "text/plain": [
       "Country/Region    China\n",
       "Confirmed           576\n",
       "Name: 1392, dtype: object"
      ]
     },
     "metadata": {},
     "output_type": "display_data"
    },
    {
     "data": {
      "text/plain": [
       "Country/Region    China\n",
       "Confirmed           539\n",
       "Name: 1394, dtype: object"
      ]
     },
     "metadata": {},
     "output_type": "display_data"
    },
    {
     "data": {
      "text/plain": [
       "Country/Region    China\n",
       "Confirmed           482\n",
       "Name: 1396, dtype: object"
      ]
     },
     "metadata": {},
     "output_type": "display_data"
    },
    {
     "data": {
      "text/plain": [
       "Country/Region    China\n",
       "Confirmed           437\n",
       "Name: 1397, dtype: object"
      ]
     },
     "metadata": {},
     "output_type": "display_data"
    },
    {
     "data": {
      "text/plain": [
       "Country/Region    China\n",
       "Confirmed           353\n",
       "Name: 1398, dtype: object"
      ]
     },
     "metadata": {},
     "output_type": "display_data"
    },
    {
     "data": {
      "text/plain": [
       "Country/Region    China\n",
       "Confirmed           318\n",
       "Name: 1400, dtype: object"
      ]
     },
     "metadata": {},
     "output_type": "display_data"
    },
    {
     "data": {
      "text/plain": [
       "Country/Region    China\n",
       "Confirmed           296\n",
       "Name: 1401, dtype: object"
      ]
     },
     "metadata": {},
     "output_type": "display_data"
    },
    {
     "data": {
      "text/plain": [
       "Country/Region    China\n",
       "Confirmed           252\n",
       "Name: 1402, dtype: object"
      ]
     },
     "metadata": {},
     "output_type": "display_data"
    },
    {
     "data": {
      "text/plain": [
       "Country/Region    China\n",
       "Confirmed           245\n",
       "Name: 1403, dtype: object"
      ]
     },
     "metadata": {},
     "output_type": "display_data"
    },
    {
     "data": {
      "text/plain": [
       "Country/Region    China\n",
       "Confirmed           174\n",
       "Name: 1404, dtype: object"
      ]
     },
     "metadata": {},
     "output_type": "display_data"
    },
    {
     "data": {
      "text/plain": [
       "Country/Region    China\n",
       "Confirmed           168\n",
       "Name: 1405, dtype: object"
      ]
     },
     "metadata": {},
     "output_type": "display_data"
    },
    {
     "data": {
      "text/plain": [
       "Country/Region    China\n",
       "Confirmed           146\n",
       "Name: 1406, dtype: object"
      ]
     },
     "metadata": {},
     "output_type": "display_data"
    },
    {
     "data": {
      "text/plain": [
       "Country/Region    China\n",
       "Confirmed           140\n",
       "Name: 1407, dtype: object"
      ]
     },
     "metadata": {},
     "output_type": "display_data"
    },
    {
     "data": {
      "text/plain": [
       "Country/Region    China\n",
       "Confirmed           136\n",
       "Name: 1409, dtype: object"
      ]
     },
     "metadata": {},
     "output_type": "display_data"
    },
    {
     "data": {
      "text/plain": [
       "Country/Region    China\n",
       "Confirmed           133\n",
       "Name: 1410, dtype: object"
      ]
     },
     "metadata": {},
     "output_type": "display_data"
    },
    {
     "data": {
      "text/plain": [
       "Country/Region    China\n",
       "Confirmed           129\n",
       "Name: 1411, dtype: object"
      ]
     },
     "metadata": {},
     "output_type": "display_data"
    },
    {
     "data": {
      "text/plain": [
       "Country/Region    China\n",
       "Confirmed           125\n",
       "Name: 1412, dtype: object"
      ]
     },
     "metadata": {},
     "output_type": "display_data"
    },
    {
     "data": {
      "text/plain": [
       "Country/Region    China\n",
       "Confirmed            93\n",
       "Name: 1415, dtype: object"
      ]
     },
     "metadata": {},
     "output_type": "display_data"
    },
    {
     "data": {
      "text/plain": [
       "Country/Region    China\n",
       "Confirmed            76\n",
       "Name: 1418, dtype: object"
      ]
     },
     "metadata": {},
     "output_type": "display_data"
    },
    {
     "data": {
      "text/plain": [
       "Country/Region    China\n",
       "Confirmed            75\n",
       "Name: 1420, dtype: object"
      ]
     },
     "metadata": {},
     "output_type": "display_data"
    },
    {
     "data": {
      "text/plain": [
       "Country/Region    China\n",
       "Confirmed            75\n",
       "Name: 1421, dtype: object"
      ]
     },
     "metadata": {},
     "output_type": "display_data"
    },
    {
     "data": {
      "text/plain": [
       "Country/Region    China\n",
       "Confirmed            18\n",
       "Name: 1447, dtype: object"
      ]
     },
     "metadata": {},
     "output_type": "display_data"
    },
    {
     "data": {
      "text/plain": [
       "Country/Region    China\n",
       "Confirmed            10\n",
       "Name: 1456, dtype: object"
      ]
     },
     "metadata": {},
     "output_type": "display_data"
    },
    {
     "data": {
      "text/plain": [
       "Country/Region    China\n",
       "Confirmed             1\n",
       "Name: 1486, dtype: object"
      ]
     },
     "metadata": {},
     "output_type": "display_data"
    },
    {
     "data": {
      "text/plain": [
       "Country/Region    China\n",
       "Confirmed         67794\n",
       "Name: 1493, dtype: object"
      ]
     },
     "metadata": {},
     "output_type": "display_data"
    },
    {
     "data": {
      "text/plain": [
       "Country/Region    China\n",
       "Confirmed          1360\n",
       "Name: 1495, dtype: object"
      ]
     },
     "metadata": {},
     "output_type": "display_data"
    },
    {
     "data": {
      "text/plain": [
       "Country/Region    China\n",
       "Confirmed          1273\n",
       "Name: 1496, dtype: object"
      ]
     },
     "metadata": {},
     "output_type": "display_data"
    },
    {
     "data": {
      "text/plain": [
       "Country/Region    China\n",
       "Confirmed          1231\n",
       "Name: 1497, dtype: object"
      ]
     },
     "metadata": {},
     "output_type": "display_data"
    },
    {
     "data": {
      "text/plain": [
       "Country/Region    China\n",
       "Confirmed          1018\n",
       "Name: 1499, dtype: object"
      ]
     },
     "metadata": {},
     "output_type": "display_data"
    },
    {
     "data": {
      "text/plain": [
       "Country/Region    China\n",
       "Confirmed           990\n",
       "Name: 1500, dtype: object"
      ]
     },
     "metadata": {},
     "output_type": "display_data"
    },
    {
     "data": {
      "text/plain": [
       "Country/Region    China\n",
       "Confirmed           935\n",
       "Name: 1501, dtype: object"
      ]
     },
     "metadata": {},
     "output_type": "display_data"
    },
    {
     "data": {
      "text/plain": [
       "Country/Region    China\n",
       "Confirmed           760\n",
       "Name: 1503, dtype: object"
      ]
     },
     "metadata": {},
     "output_type": "display_data"
    },
    {
     "data": {
      "text/plain": [
       "Country/Region    China\n",
       "Confirmed           631\n",
       "Name: 1507, dtype: object"
      ]
     },
     "metadata": {},
     "output_type": "display_data"
    },
    {
     "data": {
      "text/plain": [
       "Country/Region    China\n",
       "Confirmed           576\n",
       "Name: 1508, dtype: object"
      ]
     },
     "metadata": {},
     "output_type": "display_data"
    },
    {
     "data": {
      "text/plain": [
       "Country/Region    China\n",
       "Confirmed           539\n",
       "Name: 1509, dtype: object"
      ]
     },
     "metadata": {},
     "output_type": "display_data"
    },
    {
     "data": {
      "text/plain": [
       "Country/Region    China\n",
       "Confirmed           482\n",
       "Name: 1510, dtype: object"
      ]
     },
     "metadata": {},
     "output_type": "display_data"
    },
    {
     "data": {
      "text/plain": [
       "Country/Region    China\n",
       "Confirmed           442\n",
       "Name: 1511, dtype: object"
      ]
     },
     "metadata": {},
     "output_type": "display_data"
    },
    {
     "data": {
      "text/plain": [
       "Country/Region    China\n",
       "Confirmed           353\n",
       "Name: 1513, dtype: object"
      ]
     },
     "metadata": {},
     "output_type": "display_data"
    },
    {
     "data": {
      "text/plain": [
       "Country/Region    China\n",
       "Confirmed           318\n",
       "Name: 1514, dtype: object"
      ]
     },
     "metadata": {},
     "output_type": "display_data"
    },
    {
     "data": {
      "text/plain": [
       "Country/Region    China\n",
       "Confirmed           296\n",
       "Name: 1515, dtype: object"
      ]
     },
     "metadata": {},
     "output_type": "display_data"
    },
    {
     "data": {
      "text/plain": [
       "Country/Region    China\n",
       "Confirmed           252\n",
       "Name: 1516, dtype: object"
      ]
     },
     "metadata": {},
     "output_type": "display_data"
    },
    {
     "data": {
      "text/plain": [
       "Country/Region    China\n",
       "Confirmed           245\n",
       "Name: 1517, dtype: object"
      ]
     },
     "metadata": {},
     "output_type": "display_data"
    },
    {
     "data": {
      "text/plain": [
       "Country/Region    China\n",
       "Confirmed           174\n",
       "Name: 1518, dtype: object"
      ]
     },
     "metadata": {},
     "output_type": "display_data"
    },
    {
     "data": {
      "text/plain": [
       "Country/Region    China\n",
       "Confirmed           168\n",
       "Name: 1519, dtype: object"
      ]
     },
     "metadata": {},
     "output_type": "display_data"
    },
    {
     "data": {
      "text/plain": [
       "Country/Region    China\n",
       "Confirmed           146\n",
       "Name: 1520, dtype: object"
      ]
     },
     "metadata": {},
     "output_type": "display_data"
    },
    {
     "data": {
      "text/plain": [
       "Country/Region    China\n",
       "Confirmed           145\n",
       "Name: 1521, dtype: object"
      ]
     },
     "metadata": {},
     "output_type": "display_data"
    },
    {
     "data": {
      "text/plain": [
       "Country/Region    China\n",
       "Confirmed           136\n",
       "Name: 1523, dtype: object"
      ]
     },
     "metadata": {},
     "output_type": "display_data"
    },
    {
     "data": {
      "text/plain": [
       "Country/Region    China\n",
       "Confirmed           133\n",
       "Name: 1525, dtype: object"
      ]
     },
     "metadata": {},
     "output_type": "display_data"
    },
    {
     "data": {
      "text/plain": [
       "Country/Region    China\n",
       "Confirmed           133\n",
       "Name: 1526, dtype: object"
      ]
     },
     "metadata": {},
     "output_type": "display_data"
    },
    {
     "data": {
      "text/plain": [
       "Country/Region    China\n",
       "Confirmed           125\n",
       "Name: 1527, dtype: object"
      ]
     },
     "metadata": {},
     "output_type": "display_data"
    },
    {
     "data": {
      "text/plain": [
       "Country/Region    China\n",
       "Confirmed            93\n",
       "Name: 1532, dtype: object"
      ]
     },
     "metadata": {},
     "output_type": "display_data"
    },
    {
     "data": {
      "text/plain": [
       "Country/Region    China\n",
       "Confirmed            76\n",
       "Name: 1534, dtype: object"
      ]
     },
     "metadata": {},
     "output_type": "display_data"
    },
    {
     "data": {
      "text/plain": [
       "Country/Region    China\n",
       "Confirmed            75\n",
       "Name: 1535, dtype: object"
      ]
     },
     "metadata": {},
     "output_type": "display_data"
    },
    {
     "data": {
      "text/plain": [
       "Country/Region    China\n",
       "Confirmed            75\n",
       "Name: 1536, dtype: object"
      ]
     },
     "metadata": {},
     "output_type": "display_data"
    },
    {
     "data": {
      "text/plain": [
       "Country/Region    China\n",
       "Confirmed            18\n",
       "Name: 1564, dtype: object"
      ]
     },
     "metadata": {},
     "output_type": "display_data"
    },
    {
     "data": {
      "text/plain": [
       "Country/Region    China\n",
       "Confirmed            10\n",
       "Name: 1575, dtype: object"
      ]
     },
     "metadata": {},
     "output_type": "display_data"
    },
    {
     "data": {
      "text/plain": [
       "Country/Region    China\n",
       "Confirmed             1\n",
       "Name: 1603, dtype: object"
      ]
     },
     "metadata": {},
     "output_type": "display_data"
    },
    {
     "data": {
      "text/plain": [
       "Country/Region    China\n",
       "Confirmed         67798\n",
       "Name: 1612, dtype: object"
      ]
     },
     "metadata": {},
     "output_type": "display_data"
    },
    {
     "data": {
      "text/plain": [
       "Country/Region    China\n",
       "Confirmed          1361\n",
       "Name: 1616, dtype: object"
      ]
     },
     "metadata": {},
     "output_type": "display_data"
    },
    {
     "data": {
      "text/plain": [
       "Country/Region    China\n",
       "Confirmed          1273\n",
       "Name: 1617, dtype: object"
      ]
     },
     "metadata": {},
     "output_type": "display_data"
    },
    {
     "data": {
      "text/plain": [
       "Country/Region    China\n",
       "Confirmed          1231\n",
       "Name: 1618, dtype: object"
      ]
     },
     "metadata": {},
     "output_type": "display_data"
    },
    {
     "data": {
      "text/plain": [
       "Country/Region    China\n",
       "Confirmed          1018\n",
       "Name: 1619, dtype: object"
      ]
     },
     "metadata": {},
     "output_type": "display_data"
    },
    {
     "data": {
      "text/plain": [
       "Country/Region    China\n",
       "Confirmed           990\n",
       "Name: 1620, dtype: object"
      ]
     },
     "metadata": {},
     "output_type": "display_data"
    },
    {
     "data": {
      "text/plain": [
       "Country/Region    China\n",
       "Confirmed           935\n",
       "Name: 1622, dtype: object"
      ]
     },
     "metadata": {},
     "output_type": "display_data"
    },
    {
     "data": {
      "text/plain": [
       "Country/Region    China\n",
       "Confirmed           760\n",
       "Name: 1625, dtype: object"
      ]
     },
     "metadata": {},
     "output_type": "display_data"
    },
    {
     "data": {
      "text/plain": [
       "Country/Region    China\n",
       "Confirmed           631\n",
       "Name: 1627, dtype: object"
      ]
     },
     "metadata": {},
     "output_type": "display_data"
    },
    {
     "data": {
      "text/plain": [
       "Country/Region    China\n",
       "Confirmed           576\n",
       "Name: 1628, dtype: object"
      ]
     },
     "metadata": {},
     "output_type": "display_data"
    },
    {
     "data": {
      "text/plain": [
       "Country/Region    China\n",
       "Confirmed           539\n",
       "Name: 1630, dtype: object"
      ]
     },
     "metadata": {},
     "output_type": "display_data"
    },
    {
     "data": {
      "text/plain": [
       "Country/Region    China\n",
       "Confirmed           482\n",
       "Name: 1631, dtype: object"
      ]
     },
     "metadata": {},
     "output_type": "display_data"
    },
    {
     "data": {
      "text/plain": [
       "Country/Region    China\n",
       "Confirmed           452\n",
       "Name: 1632, dtype: object"
      ]
     },
     "metadata": {},
     "output_type": "display_data"
    },
    {
     "data": {
      "text/plain": [
       "Country/Region    China\n",
       "Confirmed           355\n",
       "Name: 1633, dtype: object"
      ]
     },
     "metadata": {},
     "output_type": "display_data"
    },
    {
     "data": {
      "text/plain": [
       "Country/Region    China\n",
       "Confirmed           318\n",
       "Name: 1634, dtype: object"
      ]
     },
     "metadata": {},
     "output_type": "display_data"
    },
    {
     "data": {
      "text/plain": [
       "Country/Region    China\n",
       "Confirmed           296\n",
       "Name: 1635, dtype: object"
      ]
     },
     "metadata": {},
     "output_type": "display_data"
    },
    {
     "data": {
      "text/plain": [
       "Country/Region    China\n",
       "Confirmed           252\n",
       "Name: 1636, dtype: object"
      ]
     },
     "metadata": {},
     "output_type": "display_data"
    },
    {
     "data": {
      "text/plain": [
       "Country/Region    China\n",
       "Confirmed           245\n",
       "Name: 1637, dtype: object"
      ]
     },
     "metadata": {},
     "output_type": "display_data"
    },
    {
     "data": {
      "text/plain": [
       "Country/Region    China\n",
       "Confirmed           176\n",
       "Name: 1641, dtype: object"
      ]
     },
     "metadata": {},
     "output_type": "display_data"
    },
    {
     "data": {
      "text/plain": [
       "Country/Region    China\n",
       "Confirmed           168\n",
       "Name: 1643, dtype: object"
      ]
     },
     "metadata": {},
     "output_type": "display_data"
    },
    {
     "data": {
      "text/plain": [
       "Country/Region    China\n",
       "Confirmed           155\n",
       "Name: 1645, dtype: object"
      ]
     },
     "metadata": {},
     "output_type": "display_data"
    },
    {
     "data": {
      "text/plain": [
       "Country/Region    China\n",
       "Confirmed           146\n",
       "Name: 1647, dtype: object"
      ]
     },
     "metadata": {},
     "output_type": "display_data"
    },
    {
     "data": {
      "text/plain": [
       "Country/Region    China\n",
       "Confirmed           136\n",
       "Name: 1648, dtype: object"
      ]
     },
     "metadata": {},
     "output_type": "display_data"
    },
    {
     "data": {
      "text/plain": [
       "Country/Region    China\n",
       "Confirmed           133\n",
       "Name: 1650, dtype: object"
      ]
     },
     "metadata": {},
     "output_type": "display_data"
    },
    {
     "data": {
      "text/plain": [
       "Country/Region    China\n",
       "Confirmed           133\n",
       "Name: 1651, dtype: object"
      ]
     },
     "metadata": {},
     "output_type": "display_data"
    },
    {
     "data": {
      "text/plain": [
       "Country/Region    China\n",
       "Confirmed           125\n",
       "Name: 1652, dtype: object"
      ]
     },
     "metadata": {},
     "output_type": "display_data"
    },
    {
     "data": {
      "text/plain": [
       "Country/Region    China\n",
       "Confirmed            93\n",
       "Name: 1656, dtype: object"
      ]
     },
     "metadata": {},
     "output_type": "display_data"
    },
    {
     "data": {
      "text/plain": [
       "Country/Region    China\n",
       "Confirmed            76\n",
       "Name: 1659, dtype: object"
      ]
     },
     "metadata": {},
     "output_type": "display_data"
    },
    {
     "data": {
      "text/plain": [
       "Country/Region    China\n",
       "Confirmed            75\n",
       "Name: 1660, dtype: object"
      ]
     },
     "metadata": {},
     "output_type": "display_data"
    },
    {
     "data": {
      "text/plain": [
       "Country/Region    China\n",
       "Confirmed            75\n",
       "Name: 1661, dtype: object"
      ]
     },
     "metadata": {},
     "output_type": "display_data"
    },
    {
     "data": {
      "text/plain": [
       "Country/Region    China\n",
       "Confirmed            18\n",
       "Name: 1690, dtype: object"
      ]
     },
     "metadata": {},
     "output_type": "display_data"
    },
    {
     "data": {
      "text/plain": [
       "Country/Region    China\n",
       "Confirmed            11\n",
       "Name: 1699, dtype: object"
      ]
     },
     "metadata": {},
     "output_type": "display_data"
    },
    {
     "data": {
      "text/plain": [
       "Country/Region    China\n",
       "Confirmed             1\n",
       "Name: 1727, dtype: object"
      ]
     },
     "metadata": {},
     "output_type": "display_data"
    },
    {
     "data": {
      "text/plain": [
       "Country/Region    China\n",
       "Confirmed         67799\n",
       "Name: 1737, dtype: object"
      ]
     },
     "metadata": {},
     "output_type": "display_data"
    },
    {
     "data": {
      "text/plain": [
       "Country/Region    China\n",
       "Confirmed          1364\n",
       "Name: 1742, dtype: object"
      ]
     },
     "metadata": {},
     "output_type": "display_data"
    },
    {
     "data": {
      "text/plain": [
       "Country/Region    China\n",
       "Confirmed          1273\n",
       "Name: 1743, dtype: object"
      ]
     },
     "metadata": {},
     "output_type": "display_data"
    },
    {
     "data": {
      "text/plain": [
       "Country/Region    China\n",
       "Confirmed          1232\n",
       "Name: 1744, dtype: object"
      ]
     },
     "metadata": {},
     "output_type": "display_data"
    },
    {
     "data": {
      "text/plain": [
       "Country/Region    China\n",
       "Confirmed          1018\n",
       "Name: 1746, dtype: object"
      ]
     },
     "metadata": {},
     "output_type": "display_data"
    },
    {
     "data": {
      "text/plain": [
       "Country/Region    China\n",
       "Confirmed           990\n",
       "Name: 1747, dtype: object"
      ]
     },
     "metadata": {},
     "output_type": "display_data"
    },
    {
     "data": {
      "text/plain": [
       "Country/Region    China\n",
       "Confirmed           935\n",
       "Name: 1749, dtype: object"
      ]
     },
     "metadata": {},
     "output_type": "display_data"
    },
    {
     "data": {
      "text/plain": [
       "Country/Region    China\n",
       "Confirmed           761\n",
       "Name: 1750, dtype: object"
      ]
     },
     "metadata": {},
     "output_type": "display_data"
    },
    {
     "data": {
      "text/plain": [
       "Country/Region    China\n",
       "Confirmed           631\n",
       "Name: 1753, dtype: object"
      ]
     },
     "metadata": {},
     "output_type": "display_data"
    },
    {
     "data": {
      "text/plain": [
       "Country/Region    China\n",
       "Confirmed           576\n",
       "Name: 1754, dtype: object"
      ]
     },
     "metadata": {},
     "output_type": "display_data"
    },
    {
     "data": {
      "text/plain": [
       "Country/Region    China\n",
       "Confirmed           540\n",
       "Name: 1755, dtype: object"
      ]
     },
     "metadata": {},
     "output_type": "display_data"
    },
    {
     "data": {
      "text/plain": [
       "Country/Region    China\n",
       "Confirmed           482\n",
       "Name: 1756, dtype: object"
      ]
     },
     "metadata": {},
     "output_type": "display_data"
    },
    {
     "data": {
      "text/plain": [
       "Country/Region    China\n",
       "Confirmed           456\n",
       "Name: 1757, dtype: object"
      ]
     },
     "metadata": {},
     "output_type": "display_data"
    },
    {
     "data": {
      "text/plain": [
       "Country/Region    China\n",
       "Confirmed           358\n",
       "Name: 1758, dtype: object"
      ]
     },
     "metadata": {},
     "output_type": "display_data"
    },
    {
     "data": {
      "text/plain": [
       "Country/Region    China\n",
       "Confirmed           318\n",
       "Name: 1759, dtype: object"
      ]
     },
     "metadata": {},
     "output_type": "display_data"
    },
    {
     "data": {
      "text/plain": [
       "Country/Region    China\n",
       "Confirmed           296\n",
       "Name: 1760, dtype: object"
      ]
     },
     "metadata": {},
     "output_type": "display_data"
    },
    {
     "data": {
      "text/plain": [
       "Country/Region    China\n",
       "Confirmed           253\n",
       "Name: 1762, dtype: object"
      ]
     },
     "metadata": {},
     "output_type": "display_data"
    },
    {
     "data": {
      "text/plain": [
       "Country/Region    China\n",
       "Confirmed           246\n",
       "Name: 1763, dtype: object"
      ]
     },
     "metadata": {},
     "output_type": "display_data"
    },
    {
     "data": {
      "text/plain": [
       "Country/Region    China\n",
       "Confirmed           176\n",
       "Name: 1769, dtype: object"
      ]
     },
     "metadata": {},
     "output_type": "display_data"
    },
    {
     "data": {
      "text/plain": [
       "Country/Region    China\n",
       "Confirmed           168\n",
       "Name: 1770, dtype: object"
      ]
     },
     "metadata": {},
     "output_type": "display_data"
    },
    {
     "data": {
      "text/plain": [
       "Country/Region    China\n",
       "Confirmed           162\n",
       "Name: 1771, dtype: object"
      ]
     },
     "metadata": {},
     "output_type": "display_data"
    },
    {
     "data": {
      "text/plain": [
       "Country/Region    China\n",
       "Confirmed           147\n",
       "Name: 1774, dtype: object"
      ]
     },
     "metadata": {},
     "output_type": "display_data"
    },
    {
     "data": {
      "text/plain": [
       "Country/Region    China\n",
       "Confirmed           136\n",
       "Name: 1776, dtype: object"
      ]
     },
     "metadata": {},
     "output_type": "display_data"
    },
    {
     "data": {
      "text/plain": [
       "Country/Region    China\n",
       "Confirmed           133\n",
       "Name: 1777, dtype: object"
      ]
     },
     "metadata": {},
     "output_type": "display_data"
    },
    {
     "data": {
      "text/plain": [
       "Country/Region    China\n",
       "Confirmed           133\n",
       "Name: 1778, dtype: object"
      ]
     },
     "metadata": {},
     "output_type": "display_data"
    },
    {
     "data": {
      "text/plain": [
       "Country/Region    China\n",
       "Confirmed           125\n",
       "Name: 1779, dtype: object"
      ]
     },
     "metadata": {},
     "output_type": "display_data"
    },
    {
     "data": {
      "text/plain": [
       "Country/Region    China\n",
       "Confirmed            93\n",
       "Name: 1784, dtype: object"
      ]
     },
     "metadata": {},
     "output_type": "display_data"
    },
    {
     "data": {
      "text/plain": [
       "Country/Region    China\n",
       "Confirmed            76\n",
       "Name: 1786, dtype: object"
      ]
     },
     "metadata": {},
     "output_type": "display_data"
    },
    {
     "data": {
      "text/plain": [
       "Country/Region    China\n",
       "Confirmed            75\n",
       "Name: 1787, dtype: object"
      ]
     },
     "metadata": {},
     "output_type": "display_data"
    },
    {
     "data": {
      "text/plain": [
       "Country/Region    China\n",
       "Confirmed            75\n",
       "Name: 1788, dtype: object"
      ]
     },
     "metadata": {},
     "output_type": "display_data"
    },
    {
     "data": {
      "text/plain": [
       "Country/Region    China\n",
       "Confirmed            18\n",
       "Name: 1823, dtype: object"
      ]
     },
     "metadata": {},
     "output_type": "display_data"
    },
    {
     "data": {
      "text/plain": [
       "Country/Region    China\n",
       "Confirmed            12\n",
       "Name: 1826, dtype: object"
      ]
     },
     "metadata": {},
     "output_type": "display_data"
    },
    {
     "data": {
      "text/plain": [
       "Country/Region    China\n",
       "Confirmed             1\n",
       "Name: 1858, dtype: object"
      ]
     },
     "metadata": {},
     "output_type": "display_data"
    },
    {
     "data": {
      "text/plain": [
       "Country/Region    China\n",
       "Confirmed         67800\n",
       "Name: 1863, dtype: object"
      ]
     },
     "metadata": {},
     "output_type": "display_data"
    },
    {
     "data": {
      "text/plain": [
       "Country/Region    China\n",
       "Confirmed          1370\n",
       "Name: 1868, dtype: object"
      ]
     },
     "metadata": {},
     "output_type": "display_data"
    },
    {
     "data": {
      "text/plain": [
       "Country/Region    China\n",
       "Confirmed          1273\n",
       "Name: 1869, dtype: object"
      ]
     },
     "metadata": {},
     "output_type": "display_data"
    },
    {
     "data": {
      "text/plain": [
       "Country/Region    China\n",
       "Confirmed          1232\n",
       "Name: 1870, dtype: object"
      ]
     },
     "metadata": {},
     "output_type": "display_data"
    },
    {
     "data": {
      "text/plain": [
       "Country/Region    China\n",
       "Confirmed          1018\n",
       "Name: 1872, dtype: object"
      ]
     },
     "metadata": {},
     "output_type": "display_data"
    },
    {
     "data": {
      "text/plain": [
       "Country/Region    China\n",
       "Confirmed           990\n",
       "Name: 1874, dtype: object"
      ]
     },
     "metadata": {},
     "output_type": "display_data"
    },
    {
     "data": {
      "text/plain": [
       "Country/Region    China\n",
       "Confirmed           935\n",
       "Name: 1875, dtype: object"
      ]
     },
     "metadata": {},
     "output_type": "display_data"
    },
    {
     "data": {
      "text/plain": [
       "Country/Region    China\n",
       "Confirmed           761\n",
       "Name: 1876, dtype: object"
      ]
     },
     "metadata": {},
     "output_type": "display_data"
    },
    {
     "data": {
      "text/plain": [
       "Country/Region    China\n",
       "Confirmed           631\n",
       "Name: 1879, dtype: object"
      ]
     },
     "metadata": {},
     "output_type": "display_data"
    },
    {
     "data": {
      "text/plain": [
       "Country/Region    China\n",
       "Confirmed           576\n",
       "Name: 1880, dtype: object"
      ]
     },
     "metadata": {},
     "output_type": "display_data"
    },
    {
     "data": {
      "text/plain": [
       "Country/Region    China\n",
       "Confirmed           540\n",
       "Name: 1881, dtype: object"
      ]
     },
     "metadata": {},
     "output_type": "display_data"
    },
    {
     "data": {
      "text/plain": [
       "Country/Region    China\n",
       "Confirmed           482\n",
       "Name: 1882, dtype: object"
      ]
     },
     "metadata": {},
     "output_type": "display_data"
    },
    {
     "data": {
      "text/plain": [
       "Country/Region    China\n",
       "Confirmed           469\n",
       "Name: 1883, dtype: object"
      ]
     },
     "metadata": {},
     "output_type": "display_data"
    },
    {
     "data": {
      "text/plain": [
       "Country/Region    China\n",
       "Confirmed           361\n",
       "Name: 1884, dtype: object"
      ]
     },
     "metadata": {},
     "output_type": "display_data"
    },
    {
     "data": {
      "text/plain": [
       "Country/Region    China\n",
       "Confirmed           318\n",
       "Name: 1885, dtype: object"
      ]
     },
     "metadata": {},
     "output_type": "display_data"
    },
    {
     "data": {
      "text/plain": [
       "Country/Region    China\n",
       "Confirmed           296\n",
       "Name: 1887, dtype: object"
      ]
     },
     "metadata": {},
     "output_type": "display_data"
    },
    {
     "data": {
      "text/plain": [
       "Country/Region    China\n",
       "Confirmed           253\n",
       "Name: 1891, dtype: object"
      ]
     },
     "metadata": {},
     "output_type": "display_data"
    },
    {
     "data": {
      "text/plain": [
       "Country/Region    China\n",
       "Confirmed           246\n",
       "Name: 1892, dtype: object"
      ]
     },
     "metadata": {},
     "output_type": "display_data"
    },
    {
     "data": {
      "text/plain": [
       "Country/Region    China\n",
       "Confirmed           181\n",
       "Name: 1898, dtype: object"
      ]
     },
     "metadata": {},
     "output_type": "display_data"
    },
    {
     "data": {
      "text/plain": [
       "Country/Region    China\n",
       "Confirmed           176\n",
       "Name: 1899, dtype: object"
      ]
     },
     "metadata": {},
     "output_type": "display_data"
    },
    {
     "data": {
      "text/plain": [
       "Country/Region    China\n",
       "Confirmed           168\n",
       "Name: 1901, dtype: object"
      ]
     },
     "metadata": {},
     "output_type": "display_data"
    },
    {
     "data": {
      "text/plain": [
       "Country/Region    China\n",
       "Confirmed           146\n",
       "Name: 1904, dtype: object"
      ]
     },
     "metadata": {},
     "output_type": "display_data"
    },
    {
     "data": {
      "text/plain": [
       "Country/Region    China\n",
       "Confirmed           136\n",
       "Name: 1905, dtype: object"
      ]
     },
     "metadata": {},
     "output_type": "display_data"
    },
    {
     "data": {
      "text/plain": [
       "Country/Region    China\n",
       "Confirmed           133\n",
       "Name: 1906, dtype: object"
      ]
     },
     "metadata": {},
     "output_type": "display_data"
    },
    {
     "data": {
      "text/plain": [
       "Country/Region    China\n",
       "Confirmed           133\n",
       "Name: 1907, dtype: object"
      ]
     },
     "metadata": {},
     "output_type": "display_data"
    },
    {
     "data": {
      "text/plain": [
       "Country/Region    China\n",
       "Confirmed           125\n",
       "Name: 1908, dtype: object"
      ]
     },
     "metadata": {},
     "output_type": "display_data"
    },
    {
     "data": {
      "text/plain": [
       "Country/Region    China\n",
       "Confirmed            93\n",
       "Name: 1913, dtype: object"
      ]
     },
     "metadata": {},
     "output_type": "display_data"
    },
    {
     "data": {
      "text/plain": [
       "Country/Region    China\n",
       "Confirmed            76\n",
       "Name: 1921, dtype: object"
      ]
     },
     "metadata": {},
     "output_type": "display_data"
    },
    {
     "data": {
      "text/plain": [
       "Country/Region    China\n",
       "Confirmed            75\n",
       "Name: 1922, dtype: object"
      ]
     },
     "metadata": {},
     "output_type": "display_data"
    },
    {
     "data": {
      "text/plain": [
       "Country/Region    China\n",
       "Confirmed            75\n",
       "Name: 1923, dtype: object"
      ]
     },
     "metadata": {},
     "output_type": "display_data"
    },
    {
     "data": {
      "text/plain": [
       "Country/Region    China\n",
       "Confirmed            18\n",
       "Name: 1950, dtype: object"
      ]
     },
     "metadata": {},
     "output_type": "display_data"
    },
    {
     "data": {
      "text/plain": [
       "Country/Region    China\n",
       "Confirmed            15\n",
       "Name: 1955, dtype: object"
      ]
     },
     "metadata": {},
     "output_type": "display_data"
    },
    {
     "data": {
      "text/plain": [
       "Country/Region    China\n",
       "Confirmed             1\n",
       "Name: 1983, dtype: object"
      ]
     },
     "metadata": {},
     "output_type": "display_data"
    },
    {
     "data": {
      "text/plain": [
       "Country/Region    China\n",
       "Confirmed         67800\n",
       "Name: 1993, dtype: object"
      ]
     },
     "metadata": {},
     "output_type": "display_data"
    },
    {
     "data": {
      "text/plain": [
       "Country/Region    China\n",
       "Confirmed          1378\n",
       "Name: 1998, dtype: object"
      ]
     },
     "metadata": {},
     "output_type": "display_data"
    },
    {
     "data": {
      "text/plain": [
       "Country/Region    China\n",
       "Confirmed          1273\n",
       "Name: 2000, dtype: object"
      ]
     },
     "metadata": {},
     "output_type": "display_data"
    },
    {
     "data": {
      "text/plain": [
       "Country/Region    China\n",
       "Confirmed          1233\n",
       "Name: 2001, dtype: object"
      ]
     },
     "metadata": {},
     "output_type": "display_data"
    },
    {
     "data": {
      "text/plain": [
       "Country/Region    China\n",
       "Confirmed          1018\n",
       "Name: 2003, dtype: object"
      ]
     },
     "metadata": {},
     "output_type": "display_data"
    },
    {
     "data": {
      "text/plain": [
       "Country/Region    China\n",
       "Confirmed           990\n",
       "Name: 2004, dtype: object"
      ]
     },
     "metadata": {},
     "output_type": "display_data"
    },
    {
     "data": {
      "text/plain": [
       "Country/Region    China\n",
       "Confirmed           935\n",
       "Name: 2006, dtype: object"
      ]
     },
     "metadata": {},
     "output_type": "display_data"
    },
    {
     "data": {
      "text/plain": [
       "Country/Region    China\n",
       "Confirmed           761\n",
       "Name: 2007, dtype: object"
      ]
     },
     "metadata": {},
     "output_type": "display_data"
    },
    {
     "data": {
      "text/plain": [
       "Country/Region    China\n",
       "Confirmed           631\n",
       "Name: 2010, dtype: object"
      ]
     },
     "metadata": {},
     "output_type": "display_data"
    },
    {
     "data": {
      "text/plain": [
       "Country/Region    China\n",
       "Confirmed           576\n",
       "Name: 2011, dtype: object"
      ]
     },
     "metadata": {},
     "output_type": "display_data"
    },
    {
     "data": {
      "text/plain": [
       "Country/Region    China\n",
       "Confirmed           540\n",
       "Name: 2012, dtype: object"
      ]
     },
     "metadata": {},
     "output_type": "display_data"
    },
    {
     "data": {
      "text/plain": [
       "Country/Region    China\n",
       "Confirmed           483\n",
       "Name: 2013, dtype: object"
      ]
     },
     "metadata": {},
     "output_type": "display_data"
    },
    {
     "data": {
      "text/plain": [
       "Country/Region    China\n",
       "Confirmed           480\n",
       "Name: 2014, dtype: object"
      ]
     },
     "metadata": {},
     "output_type": "display_data"
    },
    {
     "data": {
      "text/plain": [
       "Country/Region    China\n",
       "Confirmed           363\n",
       "Name: 2018, dtype: object"
      ]
     },
     "metadata": {},
     "output_type": "display_data"
    },
    {
     "data": {
      "text/plain": [
       "Country/Region    China\n",
       "Confirmed           318\n",
       "Name: 2021, dtype: object"
      ]
     },
     "metadata": {},
     "output_type": "display_data"
    },
    {
     "data": {
      "text/plain": [
       "Country/Region    China\n",
       "Confirmed           296\n",
       "Name: 2023, dtype: object"
      ]
     },
     "metadata": {},
     "output_type": "display_data"
    },
    {
     "data": {
      "text/plain": [
       "Country/Region    China\n",
       "Confirmed           253\n",
       "Name: 2028, dtype: object"
      ]
     },
     "metadata": {},
     "output_type": "display_data"
    },
    {
     "data": {
      "text/plain": [
       "Country/Region    China\n",
       "Confirmed           246\n",
       "Name: 2029, dtype: object"
      ]
     },
     "metadata": {},
     "output_type": "display_data"
    },
    {
     "data": {
      "text/plain": [
       "Country/Region    China\n",
       "Confirmed           208\n",
       "Name: 2031, dtype: object"
      ]
     },
     "metadata": {},
     "output_type": "display_data"
    },
    {
     "data": {
      "text/plain": [
       "Country/Region    China\n",
       "Confirmed           176\n",
       "Name: 2033, dtype: object"
      ]
     },
     "metadata": {},
     "output_type": "display_data"
    },
    {
     "data": {
      "text/plain": [
       "Country/Region    China\n",
       "Confirmed           168\n",
       "Name: 2034, dtype: object"
      ]
     },
     "metadata": {},
     "output_type": "display_data"
    },
    {
     "data": {
      "text/plain": [
       "Country/Region    China\n",
       "Confirmed           146\n",
       "Name: 2038, dtype: object"
      ]
     },
     "metadata": {},
     "output_type": "display_data"
    },
    {
     "data": {
      "text/plain": [
       "Country/Region    China\n",
       "Confirmed           137\n",
       "Name: 2040, dtype: object"
      ]
     },
     "metadata": {},
     "output_type": "display_data"
    },
    {
     "data": {
      "text/plain": [
       "Country/Region    China\n",
       "Confirmed           134\n",
       "Name: 2041, dtype: object"
      ]
     },
     "metadata": {},
     "output_type": "display_data"
    },
    {
     "data": {
      "text/plain": [
       "Country/Region    China\n",
       "Confirmed           133\n",
       "Name: 2042, dtype: object"
      ]
     },
     "metadata": {},
     "output_type": "display_data"
    },
    {
     "data": {
      "text/plain": [
       "Country/Region    China\n",
       "Confirmed           125\n",
       "Name: 2043, dtype: object"
      ]
     },
     "metadata": {},
     "output_type": "display_data"
    },
    {
     "data": {
      "text/plain": [
       "Country/Region    China\n",
       "Confirmed            93\n",
       "Name: 2052, dtype: object"
      ]
     },
     "metadata": {},
     "output_type": "display_data"
    },
    {
     "data": {
      "text/plain": [
       "Country/Region    China\n",
       "Confirmed            76\n",
       "Name: 2058, dtype: object"
      ]
     },
     "metadata": {},
     "output_type": "display_data"
    },
    {
     "data": {
      "text/plain": [
       "Country/Region    China\n",
       "Confirmed            75\n",
       "Name: 2059, dtype: object"
      ]
     },
     "metadata": {},
     "output_type": "display_data"
    },
    {
     "data": {
      "text/plain": [
       "Country/Region    China\n",
       "Confirmed            75\n",
       "Name: 2060, dtype: object"
      ]
     },
     "metadata": {},
     "output_type": "display_data"
    },
    {
     "data": {
      "text/plain": [
       "Country/Region    China\n",
       "Confirmed            18\n",
       "Name: 2083, dtype: object"
      ]
     },
     "metadata": {},
     "output_type": "display_data"
    },
    {
     "data": {
      "text/plain": [
       "Country/Region    China\n",
       "Confirmed            17\n",
       "Name: 2087, dtype: object"
      ]
     },
     "metadata": {},
     "output_type": "display_data"
    },
    {
     "data": {
      "text/plain": [
       "Country/Region    China\n",
       "Confirmed             1\n",
       "Name: 2118, dtype: object"
      ]
     },
     "metadata": {},
     "output_type": "display_data"
    },
    {
     "data": {
      "text/plain": [
       "Country/Region    China\n",
       "Confirmed         67800\n",
       "Name: 2126, dtype: object"
      ]
     },
     "metadata": {},
     "output_type": "display_data"
    },
    {
     "data": {
      "text/plain": [
       "Country/Region    China\n",
       "Confirmed          1395\n",
       "Name: 2132, dtype: object"
      ]
     },
     "metadata": {},
     "output_type": "display_data"
    },
    {
     "data": {
      "text/plain": [
       "Country/Region    China\n",
       "Confirmed          1273\n",
       "Name: 2133, dtype: object"
      ]
     },
     "metadata": {},
     "output_type": "display_data"
    },
    {
     "data": {
      "text/plain": [
       "Country/Region    China\n",
       "Confirmed          1234\n",
       "Name: 2135, dtype: object"
      ]
     },
     "metadata": {},
     "output_type": "display_data"
    },
    {
     "data": {
      "text/plain": [
       "Country/Region    China\n",
       "Confirmed          1018\n",
       "Name: 2137, dtype: object"
      ]
     },
     "metadata": {},
     "output_type": "display_data"
    },
    {
     "data": {
      "text/plain": [
       "Country/Region    China\n",
       "Confirmed           990\n",
       "Name: 2138, dtype: object"
      ]
     },
     "metadata": {},
     "output_type": "display_data"
    },
    {
     "data": {
      "text/plain": [
       "Country/Region    China\n",
       "Confirmed           935\n",
       "Name: 2139, dtype: object"
      ]
     },
     "metadata": {},
     "output_type": "display_data"
    },
    {
     "data": {
      "text/plain": [
       "Country/Region    China\n",
       "Confirmed           762\n",
       "Name: 2141, dtype: object"
      ]
     },
     "metadata": {},
     "output_type": "display_data"
    },
    {
     "data": {
      "text/plain": [
       "Country/Region    China\n",
       "Confirmed           631\n",
       "Name: 2143, dtype: object"
      ]
     },
     "metadata": {},
     "output_type": "display_data"
    },
    {
     "data": {
      "text/plain": [
       "Country/Region    China\n",
       "Confirmed           576\n",
       "Name: 2145, dtype: object"
      ]
     },
     "metadata": {},
     "output_type": "display_data"
    },
    {
     "data": {
      "text/plain": [
       "Country/Region    China\n",
       "Confirmed           541\n",
       "Name: 2148, dtype: object"
      ]
     },
     "metadata": {},
     "output_type": "display_data"
    },
    {
     "data": {
      "text/plain": [
       "Country/Region    China\n",
       "Confirmed           491\n",
       "Name: 2150, dtype: object"
      ]
     },
     "metadata": {},
     "output_type": "display_data"
    },
    {
     "data": {
      "text/plain": [
       "Country/Region    China\n",
       "Confirmed           484\n",
       "Name: 2151, dtype: object"
      ]
     },
     "metadata": {},
     "output_type": "display_data"
    },
    {
     "data": {
      "text/plain": [
       "Country/Region    China\n",
       "Confirmed           371\n",
       "Name: 2155, dtype: object"
      ]
     },
     "metadata": {},
     "output_type": "display_data"
    },
    {
     "data": {
      "text/plain": [
       "Country/Region    China\n",
       "Confirmed           318\n",
       "Name: 2158, dtype: object"
      ]
     },
     "metadata": {},
     "output_type": "display_data"
    },
    {
     "data": {
      "text/plain": [
       "Country/Region    China\n",
       "Confirmed           299\n",
       "Name: 2161, dtype: object"
      ]
     },
     "metadata": {},
     "output_type": "display_data"
    },
    {
     "data": {
      "text/plain": [
       "Country/Region    China\n",
       "Confirmed           256\n",
       "Name: 2163, dtype: object"
      ]
     },
     "metadata": {},
     "output_type": "display_data"
    },
    {
     "data": {
      "text/plain": [
       "Country/Region    China\n",
       "Confirmed           254\n",
       "Name: 2164, dtype: object"
      ]
     },
     "metadata": {},
     "output_type": "display_data"
    },
    {
     "data": {
      "text/plain": [
       "Country/Region    China\n",
       "Confirmed           247\n",
       "Name: 2165, dtype: object"
      ]
     },
     "metadata": {},
     "output_type": "display_data"
    },
    {
     "data": {
      "text/plain": [
       "Country/Region    China\n",
       "Confirmed           176\n",
       "Name: 2170, dtype: object"
      ]
     },
     "metadata": {},
     "output_type": "display_data"
    },
    {
     "data": {
      "text/plain": [
       "Country/Region    China\n",
       "Confirmed           168\n",
       "Name: 2173, dtype: object"
      ]
     },
     "metadata": {},
     "output_type": "display_data"
    },
    {
     "data": {
      "text/plain": [
       "Country/Region    China\n",
       "Confirmed           146\n",
       "Name: 2176, dtype: object"
      ]
     },
     "metadata": {},
     "output_type": "display_data"
    },
    {
     "data": {
      "text/plain": [
       "Country/Region    China\n",
       "Confirmed           137\n",
       "Name: 2178, dtype: object"
      ]
     },
     "metadata": {},
     "output_type": "display_data"
    },
    {
     "data": {
      "text/plain": [
       "Country/Region    China\n",
       "Confirmed           134\n",
       "Name: 2179, dtype: object"
      ]
     },
     "metadata": {},
     "output_type": "display_data"
    },
    {
     "data": {
      "text/plain": [
       "Country/Region    China\n",
       "Confirmed           133\n",
       "Name: 2180, dtype: object"
      ]
     },
     "metadata": {},
     "output_type": "display_data"
    },
    {
     "data": {
      "text/plain": [
       "Country/Region    China\n",
       "Confirmed           126\n",
       "Name: 2181, dtype: object"
      ]
     },
     "metadata": {},
     "output_type": "display_data"
    },
    {
     "data": {
      "text/plain": [
       "Country/Region    China\n",
       "Confirmed            93\n",
       "Name: 2189, dtype: object"
      ]
     },
     "metadata": {},
     "output_type": "display_data"
    },
    {
     "data": {
      "text/plain": [
       "Country/Region    China\n",
       "Confirmed            76\n",
       "Name: 2196, dtype: object"
      ]
     },
     "metadata": {},
     "output_type": "display_data"
    },
    {
     "data": {
      "text/plain": [
       "Country/Region    China\n",
       "Confirmed            75\n",
       "Name: 2197, dtype: object"
      ]
     },
     "metadata": {},
     "output_type": "display_data"
    },
    {
     "data": {
      "text/plain": [
       "Country/Region    China\n",
       "Confirmed            75\n",
       "Name: 2198, dtype: object"
      ]
     },
     "metadata": {},
     "output_type": "display_data"
    },
    {
     "data": {
      "text/plain": [
       "Country/Region    China\n",
       "Confirmed            18\n",
       "Name: 2221, dtype: object"
      ]
     },
     "metadata": {},
     "output_type": "display_data"
    },
    {
     "data": {
      "text/plain": [
       "Country/Region    China\n",
       "Confirmed            17\n",
       "Name: 2223, dtype: object"
      ]
     },
     "metadata": {},
     "output_type": "display_data"
    },
    {
     "data": {
      "text/plain": [
       "Country/Region    China\n",
       "Confirmed             1\n",
       "Name: 2250, dtype: object"
      ]
     },
     "metadata": {},
     "output_type": "display_data"
    },
    {
     "data": {
      "text/plain": [
       "Country/Region    China\n",
       "Confirmed         67800\n",
       "Name: 2260, dtype: object"
      ]
     },
     "metadata": {},
     "output_type": "display_data"
    },
    {
     "data": {
      "text/plain": [
       "Country/Region    China\n",
       "Confirmed          1400\n",
       "Name: 2266, dtype: object"
      ]
     },
     "metadata": {},
     "output_type": "display_data"
    },
    {
     "data": {
      "text/plain": [
       "Country/Region    China\n",
       "Confirmed          1273\n",
       "Name: 2270, dtype: object"
      ]
     },
     "metadata": {},
     "output_type": "display_data"
    },
    {
     "data": {
      "text/plain": [
       "Country/Region    China\n",
       "Confirmed          1236\n",
       "Name: 2271, dtype: object"
      ]
     },
     "metadata": {},
     "output_type": "display_data"
    },
    {
     "data": {
      "text/plain": [
       "Country/Region    China\n",
       "Confirmed          1018\n",
       "Name: 2272, dtype: object"
      ]
     },
     "metadata": {},
     "output_type": "display_data"
    },
    {
     "data": {
      "text/plain": [
       "Country/Region    China\n",
       "Confirmed           990\n",
       "Name: 2273, dtype: object"
      ]
     },
     "metadata": {},
     "output_type": "display_data"
    },
    {
     "data": {
      "text/plain": [
       "Country/Region    China\n",
       "Confirmed           935\n",
       "Name: 2274, dtype: object"
      ]
     },
     "metadata": {},
     "output_type": "display_data"
    },
    {
     "data": {
      "text/plain": [
       "Country/Region    China\n",
       "Confirmed           764\n",
       "Name: 2276, dtype: object"
      ]
     },
     "metadata": {},
     "output_type": "display_data"
    },
    {
     "data": {
      "text/plain": [
       "Country/Region    China\n",
       "Confirmed           631\n",
       "Name: 2280, dtype: object"
      ]
     },
     "metadata": {},
     "output_type": "display_data"
    },
    {
     "data": {
      "text/plain": [
       "Country/Region    China\n",
       "Confirmed           576\n",
       "Name: 2283, dtype: object"
      ]
     },
     "metadata": {},
     "output_type": "display_data"
    },
    {
     "data": {
      "text/plain": [
       "Country/Region    China\n",
       "Confirmed           542\n",
       "Name: 2284, dtype: object"
      ]
     },
     "metadata": {},
     "output_type": "display_data"
    },
    {
     "data": {
      "text/plain": [
       "Country/Region    China\n",
       "Confirmed           504\n",
       "Name: 2287, dtype: object"
      ]
     },
     "metadata": {},
     "output_type": "display_data"
    },
    {
     "data": {
      "text/plain": [
       "Country/Region    China\n",
       "Confirmed           484\n",
       "Name: 2288, dtype: object"
      ]
     },
     "metadata": {},
     "output_type": "display_data"
    },
    {
     "data": {
      "text/plain": [
       "Country/Region    China\n",
       "Confirmed           380\n",
       "Name: 2293, dtype: object"
      ]
     },
     "metadata": {},
     "output_type": "display_data"
    },
    {
     "data": {
      "text/plain": [
       "Country/Region    China\n",
       "Confirmed           318\n",
       "Name: 2296, dtype: object"
      ]
     },
     "metadata": {},
     "output_type": "display_data"
    },
    {
     "data": {
      "text/plain": [
       "Country/Region    China\n",
       "Confirmed           303\n",
       "Name: 2297, dtype: object"
      ]
     },
     "metadata": {},
     "output_type": "display_data"
    },
    {
     "data": {
      "text/plain": [
       "Country/Region    China\n",
       "Confirmed           273\n",
       "Name: 2299, dtype: object"
      ]
     },
     "metadata": {},
     "output_type": "display_data"
    },
    {
     "data": {
      "text/plain": [
       "Country/Region    China\n",
       "Confirmed           254\n",
       "Name: 2300, dtype: object"
      ]
     },
     "metadata": {},
     "output_type": "display_data"
    },
    {
     "data": {
      "text/plain": [
       "Country/Region    China\n",
       "Confirmed           248\n",
       "Name: 2302, dtype: object"
      ]
     },
     "metadata": {},
     "output_type": "display_data"
    },
    {
     "data": {
      "text/plain": [
       "Country/Region    China\n",
       "Confirmed           176\n",
       "Name: 2310, dtype: object"
      ]
     },
     "metadata": {},
     "output_type": "display_data"
    },
    {
     "data": {
      "text/plain": [
       "Country/Region    China\n",
       "Confirmed           168\n",
       "Name: 2312, dtype: object"
      ]
     },
     "metadata": {},
     "output_type": "display_data"
    },
    {
     "data": {
      "text/plain": [
       "Country/Region    China\n",
       "Confirmed           146\n",
       "Name: 2315, dtype: object"
      ]
     },
     "metadata": {},
     "output_type": "display_data"
    },
    {
     "data": {
      "text/plain": [
       "Country/Region    China\n",
       "Confirmed           137\n",
       "Name: 2318, dtype: object"
      ]
     },
     "metadata": {},
     "output_type": "display_data"
    },
    {
     "data": {
      "text/plain": [
       "Country/Region    China\n",
       "Confirmed           134\n",
       "Name: 2320, dtype: object"
      ]
     },
     "metadata": {},
     "output_type": "display_data"
    },
    {
     "data": {
      "text/plain": [
       "Country/Region    China\n",
       "Confirmed           133\n",
       "Name: 2321, dtype: object"
      ]
     },
     "metadata": {},
     "output_type": "display_data"
    },
    {
     "data": {
      "text/plain": [
       "Country/Region    China\n",
       "Confirmed           126\n",
       "Name: 2324, dtype: object"
      ]
     },
     "metadata": {},
     "output_type": "display_data"
    },
    {
     "data": {
      "text/plain": [
       "Country/Region    China\n",
       "Confirmed            93\n",
       "Name: 2328, dtype: object"
      ]
     },
     "metadata": {},
     "output_type": "display_data"
    },
    {
     "data": {
      "text/plain": [
       "Country/Region    China\n",
       "Confirmed            76\n",
       "Name: 2333, dtype: object"
      ]
     },
     "metadata": {},
     "output_type": "display_data"
    },
    {
     "data": {
      "text/plain": [
       "Country/Region    China\n",
       "Confirmed            75\n",
       "Name: 2334, dtype: object"
      ]
     },
     "metadata": {},
     "output_type": "display_data"
    },
    {
     "data": {
      "text/plain": [
       "Country/Region    China\n",
       "Confirmed            75\n",
       "Name: 2335, dtype: object"
      ]
     },
     "metadata": {},
     "output_type": "display_data"
    },
    {
     "data": {
      "text/plain": [
       "Country/Region    China\n",
       "Confirmed            18\n",
       "Name: 2360, dtype: object"
      ]
     },
     "metadata": {},
     "output_type": "display_data"
    },
    {
     "data": {
      "text/plain": [
       "Country/Region    China\n",
       "Confirmed            18\n",
       "Name: 2361, dtype: object"
      ]
     },
     "metadata": {},
     "output_type": "display_data"
    },
    {
     "data": {
      "text/plain": [
       "Country/Region    China\n",
       "Confirmed             1\n",
       "Name: 2385, dtype: object"
      ]
     },
     "metadata": {},
     "output_type": "display_data"
    }
   ],
   "source": [
    "#Iterating through the dataset\n",
    "for index , row in df1.iterrows():\n",
    "    if (row['Country/Region'] == 'China' ):\n",
    "        display(row[['Country/Region' ,'Confirmed']])"
   ]
  },
  {
   "cell_type": "code",
   "execution_count": null,
   "metadata": {},
   "outputs": [],
   "source": [
    "#Unique Values\n",
    "covid['Country/Region'].drop_duplicates(keep='first').head(10)"
   ]
  },
  {
   "cell_type": "code",
   "execution_count": null,
   "metadata": {},
   "outputs": [],
   "source": [
    "# Countries impacted with Coronavirus\n",
    "countries = covid['Country/Region'].unique()\n",
    "type(countries) , countries"
   ]
  },
  {
   "cell_type": "code",
   "execution_count": 39,
   "metadata": {},
   "outputs": [
    {
     "data": {
      "text/html": [
       "<div>\n",
       "<style scoped>\n",
       "    .dataframe tbody tr th:only-of-type {\n",
       "        vertical-align: middle;\n",
       "    }\n",
       "\n",
       "    .dataframe tbody tr th {\n",
       "        vertical-align: top;\n",
       "    }\n",
       "\n",
       "    .dataframe thead th {\n",
       "        text-align: right;\n",
       "    }\n",
       "</style>\n",
       "<table border=\"1\" class=\"dataframe\">\n",
       "  <thead>\n",
       "    <tr style=\"text-align: right;\">\n",
       "      <th></th>\n",
       "      <th>#</th>\n",
       "      <th>Name</th>\n",
       "      <th>Type 1</th>\n",
       "      <th>Type 2</th>\n",
       "      <th>Total</th>\n",
       "      <th>HP</th>\n",
       "      <th>Attack</th>\n",
       "      <th>Defense</th>\n",
       "      <th>Sp. Atk</th>\n",
       "      <th>Sp. Def</th>\n",
       "      <th>Speed</th>\n",
       "      <th>Generation</th>\n",
       "      <th>Legendary</th>\n",
       "    </tr>\n",
       "  </thead>\n",
       "  <tbody>\n",
       "    <tr>\n",
       "      <th>0</th>\n",
       "      <td>1</td>\n",
       "      <td>Bulbasaur</td>\n",
       "      <td>Grass</td>\n",
       "      <td>Poison</td>\n",
       "      <td>318</td>\n",
       "      <td>45</td>\n",
       "      <td>49</td>\n",
       "      <td>49</td>\n",
       "      <td>65</td>\n",
       "      <td>65</td>\n",
       "      <td>45</td>\n",
       "      <td>1</td>\n",
       "      <td>False</td>\n",
       "    </tr>\n",
       "    <tr>\n",
       "      <th>1</th>\n",
       "      <td>2</td>\n",
       "      <td>Ivysaur</td>\n",
       "      <td>Grass</td>\n",
       "      <td>Poison</td>\n",
       "      <td>405</td>\n",
       "      <td>60</td>\n",
       "      <td>62</td>\n",
       "      <td>63</td>\n",
       "      <td>80</td>\n",
       "      <td>80</td>\n",
       "      <td>60</td>\n",
       "      <td>1</td>\n",
       "      <td>False</td>\n",
       "    </tr>\n",
       "    <tr>\n",
       "      <th>2</th>\n",
       "      <td>3</td>\n",
       "      <td>Venusaur</td>\n",
       "      <td>Grass</td>\n",
       "      <td>Poison</td>\n",
       "      <td>525</td>\n",
       "      <td>80</td>\n",
       "      <td>82</td>\n",
       "      <td>83</td>\n",
       "      <td>100</td>\n",
       "      <td>100</td>\n",
       "      <td>80</td>\n",
       "      <td>1</td>\n",
       "      <td>False</td>\n",
       "    </tr>\n",
       "    <tr>\n",
       "      <th>3</th>\n",
       "      <td>3</td>\n",
       "      <td>VenusaurMega Venusaur</td>\n",
       "      <td>Grass</td>\n",
       "      <td>Poison</td>\n",
       "      <td>625</td>\n",
       "      <td>80</td>\n",
       "      <td>100</td>\n",
       "      <td>123</td>\n",
       "      <td>122</td>\n",
       "      <td>120</td>\n",
       "      <td>80</td>\n",
       "      <td>1</td>\n",
       "      <td>False</td>\n",
       "    </tr>\n",
       "    <tr>\n",
       "      <th>4</th>\n",
       "      <td>4</td>\n",
       "      <td>Charmander</td>\n",
       "      <td>Fire</td>\n",
       "      <td>NaN</td>\n",
       "      <td>309</td>\n",
       "      <td>39</td>\n",
       "      <td>52</td>\n",
       "      <td>43</td>\n",
       "      <td>60</td>\n",
       "      <td>50</td>\n",
       "      <td>65</td>\n",
       "      <td>1</td>\n",
       "      <td>False</td>\n",
       "    </tr>\n",
       "  </tbody>\n",
       "</table>\n",
       "</div>"
      ],
      "text/plain": [
       "   #                   Name Type 1  Type 2  Total  HP  Attack  Defense  \\\n",
       "0  1              Bulbasaur  Grass  Poison    318  45      49       49   \n",
       "1  2                Ivysaur  Grass  Poison    405  60      62       63   \n",
       "2  3               Venusaur  Grass  Poison    525  80      82       83   \n",
       "3  3  VenusaurMega Venusaur  Grass  Poison    625  80     100      123   \n",
       "4  4             Charmander   Fire     NaN    309  39      52       43   \n",
       "\n",
       "   Sp. Atk  Sp. Def  Speed  Generation  Legendary  \n",
       "0       65       65     45           1      False  \n",
       "1       80       80     60           1      False  \n",
       "2      100      100     80           1      False  \n",
       "3      122      120     80           1      False  \n",
       "4       60       50     65           1      False  "
      ]
     },
     "execution_count": 39,
     "metadata": {},
     "output_type": "execute_result"
    }
   ],
   "source": [
    "df2 = pd.read_csv('Pokemon.csv')\n",
    "df2.head(5)"
   ]
  },
  {
   "cell_type": "code",
   "execution_count": 40,
   "metadata": {},
   "outputs": [
    {
     "data": {
      "text/html": [
       "<div>\n",
       "<style scoped>\n",
       "    .dataframe tbody tr th:only-of-type {\n",
       "        vertical-align: middle;\n",
       "    }\n",
       "\n",
       "    .dataframe tbody tr th {\n",
       "        vertical-align: top;\n",
       "    }\n",
       "\n",
       "    .dataframe thead th {\n",
       "        text-align: right;\n",
       "    }\n",
       "</style>\n",
       "<table border=\"1\" class=\"dataframe\">\n",
       "  <thead>\n",
       "    <tr style=\"text-align: right;\">\n",
       "      <th></th>\n",
       "      <th>#</th>\n",
       "      <th>Name</th>\n",
       "      <th>Type 1</th>\n",
       "      <th>Type 2</th>\n",
       "      <th>Total</th>\n",
       "      <th>HP</th>\n",
       "      <th>Attack</th>\n",
       "      <th>Defense</th>\n",
       "      <th>Sp. Atk</th>\n",
       "      <th>Sp. Def</th>\n",
       "      <th>Speed</th>\n",
       "      <th>Generation</th>\n",
       "      <th>Legendary</th>\n",
       "    </tr>\n",
       "  </thead>\n",
       "  <tbody>\n",
       "    <tr>\n",
       "      <th>0</th>\n",
       "      <td>1</td>\n",
       "      <td>Bulbasaur</td>\n",
       "      <td>Grass</td>\n",
       "      <td>Poison</td>\n",
       "      <td>94</td>\n",
       "      <td>45</td>\n",
       "      <td>49</td>\n",
       "      <td>49</td>\n",
       "      <td>65</td>\n",
       "      <td>65</td>\n",
       "      <td>45</td>\n",
       "      <td>1</td>\n",
       "      <td>False</td>\n",
       "    </tr>\n",
       "    <tr>\n",
       "      <th>1</th>\n",
       "      <td>2</td>\n",
       "      <td>Ivysaur</td>\n",
       "      <td>Grass</td>\n",
       "      <td>Poison</td>\n",
       "      <td>122</td>\n",
       "      <td>60</td>\n",
       "      <td>62</td>\n",
       "      <td>63</td>\n",
       "      <td>80</td>\n",
       "      <td>80</td>\n",
       "      <td>60</td>\n",
       "      <td>1</td>\n",
       "      <td>False</td>\n",
       "    </tr>\n",
       "    <tr>\n",
       "      <th>2</th>\n",
       "      <td>3</td>\n",
       "      <td>Venusaur</td>\n",
       "      <td>Grass</td>\n",
       "      <td>Poison</td>\n",
       "      <td>162</td>\n",
       "      <td>80</td>\n",
       "      <td>82</td>\n",
       "      <td>83</td>\n",
       "      <td>100</td>\n",
       "      <td>100</td>\n",
       "      <td>80</td>\n",
       "      <td>1</td>\n",
       "      <td>False</td>\n",
       "    </tr>\n",
       "    <tr>\n",
       "      <th>3</th>\n",
       "      <td>3</td>\n",
       "      <td>VenusaurMega Venusaur</td>\n",
       "      <td>Grass</td>\n",
       "      <td>Poison</td>\n",
       "      <td>180</td>\n",
       "      <td>80</td>\n",
       "      <td>100</td>\n",
       "      <td>123</td>\n",
       "      <td>122</td>\n",
       "      <td>120</td>\n",
       "      <td>80</td>\n",
       "      <td>1</td>\n",
       "      <td>False</td>\n",
       "    </tr>\n",
       "    <tr>\n",
       "      <th>4</th>\n",
       "      <td>4</td>\n",
       "      <td>Charmander</td>\n",
       "      <td>Fire</td>\n",
       "      <td>NaN</td>\n",
       "      <td>91</td>\n",
       "      <td>39</td>\n",
       "      <td>52</td>\n",
       "      <td>43</td>\n",
       "      <td>60</td>\n",
       "      <td>50</td>\n",
       "      <td>65</td>\n",
       "      <td>1</td>\n",
       "      <td>False</td>\n",
       "    </tr>\n",
       "  </tbody>\n",
       "</table>\n",
       "</div>"
      ],
      "text/plain": [
       "   #                   Name Type 1  Type 2  Total  HP  Attack  Defense  \\\n",
       "0  1              Bulbasaur  Grass  Poison     94  45      49       49   \n",
       "1  2                Ivysaur  Grass  Poison    122  60      62       63   \n",
       "2  3               Venusaur  Grass  Poison    162  80      82       83   \n",
       "3  3  VenusaurMega Venusaur  Grass  Poison    180  80     100      123   \n",
       "4  4             Charmander   Fire     NaN     91  39      52       43   \n",
       "\n",
       "   Sp. Atk  Sp. Def  Speed  Generation  Legendary  \n",
       "0       65       65     45           1      False  \n",
       "1       80       80     60           1      False  \n",
       "2      100      100     80           1      False  \n",
       "3      122      120     80           1      False  \n",
       "4       60       50     65           1      False  "
      ]
     },
     "execution_count": 40,
     "metadata": {},
     "output_type": "execute_result"
    }
   ],
   "source": [
    "# Sum of Columns \n",
    "df2['Total'] = df2['HP'] + df2['Attack']\n",
    "df2.head(5)"
   ]
  },
  {
   "cell_type": "code",
   "execution_count": 41,
   "metadata": {},
   "outputs": [
    {
     "data": {
      "text/html": [
       "<div>\n",
       "<style scoped>\n",
       "    .dataframe tbody tr th:only-of-type {\n",
       "        vertical-align: middle;\n",
       "    }\n",
       "\n",
       "    .dataframe tbody tr th {\n",
       "        vertical-align: top;\n",
       "    }\n",
       "\n",
       "    .dataframe thead th {\n",
       "        text-align: right;\n",
       "    }\n",
       "</style>\n",
       "<table border=\"1\" class=\"dataframe\">\n",
       "  <thead>\n",
       "    <tr style=\"text-align: right;\">\n",
       "      <th></th>\n",
       "      <th>#</th>\n",
       "      <th>Name</th>\n",
       "      <th>Type 1</th>\n",
       "      <th>Type 2</th>\n",
       "      <th>Total</th>\n",
       "      <th>HP</th>\n",
       "      <th>Attack</th>\n",
       "      <th>Defense</th>\n",
       "      <th>Sp. Atk</th>\n",
       "      <th>Sp. Def</th>\n",
       "      <th>Speed</th>\n",
       "      <th>Generation</th>\n",
       "      <th>Legendary</th>\n",
       "    </tr>\n",
       "  </thead>\n",
       "  <tbody>\n",
       "    <tr>\n",
       "      <th>0</th>\n",
       "      <td>1</td>\n",
       "      <td>Bulbasaur</td>\n",
       "      <td>Grass</td>\n",
       "      <td>Poison</td>\n",
       "      <td>367</td>\n",
       "      <td>45</td>\n",
       "      <td>49</td>\n",
       "      <td>49</td>\n",
       "      <td>65</td>\n",
       "      <td>65</td>\n",
       "      <td>45</td>\n",
       "      <td>1</td>\n",
       "      <td>False</td>\n",
       "    </tr>\n",
       "    <tr>\n",
       "      <th>1</th>\n",
       "      <td>2</td>\n",
       "      <td>Ivysaur</td>\n",
       "      <td>Grass</td>\n",
       "      <td>Poison</td>\n",
       "      <td>467</td>\n",
       "      <td>60</td>\n",
       "      <td>62</td>\n",
       "      <td>63</td>\n",
       "      <td>80</td>\n",
       "      <td>80</td>\n",
       "      <td>60</td>\n",
       "      <td>1</td>\n",
       "      <td>False</td>\n",
       "    </tr>\n",
       "    <tr>\n",
       "      <th>2</th>\n",
       "      <td>3</td>\n",
       "      <td>Venusaur</td>\n",
       "      <td>Grass</td>\n",
       "      <td>Poison</td>\n",
       "      <td>607</td>\n",
       "      <td>80</td>\n",
       "      <td>82</td>\n",
       "      <td>83</td>\n",
       "      <td>100</td>\n",
       "      <td>100</td>\n",
       "      <td>80</td>\n",
       "      <td>1</td>\n",
       "      <td>False</td>\n",
       "    </tr>\n",
       "    <tr>\n",
       "      <th>3</th>\n",
       "      <td>3</td>\n",
       "      <td>VenusaurMega Venusaur</td>\n",
       "      <td>Grass</td>\n",
       "      <td>Poison</td>\n",
       "      <td>725</td>\n",
       "      <td>80</td>\n",
       "      <td>100</td>\n",
       "      <td>123</td>\n",
       "      <td>122</td>\n",
       "      <td>120</td>\n",
       "      <td>80</td>\n",
       "      <td>1</td>\n",
       "      <td>False</td>\n",
       "    </tr>\n",
       "    <tr>\n",
       "      <th>4</th>\n",
       "      <td>4</td>\n",
       "      <td>Charmander</td>\n",
       "      <td>Fire</td>\n",
       "      <td>NaN</td>\n",
       "      <td>335</td>\n",
       "      <td>39</td>\n",
       "      <td>52</td>\n",
       "      <td>43</td>\n",
       "      <td>60</td>\n",
       "      <td>50</td>\n",
       "      <td>65</td>\n",
       "      <td>1</td>\n",
       "      <td>False</td>\n",
       "    </tr>\n",
       "  </tbody>\n",
       "</table>\n",
       "</div>"
      ],
      "text/plain": [
       "   #                   Name Type 1  Type 2  Total  HP  Attack  Defense  \\\n",
       "0  1              Bulbasaur  Grass  Poison    367  45      49       49   \n",
       "1  2                Ivysaur  Grass  Poison    467  60      62       63   \n",
       "2  3               Venusaur  Grass  Poison    607  80      82       83   \n",
       "3  3  VenusaurMega Venusaur  Grass  Poison    725  80     100      123   \n",
       "4  4             Charmander   Fire     NaN    335  39      52       43   \n",
       "\n",
       "   Sp. Atk  Sp. Def  Speed  Generation  Legendary  \n",
       "0       65       65     45           1      False  \n",
       "1       80       80     60           1      False  \n",
       "2      100      100     80           1      False  \n",
       "3      122      120     80           1      False  \n",
       "4       60       50     65           1      False  "
      ]
     },
     "execution_count": 41,
     "metadata": {},
     "output_type": "execute_result"
    }
   ],
   "source": [
    "# Sum of Columns \n",
    "df2['Total'] = df2.iloc[:,4:10].sum(axis=1)\n",
    "df2.head(5)"
   ]
  },
  {
   "cell_type": "code",
   "execution_count": 42,
   "metadata": {},
   "outputs": [
    {
     "data": {
      "text/html": [
       "<div>\n",
       "<style scoped>\n",
       "    .dataframe tbody tr th:only-of-type {\n",
       "        vertical-align: middle;\n",
       "    }\n",
       "\n",
       "    .dataframe tbody tr th {\n",
       "        vertical-align: top;\n",
       "    }\n",
       "\n",
       "    .dataframe thead th {\n",
       "        text-align: right;\n",
       "    }\n",
       "</style>\n",
       "<table border=\"1\" class=\"dataframe\">\n",
       "  <thead>\n",
       "    <tr style=\"text-align: right;\">\n",
       "      <th></th>\n",
       "      <th>#</th>\n",
       "      <th>Name</th>\n",
       "      <th>Type 1</th>\n",
       "      <th>Type 2</th>\n",
       "      <th>Total</th>\n",
       "      <th>HP</th>\n",
       "      <th>Attack</th>\n",
       "      <th>Defense</th>\n",
       "      <th>Sp. Atk</th>\n",
       "      <th>Sp. Def</th>\n",
       "      <th>Legendary</th>\n",
       "      <th>Speed</th>\n",
       "      <th>Generation</th>\n",
       "    </tr>\n",
       "  </thead>\n",
       "  <tbody>\n",
       "    <tr>\n",
       "      <th>0</th>\n",
       "      <td>1</td>\n",
       "      <td>Bulbasaur</td>\n",
       "      <td>Grass</td>\n",
       "      <td>Poison</td>\n",
       "      <td>367</td>\n",
       "      <td>45</td>\n",
       "      <td>49</td>\n",
       "      <td>49</td>\n",
       "      <td>65</td>\n",
       "      <td>65</td>\n",
       "      <td>False</td>\n",
       "      <td>45</td>\n",
       "      <td>1</td>\n",
       "    </tr>\n",
       "    <tr>\n",
       "      <th>1</th>\n",
       "      <td>2</td>\n",
       "      <td>Ivysaur</td>\n",
       "      <td>Grass</td>\n",
       "      <td>Poison</td>\n",
       "      <td>467</td>\n",
       "      <td>60</td>\n",
       "      <td>62</td>\n",
       "      <td>63</td>\n",
       "      <td>80</td>\n",
       "      <td>80</td>\n",
       "      <td>False</td>\n",
       "      <td>60</td>\n",
       "      <td>1</td>\n",
       "    </tr>\n",
       "    <tr>\n",
       "      <th>2</th>\n",
       "      <td>3</td>\n",
       "      <td>Venusaur</td>\n",
       "      <td>Grass</td>\n",
       "      <td>Poison</td>\n",
       "      <td>607</td>\n",
       "      <td>80</td>\n",
       "      <td>82</td>\n",
       "      <td>83</td>\n",
       "      <td>100</td>\n",
       "      <td>100</td>\n",
       "      <td>False</td>\n",
       "      <td>80</td>\n",
       "      <td>1</td>\n",
       "    </tr>\n",
       "    <tr>\n",
       "      <th>3</th>\n",
       "      <td>3</td>\n",
       "      <td>VenusaurMega Venusaur</td>\n",
       "      <td>Grass</td>\n",
       "      <td>Poison</td>\n",
       "      <td>725</td>\n",
       "      <td>80</td>\n",
       "      <td>100</td>\n",
       "      <td>123</td>\n",
       "      <td>122</td>\n",
       "      <td>120</td>\n",
       "      <td>False</td>\n",
       "      <td>80</td>\n",
       "      <td>1</td>\n",
       "    </tr>\n",
       "    <tr>\n",
       "      <th>4</th>\n",
       "      <td>4</td>\n",
       "      <td>Charmander</td>\n",
       "      <td>Fire</td>\n",
       "      <td>NaN</td>\n",
       "      <td>335</td>\n",
       "      <td>39</td>\n",
       "      <td>52</td>\n",
       "      <td>43</td>\n",
       "      <td>60</td>\n",
       "      <td>50</td>\n",
       "      <td>False</td>\n",
       "      <td>65</td>\n",
       "      <td>1</td>\n",
       "    </tr>\n",
       "  </tbody>\n",
       "</table>\n",
       "</div>"
      ],
      "text/plain": [
       "   #                   Name Type 1  Type 2  Total  HP  Attack  Defense  \\\n",
       "0  1              Bulbasaur  Grass  Poison    367  45      49       49   \n",
       "1  2                Ivysaur  Grass  Poison    467  60      62       63   \n",
       "2  3               Venusaur  Grass  Poison    607  80      82       83   \n",
       "3  3  VenusaurMega Venusaur  Grass  Poison    725  80     100      123   \n",
       "4  4             Charmander   Fire     NaN    335  39      52       43   \n",
       "\n",
       "   Sp. Atk  Sp. Def  Legendary  Speed  Generation  \n",
       "0       65       65      False     45           1  \n",
       "1       80       80      False     60           1  \n",
       "2      100      100      False     80           1  \n",
       "3      122      120      False     80           1  \n",
       "4       60       50      False     65           1  "
      ]
     },
     "execution_count": 42,
     "metadata": {},
     "output_type": "execute_result"
    }
   ],
   "source": [
    "#Shifting \"Total\" column\n",
    "\n",
    "cols = list(df2.columns)\n",
    "\n",
    "df2 = df2[cols[0:10] + [cols[-1]] + cols[10:12]]\n",
    "df2.head(5)"
   ]
  },
  {
   "cell_type": "code",
   "execution_count": null,
   "metadata": {},
   "outputs": [],
   "source": [
    "#Shifting \"Legendary\" column -  Index location -1 or 12\n",
    "\n",
    "cols = list(df2.columns)\n",
    "\n",
    "df2 = df2[cols[0:10] + [cols[-1]] + cols[10:12]]\n",
    "df2.head(5)"
   ]
  },
  {
   "cell_type": "code",
   "execution_count": null,
   "metadata": {},
   "outputs": [],
   "source": [
    "#Shifting \"Generation\" column - Index location -1 or 12\n",
    "\n",
    "cols = list(df2.columns)\n",
    "\n",
    "df2 = df2[cols[0:10] + [cols[12]] + cols[10:12]]\n",
    "df2.head(5)"
   ]
  },
  {
   "cell_type": "code",
   "execution_count": null,
   "metadata": {},
   "outputs": [],
   "source": [
    "#Save to CSV file\n",
    "\n",
    "df2.to_csv('poke_updated.csv')"
   ]
  },
  {
   "cell_type": "code",
   "execution_count": null,
   "metadata": {},
   "outputs": [],
   "source": [
    "#Save to CSV file without index column\n",
    "\n",
    "df2.to_csv('poke_updated1.csv', index=False)"
   ]
  },
  {
   "cell_type": "code",
   "execution_count": null,
   "metadata": {},
   "outputs": [],
   "source": [
    "df2.head(10)"
   ]
  },
  {
   "cell_type": "code",
   "execution_count": null,
   "metadata": {},
   "outputs": [],
   "source": [
    "# Save Dataframe as text file\n",
    "df2.to_csv('poke.txt' , sep='\\t' , index=False)"
   ]
  },
  {
   "cell_type": "code",
   "execution_count": null,
   "metadata": {},
   "outputs": [],
   "source": [
    "# Save Dataframe as xlsx file\n",
    "df2.to_excel('poke.xlsx')"
   ]
  },
  {
   "cell_type": "code",
   "execution_count": null,
   "metadata": {},
   "outputs": [],
   "source": [
    "# Save Dataframe as xlsx file without row names\n",
    "df2.to_excel('poke.xlsx', index=0)"
   ]
  },
  {
   "cell_type": "code",
   "execution_count": null,
   "metadata": {},
   "outputs": [],
   "source": [
    "#Filtering using loc\n",
    "\n",
    "df2.loc[df2['Type 2'] == 'Dragon']"
   ]
  },
  {
   "cell_type": "code",
   "execution_count": null,
   "metadata": {},
   "outputs": [],
   "source": [
    "#Filtering using loc\n",
    "df3 = df2.loc[(df2['Type 2'] == 'Dragon') & (df2['Type 1'] == 'Dark')]\n",
    "df3"
   ]
  },
  {
   "cell_type": "code",
   "execution_count": null,
   "metadata": {},
   "outputs": [],
   "source": [
    "#Reset index for Dataframe df3 keeping old index column\n",
    "\n",
    "df4 = df3.reset_index()\n",
    "df4"
   ]
  },
  {
   "cell_type": "code",
   "execution_count": null,
   "metadata": {},
   "outputs": [],
   "source": [
    "#Reset index for Dataframe df3 removing old index column\n",
    "\n",
    "df3.reset_index(drop=True , inplace=True)\n",
    "df3"
   ]
  },
  {
   "cell_type": "code",
   "execution_count": null,
   "metadata": {},
   "outputs": [],
   "source": [
    "df2.head(10)"
   ]
  },
  {
   "cell_type": "markdown",
   "metadata": {},
   "source": [
    "# LIKE OPERATION IN PANDAS"
   ]
  },
  {
   "cell_type": "code",
   "execution_count": 44,
   "metadata": {},
   "outputs": [
    {
     "data": {
      "text/plain": [
       "0     True\n",
       "1     True\n",
       "2     True\n",
       "3     True\n",
       "4    False\n",
       "5    False\n",
       "6    False\n",
       "7    False\n",
       "8    False\n",
       "9    False\n",
       "Name: Name, dtype: bool"
      ]
     },
     "execution_count": 44,
     "metadata": {},
     "output_type": "execute_result"
    }
   ],
   "source": [
    "df2.Name.str.contains(\"saur\").head(10)"
   ]
  },
  {
   "cell_type": "code",
   "execution_count": 45,
   "metadata": {},
   "outputs": [
    {
     "data": {
      "text/html": [
       "<div>\n",
       "<style scoped>\n",
       "    .dataframe tbody tr th:only-of-type {\n",
       "        vertical-align: middle;\n",
       "    }\n",
       "\n",
       "    .dataframe tbody tr th {\n",
       "        vertical-align: top;\n",
       "    }\n",
       "\n",
       "    .dataframe thead th {\n",
       "        text-align: right;\n",
       "    }\n",
       "</style>\n",
       "<table border=\"1\" class=\"dataframe\">\n",
       "  <thead>\n",
       "    <tr style=\"text-align: right;\">\n",
       "      <th></th>\n",
       "      <th>#</th>\n",
       "      <th>Name</th>\n",
       "      <th>Type 1</th>\n",
       "      <th>Type 2</th>\n",
       "      <th>Total</th>\n",
       "      <th>HP</th>\n",
       "      <th>Attack</th>\n",
       "      <th>Defense</th>\n",
       "      <th>Sp. Atk</th>\n",
       "      <th>Sp. Def</th>\n",
       "      <th>Legendary</th>\n",
       "      <th>Speed</th>\n",
       "      <th>Generation</th>\n",
       "    </tr>\n",
       "  </thead>\n",
       "  <tbody>\n",
       "    <tr>\n",
       "      <th>18</th>\n",
       "      <td>15</td>\n",
       "      <td>Beedrill</td>\n",
       "      <td>Bug</td>\n",
       "      <td>Poison</td>\n",
       "      <td>475</td>\n",
       "      <td>65</td>\n",
       "      <td>90</td>\n",
       "      <td>40</td>\n",
       "      <td>45</td>\n",
       "      <td>80</td>\n",
       "      <td>False</td>\n",
       "      <td>75</td>\n",
       "      <td>1</td>\n",
       "    </tr>\n",
       "    <tr>\n",
       "      <th>19</th>\n",
       "      <td>15</td>\n",
       "      <td>BeedrillMega Beedrill</td>\n",
       "      <td>Bug</td>\n",
       "      <td>Poison</td>\n",
       "      <td>565</td>\n",
       "      <td>65</td>\n",
       "      <td>150</td>\n",
       "      <td>40</td>\n",
       "      <td>15</td>\n",
       "      <td>80</td>\n",
       "      <td>False</td>\n",
       "      <td>145</td>\n",
       "      <td>1</td>\n",
       "    </tr>\n",
       "    <tr>\n",
       "      <th>198</th>\n",
       "      <td>183</td>\n",
       "      <td>Marill</td>\n",
       "      <td>Water</td>\n",
       "      <td>Fairy</td>\n",
       "      <td>300</td>\n",
       "      <td>70</td>\n",
       "      <td>20</td>\n",
       "      <td>50</td>\n",
       "      <td>20</td>\n",
       "      <td>50</td>\n",
       "      <td>False</td>\n",
       "      <td>40</td>\n",
       "      <td>2</td>\n",
       "    </tr>\n",
       "    <tr>\n",
       "      <th>199</th>\n",
       "      <td>184</td>\n",
       "      <td>Azumarill</td>\n",
       "      <td>Water</td>\n",
       "      <td>Fairy</td>\n",
       "      <td>520</td>\n",
       "      <td>100</td>\n",
       "      <td>50</td>\n",
       "      <td>80</td>\n",
       "      <td>60</td>\n",
       "      <td>80</td>\n",
       "      <td>False</td>\n",
       "      <td>50</td>\n",
       "      <td>2</td>\n",
       "    </tr>\n",
       "    <tr>\n",
       "      <th>322</th>\n",
       "      <td>298</td>\n",
       "      <td>Azurill</td>\n",
       "      <td>Normal</td>\n",
       "      <td>Fairy</td>\n",
       "      <td>240</td>\n",
       "      <td>50</td>\n",
       "      <td>20</td>\n",
       "      <td>40</td>\n",
       "      <td>20</td>\n",
       "      <td>40</td>\n",
       "      <td>False</td>\n",
       "      <td>20</td>\n",
       "      <td>3</td>\n",
       "    </tr>\n",
       "    <tr>\n",
       "      <th>589</th>\n",
       "      <td>530</td>\n",
       "      <td>Excadrill</td>\n",
       "      <td>Ground</td>\n",
       "      <td>Steel</td>\n",
       "      <td>665</td>\n",
       "      <td>110</td>\n",
       "      <td>135</td>\n",
       "      <td>60</td>\n",
       "      <td>50</td>\n",
       "      <td>65</td>\n",
       "      <td>False</td>\n",
       "      <td>88</td>\n",
       "      <td>5</td>\n",
       "    </tr>\n",
       "    <tr>\n",
       "      <th>653</th>\n",
       "      <td>592</td>\n",
       "      <td>Frillish</td>\n",
       "      <td>Water</td>\n",
       "      <td>Ghost</td>\n",
       "      <td>390</td>\n",
       "      <td>55</td>\n",
       "      <td>40</td>\n",
       "      <td>50</td>\n",
       "      <td>65</td>\n",
       "      <td>85</td>\n",
       "      <td>False</td>\n",
       "      <td>40</td>\n",
       "      <td>5</td>\n",
       "    </tr>\n",
       "  </tbody>\n",
       "</table>\n",
       "</div>"
      ],
      "text/plain": [
       "       #                   Name  Type 1  Type 2  Total   HP  Attack  Defense  \\\n",
       "18    15               Beedrill     Bug  Poison    475   65      90       40   \n",
       "19    15  BeedrillMega Beedrill     Bug  Poison    565   65     150       40   \n",
       "198  183                 Marill   Water   Fairy    300   70      20       50   \n",
       "199  184              Azumarill   Water   Fairy    520  100      50       80   \n",
       "322  298                Azurill  Normal   Fairy    240   50      20       40   \n",
       "589  530              Excadrill  Ground   Steel    665  110     135       60   \n",
       "653  592               Frillish   Water   Ghost    390   55      40       50   \n",
       "\n",
       "     Sp. Atk  Sp. Def  Legendary  Speed  Generation  \n",
       "18        45       80      False     75           1  \n",
       "19        15       80      False    145           1  \n",
       "198       20       50      False     40           2  \n",
       "199       60       80      False     50           2  \n",
       "322       20       40      False     20           3  \n",
       "589       50       65      False     88           5  \n",
       "653       65       85      False     40           5  "
      ]
     },
     "execution_count": 45,
     "metadata": {},
     "output_type": "execute_result"
    }
   ],
   "source": [
    "# Display all rows containing Name \"rill\"\n",
    "df2.loc[df2.Name.str.contains(\"rill\")]"
   ]
  },
  {
   "cell_type": "code",
   "execution_count": null,
   "metadata": {},
   "outputs": [],
   "source": [
    "# Exclude all rows containing \"rill\"\n",
    "df2.loc[~df2.Name.str.contains(\"rill\")].head(10)"
   ]
  },
  {
   "cell_type": "code",
   "execution_count": null,
   "metadata": {},
   "outputs": [],
   "source": [
    "#Display all rows with Type-1 as \"Grass\" and Type-2 as \"Poison\"\n",
    "\n",
    "df2.loc[df2['Type 1'].str.contains(\"Grass\") & df2['Type 2'].str.contains(\"Poison\")]"
   ]
  },
  {
   "cell_type": "code",
   "execution_count": null,
   "metadata": {},
   "outputs": [],
   "source": [
    "df2.loc[df2['Type 1'].str.contains('Grass|Water',regex = True)].head(10)"
   ]
  },
  {
   "cell_type": "code",
   "execution_count": null,
   "metadata": {},
   "outputs": [],
   "source": [
    "# Due to Case-sensitive it will not return any data\n",
    "\n",
    "df2.loc[df2['Type 1'].str.contains('grass|water',regex = True)].head(10)"
   ]
  },
  {
   "cell_type": "code",
   "execution_count": null,
   "metadata": {},
   "outputs": [],
   "source": [
    "# To ignore case we can use \"case = False\"\n",
    "\n",
    "df2.loc[df2['Type 1'].str.contains('grass|water', case = False ,regex = True)].head(10)"
   ]
  },
  {
   "cell_type": "code",
   "execution_count": null,
   "metadata": {},
   "outputs": [],
   "source": [
    "# To ignore case we can use \"Flags = re.I\"\n",
    "\n",
    "df2.loc[df2['Type 1'].str.contains('grass|water',flags = re.I ,regex = True)].head(10)"
   ]
  },
  {
   "cell_type": "markdown",
   "metadata": {},
   "source": [
    "# Regex in Pandas dataframe"
   ]
  },
  {
   "cell_type": "code",
   "execution_count": 46,
   "metadata": {},
   "outputs": [
    {
     "data": {
      "text/html": [
       "<div>\n",
       "<style scoped>\n",
       "    .dataframe tbody tr th:only-of-type {\n",
       "        vertical-align: middle;\n",
       "    }\n",
       "\n",
       "    .dataframe tbody tr th {\n",
       "        vertical-align: top;\n",
       "    }\n",
       "\n",
       "    .dataframe thead th {\n",
       "        text-align: right;\n",
       "    }\n",
       "</style>\n",
       "<table border=\"1\" class=\"dataframe\">\n",
       "  <thead>\n",
       "    <tr style=\"text-align: right;\">\n",
       "      <th></th>\n",
       "      <th>#</th>\n",
       "      <th>Name</th>\n",
       "      <th>Type 1</th>\n",
       "      <th>Type 2</th>\n",
       "      <th>Total</th>\n",
       "      <th>HP</th>\n",
       "      <th>Attack</th>\n",
       "      <th>Defense</th>\n",
       "      <th>Sp. Atk</th>\n",
       "      <th>Sp. Def</th>\n",
       "      <th>Legendary</th>\n",
       "      <th>Speed</th>\n",
       "      <th>Generation</th>\n",
       "    </tr>\n",
       "  </thead>\n",
       "  <tbody>\n",
       "    <tr>\n",
       "      <th>10</th>\n",
       "      <td>8</td>\n",
       "      <td>Wartortle</td>\n",
       "      <td>Water</td>\n",
       "      <td>NaN</td>\n",
       "      <td>469</td>\n",
       "      <td>59</td>\n",
       "      <td>63</td>\n",
       "      <td>80</td>\n",
       "      <td>65</td>\n",
       "      <td>80</td>\n",
       "      <td>False</td>\n",
       "      <td>58</td>\n",
       "      <td>1</td>\n",
       "    </tr>\n",
       "    <tr>\n",
       "      <th>350</th>\n",
       "      <td>320</td>\n",
       "      <td>Wailmer</td>\n",
       "      <td>Water</td>\n",
       "      <td>NaN</td>\n",
       "      <td>540</td>\n",
       "      <td>130</td>\n",
       "      <td>70</td>\n",
       "      <td>35</td>\n",
       "      <td>70</td>\n",
       "      <td>35</td>\n",
       "      <td>False</td>\n",
       "      <td>60</td>\n",
       "      <td>3</td>\n",
       "    </tr>\n",
       "    <tr>\n",
       "      <th>351</th>\n",
       "      <td>321</td>\n",
       "      <td>Wailord</td>\n",
       "      <td>Water</td>\n",
       "      <td>NaN</td>\n",
       "      <td>700</td>\n",
       "      <td>170</td>\n",
       "      <td>90</td>\n",
       "      <td>45</td>\n",
       "      <td>90</td>\n",
       "      <td>45</td>\n",
       "      <td>False</td>\n",
       "      <td>60</td>\n",
       "      <td>3</td>\n",
       "    </tr>\n",
       "    <tr>\n",
       "      <th>400</th>\n",
       "      <td>365</td>\n",
       "      <td>Walrein</td>\n",
       "      <td>Ice</td>\n",
       "      <td>Water</td>\n",
       "      <td>655</td>\n",
       "      <td>110</td>\n",
       "      <td>80</td>\n",
       "      <td>90</td>\n",
       "      <td>95</td>\n",
       "      <td>90</td>\n",
       "      <td>False</td>\n",
       "      <td>65</td>\n",
       "      <td>3</td>\n",
       "    </tr>\n",
       "    <tr>\n",
       "      <th>564</th>\n",
       "      <td>505</td>\n",
       "      <td>Watchog</td>\n",
       "      <td>Normal</td>\n",
       "      <td>NaN</td>\n",
       "      <td>488</td>\n",
       "      <td>60</td>\n",
       "      <td>85</td>\n",
       "      <td>69</td>\n",
       "      <td>60</td>\n",
       "      <td>69</td>\n",
       "      <td>False</td>\n",
       "      <td>77</td>\n",
       "      <td>5</td>\n",
       "    </tr>\n",
       "  </tbody>\n",
       "</table>\n",
       "</div>"
      ],
      "text/plain": [
       "       #       Name  Type 1 Type 2  Total   HP  Attack  Defense  Sp. Atk  \\\n",
       "10     8  Wartortle   Water    NaN    469   59      63       80       65   \n",
       "350  320    Wailmer   Water    NaN    540  130      70       35       70   \n",
       "351  321    Wailord   Water    NaN    700  170      90       45       90   \n",
       "400  365    Walrein     Ice  Water    655  110      80       90       95   \n",
       "564  505    Watchog  Normal    NaN    488   60      85       69       60   \n",
       "\n",
       "     Sp. Def  Legendary  Speed  Generation  \n",
       "10        80      False     58           1  \n",
       "350       35      False     60           3  \n",
       "351       45      False     60           3  \n",
       "400       90      False     65           3  \n",
       "564       69      False     77           5  "
      ]
     },
     "execution_count": 46,
     "metadata": {},
     "output_type": "execute_result"
    }
   ],
   "source": [
    "#Get all rows with name starting with \"wa\"\n",
    "\n",
    "df2.loc[df2.Name.str.contains('^Wa',flags = re.I ,regex = True)].head(10)"
   ]
  },
  {
   "cell_type": "code",
   "execution_count": 47,
   "metadata": {},
   "outputs": [
    {
     "data": {
      "text/html": [
       "<div>\n",
       "<style scoped>\n",
       "    .dataframe tbody tr th:only-of-type {\n",
       "        vertical-align: middle;\n",
       "    }\n",
       "\n",
       "    .dataframe tbody tr th {\n",
       "        vertical-align: top;\n",
       "    }\n",
       "\n",
       "    .dataframe thead th {\n",
       "        text-align: right;\n",
       "    }\n",
       "</style>\n",
       "<table border=\"1\" class=\"dataframe\">\n",
       "  <thead>\n",
       "    <tr style=\"text-align: right;\">\n",
       "      <th></th>\n",
       "      <th>#</th>\n",
       "      <th>Name</th>\n",
       "      <th>Type 1</th>\n",
       "      <th>Type 2</th>\n",
       "      <th>Total</th>\n",
       "      <th>HP</th>\n",
       "      <th>Attack</th>\n",
       "      <th>Defense</th>\n",
       "      <th>Sp. Atk</th>\n",
       "      <th>Sp. Def</th>\n",
       "      <th>Legendary</th>\n",
       "      <th>Speed</th>\n",
       "      <th>Generation</th>\n",
       "    </tr>\n",
       "  </thead>\n",
       "  <tbody>\n",
       "    <tr>\n",
       "      <th>350</th>\n",
       "      <td>320</td>\n",
       "      <td>Wailmer</td>\n",
       "      <td>Water</td>\n",
       "      <td>NaN</td>\n",
       "      <td>540</td>\n",
       "      <td>130</td>\n",
       "      <td>70</td>\n",
       "      <td>35</td>\n",
       "      <td>70</td>\n",
       "      <td>35</td>\n",
       "      <td>False</td>\n",
       "      <td>60</td>\n",
       "      <td>3</td>\n",
       "    </tr>\n",
       "    <tr>\n",
       "      <th>351</th>\n",
       "      <td>321</td>\n",
       "      <td>Wailord</td>\n",
       "      <td>Water</td>\n",
       "      <td>NaN</td>\n",
       "      <td>700</td>\n",
       "      <td>170</td>\n",
       "      <td>90</td>\n",
       "      <td>45</td>\n",
       "      <td>90</td>\n",
       "      <td>45</td>\n",
       "      <td>False</td>\n",
       "      <td>60</td>\n",
       "      <td>3</td>\n",
       "    </tr>\n",
       "    <tr>\n",
       "      <th>400</th>\n",
       "      <td>365</td>\n",
       "      <td>Walrein</td>\n",
       "      <td>Ice</td>\n",
       "      <td>Water</td>\n",
       "      <td>655</td>\n",
       "      <td>110</td>\n",
       "      <td>80</td>\n",
       "      <td>90</td>\n",
       "      <td>95</td>\n",
       "      <td>90</td>\n",
       "      <td>False</td>\n",
       "      <td>65</td>\n",
       "      <td>3</td>\n",
       "    </tr>\n",
       "  </tbody>\n",
       "</table>\n",
       "</div>"
      ],
      "text/plain": [
       "       #     Name Type 1 Type 2  Total   HP  Attack  Defense  Sp. Atk  \\\n",
       "350  320  Wailmer  Water    NaN    540  130      70       35       70   \n",
       "351  321  Wailord  Water    NaN    700  170      90       45       90   \n",
       "400  365  Walrein    Ice  Water    655  110      80       90       95   \n",
       "\n",
       "     Sp. Def  Legendary  Speed  Generation  \n",
       "350       35      False     60           3  \n",
       "351       45      False     60           3  \n",
       "400       90      False     65           3  "
      ]
     },
     "execution_count": 47,
     "metadata": {},
     "output_type": "execute_result"
    }
   ],
   "source": [
    "#Get all rows with name starting with \"wa\" followed by any letter between a-l\n",
    "\n",
    "df2.loc[df2.Name.str.contains('^Wa[a-l]+',flags = re.I ,regex = True)].head(10)"
   ]
  },
  {
   "cell_type": "code",
   "execution_count": 48,
   "metadata": {},
   "outputs": [
    {
     "data": {
      "text/html": [
       "<div>\n",
       "<style scoped>\n",
       "    .dataframe tbody tr th:only-of-type {\n",
       "        vertical-align: middle;\n",
       "    }\n",
       "\n",
       "    .dataframe tbody tr th {\n",
       "        vertical-align: top;\n",
       "    }\n",
       "\n",
       "    .dataframe thead th {\n",
       "        text-align: right;\n",
       "    }\n",
       "</style>\n",
       "<table border=\"1\" class=\"dataframe\">\n",
       "  <thead>\n",
       "    <tr style=\"text-align: right;\">\n",
       "      <th></th>\n",
       "      <th>#</th>\n",
       "      <th>Name</th>\n",
       "      <th>Type 1</th>\n",
       "      <th>Type 2</th>\n",
       "      <th>Total</th>\n",
       "      <th>HP</th>\n",
       "      <th>Attack</th>\n",
       "      <th>Defense</th>\n",
       "      <th>Sp. Atk</th>\n",
       "      <th>Sp. Def</th>\n",
       "      <th>Legendary</th>\n",
       "      <th>Speed</th>\n",
       "      <th>Generation</th>\n",
       "    </tr>\n",
       "  </thead>\n",
       "  <tbody>\n",
       "    <tr>\n",
       "      <th>46</th>\n",
       "      <td>41</td>\n",
       "      <td>Zubat</td>\n",
       "      <td>Poison</td>\n",
       "      <td>Flying</td>\n",
       "      <td>275</td>\n",
       "      <td>40</td>\n",
       "      <td>45</td>\n",
       "      <td>35</td>\n",
       "      <td>30</td>\n",
       "      <td>40</td>\n",
       "      <td>False</td>\n",
       "      <td>55</td>\n",
       "      <td>1</td>\n",
       "    </tr>\n",
       "    <tr>\n",
       "      <th>157</th>\n",
       "      <td>145</td>\n",
       "      <td>Zapdos</td>\n",
       "      <td>Electric</td>\n",
       "      <td>Flying</td>\n",
       "      <td>660</td>\n",
       "      <td>90</td>\n",
       "      <td>90</td>\n",
       "      <td>85</td>\n",
       "      <td>125</td>\n",
       "      <td>90</td>\n",
       "      <td>True</td>\n",
       "      <td>100</td>\n",
       "      <td>1</td>\n",
       "    </tr>\n",
       "    <tr>\n",
       "      <th>192</th>\n",
       "      <td>178</td>\n",
       "      <td>Xatu</td>\n",
       "      <td>Psychic</td>\n",
       "      <td>Flying</td>\n",
       "      <td>515</td>\n",
       "      <td>65</td>\n",
       "      <td>75</td>\n",
       "      <td>70</td>\n",
       "      <td>95</td>\n",
       "      <td>70</td>\n",
       "      <td>False</td>\n",
       "      <td>95</td>\n",
       "      <td>2</td>\n",
       "    </tr>\n",
       "    <tr>\n",
       "      <th>208</th>\n",
       "      <td>193</td>\n",
       "      <td>Yanma</td>\n",
       "      <td>Bug</td>\n",
       "      <td>Flying</td>\n",
       "      <td>425</td>\n",
       "      <td>65</td>\n",
       "      <td>65</td>\n",
       "      <td>45</td>\n",
       "      <td>75</td>\n",
       "      <td>45</td>\n",
       "      <td>False</td>\n",
       "      <td>95</td>\n",
       "      <td>2</td>\n",
       "    </tr>\n",
       "    <tr>\n",
       "      <th>286</th>\n",
       "      <td>263</td>\n",
       "      <td>Zigzagoon</td>\n",
       "      <td>Normal</td>\n",
       "      <td>NaN</td>\n",
       "      <td>248</td>\n",
       "      <td>38</td>\n",
       "      <td>30</td>\n",
       "      <td>41</td>\n",
       "      <td>30</td>\n",
       "      <td>41</td>\n",
       "      <td>False</td>\n",
       "      <td>60</td>\n",
       "      <td>3</td>\n",
       "    </tr>\n",
       "    <tr>\n",
       "      <th>367</th>\n",
       "      <td>335</td>\n",
       "      <td>Zangoose</td>\n",
       "      <td>Normal</td>\n",
       "      <td>NaN</td>\n",
       "      <td>556</td>\n",
       "      <td>73</td>\n",
       "      <td>115</td>\n",
       "      <td>60</td>\n",
       "      <td>60</td>\n",
       "      <td>60</td>\n",
       "      <td>False</td>\n",
       "      <td>90</td>\n",
       "      <td>3</td>\n",
       "    </tr>\n",
       "    <tr>\n",
       "      <th>520</th>\n",
       "      <td>469</td>\n",
       "      <td>Yanmega</td>\n",
       "      <td>Bug</td>\n",
       "      <td>Flying</td>\n",
       "      <td>582</td>\n",
       "      <td>86</td>\n",
       "      <td>76</td>\n",
       "      <td>86</td>\n",
       "      <td>116</td>\n",
       "      <td>56</td>\n",
       "      <td>False</td>\n",
       "      <td>95</td>\n",
       "      <td>4</td>\n",
       "    </tr>\n",
       "    <tr>\n",
       "      <th>582</th>\n",
       "      <td>523</td>\n",
       "      <td>Zebstrika</td>\n",
       "      <td>Electric</td>\n",
       "      <td>NaN</td>\n",
       "      <td>556</td>\n",
       "      <td>75</td>\n",
       "      <td>100</td>\n",
       "      <td>63</td>\n",
       "      <td>80</td>\n",
       "      <td>63</td>\n",
       "      <td>False</td>\n",
       "      <td>116</td>\n",
       "      <td>5</td>\n",
       "    </tr>\n",
       "    <tr>\n",
       "      <th>623</th>\n",
       "      <td>562</td>\n",
       "      <td>Yamask</td>\n",
       "      <td>Ghost</td>\n",
       "      <td>NaN</td>\n",
       "      <td>341</td>\n",
       "      <td>38</td>\n",
       "      <td>30</td>\n",
       "      <td>85</td>\n",
       "      <td>55</td>\n",
       "      <td>65</td>\n",
       "      <td>False</td>\n",
       "      <td>30</td>\n",
       "      <td>5</td>\n",
       "    </tr>\n",
       "    <tr>\n",
       "      <th>631</th>\n",
       "      <td>570</td>\n",
       "      <td>Zorua</td>\n",
       "      <td>Dark</td>\n",
       "      <td>NaN</td>\n",
       "      <td>370</td>\n",
       "      <td>40</td>\n",
       "      <td>65</td>\n",
       "      <td>40</td>\n",
       "      <td>80</td>\n",
       "      <td>40</td>\n",
       "      <td>False</td>\n",
       "      <td>65</td>\n",
       "      <td>5</td>\n",
       "    </tr>\n",
       "    <tr>\n",
       "      <th>632</th>\n",
       "      <td>571</td>\n",
       "      <td>Zoroark</td>\n",
       "      <td>Dark</td>\n",
       "      <td>NaN</td>\n",
       "      <td>570</td>\n",
       "      <td>60</td>\n",
       "      <td>105</td>\n",
       "      <td>60</td>\n",
       "      <td>120</td>\n",
       "      <td>60</td>\n",
       "      <td>False</td>\n",
       "      <td>105</td>\n",
       "      <td>5</td>\n",
       "    </tr>\n",
       "    <tr>\n",
       "      <th>695</th>\n",
       "      <td>634</td>\n",
       "      <td>Zweilous</td>\n",
       "      <td>Dark</td>\n",
       "      <td>Dragon</td>\n",
       "      <td>519</td>\n",
       "      <td>72</td>\n",
       "      <td>85</td>\n",
       "      <td>70</td>\n",
       "      <td>65</td>\n",
       "      <td>70</td>\n",
       "      <td>False</td>\n",
       "      <td>58</td>\n",
       "      <td>5</td>\n",
       "    </tr>\n",
       "    <tr>\n",
       "      <th>707</th>\n",
       "      <td>644</td>\n",
       "      <td>Zekrom</td>\n",
       "      <td>Dragon</td>\n",
       "      <td>Electric</td>\n",
       "      <td>840</td>\n",
       "      <td>100</td>\n",
       "      <td>150</td>\n",
       "      <td>120</td>\n",
       "      <td>120</td>\n",
       "      <td>100</td>\n",
       "      <td>True</td>\n",
       "      <td>90</td>\n",
       "      <td>5</td>\n",
       "    </tr>\n",
       "    <tr>\n",
       "      <th>792</th>\n",
       "      <td>716</td>\n",
       "      <td>Xerneas</td>\n",
       "      <td>Fairy</td>\n",
       "      <td>NaN</td>\n",
       "      <td>838</td>\n",
       "      <td>126</td>\n",
       "      <td>131</td>\n",
       "      <td>95</td>\n",
       "      <td>131</td>\n",
       "      <td>98</td>\n",
       "      <td>True</td>\n",
       "      <td>99</td>\n",
       "      <td>6</td>\n",
       "    </tr>\n",
       "    <tr>\n",
       "      <th>793</th>\n",
       "      <td>717</td>\n",
       "      <td>Yveltal</td>\n",
       "      <td>Dark</td>\n",
       "      <td>Flying</td>\n",
       "      <td>838</td>\n",
       "      <td>126</td>\n",
       "      <td>131</td>\n",
       "      <td>95</td>\n",
       "      <td>131</td>\n",
       "      <td>98</td>\n",
       "      <td>True</td>\n",
       "      <td>99</td>\n",
       "      <td>6</td>\n",
       "    </tr>\n",
       "    <tr>\n",
       "      <th>794</th>\n",
       "      <td>718</td>\n",
       "      <td>Zygarde50% Forme</td>\n",
       "      <td>Dragon</td>\n",
       "      <td>Ground</td>\n",
       "      <td>713</td>\n",
       "      <td>108</td>\n",
       "      <td>100</td>\n",
       "      <td>121</td>\n",
       "      <td>81</td>\n",
       "      <td>95</td>\n",
       "      <td>True</td>\n",
       "      <td>95</td>\n",
       "      <td>6</td>\n",
       "    </tr>\n",
       "  </tbody>\n",
       "</table>\n",
       "</div>"
      ],
      "text/plain": [
       "       #              Name    Type 1    Type 2  Total   HP  Attack  Defense  \\\n",
       "46    41             Zubat    Poison    Flying    275   40      45       35   \n",
       "157  145            Zapdos  Electric    Flying    660   90      90       85   \n",
       "192  178              Xatu   Psychic    Flying    515   65      75       70   \n",
       "208  193             Yanma       Bug    Flying    425   65      65       45   \n",
       "286  263         Zigzagoon    Normal       NaN    248   38      30       41   \n",
       "367  335          Zangoose    Normal       NaN    556   73     115       60   \n",
       "520  469           Yanmega       Bug    Flying    582   86      76       86   \n",
       "582  523         Zebstrika  Electric       NaN    556   75     100       63   \n",
       "623  562            Yamask     Ghost       NaN    341   38      30       85   \n",
       "631  570             Zorua      Dark       NaN    370   40      65       40   \n",
       "632  571           Zoroark      Dark       NaN    570   60     105       60   \n",
       "695  634          Zweilous      Dark    Dragon    519   72      85       70   \n",
       "707  644            Zekrom    Dragon  Electric    840  100     150      120   \n",
       "792  716           Xerneas     Fairy       NaN    838  126     131       95   \n",
       "793  717           Yveltal      Dark    Flying    838  126     131       95   \n",
       "794  718  Zygarde50% Forme    Dragon    Ground    713  108     100      121   \n",
       "\n",
       "     Sp. Atk  Sp. Def  Legendary  Speed  Generation  \n",
       "46        30       40      False     55           1  \n",
       "157      125       90       True    100           1  \n",
       "192       95       70      False     95           2  \n",
       "208       75       45      False     95           2  \n",
       "286       30       41      False     60           3  \n",
       "367       60       60      False     90           3  \n",
       "520      116       56      False     95           4  \n",
       "582       80       63      False    116           5  \n",
       "623       55       65      False     30           5  \n",
       "631       80       40      False     65           5  \n",
       "632      120       60      False    105           5  \n",
       "695       65       70      False     58           5  \n",
       "707      120      100       True     90           5  \n",
       "792      131       98       True     99           6  \n",
       "793      131       98       True     99           6  \n",
       "794       81       95       True     95           6  "
      ]
     },
     "execution_count": 48,
     "metadata": {},
     "output_type": "execute_result"
    }
   ],
   "source": [
    "#Get all rows with name starting with x , y, z\n",
    "\n",
    "df2.loc[df2.Name.str.contains('^[x-z]',flags = re.I ,regex = True)]"
   ]
  },
  {
   "cell_type": "code",
   "execution_count": null,
   "metadata": {},
   "outputs": [],
   "source": [
    "# Extracting first 3 characters from \"Name\" column\n",
    "df2['Name2'] = df2.Name.str.extract(r'(^\\w{3})')"
   ]
  },
  {
   "cell_type": "code",
   "execution_count": null,
   "metadata": {},
   "outputs": [],
   "source": [
    "df2.head(5)"
   ]
  },
  {
   "cell_type": "code",
   "execution_count": null,
   "metadata": {},
   "outputs": [],
   "source": [
    "# Return all rows with \"Name\" starting with character 'B or b' \n",
    "df2.loc[df2.Name.str.match(r'(^[B|b].*)')].head(5)"
   ]
  },
  {
   "cell_type": "markdown",
   "metadata": {},
   "source": [
    "# Replace values in dataframe"
   ]
  },
  {
   "cell_type": "code",
   "execution_count": null,
   "metadata": {},
   "outputs": [],
   "source": [
    "df2.head(10)"
   ]
  },
  {
   "cell_type": "code",
   "execution_count": null,
   "metadata": {},
   "outputs": [],
   "source": [
    "df2['Type 1'] = df2['Type 1'].replace({\"Grass\" : \"Meadow\" , \"Fire\" :\"Blaze\"})"
   ]
  },
  {
   "cell_type": "code",
   "execution_count": null,
   "metadata": {},
   "outputs": [],
   "source": [
    "df2.head(10)"
   ]
  },
  {
   "cell_type": "code",
   "execution_count": null,
   "metadata": {},
   "outputs": [],
   "source": [
    "df2['Type 2'] = df2['Type 2'].replace({\"Poison\" : \"Venom\"})"
   ]
  },
  {
   "cell_type": "code",
   "execution_count": null,
   "metadata": {},
   "outputs": [],
   "source": [
    "df2.head(5)"
   ]
  },
  {
   "cell_type": "code",
   "execution_count": null,
   "metadata": {},
   "outputs": [],
   "source": [
    "df2['Type 2'] = df2['Type 2'].replace(['Venom' , 'Dragon'] , 'DANGER')"
   ]
  },
  {
   "cell_type": "code",
   "execution_count": null,
   "metadata": {},
   "outputs": [],
   "source": [
    "df2.head(10)"
   ]
  },
  {
   "cell_type": "code",
   "execution_count": null,
   "metadata": {},
   "outputs": [],
   "source": [
    "df2.loc[df2['Type 2'] == 'DANGER' , 'Name2'] = np.NaN"
   ]
  },
  {
   "cell_type": "code",
   "execution_count": null,
   "metadata": {},
   "outputs": [],
   "source": [
    "df2.head(10)"
   ]
  },
  {
   "cell_type": "code",
   "execution_count": null,
   "metadata": {},
   "outputs": [],
   "source": [
    "df2.loc[df2['Total'] > 400 , ['Name2' , 'Legendary']] = 'ALERT'\n",
    "df2.head(10)"
   ]
  },
  {
   "cell_type": "code",
   "execution_count": null,
   "metadata": {},
   "outputs": [],
   "source": [
    "df2.loc[df2['Total'] > 400 , ['Legendary' , 'Name2']] = ['ALERT-1' , 'ALERT-2'] \n",
    "df2.head(10)"
   ]
  },
  {
   "cell_type": "markdown",
   "metadata": {},
   "source": [
    "# Group By"
   ]
  },
  {
   "cell_type": "code",
   "execution_count": 50,
   "metadata": {},
   "outputs": [
    {
     "data": {
      "text/html": [
       "<div>\n",
       "<style scoped>\n",
       "    .dataframe tbody tr th:only-of-type {\n",
       "        vertical-align: middle;\n",
       "    }\n",
       "\n",
       "    .dataframe tbody tr th {\n",
       "        vertical-align: top;\n",
       "    }\n",
       "\n",
       "    .dataframe thead th {\n",
       "        text-align: right;\n",
       "    }\n",
       "</style>\n",
       "<table border=\"1\" class=\"dataframe\">\n",
       "  <thead>\n",
       "    <tr style=\"text-align: right;\">\n",
       "      <th></th>\n",
       "      <th>#</th>\n",
       "      <th>Name</th>\n",
       "      <th>Type 1</th>\n",
       "      <th>Type 2</th>\n",
       "      <th>Total</th>\n",
       "      <th>HP</th>\n",
       "      <th>Attack</th>\n",
       "      <th>Defense</th>\n",
       "      <th>Sp. Atk</th>\n",
       "      <th>Sp. Def</th>\n",
       "      <th>Speed</th>\n",
       "      <th>Generation</th>\n",
       "      <th>Legendary</th>\n",
       "    </tr>\n",
       "  </thead>\n",
       "  <tbody>\n",
       "    <tr>\n",
       "      <th>0</th>\n",
       "      <td>1</td>\n",
       "      <td>Bulbasaur</td>\n",
       "      <td>Grass</td>\n",
       "      <td>Poison</td>\n",
       "      <td>318</td>\n",
       "      <td>45</td>\n",
       "      <td>49</td>\n",
       "      <td>49</td>\n",
       "      <td>65</td>\n",
       "      <td>65</td>\n",
       "      <td>45</td>\n",
       "      <td>1</td>\n",
       "      <td>False</td>\n",
       "    </tr>\n",
       "    <tr>\n",
       "      <th>1</th>\n",
       "      <td>2</td>\n",
       "      <td>Ivysaur</td>\n",
       "      <td>Grass</td>\n",
       "      <td>Poison</td>\n",
       "      <td>405</td>\n",
       "      <td>60</td>\n",
       "      <td>62</td>\n",
       "      <td>63</td>\n",
       "      <td>80</td>\n",
       "      <td>80</td>\n",
       "      <td>60</td>\n",
       "      <td>1</td>\n",
       "      <td>False</td>\n",
       "    </tr>\n",
       "    <tr>\n",
       "      <th>2</th>\n",
       "      <td>3</td>\n",
       "      <td>Venusaur</td>\n",
       "      <td>Grass</td>\n",
       "      <td>Poison</td>\n",
       "      <td>525</td>\n",
       "      <td>80</td>\n",
       "      <td>82</td>\n",
       "      <td>83</td>\n",
       "      <td>100</td>\n",
       "      <td>100</td>\n",
       "      <td>80</td>\n",
       "      <td>1</td>\n",
       "      <td>False</td>\n",
       "    </tr>\n",
       "    <tr>\n",
       "      <th>3</th>\n",
       "      <td>3</td>\n",
       "      <td>VenusaurMega Venusaur</td>\n",
       "      <td>Grass</td>\n",
       "      <td>Poison</td>\n",
       "      <td>625</td>\n",
       "      <td>80</td>\n",
       "      <td>100</td>\n",
       "      <td>123</td>\n",
       "      <td>122</td>\n",
       "      <td>120</td>\n",
       "      <td>80</td>\n",
       "      <td>1</td>\n",
       "      <td>False</td>\n",
       "    </tr>\n",
       "    <tr>\n",
       "      <th>4</th>\n",
       "      <td>4</td>\n",
       "      <td>Charmander</td>\n",
       "      <td>Fire</td>\n",
       "      <td>NaN</td>\n",
       "      <td>309</td>\n",
       "      <td>39</td>\n",
       "      <td>52</td>\n",
       "      <td>43</td>\n",
       "      <td>60</td>\n",
       "      <td>50</td>\n",
       "      <td>65</td>\n",
       "      <td>1</td>\n",
       "      <td>False</td>\n",
       "    </tr>\n",
       "  </tbody>\n",
       "</table>\n",
       "</div>"
      ],
      "text/plain": [
       "   #                   Name Type 1  Type 2  Total  HP  Attack  Defense  \\\n",
       "0  1              Bulbasaur  Grass  Poison    318  45      49       49   \n",
       "1  2                Ivysaur  Grass  Poison    405  60      62       63   \n",
       "2  3               Venusaur  Grass  Poison    525  80      82       83   \n",
       "3  3  VenusaurMega Venusaur  Grass  Poison    625  80     100      123   \n",
       "4  4             Charmander   Fire     NaN    309  39      52       43   \n",
       "\n",
       "   Sp. Atk  Sp. Def  Speed  Generation  Legendary  \n",
       "0       65       65     45           1      False  \n",
       "1       80       80     60           1      False  \n",
       "2      100      100     80           1      False  \n",
       "3      122      120     80           1      False  \n",
       "4       60       50     65           1      False  "
      ]
     },
     "execution_count": 50,
     "metadata": {},
     "output_type": "execute_result"
    }
   ],
   "source": [
    "df = pd.read_csv('pokemon.csv')\n",
    "df.head(5)"
   ]
  },
  {
   "cell_type": "code",
   "execution_count": 56,
   "metadata": {},
   "outputs": [
    {
     "data": {
      "text/plain": [
       "Type 1\n",
       "Bug         117.875223\n",
       "Dark        109.126217\n",
       "Dragon      146.267538\n",
       "Electric    105.721952\n",
       "Fairy       123.781680\n",
       "Fighting    102.464378\n",
       "Fire        109.760496\n",
       "Flying      161.400124\n",
       "Ghost       110.072685\n",
       "Grass       106.650626\n",
       "Ground      123.913081\n",
       "Ice         108.281027\n",
       "Normal      115.733038\n",
       "Poison       92.358687\n",
       "Psychic     139.026645\n",
       "Rock        108.059227\n",
       "Steel       115.420907\n",
       "Water       113.188266\n",
       "Name: Total, dtype: float64"
      ]
     },
     "execution_count": 56,
     "metadata": {},
     "output_type": "execute_result"
    }
   ],
   "source": [
    "df.groupby(['Type 1'])['Total'].std()"
   ]
  },
  {
   "cell_type": "code",
   "execution_count": null,
   "metadata": {},
   "outputs": [],
   "source": [
    "df.groupby(['Type 1']).mean().sort_values('Attack' , ascending = False).head(10)"
   ]
  },
  {
   "cell_type": "code",
   "execution_count": null,
   "metadata": {},
   "outputs": [],
   "source": [
    "df.groupby(['Type 1']).mean().sort_values('Defense' , ascending = False).head(10)"
   ]
  },
  {
   "cell_type": "code",
   "execution_count": null,
   "metadata": {},
   "outputs": [],
   "source": [
    "df.groupby(['Type 1']).mean().sort_values('Speed' , ascending = False).head(10)"
   ]
  },
  {
   "cell_type": "code",
   "execution_count": null,
   "metadata": {},
   "outputs": [],
   "source": [
    "df.sum()"
   ]
  },
  {
   "cell_type": "code",
   "execution_count": null,
   "metadata": {},
   "outputs": [],
   "source": [
    "df.groupby(['Type 2']).sum().head(5)"
   ]
  },
  {
   "cell_type": "code",
   "execution_count": null,
   "metadata": {},
   "outputs": [],
   "source": [
    "df.count()"
   ]
  },
  {
   "cell_type": "code",
   "execution_count": null,
   "metadata": {},
   "outputs": [],
   "source": [
    "df['count1'] = 0\n",
    "df.groupby(['Type 2']).count()['count1']"
   ]
  },
  {
   "cell_type": "code",
   "execution_count": null,
   "metadata": {},
   "outputs": [],
   "source": [
    "df['count1'] = 0\n",
    "df.groupby(['Type 1']).count()['count1']"
   ]
  },
  {
   "cell_type": "code",
   "execution_count": null,
   "metadata": {},
   "outputs": [],
   "source": [
    "df['count1'] = 0\n",
    "df.groupby(['Type 1' , 'Type 2' , 'Legendary']).count()['count1']"
   ]
  },
  {
   "cell_type": "markdown",
   "metadata": {},
   "source": [
    "# Loading Data in Chunks"
   ]
  },
  {
   "cell_type": "code",
   "execution_count": null,
   "metadata": {},
   "outputs": [],
   "source": [
    "for df in pd.read_csv('poke_updated1.csv', chunksize=10):\n",
    "    print(df)"
   ]
  },
  {
   "cell_type": "code",
   "execution_count": null,
   "metadata": {},
   "outputs": [],
   "source": [
    "df"
   ]
  },
  {
   "cell_type": "code",
   "execution_count": null,
   "metadata": {},
   "outputs": [],
   "source": [
    "df1 = pd.DataFrame()\n",
    "for df in pd.read_csv('poke_updated1.csv', chunksize=10):\n",
    "    df1 = pd.concat([df1 ,df])\n",
    "df1.head(15)"
   ]
  },
  {
   "cell_type": "markdown",
   "metadata": {},
   "source": [
    "# Stack & unstack in Pandas"
   ]
  },
  {
   "cell_type": "code",
   "execution_count": null,
   "metadata": {},
   "outputs": [],
   "source": [
    "col = pd.MultiIndex.from_product([['2010','2015'],['Literacy' , 'GDP']])\n",
    "\n",
    "data =([[80,7,88,6],[90,8,92,7],[89,7,91,8],[87,6,93,8]])\n",
    "\n",
    "df6 = pd.DataFrame(data, index=['India','USA' , 'Russia' , 'China'], columns=col)\n",
    "df6"
   ]
  },
  {
   "cell_type": "code",
   "execution_count": null,
   "metadata": {},
   "outputs": [],
   "source": [
    "# Stack() Function stacks the columns to rows.\n",
    "st_df = df6.stack()\n",
    "st_df"
   ]
  },
  {
   "cell_type": "code",
   "execution_count": null,
   "metadata": {},
   "outputs": [],
   "source": [
    "#Unstacks the row to columns\n",
    "unst_df = st_df.unstack()\n",
    "unst_df"
   ]
  },
  {
   "cell_type": "code",
   "execution_count": null,
   "metadata": {},
   "outputs": [],
   "source": [
    "unst_df = unst_df.unstack()\n",
    "unst_df"
   ]
  },
  {
   "cell_type": "code",
   "execution_count": null,
   "metadata": {},
   "outputs": [],
   "source": [
    "unst_df = unst_df.unstack()\n",
    "unst_df"
   ]
  },
  {
   "cell_type": "markdown",
   "metadata": {},
   "source": [
    "# PIVOT Tables"
   ]
  },
  {
   "cell_type": "code",
   "execution_count": 57,
   "metadata": {},
   "outputs": [
    {
     "data": {
      "text/html": [
       "<div>\n",
       "<style scoped>\n",
       "    .dataframe tbody tr th:only-of-type {\n",
       "        vertical-align: middle;\n",
       "    }\n",
       "\n",
       "    .dataframe tbody tr th {\n",
       "        vertical-align: top;\n",
       "    }\n",
       "\n",
       "    .dataframe thead th {\n",
       "        text-align: right;\n",
       "    }\n",
       "</style>\n",
       "<table border=\"1\" class=\"dataframe\">\n",
       "  <thead>\n",
       "    <tr style=\"text-align: right;\">\n",
       "      <th></th>\n",
       "      <th>Country</th>\n",
       "      <th>Year</th>\n",
       "      <th>Literacy/GDP</th>\n",
       "      <th>Value</th>\n",
       "    </tr>\n",
       "  </thead>\n",
       "  <tbody>\n",
       "    <tr>\n",
       "      <th>0</th>\n",
       "      <td>India</td>\n",
       "      <td>2010</td>\n",
       "      <td>GDP</td>\n",
       "      <td>7</td>\n",
       "    </tr>\n",
       "    <tr>\n",
       "      <th>1</th>\n",
       "      <td>USA</td>\n",
       "      <td>2010</td>\n",
       "      <td>GDP</td>\n",
       "      <td>8</td>\n",
       "    </tr>\n",
       "    <tr>\n",
       "      <th>2</th>\n",
       "      <td>Russia</td>\n",
       "      <td>2010</td>\n",
       "      <td>GDP</td>\n",
       "      <td>7</td>\n",
       "    </tr>\n",
       "    <tr>\n",
       "      <th>3</th>\n",
       "      <td>China</td>\n",
       "      <td>2010</td>\n",
       "      <td>GDP</td>\n",
       "      <td>6</td>\n",
       "    </tr>\n",
       "    <tr>\n",
       "      <th>4</th>\n",
       "      <td>India</td>\n",
       "      <td>2010</td>\n",
       "      <td>Literacy</td>\n",
       "      <td>80</td>\n",
       "    </tr>\n",
       "    <tr>\n",
       "      <th>5</th>\n",
       "      <td>USA</td>\n",
       "      <td>2010</td>\n",
       "      <td>Literacy</td>\n",
       "      <td>90</td>\n",
       "    </tr>\n",
       "    <tr>\n",
       "      <th>6</th>\n",
       "      <td>Russia</td>\n",
       "      <td>2010</td>\n",
       "      <td>Literacy</td>\n",
       "      <td>89</td>\n",
       "    </tr>\n",
       "    <tr>\n",
       "      <th>7</th>\n",
       "      <td>China</td>\n",
       "      <td>2010</td>\n",
       "      <td>Literacy</td>\n",
       "      <td>87</td>\n",
       "    </tr>\n",
       "    <tr>\n",
       "      <th>8</th>\n",
       "      <td>India</td>\n",
       "      <td>2015</td>\n",
       "      <td>GDP</td>\n",
       "      <td>6</td>\n",
       "    </tr>\n",
       "    <tr>\n",
       "      <th>9</th>\n",
       "      <td>USA</td>\n",
       "      <td>2015</td>\n",
       "      <td>GDP</td>\n",
       "      <td>7</td>\n",
       "    </tr>\n",
       "    <tr>\n",
       "      <th>10</th>\n",
       "      <td>Russia</td>\n",
       "      <td>2015</td>\n",
       "      <td>GDP</td>\n",
       "      <td>8</td>\n",
       "    </tr>\n",
       "    <tr>\n",
       "      <th>11</th>\n",
       "      <td>China</td>\n",
       "      <td>2015</td>\n",
       "      <td>GDP</td>\n",
       "      <td>8</td>\n",
       "    </tr>\n",
       "    <tr>\n",
       "      <th>12</th>\n",
       "      <td>India</td>\n",
       "      <td>2015</td>\n",
       "      <td>Literacy</td>\n",
       "      <td>88</td>\n",
       "    </tr>\n",
       "    <tr>\n",
       "      <th>13</th>\n",
       "      <td>USA</td>\n",
       "      <td>2015</td>\n",
       "      <td>Literacy</td>\n",
       "      <td>92</td>\n",
       "    </tr>\n",
       "    <tr>\n",
       "      <th>14</th>\n",
       "      <td>Russia</td>\n",
       "      <td>2015</td>\n",
       "      <td>Literacy</td>\n",
       "      <td>91</td>\n",
       "    </tr>\n",
       "    <tr>\n",
       "      <th>15</th>\n",
       "      <td>China</td>\n",
       "      <td>2015</td>\n",
       "      <td>Literacy</td>\n",
       "      <td>93</td>\n",
       "    </tr>\n",
       "  </tbody>\n",
       "</table>\n",
       "</div>"
      ],
      "text/plain": [
       "   Country  Year Literacy/GDP  Value\n",
       "0    India  2010          GDP      7\n",
       "1      USA  2010          GDP      8\n",
       "2   Russia  2010          GDP      7\n",
       "3    China  2010          GDP      6\n",
       "4    India  2010     Literacy     80\n",
       "5      USA  2010     Literacy     90\n",
       "6   Russia  2010     Literacy     89\n",
       "7    China  2010     Literacy     87\n",
       "8    India  2015          GDP      6\n",
       "9      USA  2015          GDP      7\n",
       "10  Russia  2015          GDP      8\n",
       "11   China  2015          GDP      8\n",
       "12   India  2015     Literacy     88\n",
       "13     USA  2015     Literacy     92\n",
       "14  Russia  2015     Literacy     91\n",
       "15   China  2015     Literacy     93"
      ]
     },
     "execution_count": 57,
     "metadata": {},
     "output_type": "execute_result"
    }
   ],
   "source": [
    "data = {\n",
    "    'Country':['India','USA' , 'Russia' , 'China','India','USA' , 'Russia' , 'China','India','USA' , 'Russia' , 'China','India','USA' , 'Russia' , 'China'],\n",
    "    'Year':['2010','2010','2010','2010' , '2010','2010','2010','2010','2015','2015','2015','2015','2015','2015','2015','2015'],\n",
    "     \n",
    "    'Literacy/GDP':['GDP' , 'GDP' , 'GDP' , 'GDP','Literacy' , 'Literacy', 'Literacy' , 'Literacy','GDP' , 'GDP','GDP' , 'GDP','Literacy' , 'Literacy','Literacy' , 'Literacy'],\n",
    "   'Value':[7,8,7,6,80,90,89,87,6,7,8, 8, 88 , 92 , 91 ,93]}\n",
    " \n",
    "df7 = pd.DataFrame(data,columns=['Country','Year','Literacy/GDP','Value'])\n",
    "df7"
   ]
  },
  {
   "cell_type": "code",
   "execution_count": null,
   "metadata": {},
   "outputs": [],
   "source": [
    "# Pivot table with SUM aggregation\n",
    "pd.pivot_table(df7 , index= ['Year' , 'Literacy/GDP'] , aggfunc='sum')"
   ]
  },
  {
   "cell_type": "code",
   "execution_count": null,
   "metadata": {},
   "outputs": [],
   "source": [
    "# Pivot table with MEAN aggregation\n",
    "pd.pivot_table(df7 , index= ['Year' , 'Literacy/GDP'] , aggfunc='mean')"
   ]
  },
  {
   "cell_type": "markdown",
   "metadata": {},
   "source": [
    "# Hierarchical indexing"
   ]
  },
  {
   "cell_type": "code",
   "execution_count": null,
   "metadata": {},
   "outputs": [],
   "source": [
    "df7"
   ]
  },
  {
   "cell_type": "code",
   "execution_count": null,
   "metadata": {},
   "outputs": [],
   "source": [
    "df8=df7.set_index(['Year', 'Literacy/GDP'])\n",
    "df8"
   ]
  },
  {
   "cell_type": "code",
   "execution_count": null,
   "metadata": {},
   "outputs": [],
   "source": [
    "df8.index"
   ]
  },
  {
   "cell_type": "code",
   "execution_count": null,
   "metadata": {},
   "outputs": [],
   "source": [
    "df8.loc['2010']"
   ]
  },
  {
   "cell_type": "code",
   "execution_count": null,
   "metadata": {},
   "outputs": [],
   "source": [
    "df8.loc[['2010']]"
   ]
  },
  {
   "cell_type": "code",
   "execution_count": null,
   "metadata": {},
   "outputs": [],
   "source": [
    "df8.loc['2015','Literacy']"
   ]
  },
  {
   "cell_type": "code",
   "execution_count": null,
   "metadata": {},
   "outputs": [],
   "source": [
    "df8.loc['2015','Literacy']"
   ]
  },
  {
   "cell_type": "code",
   "execution_count": null,
   "metadata": {},
   "outputs": [],
   "source": [
    "df8=df7.set_index(['Year', 'Literacy/GDP' , 'Country'])\n",
    "df8"
   ]
  },
  {
   "cell_type": "markdown",
   "metadata": {},
   "source": [
    "### SWAP Columns in Hierarchical indexing"
   ]
  },
  {
   "cell_type": "code",
   "execution_count": null,
   "metadata": {},
   "outputs": [],
   "source": [
    "df7"
   ]
  },
  {
   "cell_type": "code",
   "execution_count": null,
   "metadata": {},
   "outputs": [],
   "source": [
    "df8=df7.set_index(['Year', 'Literacy/GDP'])\n",
    "df8"
   ]
  },
  {
   "cell_type": "code",
   "execution_count": null,
   "metadata": {},
   "outputs": [],
   "source": [
    "# Swaping the columns in Hierarchical index\n",
    "df9 = df8.swaplevel('Year', 'Literacy/GDP')\n",
    "df9"
   ]
  },
  {
   "cell_type": "code",
   "execution_count": null,
   "metadata": {},
   "outputs": [],
   "source": [
    "# Swaping the columns in Hierarchical index\n",
    "df9 = df9.swaplevel('Year', 'Literacy/GDP')\n",
    "df9"
   ]
  },
  {
   "cell_type": "markdown",
   "metadata": {},
   "source": [
    "# Crosstab in Pandas"
   ]
  },
  {
   "cell_type": "code",
   "execution_count": null,
   "metadata": {},
   "outputs": [],
   "source": [
    "df7"
   ]
  },
  {
   "cell_type": "code",
   "execution_count": 58,
   "metadata": {},
   "outputs": [
    {
     "data": {
      "text/html": [
       "<div>\n",
       "<style scoped>\n",
       "    .dataframe tbody tr th:only-of-type {\n",
       "        vertical-align: middle;\n",
       "    }\n",
       "\n",
       "    .dataframe tbody tr th {\n",
       "        vertical-align: top;\n",
       "    }\n",
       "\n",
       "    .dataframe thead th {\n",
       "        text-align: right;\n",
       "    }\n",
       "</style>\n",
       "<table border=\"1\" class=\"dataframe\">\n",
       "  <thead>\n",
       "    <tr style=\"text-align: right;\">\n",
       "      <th>Value</th>\n",
       "      <th>6</th>\n",
       "      <th>7</th>\n",
       "      <th>8</th>\n",
       "      <th>80</th>\n",
       "      <th>87</th>\n",
       "      <th>88</th>\n",
       "      <th>89</th>\n",
       "      <th>90</th>\n",
       "      <th>91</th>\n",
       "      <th>92</th>\n",
       "      <th>93</th>\n",
       "      <th>All</th>\n",
       "    </tr>\n",
       "    <tr>\n",
       "      <th>Literacy/GDP</th>\n",
       "      <th></th>\n",
       "      <th></th>\n",
       "      <th></th>\n",
       "      <th></th>\n",
       "      <th></th>\n",
       "      <th></th>\n",
       "      <th></th>\n",
       "      <th></th>\n",
       "      <th></th>\n",
       "      <th></th>\n",
       "      <th></th>\n",
       "      <th></th>\n",
       "    </tr>\n",
       "  </thead>\n",
       "  <tbody>\n",
       "    <tr>\n",
       "      <th>GDP</th>\n",
       "      <td>2</td>\n",
       "      <td>3</td>\n",
       "      <td>3</td>\n",
       "      <td>0</td>\n",
       "      <td>0</td>\n",
       "      <td>0</td>\n",
       "      <td>0</td>\n",
       "      <td>0</td>\n",
       "      <td>0</td>\n",
       "      <td>0</td>\n",
       "      <td>0</td>\n",
       "      <td>8</td>\n",
       "    </tr>\n",
       "    <tr>\n",
       "      <th>Literacy</th>\n",
       "      <td>0</td>\n",
       "      <td>0</td>\n",
       "      <td>0</td>\n",
       "      <td>1</td>\n",
       "      <td>1</td>\n",
       "      <td>1</td>\n",
       "      <td>1</td>\n",
       "      <td>1</td>\n",
       "      <td>1</td>\n",
       "      <td>1</td>\n",
       "      <td>1</td>\n",
       "      <td>8</td>\n",
       "    </tr>\n",
       "    <tr>\n",
       "      <th>All</th>\n",
       "      <td>2</td>\n",
       "      <td>3</td>\n",
       "      <td>3</td>\n",
       "      <td>1</td>\n",
       "      <td>1</td>\n",
       "      <td>1</td>\n",
       "      <td>1</td>\n",
       "      <td>1</td>\n",
       "      <td>1</td>\n",
       "      <td>1</td>\n",
       "      <td>1</td>\n",
       "      <td>16</td>\n",
       "    </tr>\n",
       "  </tbody>\n",
       "</table>\n",
       "</div>"
      ],
      "text/plain": [
       "Value         6  7  8  80  87  88  89  90  91  92  93  All\n",
       "Literacy/GDP                                              \n",
       "GDP           2  3  3   0   0   0   0   0   0   0   0    8\n",
       "Literacy      0  0  0   1   1   1   1   1   1   1   1    8\n",
       "All           2  3  3   1   1   1   1   1   1   1   1   16"
      ]
     },
     "execution_count": 58,
     "metadata": {},
     "output_type": "execute_result"
    }
   ],
   "source": [
    "pd.crosstab(df7['Literacy/GDP'] , df7.Value , margins=True)"
   ]
  },
  {
   "cell_type": "code",
   "execution_count": null,
   "metadata": {},
   "outputs": [],
   "source": [
    "# 2 way cross table\n",
    "pd.crosstab(df7.Year , df7['Literacy/GDP'] , margins=True)"
   ]
  },
  {
   "cell_type": "code",
   "execution_count": null,
   "metadata": {},
   "outputs": [],
   "source": [
    "# 3 way cross table\n",
    "pd.crosstab([df7.Year , df7['Literacy/GDP']] , df7.Country, margins=True)"
   ]
  },
  {
   "cell_type": "markdown",
   "metadata": {},
   "source": [
    "# Row & Column Bind"
   ]
  },
  {
   "cell_type": "markdown",
   "metadata": {},
   "source": [
    "### Row Bind"
   ]
  },
  {
   "cell_type": "code",
   "execution_count": null,
   "metadata": {},
   "outputs": [],
   "source": [
    "df8 = pd.DataFrame({'ID' :[1,2,3,4] ,  'Name' :['Asif' , 'Basit' , 'Ross' , 'John'] , 'Score' :[99 , 66 , 44 , 33]})\n",
    "df8"
   ]
  },
  {
   "cell_type": "code",
   "execution_count": null,
   "metadata": {},
   "outputs": [],
   "source": [
    "df9 = pd.DataFrame({'ID' :[5,6,7,8] ,  'Name' :['Michelle' , 'Ramiro' , 'Vignesh' , 'Damon'] , 'Score' :[78 , 54 , 77 , 87]})\n",
    "df9"
   ]
  },
  {
   "cell_type": "code",
   "execution_count": null,
   "metadata": {},
   "outputs": [],
   "source": [
    "# Row Bind with concat() function\n",
    "pd.concat([df8 , df9], axis=0)"
   ]
  },
  {
   "cell_type": "code",
   "execution_count": null,
   "metadata": {},
   "outputs": [],
   "source": [
    "# Row Bind with append() function\n",
    "df8.append(df9)"
   ]
  },
  {
   "cell_type": "markdown",
   "metadata": {},
   "source": [
    "### Column Bind"
   ]
  },
  {
   "cell_type": "code",
   "execution_count": null,
   "metadata": {},
   "outputs": [],
   "source": [
    "df10 = pd.DataFrame({'ID' :[1,2,3,4] , 'Name' :['Asif' , 'Basit' , 'Ross' , 'John']})\n",
    "df10"
   ]
  },
  {
   "cell_type": "code",
   "execution_count": null,
   "metadata": {},
   "outputs": [],
   "source": [
    "df11 = pd.DataFrame({'Age' :[20,30,35,40] , 'Score' :[99 , 66 , 44 , 33]})\n",
    "df11"
   ]
  },
  {
   "cell_type": "code",
   "execution_count": null,
   "metadata": {},
   "outputs": [],
   "source": [
    "pd.concat([df10,df11] ,axis = 1)"
   ]
  },
  {
   "cell_type": "code",
   "execution_count": null,
   "metadata": {},
   "outputs": [],
   "source": [
    "rbind\n",
    "sbind"
   ]
  }
 ],
 "metadata": {
  "kernelspec": {
   "display_name": "Python 3",
   "language": "python",
   "name": "python3"
  },
  "language_info": {
   "codemirror_mode": {
    "name": "ipython",
    "version": 3
   },
   "file_extension": ".py",
   "mimetype": "text/x-python",
   "name": "python",
   "nbconvert_exporter": "python",
   "pygments_lexer": "ipython3",
   "version": "3.7.7"
  }
 },
 "nbformat": 4,
 "nbformat_minor": 2
}
