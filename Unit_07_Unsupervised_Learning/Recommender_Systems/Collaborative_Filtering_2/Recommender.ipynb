{
 "cells": [
  {
   "cell_type": "markdown",
   "metadata": {
    "collapsed": true
   },
   "source": [
    "# Recommender Systems & Collaborative Filtering\n",
    "--------\n",
    "## Contents\n",
    "---------\n",
    "\n",
    "__[1. Introduction](#first-bullet)__\n",
    "\n",
    "__[2. Preprocessing & Basic Statistics](#second-bullet)__\n",
    "\n",
    "__[3. User-User Collaborative Filtering](#third-bullet)__\n",
    "\n",
    "__[4. Next Steps](#fourth-bullet)__\n",
    "\n",
    "\n",
    "--------\n",
    "## Introduction <a class=\"anchor\" id=\"first-bullet\"></a>\n",
    "---------\n",
    "\n",
    "Recommender systems are one of the most important applications of data science across the consumer-facing technology industry.  They are used almost everywhere; examples are 'Amazon’s Recommended Items', Internet Radio stations, and suggested videos on Netflix.  There are two general approaches to recommender systems:\n",
    "\n",
    "1. <a href=\"https://en.wikipedia.org/wiki/Collaborative_filtering\">Collaborative filtering</a>\n",
    "\n",
    "2. <a href=\"https://en.wikipedia.org/wiki/Recommender_system#Content-based_filtering\">Content-based filtering</a>\n",
    "\n",
    "Collaborative filtering is a method of recommending products to customers by using their past behaviors or product ratings, as well as similar decisions by other customers to predict which items might be appealing to the original customers. Content-based filtering suggests products to customers by using the characteristics of an item they have selected in the past in order to recommend additional items with similar properties.  There are advantages and disadvantages to both of these methods.  \n",
    "\n",
    "Collaborative filtering suffers from the cold start problem, meaning it requires a certain threshold of user input in order to make any recommendations. Content-based filtering, on the other hand, only requires one data point--for example, one item that a specific user has purchased--in order to produce suggestions. However, content-based filtering is limited in scope and in the relevance of its results, since it can only recommend products that are similar to the original product selected. Collaborative filtering can overcome this limitation by suggesting products not necessarily similar to previous products that user has selected, but that similar users have found appealing. Because of this ability to accurately recommend complex items without needing to understand the qualities of the items themselves, collaborative filtering is the more widely used method, and thus the focus of this blog post. Collaborative filtering is also much more popular for web-based recommendations where the data is sparse, i.e., where there is a limited number of reviews by each user or for a particular product.\n",
    "\n",
    "---------\n",
    "## Collaborative Filtering\n",
    "---------\n",
    "\n",
    "As mentioned previously, in collaborative filtering we do not need to know much about the products or the customers.  We just need to know need to know how many unique products and customers there as well as how the customers rated the products.  This information is stored in a user-item table, where the ratings are the entries in the table. An example of a user-item table can be seen below,\n",
    "\n",
    "![table](images/table.jpg)\n",
    "\n",
    "\n",
    "The ratings matrix is another representation of the user-item table where each user and item have been assigned an unique integer value. The general rating matrix $\\textbf{R}$ is in $ R^{n_{u} \\times n_{i}}$ where $n_{u}$ is the number of users and $n_{i}$ is the number of items.  Let $R_{i,j}$ entry correspoing to the $i$-th row and $j$-th column of the matrix $\\textbf{R}$. $R_{i,j}$ is then the rating by user $i$ on item $j$.  The entries that have missing values in the matrix will be filled in with 0's.\n",
    "\n",
    "In collaborative filtering we typically focus on two tasks. The first is,\n",
    "\n",
    "**1.) Given a user and an item, what is the user’s likely preference for the item? **\n",
    "\n",
    "This can also be viewed as filling in the missing values in the table above.  The second task is,\n",
    "\n",
    "**2.) Recommend a list of $n$ items for a user based off of information we can obtain from the user-item table.  **\n",
    "\n",
    "Within collaborative filtering there are two different modeling perspectives to answering the first question: \n",
    "\n",
    "-  **Memory based**: This approach uses customer rating data to compute the similarity between customers or items and make recommendations. This was an early approach used in many commercial systems and has the benefit of being easy to explain. However, it doesnt scale well with sparse data as we will discuss later.  \n",
    "\n",
    "\n",
    "-  **Model based**: This approach to collaborative filtering scales much better with sparse data and can uncover hidden or latent features in our dataset.  One draw back to this method is that it can be hard to explain/justitfy the predictions.   \n",
    "\n",
    "In this blog post I'll talk I'll go user-user collaborative filtering to predict how a given user will rate an item for now and look into other methods later on. Let's jump into the code...\n",
    "\n",
    "---------\n",
    "## Preprocessing & Basic Statistics <a class=\"anchor\" id=\"second-bullet\"></a>\n",
    "---------\n",
    "First let's load some of the basic libraries,"
   ]
  },
  {
   "cell_type": "code",
   "execution_count": 4,
   "metadata": {},
   "outputs": [],
   "source": [
    "import pandas as pd\n",
    "import numpy as np\n",
    "from scipy.sparse import csc_matrix\n",
    "import seaborn as sns\n",
    "import matplotlib.pyplot as plt\n",
    "%matplotlib inline"
   ]
  },
  {
   "cell_type": "markdown",
   "metadata": {},
   "source": [
    "The data we will use comes from <a href=\"https:amazon.com\">Amazon</a> and can be found <a href=\"http://jmcauley.ucsd.edu/data/amazon/\">here</a>.  I chose the Amazon Instant Video 5 core file. The 5 core implies that each video/item has atleast 5 ratings and each users has rated atleast 5 videos/items.  Unzipping the file results in a json file that I was not  able to read using the Pandas <a href=\"http://pandas.pydata.org/pandas-docs/stable/generated/pandas.read_json.html\">read_json</a> function. So I read in the contents of the file using the function below:"
   ]
  },
  {
   "cell_type": "code",
   "execution_count": 5,
   "metadata": {},
   "outputs": [],
   "source": [
    "from readFunctions import openFile\n",
    "df = openFile('reviews_Amazon_Instant_Video_5.json.gz')"
   ]
  },
  {
   "cell_type": "markdown",
   "metadata": {},
   "source": [
    "We can get the basic info on the dataset, including the number of reviews and the column descriptions using the Pandas <a href=\"http://pandas.pydata.org/pandas-docs/stable/generated/pandas.DataFrame.info.html\">info</a> function,"
   ]
  },
  {
   "cell_type": "code",
   "execution_count": 6,
   "metadata": {},
   "outputs": [
    {
     "name": "stdout",
     "output_type": "stream",
     "text": [
      "<class 'pandas.core.frame.DataFrame'>\n",
      "RangeIndex: 37126 entries, 0 to 37125\n",
      "Data columns (total 10 columns):\n",
      "Unnamed: 0        37126 non-null int64\n",
      "reviewerID        37126 non-null object\n",
      "asin              37126 non-null object\n",
      "reviewerName      36797 non-null object\n",
      "helpful           37126 non-null object\n",
      "unixReviewTime    37126 non-null int64\n",
      "reviewText        37126 non-null object\n",
      "overall           37126 non-null float64\n",
      "reviewTime        37126 non-null object\n",
      "summary           37126 non-null object\n",
      "dtypes: float64(1), int64(2), object(7)\n",
      "memory usage: 2.8+ MB\n"
     ]
    }
   ],
   "source": [
    "df.info()"
   ]
  },
  {
   "cell_type": "markdown",
   "metadata": {},
   "source": [
    "We can also get a peek at the data by looking at the first few rows,"
   ]
  },
  {
   "cell_type": "code",
   "execution_count": 7,
   "metadata": {},
   "outputs": [
    {
     "data": {
      "text/html": [
       "<div>\n",
       "<style scoped>\n",
       "    .dataframe tbody tr th:only-of-type {\n",
       "        vertical-align: middle;\n",
       "    }\n",
       "\n",
       "    .dataframe tbody tr th {\n",
       "        vertical-align: top;\n",
       "    }\n",
       "\n",
       "    .dataframe thead th {\n",
       "        text-align: right;\n",
       "    }\n",
       "</style>\n",
       "<table border=\"1\" class=\"dataframe\">\n",
       "  <thead>\n",
       "    <tr style=\"text-align: right;\">\n",
       "      <th></th>\n",
       "      <th>Unnamed: 0</th>\n",
       "      <th>reviewerID</th>\n",
       "      <th>asin</th>\n",
       "      <th>reviewerName</th>\n",
       "      <th>helpful</th>\n",
       "      <th>unixReviewTime</th>\n",
       "      <th>reviewText</th>\n",
       "      <th>overall</th>\n",
       "      <th>reviewTime</th>\n",
       "      <th>summary</th>\n",
       "    </tr>\n",
       "  </thead>\n",
       "  <tbody>\n",
       "    <tr>\n",
       "      <th>0</th>\n",
       "      <td>0</td>\n",
       "      <td>A11N155CW1UV02</td>\n",
       "      <td>B000H00VBQ</td>\n",
       "      <td>AdrianaM</td>\n",
       "      <td>[0, 0]</td>\n",
       "      <td>1399075200</td>\n",
       "      <td>I had big expectations because I love English ...</td>\n",
       "      <td>2.0</td>\n",
       "      <td>05 3, 2014</td>\n",
       "      <td>A little bit boring for me</td>\n",
       "    </tr>\n",
       "    <tr>\n",
       "      <th>1</th>\n",
       "      <td>1</td>\n",
       "      <td>A3BC8O2KCL29V2</td>\n",
       "      <td>B000H00VBQ</td>\n",
       "      <td>Carol T</td>\n",
       "      <td>[0, 0]</td>\n",
       "      <td>1346630400</td>\n",
       "      <td>I highly recommend this series. It is a must f...</td>\n",
       "      <td>5.0</td>\n",
       "      <td>09 3, 2012</td>\n",
       "      <td>Excellent Grown Up TV</td>\n",
       "    </tr>\n",
       "  </tbody>\n",
       "</table>\n",
       "</div>"
      ],
      "text/plain": [
       "   Unnamed: 0      reviewerID        asin reviewerName helpful  \\\n",
       "0           0  A11N155CW1UV02  B000H00VBQ     AdrianaM  [0, 0]   \n",
       "1           1  A3BC8O2KCL29V2  B000H00VBQ      Carol T  [0, 0]   \n",
       "\n",
       "   unixReviewTime                                         reviewText  overall  \\\n",
       "0      1399075200  I had big expectations because I love English ...      2.0   \n",
       "1      1346630400  I highly recommend this series. It is a must f...      5.0   \n",
       "\n",
       "   reviewTime                     summary  \n",
       "0  05 3, 2014  A little bit boring for me  \n",
       "1  09 3, 2012       Excellent Grown Up TV  "
      ]
     },
     "execution_count": 7,
     "metadata": {},
     "output_type": "execute_result"
    }
   ],
   "source": [
    "df.head(2)"
   ]
  },
  {
   "cell_type": "markdown",
   "metadata": {},
   "source": [
    "The <code>asin</code> value for each review is the actual \"id\" of the product or video on Amazon. If you copy and paste this id/code into the search on <a href=\"https://amazon.com\">amazon.com</a>, then the product list will come up!\n",
    "\n",
    "\n",
    "Now, let's start out by get some basic statistics on the ratings of Amazon instant videos in the data,"
   ]
  },
  {
   "cell_type": "code",
   "execution_count": 10,
   "metadata": {},
   "outputs": [
    {
     "name": "stdout",
     "output_type": "stream",
     "text": [
      "Mean rating : 4.209529709637451\n",
      "Mean rating standard deviation: 1.1185496668776922\n"
     ]
    }
   ],
   "source": [
    "print(\"Mean rating : {}\".format(df['overall'].mean()))\n",
    "print(\"Mean rating standard deviation: {}\".format(df['overall'].std()))"
   ]
  },
  {
   "cell_type": "markdown",
   "metadata": {},
   "source": [
    "The average rating over all videos is 4.2 out of 5.  We can see the overall distribution of reviews below,"
   ]
  },
  {
   "cell_type": "code",
   "execution_count": 33,
   "metadata": {},
   "outputs": [
    {
     "data": {
      "text/plain": [
       "Text(0, 0.5, 'count of reviews')"
      ]
     },
     "execution_count": 33,
     "metadata": {},
     "output_type": "execute_result"
    },
    {
     "data": {
      "image/png": "[encoded data removed]",
      "text/plain": [
       "<Figure size 432x288 with 1 Axes>"
      ]
     },
     "metadata": {
      "needs_background": "light"
     },
     "output_type": "display_data"
    }
   ],
   "source": [
    "fig = plt.figure(figsize=(6,4))\n",
    "ax  = fig.add_subplot(111)\n",
    "ax.hist(df['overall'], bins=[0.9, 1.1, 1.9, 2.1, 2.9, 3.1, 3.9, 4.1, 4.9, 5.1])\n",
    "ax.set_xlabel('Overall review', fontsize=13)\n",
    "ax.set_ylabel('count of reviews', fontsize=13)\n",
    "#ax.title('Distribution of reviews', fontsize=15)"
   ]
  },
  {
   "cell_type": "markdown",
   "metadata": {},
   "source": [
    "We can also get the number of reviewers by counting the unique values of <code>reviewerID</code> and the product by counting the unique values of <code>asin</code>:"
   ]
  },
  {
   "cell_type": "code",
   "execution_count": 11,
   "metadata": {},
   "outputs": [
    {
     "name": "stdout",
     "output_type": "stream",
     "text": [
      "Number of reviewers: 5130\n",
      "Number of products : 1685\n",
      "Number of ratings  : 37126\n"
     ]
    }
   ],
   "source": [
    "num_users = len(df['reviewerID'].unique())\n",
    "num_items = len(df['asin'].unique())\n",
    "\n",
    "print(\"Number of reviewers: {}\".format(num_users))\n",
    "print(\"Number of products : {}\".format(num_items))\n",
    "print(\"Number of ratings  : {}\".format(len(df)))"
   ]
  },
  {
   "cell_type": "markdown",
   "metadata": {},
   "source": [
    "We can also find out the average number of ratings per reviewer using the  <a href=\"http://pandas.pydata.org/pandas-docs/stable/generated/pandas.DataFrame.groupby.html\">groupby</a> function with <code>reviewerID</code> and then counting the number of product reviews,"
   ]
  },
  {
   "cell_type": "code",
   "execution_count": 13,
   "metadata": {},
   "outputs": [
    {
     "name": "stdout",
     "output_type": "stream",
     "text": [
      "Avg Number of ratings per reviewer 7.237037037037037\n"
     ]
    }
   ],
   "source": [
    "avg_num_reviews = df.groupby('reviewerID')['asin'].count()\n",
    "print(\"Avg Number of ratings per reviewer {}\".format(avg_num_reviews.mean()))"
   ]
  },
  {
   "cell_type": "markdown",
   "metadata": {},
   "source": [
    "We can also get the distribution of the mean rating of each reviewer,"
   ]
  },
  {
   "cell_type": "code",
   "execution_count": 32,
   "metadata": {},
   "outputs": [
    {
     "data": {
      "text/plain": [
       "Text(0, 0.5, 'number of reviewers')"
      ]
     },
     "execution_count": 32,
     "metadata": {},
     "output_type": "execute_result"
    },
    {
     "data": {
      "image/png": "[encoded data removed]",
      "text/plain": [
       "<Figure size 432x288 with 1 Axes>"
      ]
     },
     "metadata": {
      "needs_background": "light"
     },
     "output_type": "display_data"
    }
   ],
   "source": [
    "mean_rating_of_user = df.groupby('reviewerID').apply(lambda x: x['overall'].mean())\n",
    "\n",
    "fig = plt.figure(figsize=(6,4))\n",
    "ax  = fig.add_subplot(111)\n",
    "ax.hist(mean_rating_of_user)\n",
    "ax.set_xlabel('mean rating given by each reviewer', fontsize=13)\n",
    "ax.set_ylabel('number of reviewers', fontsize=13)"
   ]
  },
  {
   "cell_type": "markdown",
   "metadata": {},
   "source": [
    "We could keep exploring the data to get more insights, but one of the appealing aspects about collaborative filtering is that we don't actually have to know much about the products or customters' preferences in order to make recommedations. Instead, all we need to need is the user-item table or ratings matrix and this is what we will discuss next.\n",
    "\n",
    "Now we want to make a ratings matrix out of our DataFrame to represent the user-item table.  In order to do this we have to assign each video and reviewer an unique index that will correspond to a row and a column in the matrix respectively. We do this by turning each <a href=\"http://pandas.pydata.org/pandas-docs/stable/categorical.html\">categorical</a> data-types:"
   ]
  },
  {
   "cell_type": "code",
   "execution_count": 15,
   "metadata": {},
   "outputs": [],
   "source": [
    "# turn each reviewer and product into categorical data,\n",
    "df['reviewerID'] = df['reviewerID'].astype(\"category\")\n",
    "df['asin']       = df['asin'].astype(\"category\")"
   ]
  },
  {
   "cell_type": "markdown",
   "metadata": {},
   "source": [
    "We then create a matrix of all the videos/reviewer/ratings tripples for the training set.  We format the matrix such that each row is a unique item/video and each column is a unique reviewer.  The value of each matrix $R_{i,j}$ will then be the rating that a reviewer $j$ gave on video $i$:"
   ]
  },
  {
   "cell_type": "code",
   "execution_count": 16,
   "metadata": {},
   "outputs": [
    {
     "data": {
      "text/plain": [
       "(5130, 1685)"
      ]
     },
     "execution_count": 16,
     "metadata": {},
     "output_type": "execute_result"
    }
   ],
   "source": [
    "reviews = csc_matrix((df['overall'].astype(float), \n",
    "                     (df['reviewerID'].cat.codes,\n",
    "                      df['asin'].cat.codes)))\n",
    "reviews.shape"
   ]
  },
  {
   "cell_type": "markdown",
   "metadata": {},
   "source": [
    "Since most reviewers/customers only rate a few videos there will be many entries in this matrix with missing values and by default will have 0 value.  Since there will be so few non-zero values this matrix will be pretty sparse and hence we should use a sparse matrix to store it. A sparse matrix only stores the non-zero entries and reduces memory usage.  However, our data is not that large and dense matrices can be a little easier to work with so I will convert this matrix into a dense one:"
   ]
  },
  {
   "cell_type": "code",
   "execution_count": 18,
   "metadata": {},
   "outputs": [],
   "source": [
    "ratings_matrix = reviews.toarray()"
   ]
  },
  {
   "cell_type": "markdown",
   "metadata": {},
   "source": [
    "We can see then sparsity of this matrix,"
   ]
  },
  {
   "cell_type": "code",
   "execution_count": 19,
   "metadata": {},
   "outputs": [
    {
     "name": "stdout",
     "output_type": "stream",
     "text": [
      "Sparsity: 0.43%\n"
     ]
    }
   ],
   "source": [
    "sparsity = float(len(ratings_matrix.nonzero()[0]))\n",
    "sparsity /= (ratings_matrix.shape[0] * ratings_matrix.shape[1])\n",
    "sparsity *= 100\n",
    "print(\"Sparsity: {:4.2f}%\".format(sparsity))"
   ]
  },
  {
   "cell_type": "markdown",
   "metadata": {},
   "source": [
    "The main idea of collaborative filtering is we want to predict how each user will feel about a product, that is, to find the missing values in the matrix. One idea is to fill in the missing values with the mean rating of all users and on all products. The overall mean can be obtained by,"
   ]
  },
  {
   "cell_type": "code",
   "execution_count": 20,
   "metadata": {},
   "outputs": [],
   "source": [
    "mean_rating = df['overall'].mean()"
   ]
  },
  {
   "cell_type": "markdown",
   "metadata": {},
   "source": [
    "We can get then root mean square error in this prediction by computing by getting the non-zero rating values in the matrices using the above method and taking the square of the difference in these values from the <code>mean_rating</code>,"
   ]
  },
  {
   "cell_type": "code",
   "execution_count": 21,
   "metadata": {},
   "outputs": [
    {
     "name": "stdout",
     "output_type": "stream",
     "text": [
      "RMSE = 1.1185346025400433\n"
     ]
    }
   ],
   "source": [
    "base_rmse = np.sqrt(pow(df['overall']-mean_rating, 2).mean())\n",
    "print(\"RMSE = {}\".format(base_rmse))"
   ]
  },
  {
   "cell_type": "markdown",
   "metadata": {},
   "source": [
    "This is a pretty naive approach, but it will give us a baseline to compare the other methods we use.  Our goal will be to find collaborative filtering methods that result in smaller errors than above and we will start with user-user collaborative filtering."
   ]
  },
  {
   "cell_type": "markdown",
   "metadata": {},
   "source": [
    "--------\n",
    "##  User-User Collaborative Filtering <a class=\"anchor\" id=\"third-bullet\"></a>\n",
    "--------"
   ]
  },
  {
   "cell_type": "markdown",
   "metadata": {
    "collapsed": true
   },
   "source": [
    "The basic idea of user-user collaborative filtering is to predict a customer, $u$'s rating of a product, $i$, by finding customers that are similar to $u$ and use their rating of product $i$ to estimate how customer $u$ would rate it.  The way we measure how similar customers are is through a function called the <a href=\"https://en.wikipedia.org/wiki/Cosine_similarity\">cosine similarity</a> function.  The cosine similarity between user $u$ and user $v$ is the normalized dot product of their row vectors, ($\\textbf{r}_{u}$ and $\\textbf{r}_{v}$ respectively) in the rating matrix $\\textbf{R}$,\n",
    "\n",
    "$$ s(u,v) = \\frac{\\textbf{r}_{u} \\cdot \\textbf{r}_{v}}{ \\Vert \\textbf{r}_{u} \\Vert \\Vert \\textbf{r}_{v} \\Vert} $$\n",
    "\n",
    "As mentioned previously, unknown ratings are considered to be 0; this causes them to effectively drop out of the numerator. To generate predictions for user $u$ on product $i$ from the cosine similarity function we then use a weighted average of some set of similar users ($N$) and thoses customers ratings of product $i$, \n",
    "\n",
    "$$ p_{u,i} = \\bar{r}_{u} + \\frac{\\sum_{v \\in N} s(u,v) (R_{v,i} - \\bar{r}_{v})}{\\sum_{v \\in N} \\vert s(u,v) \\vert} $$\n",
    "\n",
    "$\\bar{r}_{v}$ is the mean rating of all customers on all products and  $\\bar{r}_{u}$ is the mean rating of user $u$ on all products.  \n",
    "\n",
    "In order to compute the cosine similarity function between users we import the <a href=\"http://scikit-learn.org/stable/modules/generated/sklearn.metrics.pairwise.cosine_similarity.html\">cosine_similarity</a> function from the <a href=\"http://scikit-learn.org/stable/\">scikit-learn</a> library:"
   ]
  },
  {
   "cell_type": "code",
   "execution_count": 22,
   "metadata": {},
   "outputs": [],
   "source": [
    "from sklearn.metrics.pairwise import cosine_similarity"
   ]
  },
  {
   "cell_type": "markdown",
   "metadata": {},
   "source": [
    "We end up pre-computing all the cosine similarities between users and make a similarity matrix out it in the function calls below.  The first user-user collaborative filtering algorithm is below. We first compare each users similarity to *all* other users and make recommendations.  Notice we dont break up our data into training and testing sets.  Instead, we loop over all the users and all the products and treat each product for each user as a missing value and then predict its value. We then get the error between the predicted rating and the actual rating.\n",
    "\n",
    "The function below will then return the root mean square error in this algorithm over all users.\n",
    "\n",
    "** NOTE: This method is not meant for speed, it is not ideal for caching and memory usage.** "
   ]
  },
  {
   "cell_type": "code",
   "execution_count": 23,
   "metadata": {},
   "outputs": [],
   "source": [
    "def User_User_CF(reviews):\n",
    "    \"\"\"\n",
    "    Obtains the RMSE error in the user-user collaborative \n",
    "    filtering algorithms using all the similar users.\n",
    "    \n",
    "    :param: reviews (numpy.ndarray) : The dense user-item matrix.\n",
    "    \n",
    "    :returns: RMSE of predictions\n",
    "    :rvalue: float\n",
    "    \"\"\"\n",
    "    \n",
    "    # Get the user-user similarity matrix\n",
    "    user_user_similarity = cosine_similarity(reviews)\n",
    "    \n",
    "    sqdiffs = 0\n",
    "    num_preds = 0\n",
    "\n",
    "    # to protect against divide by zero issues\n",
    "    eps = 1e-6\n",
    "\n",
    "    cnt_no_sims = 0\n",
    "    # loop over the users\n",
    "    for user_i, u in enumerate(reviews):\n",
    "        \n",
    "        # products user HAS rated\n",
    "        i_rated = np.where(u>0)[0]\n",
    "    \n",
    "        # Get the average rating for this user\n",
    "        user_avg =  i_rated.mean()\n",
    "        \n",
    "        # loop over all the products that each user reviewed\n",
    "        # Note: these are all the non-zero entries in the row\n",
    "        for i_product in i_rated:\n",
    "        \n",
    "            # Get all the users (indices) that\n",
    "            # have also reviewed this product.\n",
    "            # Note: This also includes the user of interest!\n",
    "            i_has_rated = np.where(reviews[:, i_product])[0]\n",
    "        \n",
    "            # remove the user (indices) of interest \n",
    "            # from this column\n",
    "            i_remove = np.argmin(abs(i_has_rated - user_i))\n",
    "            i_others_have_rated = np.delete(i_has_rated, i_remove)\n",
    "        \n",
    "            # Get the ratings for product by the similar users,\n",
    "            ratings = reviews[i_others_have_rated, \n",
    "                              i_product]\n",
    "                    \n",
    "            ratings -= user_avg\n",
    "               \n",
    "            # get the cosine similarity between the users\n",
    "            # and other users.\n",
    "            similarities = user_user_similarity[user_i,\n",
    "                                                i_others_have_rated]\n",
    "            \n",
    "            # denominator of user_i's produdct prediction\n",
    "            norm = np.sum(similarities)\n",
    "            if norm==0:\n",
    "                cnt_no_sims += 1\n",
    "                norm = eps\n",
    "            \n",
    "            # prediction of user u on product i: p_{u,i}\n",
    "            predicted_rating = user_avg + np.sum(np.multiply(\n",
    "                                            ratings.T,\n",
    "                                            similarities))/norm\n",
    "            \n",
    "            # actual rating by user u on product i\n",
    "            actual_rating = reviews[user_i, i_product]\n",
    "            \n",
    "        # get the L2 difference in predicted and actual\n",
    "        # rating for the user\n",
    "        sqdiffs += pow(predicted_rating - actual_rating, 2.0)\n",
    "        num_preds+=1\n",
    "    \n",
    "    # get the average of all the predictions\n",
    "    rmse_cossim = np.sqrt(sqdiffs/num_preds)\n",
    "    return rmse_cossim"
   ]
  },
  {
   "cell_type": "markdown",
   "metadata": {},
   "source": [
    "Let's see how well the algorithm performs by computing the RMSE of the predicted user ratings,"
   ]
  },
  {
   "cell_type": "code",
   "execution_count": 24,
   "metadata": {},
   "outputs": [
    {
     "name": "stdout",
     "output_type": "stream",
     "text": [
      "1.0389437862440354\n"
     ]
    }
   ],
   "source": [
    "user_all_rmse = User_User_CF(ratings_matrix)\n",
    "print(user_all_rmse)"
   ]
  },
  {
   "cell_type": "markdown",
   "metadata": {},
   "source": [
    "This is definitely an improvement in the prediction error compared to just using the mean ratings as an approximate for unknown customer ratings! \n",
    "\n",
    "We might be able to improve the runtime of our algorithm if we reduce the number of customers we use to generate recommendations.  If a customer is disimilar to our customer of interest, not including them in our computations may not effect the accuracy of prediction, but reduce the number of computations we have to do. The next function performs user-user collaborative filtering just as above, but this time only uses the top $N$ most similar customers to predict the customer of interest's missing rating:"
   ]
  },
  {
   "cell_type": "code",
   "execution_count": 25,
   "metadata": {},
   "outputs": [],
   "source": [
    "def User_User_CF_TopN(reviews, N):\n",
    "    \"\"\"\n",
    "    Obtains the RMSE error in the user-user collaborative \n",
    "    filtering algorithms using the top N most similar users.\n",
    "    \n",
    "    :param: reviews (numpy.ndarray) : The dense user-item matrix.\n",
    "    :param: N (int) : The number of the most similar users.\n",
    "    \n",
    "    :returns: RMSE of predictions\n",
    "    :rvalue: float\n",
    "    \"\"\"\n",
    "    \n",
    "    # Get the user-user similarity matrix\n",
    "    user_user_similarity = cosine_similarity(reviews)\n",
    " \n",
    "    sqdiffs = 0\n",
    "    num_preds = 0\n",
    "\n",
    "    # to protect against divide by zero issues\n",
    "    eps = 1e-6\n",
    "\n",
    "    cnt_no_sims = 0\n",
    "    # loop over the users\n",
    "    for user_i, u in enumerate(reviews):\n",
    "        \n",
    "        # products user HAS rated\n",
    "        i_rated = np.where(u>0)[0]\n",
    "    \n",
    "        # Get the average rating for this user\n",
    "        user_avg = i_rated.mean()\n",
    "        \n",
    "        # loop over all the products that each user reviewed\n",
    "        # Note: these are all the non-zero entries in the row\n",
    "        for i_product in i_rated:\n",
    "        \n",
    "            # Get all the users (indices) that\n",
    "            # have also reviewed this product.\n",
    "            # Note: This also includes the user of interest!\n",
    "            i_has_rated = np.where(reviews[:, i_product]>0)[0]\n",
    "        \n",
    "            # remove the user (indices) of interest \n",
    "            # from this column\n",
    "            i_remove = np.argmin(abs(i_has_rated - user_i))\n",
    "            i_others_have_rated = np.delete(i_has_rated, i_remove)\n",
    "        \n",
    "            # Get the ratings for product by the similar users,\n",
    "            ratings = reviews[i_others_have_rated, \n",
    "                              i_product]\n",
    "                    \n",
    "            ratings -= user_avg\n",
    "               \n",
    "            # get the cosine similarity between the users\n",
    "            # and other users.\n",
    "            sims = user_user_similarity[user_i,\n",
    "                                        i_others_have_rated]\n",
    "            \n",
    "            #choose top N most similar users\n",
    "            most_similar_users = sims[np.argsort(sims*-1)][:N]\n",
    "            most_similar_ratings = ratings[np.argsort(sims*-1)][:N]\n",
    "            \n",
    "            # denominator of user_i's produdct prediction\n",
    "            norm = np.sum(most_similar_users)\n",
    "            if norm==0:\n",
    "                cnt_no_sims += 1\n",
    "                norm = eps\n",
    "            \n",
    "            # prediction of user u on product i: p_{u,i}\n",
    "            predicted_rating = user_avg + np.sum(np.multiply(\n",
    "                                            most_similar_ratings.T,\n",
    "                                            most_similar_users))/norm\n",
    "            \n",
    "            # actual rating by user u on product i\n",
    "            actual_rating = reviews[user_i, i_product]\n",
    "        \n",
    "        # get the L2 difference in predicted and actual\n",
    "        # rating for the user\n",
    "        sqdiffs += pow(predicted_rating - actual_rating, 2.0)\n",
    "        num_preds+=1\n",
    "    \n",
    "    # get the average of all the predictions\n",
    "    rmse_cossim = np.sqrt(sqdiffs/num_preds)\n",
    "    return rmse_cossim"
   ]
  },
  {
   "cell_type": "markdown",
   "metadata": {},
   "source": [
    "We can loop through a number different choices for $N$ (the number of most similar customters) and see how this number affects the error in our user-user collabortive filtering algorithm:"
   ]
  },
  {
   "cell_type": "code",
   "execution_count": 26,
   "metadata": {},
   "outputs": [],
   "source": [
    "N_users = [1,2,3,4,5,10,25,50]\n",
    "top_N   = [User_User_CF_TopN(ratings_matrix, i) for i in N_users]"
   ]
  },
  {
   "cell_type": "markdown",
   "metadata": {},
   "source": [
    "We can now compare the RMSE in the different recommendation methods:"
   ]
  },
  {
   "cell_type": "code",
   "execution_count": 30,
   "metadata": {},
   "outputs": [
    {
     "data": {
      "text/plain": [
       "Text(0.5, 1.0, 'RMSE Error In Recommender Predictions')"
      ]
     },
     "execution_count": 30,
     "metadata": {},
     "output_type": "execute_result"
    },
    {
     "data": {
      "image/png": "[encoded data removed]",
      "text/plain": [
       "<Figure size 576x360 with 1 Axes>"
      ]
     },
     "metadata": {
      "needs_background": "light"
     },
     "output_type": "display_data"
    }
   ],
   "source": [
    "# make constant vectors\n",
    "user_all = []\n",
    "mean_all = []\n",
    "for i in range(len(N_users)):\n",
    "    user_all.append(user_all_rmse)\n",
    "    mean_all.append(base_rmse)\n",
    "\n",
    "plt.figure(figsize=(8,5))\n",
    "plt.plot(N_users, top_N,    'b', label = 'User-User CF, Top N Users')\n",
    "plt.plot(N_users, user_all, 'r', label = 'User-User CF, All Users')\n",
    "plt.plot(N_users, mean_all, 'k', label = 'Mean Rating Of All Users')\n",
    "plt.xlabel('N')\n",
    "plt.ylabel('RMSE Error')\n",
    "plt.legend()\n",
    "plt.title('RMSE Error In Recommender Predictions')"
   ]
  },
  {
   "cell_type": "markdown",
   "metadata": {},
   "source": [
    "We can see that after aboud 25 users there isn't much improvement in predictive power of collaborative filtering.\n",
    "\n",
    "--------\n",
    "## Next Steps... <a class=\"anchor\" id=\"fourth-bullet\"></a>\n",
    "------\n",
    "\n",
    "User-User collaborative filtering while definitely an improvement over using the mean rating as predictor has some serious limitations.  First of all it does not scale well as the number of users grows. This is because searching for similar users will take longer as the list of users grows. Another method which scales better with a larger user base is item-item collaborative filtering, which is incredibly similar to user-user collaborative filtering.  An even better method is to use matrix-factorization in model based collaborative filtering. I'll be updating this post soon and go into the details of using another method."
   ]
  }
 ],
 "metadata": {
  "anaconda-cloud": {},
  "kernelspec": {
   "display_name": "Python 3",
   "language": "python",
   "name": "python3"
  },
  "language_info": {
   "codemirror_mode": {
    "name": "ipython",
    "version": 3
   },
   "file_extension": ".py",
   "mimetype": "text/x-python",
   "name": "python",
   "nbconvert_exporter": "python",
   "pygments_lexer": "ipython3",
   "version": "3.6.7"
  }
 },
 "nbformat": 4,
 "nbformat_minor": 1
}
