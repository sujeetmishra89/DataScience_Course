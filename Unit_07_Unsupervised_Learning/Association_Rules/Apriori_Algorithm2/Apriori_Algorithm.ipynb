{
 "cells": [
  {
   "cell_type": "markdown",
   "metadata": {},
   "source": [
    "# Apriori Algorithm to find frequent itemsets"
   ]
  },
  {
   "cell_type": "code",
   "execution_count": 1,
   "metadata": {},
   "outputs": [],
   "source": [
    "import sys\n",
    "import pandas as pd\n",
    "import itertools"
   ]
  },
  {
   "cell_type": "code",
   "execution_count": 2,
   "metadata": {},
   "outputs": [],
   "source": [
    "def find_frequent_1_itemsets(data, min_sup):\n",
    "    # Generate Candidate 1-itemsets\n",
    "    C0 = {}\n",
    "    for transaction in data:\n",
    "        for item in transaction:\n",
    "            if (item in C0):\n",
    "                C0[item] += 1\n",
    "            else:\n",
    "                C0[item] = 1\n",
    "\n",
    "    # Find the frequent 1-itemsets\n",
    "    L0 = []\n",
    "    for key, value in C0.items():\n",
    "        if (value >= min_sup):\n",
    "            L0.append([[key], value])\n",
    "\n",
    "    # Return the frequent 1-itemset\n",
    "    return sorted(L0)"
   ]
  },
  {
   "cell_type": "code",
   "execution_count": 3,
   "metadata": {},
   "outputs": [],
   "source": [
    "def find_frequent_k_itemsets(Ck, data, min_sup):\n",
    "    # Get the counts of itemsets in Ck\n",
    "    Ck_dict = {}\n",
    "    for i in range(len(Ck)):\n",
    "        for transaction in data:\n",
    "            if (set(Ck[i]) <= set(transaction)):\n",
    "                if (tuple(Ck[i]) in Ck_dict):\n",
    "                    Ck_dict[tuple(Ck[i])] += 1\n",
    "                else:\n",
    "                    Ck_dict[tuple(Ck[i])] = 1\n",
    "\n",
    "    # Find the frequent itemsests in Ck\n",
    "    Lk = []\n",
    "    for key, value in Ck_dict.items():\n",
    "        if (value >= min_sup):\n",
    "            Lk.append([list(key), value])\n",
    "\n",
    "    # Return the sorted frequent k-itemset\n",
    "    return sorted(Lk)"
   ]
  },
  {
   "cell_type": "code",
   "execution_count": 4,
   "metadata": {},
   "outputs": [],
   "source": [
    "def check_and_join(l1, l2):\n",
    "    c = []\n",
    "    k = len(l1)\n",
    "\n",
    "    if (k == 1):\n",
    "        c.extend(l1)\n",
    "        c.extend(l2)\n",
    "        return c\n",
    "\n",
    "    flag = True\n",
    "    for i in range(k-1):\n",
    "        if (l1[i] != l2[i]):\n",
    "            flag = False\n",
    "            break\n",
    "\n",
    "    if (flag):\n",
    "        c.extend(l1[0:k-2])\n",
    "\n",
    "        if (l1[k-1] < l2[k-1]):\n",
    "            c.extend(l1[k-1])\n",
    "            c.extend(l2[k-1])\n",
    "        else:\n",
    "            c.extend(l2[k-1])\n",
    "            c.extend(l1[k-1])\n",
    "\n",
    "    return c"
   ]
  },
  {
   "cell_type": "code",
   "execution_count": 5,
   "metadata": {},
   "outputs": [],
   "source": [
    "def has_infrequent_subset(c, l_prev):\n",
    "    # Create a dictionary of l_prev\n",
    "    l_prev_dict = {}\n",
    "    for i in range(len(l_prev)):\n",
    "        l_prev_dict[tuple(l_prev[i][0])] = 1\n",
    "\n",
    "    # Iterate over all subsets of c and check whether they are all present in l_prev\n",
    "    k = len(l_prev[0][0])\n",
    "    for subset in itertools.combinations(c, k):\n",
    "        if (subset not in l_prev_dict):\n",
    "            return True\n",
    "\n",
    "    return False"
   ]
  },
  {
   "cell_type": "code",
   "execution_count": 6,
   "metadata": {},
   "outputs": [],
   "source": [
    "def apriori_gen(l_prev):\n",
    "    # Construct candidate k-itemset, Ck by joining and pruning itemsets in l_prev\n",
    "    Ck = []\n",
    "    for i in range(len(l_prev)-1):\n",
    "        for j in range(i+1, len(l_prev)):\n",
    "            c = check_and_join(l_prev[i][0], l_prev[j][0])\n",
    "            if (len(c) > 0 and has_infrequent_subset(c, l_prev) == False):\n",
    "                Ck.append(c)\n",
    "\n",
    "    return Ck"
   ]
  },
  {
   "cell_type": "code",
   "execution_count": null,
   "metadata": {},
   "outputs": [],
   "source": [
    "# # Sanity check of command line arguments\n",
    "# if (len(sys.argv) != 4):\n",
    "#     print (\"Usage: python main.py minimum_support_count_threshold min_confidence data_file_path\")\n",
    "#     sys.exit()"
   ]
  },
  {
   "cell_type": "code",
   "execution_count": 16,
   "metadata": {},
   "outputs": [
    {
     "name": "stdout",
     "output_type": "stream",
     "text": [
      "Please enter support value in %: 2\n"
     ]
    }
   ],
   "source": [
    "# Mimimum support count threshold\n",
    "min_sup = int(input(\"Please enter support value in %: \"))\n",
    "# min_sup = int(sys.argv[1])\n",
    "if (min_sup <= 0):\n",
    "    print (\"Error: Minimum support count value should be positive\")\n",
    "    sys.exit()"
   ]
  },
  {
   "cell_type": "code",
   "execution_count": 17,
   "metadata": {},
   "outputs": [
    {
     "name": "stdout",
     "output_type": "stream",
     "text": [
      "Please enter confidence value in %: 2\n"
     ]
    }
   ],
   "source": [
    "min_conf = int(input(\"Please enter confidence value in %: \"))\n",
    "# min_conf = int(sys.argv[2])\n",
    "if (min_conf <= 0):\n",
    "    print (\"Error: Minimum confidence value should be positive\")\n",
    "    sys.exit()"
   ]
  },
  {
   "cell_type": "code",
   "execution_count": 18,
   "metadata": {},
   "outputs": [],
   "source": [
    "# Read the csv data file to a pandas dataframe\n",
    "# df = pd.read_csv(sys.argv[3], header=None, names=['List of items'])\n",
    "df = pd.read_csv(\"GroceryStoreDataSet.csv\", header=None, names=['List of items'])"
   ]
  },
  {
   "cell_type": "code",
   "execution_count": 19,
   "metadata": {},
   "outputs": [
    {
     "data": {
      "text/html": [
       "<div>\n",
       "<style scoped>\n",
       "    .dataframe tbody tr th:only-of-type {\n",
       "        vertical-align: middle;\n",
       "    }\n",
       "\n",
       "    .dataframe tbody tr th {\n",
       "        vertical-align: top;\n",
       "    }\n",
       "\n",
       "    .dataframe thead th {\n",
       "        text-align: right;\n",
       "    }\n",
       "</style>\n",
       "<table border=\"1\" class=\"dataframe\">\n",
       "  <thead>\n",
       "    <tr style=\"text-align: right;\">\n",
       "      <th></th>\n",
       "      <th>List of items</th>\n",
       "    </tr>\n",
       "  </thead>\n",
       "  <tbody>\n",
       "    <tr>\n",
       "      <th>0</th>\n",
       "      <td>MILK,BREAD,BISCUIT</td>\n",
       "    </tr>\n",
       "    <tr>\n",
       "      <th>1</th>\n",
       "      <td>BREAD,MILK,BISCUIT,CORNFLAKES</td>\n",
       "    </tr>\n",
       "    <tr>\n",
       "      <th>2</th>\n",
       "      <td>BREAD,TEA,BOURNVITA</td>\n",
       "    </tr>\n",
       "    <tr>\n",
       "      <th>3</th>\n",
       "      <td>JAM,MAGGI,BREAD,MILK</td>\n",
       "    </tr>\n",
       "    <tr>\n",
       "      <th>4</th>\n",
       "      <td>MAGGI,TEA,BISCUIT</td>\n",
       "    </tr>\n",
       "    <tr>\n",
       "      <th>5</th>\n",
       "      <td>BREAD,TEA,BOURNVITA</td>\n",
       "    </tr>\n",
       "    <tr>\n",
       "      <th>6</th>\n",
       "      <td>MAGGI,TEA,CORNFLAKES</td>\n",
       "    </tr>\n",
       "    <tr>\n",
       "      <th>7</th>\n",
       "      <td>MAGGI,BREAD,TEA,BISCUIT</td>\n",
       "    </tr>\n",
       "    <tr>\n",
       "      <th>8</th>\n",
       "      <td>JAM,MAGGI,BREAD,TEA</td>\n",
       "    </tr>\n",
       "    <tr>\n",
       "      <th>9</th>\n",
       "      <td>BREAD,MILK</td>\n",
       "    </tr>\n",
       "    <tr>\n",
       "      <th>10</th>\n",
       "      <td>COFFEE,COCK,BISCUIT,CORNFLAKES</td>\n",
       "    </tr>\n",
       "    <tr>\n",
       "      <th>11</th>\n",
       "      <td>COFFEE,COCK,BISCUIT,CORNFLAKES</td>\n",
       "    </tr>\n",
       "    <tr>\n",
       "      <th>12</th>\n",
       "      <td>COFFEE,SUGER,BOURNVITA</td>\n",
       "    </tr>\n",
       "    <tr>\n",
       "      <th>13</th>\n",
       "      <td>BREAD,COFFEE,COCK</td>\n",
       "    </tr>\n",
       "    <tr>\n",
       "      <th>14</th>\n",
       "      <td>BREAD,SUGER,BISCUIT</td>\n",
       "    </tr>\n",
       "    <tr>\n",
       "      <th>15</th>\n",
       "      <td>COFFEE,SUGER,CORNFLAKES</td>\n",
       "    </tr>\n",
       "    <tr>\n",
       "      <th>16</th>\n",
       "      <td>BREAD,SUGER,BOURNVITA</td>\n",
       "    </tr>\n",
       "    <tr>\n",
       "      <th>17</th>\n",
       "      <td>BREAD,COFFEE,SUGER</td>\n",
       "    </tr>\n",
       "    <tr>\n",
       "      <th>18</th>\n",
       "      <td>BREAD,COFFEE,SUGER</td>\n",
       "    </tr>\n",
       "    <tr>\n",
       "      <th>19</th>\n",
       "      <td>TEA,MILK,COFFEE,CORNFLAKES</td>\n",
       "    </tr>\n",
       "  </tbody>\n",
       "</table>\n",
       "</div>"
      ],
      "text/plain": [
       "                     List of items\n",
       "0               MILK,BREAD,BISCUIT\n",
       "1    BREAD,MILK,BISCUIT,CORNFLAKES\n",
       "2              BREAD,TEA,BOURNVITA\n",
       "3             JAM,MAGGI,BREAD,MILK\n",
       "4                MAGGI,TEA,BISCUIT\n",
       "5              BREAD,TEA,BOURNVITA\n",
       "6             MAGGI,TEA,CORNFLAKES\n",
       "7          MAGGI,BREAD,TEA,BISCUIT\n",
       "8              JAM,MAGGI,BREAD,TEA\n",
       "9                       BREAD,MILK\n",
       "10  COFFEE,COCK,BISCUIT,CORNFLAKES\n",
       "11  COFFEE,COCK,BISCUIT,CORNFLAKES\n",
       "12          COFFEE,SUGER,BOURNVITA\n",
       "13               BREAD,COFFEE,COCK\n",
       "14             BREAD,SUGER,BISCUIT\n",
       "15         COFFEE,SUGER,CORNFLAKES\n",
       "16           BREAD,SUGER,BOURNVITA\n",
       "17              BREAD,COFFEE,SUGER\n",
       "18              BREAD,COFFEE,SUGER\n",
       "19      TEA,MILK,COFFEE,CORNFLAKES"
      ]
     },
     "execution_count": 19,
     "metadata": {},
     "output_type": "execute_result"
    }
   ],
   "source": [
    "df"
   ]
  },
  {
   "cell_type": "code",
   "execution_count": 20,
   "metadata": {},
   "outputs": [],
   "source": [
    "# Store the dataframe as a list of lists\n",
    "data = []\n",
    "for _, row in df.iterrows():\n",
    "    data.append(sorted(row['List of items'].split(\",\")))"
   ]
  },
  {
   "cell_type": "code",
   "execution_count": 21,
   "metadata": {},
   "outputs": [],
   "source": [
    "# Find frequent 1-itemsets\n",
    "L0 = find_frequent_1_itemsets(data, min_sup)"
   ]
  },
  {
   "cell_type": "code",
   "execution_count": 22,
   "metadata": {},
   "outputs": [],
   "source": [
    "# Append L0 to the final frequent itemsets list\n",
    "L = []\n",
    "L.append(L0)"
   ]
  },
  {
   "cell_type": "code",
   "execution_count": 23,
   "metadata": {},
   "outputs": [],
   "source": [
    "# Iterate on k to find frequent k-itemsets\n",
    "k = 1\n",
    "while (len(L[k-1]) > 0):\n",
    "    Ck = apriori_gen(L[k-1])\n",
    "    Lk = find_frequent_k_itemsets(Ck, data, min_sup)\n",
    "    L.append(Lk)\n",
    "    k += 1"
   ]
  },
  {
   "cell_type": "code",
   "execution_count": 24,
   "metadata": {},
   "outputs": [
    {
     "name": "stdout",
     "output_type": "stream",
     "text": [
      "Frequent Itemset              Support Count  \n",
      "--------------------------------------------\n",
      "['BISCUIT']                       7\n",
      "['BOURNVITA']                     4\n",
      "['BREAD']                        13\n",
      "['COCK']                          3\n",
      "['COFFEE']                        8\n",
      "['CORNFLAKES']                    6\n",
      "['JAM']                           2\n",
      "['MAGGI']                         5\n",
      "['MILK']                          5\n",
      "['SUGER']                         6\n",
      "['TEA']                           7\n",
      "['BISCUIT', 'BREAD']              4\n",
      "['BISCUIT', 'COCK']               2\n",
      "['BISCUIT', 'COFFEE']             2\n",
      "['BISCUIT', 'CORNFLAKES']         3\n",
      "['BISCUIT', 'MAGGI']              2\n",
      "['BISCUIT', 'MILK']               2\n",
      "['BISCUIT', 'TEA']                2\n",
      "['BOURNVITA', 'BREAD']            3\n",
      "['BOURNVITA', 'SUGER']            2\n",
      "['BOURNVITA', 'TEA']              2\n",
      "['BREAD', 'COFFEE']               3\n",
      "['BREAD', 'JAM']                  2\n",
      "['BREAD', 'MAGGI']                3\n",
      "['BREAD', 'MILK']                 4\n",
      "['BREAD', 'SUGER']                4\n",
      "['BREAD', 'TEA']                  4\n",
      "['COCK', 'COFFEE']                3\n",
      "['COCK', 'CORNFLAKES']            2\n",
      "['COFFEE', 'CORNFLAKES']          4\n",
      "['COFFEE', 'SUGER']               4\n",
      "['CORNFLAKES', 'MILK']            2\n",
      "['CORNFLAKES', 'TEA']             2\n",
      "['JAM', 'MAGGI']                  2\n",
      "['MAGGI', 'TEA']                  4\n"
     ]
    }
   ],
   "source": [
    "# Print the frequent itemsets\n",
    "print ('{:30}{:15}'.format('Frequent Itemset', 'Support Count'))\n",
    "print (\"--------------------------------------------\")\n",
    "for freq_itemset in L:\n",
    "    for itemset in freq_itemset:\n",
    "        print ('{:30}{:5}'.format(str(itemset[0]), itemset[1]))"
   ]
  },
  {
   "cell_type": "code",
   "execution_count": 25,
   "metadata": {},
   "outputs": [],
   "source": [
    "# Store the support counts in dictionary\n",
    "sup_count = {}\n",
    "for freq_itemset in L:\n",
    "    for itemset in freq_itemset:\n",
    "        sup_count[tuple(itemset[0])] = itemset[1]"
   ]
  },
  {
   "cell_type": "code",
   "execution_count": 26,
   "metadata": {},
   "outputs": [
    {
     "name": "stdout",
     "output_type": "stream",
     "text": [
      "\n",
      "Association rules:\n",
      "--------------------\n",
      "('BISCUIT',)  =>  ('COCK',)\n",
      "('BREAD',)  =>  ('BOURNVITA',)\n",
      "('BREAD',)  =>  ('JAM',)\n",
      "('BREAD',)  =>  ('MAGGI',)\n",
      "('BREAD',)  =>  ('MILK',)\n",
      "('BREAD',)  =>  ('SUGER',)\n",
      "('COFFEE',)  =>  ('COCK',)\n",
      "('CORNFLAKES',)  =>  ('COCK',)\n",
      "('MAGGI',)  =>  ('JAM',)\n"
     ]
    }
   ],
   "source": [
    "# Find and print the association rules\n",
    "print (\"\\nAssociation rules:\")\n",
    "print (\"--------------------\")\n",
    "for freq_itemset in L:\n",
    "    for itemset in freq_itemset:\n",
    "        if (len(itemset[0]) <= 1):\n",
    "            continue\n",
    "\n",
    "        # Generate all the subsets of the current itemset\n",
    "        for i in range(1,len(itemset[0])):\n",
    "            for subset in itertools.combinations(itemset[0], i):\n",
    "                # Check the association rule confidence\n",
    "                if ((sup_count[subset] / sup_count[tuple(sorted(set(itemset[0]) - set(subset)))]) >= min_conf):\n",
    "                    print (subset,' => ', tuple(sorted(set(itemset[0]) - set(subset))))"
   ]
  },
  {
   "cell_type": "code",
   "execution_count": 28,
   "metadata": {},
   "outputs": [],
   "source": [
    "from apyori import apriori"
   ]
  },
  {
   "cell_type": "code",
   "execution_count": null,
   "metadata": {},
   "outputs": [],
   "source": [
    "# transactions = [\n",
    "#     ['beer', 'nuts'],\n",
    "#     ['beer', 'cheese'],\n",
    "# ]\n",
    "results = list(apriori(list(df['List of items'])))"
   ]
  },
  {
   "cell_type": "code",
   "execution_count": null,
   "metadata": {},
   "outputs": [],
   "source": [
    "results"
   ]
  }
 ],
 "metadata": {
  "kernelspec": {
   "display_name": "Python 3",
   "language": "python",
   "name": "python3"
  },
  "language_info": {
   "codemirror_mode": {
    "name": "ipython",
    "version": 3
   },
   "file_extension": ".py",
   "mimetype": "text/x-python",
   "name": "python",
   "nbconvert_exporter": "python",
   "pygments_lexer": "ipython3",
   "version": "3.7.7"
  }
 },
 "nbformat": 4,
 "nbformat_minor": 4
}
