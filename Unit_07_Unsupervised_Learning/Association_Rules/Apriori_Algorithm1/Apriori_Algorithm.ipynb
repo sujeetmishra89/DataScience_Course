{
 "cells": [
  {
   "cell_type": "code",
   "execution_count": 1,
   "metadata": {},
   "outputs": [],
   "source": [
    "import itertools"
   ]
  },
  {
   "cell_type": "code",
   "execution_count": 2,
   "metadata": {},
   "outputs": [
    {
     "name": "stdout",
     "output_type": "stream",
     "text": [
      "Please enter support value in %: 40\n",
      "Please enter confidence value in %: 40\n"
     ]
    }
   ],
   "source": [
    "\"\"\"prompt user to enter support and confidence values in percent\"\"\"\n",
    "support = int(input(\"Please enter support value in %: \"))\n",
    "confidence = int(input(\"Please enter confidence value in %: \"))"
   ]
  },
  {
   "cell_type": "code",
   "execution_count": 3,
   "metadata": {},
   "outputs": [],
   "source": [
    "\"\"\"Compute candidate 1-itemset\"\"\"\n",
    "C1 = {}\n",
    "\"\"\"total number of transactions contained in the file\"\"\"\n",
    "transactions = 0"
   ]
  },
  {
   "cell_type": "code",
   "execution_count": 4,
   "metadata": {},
   "outputs": [
    {
     "name": "stdout",
     "output_type": "stream",
     "text": [
      "-------------------------TEST DATASET----------------------------\n",
      "[['chocolate', 'candy', 'coke', 'mango', 'peanut'], ['pen', 'luggage', 'comforter', 'bag', 'cap', 'detergent', 'towel'], ['chocolate', 'pen', 'candy', 'luggage'], ['chococate', 'candy', 'coke'], ['pen', 'luggage', 'comforter', 'bag'], ['chocolate', 'candy', 'coke', 'mango'], ['pen', 'luggage', 'comforter', 'bag', 'cap'], ['pen', 'luggage', 'comforter', 'bag', 'cap', 'detergent'], ['pen', 'luggage', 'comforter'], ['candy', 'mango', 'luggage', 'bag'], ['coke', 'peanut', 'detergent', 'towel'], ['mango', 'pen', 'comforter', 'cap'], ['bag', 'cap', 'towel', 'peanut'], ['pen', 'luggage', 'comforter', 'chocolate', 'candy'], ['pen', 'luggage', 'comforter', 'mango', 'peanut'], ['comforter', 'bag', 'cap', 'candy', 'coke', 'mango'], ['peanut', 'candy', 'cap', 'towel'], ['pen', 'peanut', 'comforter', 'chocolate'], ['pen', 'peanut', 'comforter', 'chocolate', 'cap', 'candy'], ['chocolate', 'peanut', 'mango', 'luggage', 'bag', 'towel', 'detergent']]\n",
      "-----------------------------------------------------------------\n"
     ]
    }
   ],
   "source": [
    "D = []\n",
    "T = []\n",
    "with open(\"DataSet5.txt\", \"r\") as f:\n",
    "    for line in f:\n",
    "        T = []\n",
    "        transactions += 1\n",
    "        for word in line.split():\n",
    "            T.append(word)\n",
    "            if word not in C1.keys():\n",
    "                C1[word] = 1\n",
    "            else:\n",
    "                count = C1[word]\n",
    "                C1[word] = count + 1\n",
    "        D.append(T)\n",
    "print(\"-------------------------TEST DATASET----------------------------\")\n",
    "print(D)\n",
    "print(\"-----------------------------------------------------------------\")\n",
    "#print \"--------------------CANDIDATE 1-ITEMSET------------------------- \"\n",
    "#print C1\n",
    "#print \"-----------------------------------------------------------------\""
   ]
  },
  {
   "cell_type": "code",
   "execution_count": 5,
   "metadata": {},
   "outputs": [
    {
     "name": "stdout",
     "output_type": "stream",
     "text": [
      "----------------------FREQUENT 1-ITEMSET-------------------------\n",
      "[['candy'], ['peanut'], ['pen'], ['luggage'], ['comforter'], ['bag'], ['cap']]\n",
      "-----------------------------------------------------------------\n"
     ]
    }
   ],
   "source": [
    "\"\"\"Compute frequent 1-itemset\"\"\"\n",
    "L1 = []\n",
    "for key in C1:\n",
    "    if (100 * C1[key]/transactions) >= support:\n",
    "        list = []\n",
    "        list.append(key)\n",
    "        L1.append(list)\n",
    "print( \"----------------------FREQUENT 1-ITEMSET-------------------------\")\n",
    "print( L1)\n",
    "print( \"-----------------------------------------------------------------\")"
   ]
  },
  {
   "cell_type": "code",
   "execution_count": 6,
   "metadata": {},
   "outputs": [],
   "source": [
    "\"\"\"apriori_gen function to compute candidate k-itemset, (Ck) , using frequent (k-1)-itemset, (Lk_1)\"\"\"\n",
    "def apriori_gen(Lk_1, k):\n",
    "    length = k\n",
    "    Ck = [] \n",
    "    for list1 in Lk_1:\n",
    "        for list2 in Lk_1:\n",
    "            count = 0\n",
    "            c = []\n",
    "            if list1 != list2:\n",
    "                while count < length-1:\n",
    "                    if list1[count] != list2[count]:\n",
    "                        break\n",
    "                    else:\n",
    "                        count += 1\n",
    "                else:\n",
    "                    if list1[length-1] < list2[length-1]:\n",
    "                        for item in list1:\n",
    "                            c.append(item)\n",
    "                        c.append(list2[length-1])\n",
    "                        if not has_infrequent_subset(c, Lk_1, k):\n",
    "                            Ck.append(c) \n",
    "                            c = []\n",
    "    return Ck"
   ]
  },
  {
   "cell_type": "code",
   "execution_count": 7,
   "metadata": {},
   "outputs": [],
   "source": [
    "\"\"\"function to compute 'm' element subsets of a set S\"\"\"\n",
    "def findsubsets(S,m):\n",
    "    return set(itertools.combinations(S, m))"
   ]
  },
  {
   "cell_type": "code",
   "execution_count": 8,
   "metadata": {},
   "outputs": [],
   "source": [
    "\"\"\"has_infrequent_subsets function to determine if pruning is required to remove unfruitful candidates (c) using the Apriori property, with prior knowledge of frequent (k-1)-itemset (Lk_1)\"\"\"\n",
    "def has_infrequent_subset(c, Lk_1, k):\n",
    "    list = []\n",
    "    list = findsubsets(c,k)\n",
    "    for item in list: \n",
    "        s = []\n",
    "        for l in item:\n",
    "            s.append(l)\n",
    "        s.sort()\n",
    "        if s not in Lk_1:\n",
    "            return True\n",
    "    return False"
   ]
  },
  {
   "cell_type": "code",
   "execution_count": 9,
   "metadata": {},
   "outputs": [],
   "source": [
    "\"\"\"frequent_itemsets function to compute all frequent itemsets\"\"\"\n",
    "def frequent_itemsets():\n",
    "    k = 2\n",
    "    Lk_1 = []\n",
    "    Lk = []\n",
    "    L = []\n",
    "    count = 0\n",
    "    transactions = 0\n",
    "    for item in L1:\n",
    "        Lk_1.append(item)\n",
    "    while Lk_1 != []:\n",
    "        Ck = []\n",
    "        Lk = []\n",
    "        Ck = apriori_gen(Lk_1, k-1)\n",
    "        #print( \"-------------------------CANDIDATE %d-ITEMSET---------------------\" % k)\n",
    "        #print( \"Ck: %s\" % Ck)\n",
    "        #print( \"------------------------------------------------------------------\")\n",
    "        for c in Ck:\n",
    "            count = 0\n",
    "            transactions = 0\n",
    "            s = set(c)\n",
    "            for T in D:\n",
    "                transactions += 1\n",
    "                t = set(T)\n",
    "                if s.issubset(t) == True:\n",
    "                    count += 1\n",
    "            if (100 * count/transactions) >= support:\n",
    "                c.sort()\n",
    "                Lk.append(c)\n",
    "        Lk_1 = []\n",
    "        print( \"-----------------------FREQUENT %d-ITEMSET------------------------\" % k)\n",
    "        print( Lk)\n",
    "        print( \"------------------------------------------------------------------\")\n",
    "        for l in Lk:\n",
    "            Lk_1.append(l)\n",
    "        k += 1\n",
    "        if Lk != []:\n",
    "            L.append(Lk)\n",
    "    \n",
    "    return L"
   ]
  },
  {
   "cell_type": "code",
   "execution_count": 10,
   "metadata": {},
   "outputs": [
    {
     "name": "stdout",
     "output_type": "stream",
     "text": [
      "-----------------------FREQUENT 2-ITEMSET------------------------\n",
      "[['luggage', 'pen'], ['comforter', 'pen']]\n",
      "------------------------------------------------------------------\n",
      "-----------------------FREQUENT 3-ITEMSET------------------------\n",
      "[]\n",
      "------------------------------------------------------------------\n",
      "---------------------ASSOCIATION RULES------------------\n",
      "RULES \t SUPPORT \t CONFIDENCE\n",
      "--------------------------------------------------------\n",
      "Rule#  1 : ['pen'] ==> ['luggage'] 40 72\n",
      "Rule#  2 : ['luggage'] ==> ['pen'] 40 80\n",
      "Rule#  3 : ['comforter'] ==> ['pen'] 50 90\n",
      "Rule#  4 : ['pen'] ==> ['comforter'] 50 90\n",
      "--------------------------------------------------------\n"
     ]
    }
   ],
   "source": [
    "\"\"\"generate_association_rules function to mine and print all the association rules with given support and confidence value\"\"\"\n",
    "def generate_association_rules():\n",
    "    s = []\n",
    "    r = []\n",
    "    length = 0\n",
    "    count = 1\n",
    "    inc1 = 0\n",
    "    inc2 = 0\n",
    "    num = 1\n",
    "    m = []\n",
    "    L= frequent_itemsets()\n",
    "    print( \"---------------------ASSOCIATION RULES------------------\")\n",
    "    print( \"RULES \\t SUPPORT \\t CONFIDENCE\")\n",
    "    print( \"--------------------------------------------------------\")\n",
    "    for list in L:\n",
    "        for l in list:\n",
    "            length = len(l)\n",
    "            count = 1\n",
    "            while count < length: \n",
    "                s = []\n",
    "                r = findsubsets(l,count)\n",
    "                count += 1\n",
    "                for item in r:\n",
    "                    inc1 = 0\n",
    "                    inc2 = 0\n",
    "                    s = []\n",
    "                    m = []\n",
    "                    for i in item:\n",
    "                        s.append(i)\n",
    "                    for T in D:\n",
    "                        if set(s).issubset(set(T)) == True:\n",
    "                            inc1 += 1\n",
    "                        if set(l).issubset(set(T)) == True:\n",
    "                            inc2 += 1\n",
    "                    if 100*inc2/inc1 >= confidence:\n",
    "                        for index in l:\n",
    "                            if index not in s:\n",
    "                                m.append(index)\n",
    "                        print( \"Rule#  %d : %s ==> %s %d %d\" %(num, s, m, 100*inc2/len(D), 100*inc2/inc1))\n",
    "                        num += 1  \n",
    "\n",
    "generate_association_rules()   \n",
    "print( \"--------------------------------------------------------\")"
   ]
  }
 ],
 "metadata": {
  "kernelspec": {
   "display_name": "Python 3",
   "language": "python",
   "name": "python3"
  },
  "language_info": {
   "codemirror_mode": {
    "name": "ipython",
    "version": 3
   },
   "file_extension": ".py",
   "mimetype": "text/x-python",
   "name": "python",
   "nbconvert_exporter": "python",
   "pygments_lexer": "ipython3",
   "version": "3.8.5"
  }
 },
 "nbformat": 4,
 "nbformat_minor": 4
}
