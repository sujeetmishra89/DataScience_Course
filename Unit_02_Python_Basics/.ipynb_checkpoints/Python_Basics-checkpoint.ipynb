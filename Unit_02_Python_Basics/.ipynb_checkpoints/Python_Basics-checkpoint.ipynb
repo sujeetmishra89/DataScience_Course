{
 "cells": [
  {
   "cell_type": "markdown",
   "metadata": {},
   "source": [
    "### What is Python?\n",
    "Python is a popular programming language. It was created by Guido van Rossum, and released in 1991.\n",
    "\n",
    "It is used for\n",
    "1. web development (server-side),\n",
    "2. software development,\n",
    "3. mathematics,\n",
    "4. system scripting.\n",
    "\n",
    "### What can Python do?\n",
    "1. Python can be used on a server to create web applications.\n",
    "2. Python can be used alongside software to create workflows.\n",
    "3. Python can connect to database systems. It can also read and modify files.\n",
    "4. Python can be used to handle big data and perform complex mathematics.\n",
    "5. Python can be used for rapid prototyping, or for production-ready software development.\n",
    "\n",
    "### Why Python?\n",
    "1. Python works on different platforms (Windows, Mac, Linux, Raspberry Pi, etc).\n",
    "2. Python has a simple syntax similar to the English language.\n",
    "3. Python has syntax that allows developers to write programs with fewer lines than some other programming languages.\n",
    "4. Python runs on an interpreter system, meaning that code can be executed as soon as it is written. This means that prototyping can be very quick.\n",
    "5. Python can be treated in a procedural way, an object-oriented way or a functional way.\n",
    "\n",
    "### Good to know\n",
    "1. The most recent major version of Python is Python 3, which we shall be using in this tutorial. However, Python 2, although not being updated with anything other than security updates, is still quite popular.\n",
    "2. In this tutorial Python will be written in a text editor. It is possible to write Python in an Integrated Development Environment, such as Thonny, Pycharm, Netbeans or Eclipse which are particularly useful when managing larger collections of Python files.\n",
    "\n",
    "### Python Syntax compared to other programming languages\n",
    "1. Python was designed for readability, and has some similarities to the English language with influence from mathematics.\n",
    "2. Python uses new lines to complete a command, as opposed to other programming languages which often use semicolons or parentheses.\n",
    "3. Python relies on indentation, using whitespace, to define scope; such as the scope of loops, functions and classes. Other programming languages often use curly-brackets for this purpose."
   ]
  },
  {
   "cell_type": "code",
   "execution_count": null,
   "metadata": {},
   "outputs": [],
   "source": [
    "print(\"Welcome to Python Basics!\")"
   ]
  },
  {
   "cell_type": "markdown",
   "metadata": {},
   "source": [
    "# Data Types"
   ]
  },
  {
   "cell_type": "code",
   "execution_count": null,
   "metadata": {},
   "outputs": [],
   "source": [
    "1/0"
   ]
  },
  {
   "cell_type": "code",
   "execution_count": null,
   "metadata": {},
   "outputs": [],
   "source": [
    "A"
   ]
  },
  {
   "cell_type": "code",
   "execution_count": null,
   "metadata": {},
   "outputs": [],
   "source": [
    "a = 2\n",
    "print(type(a))\n",
    "a"
   ]
  },
  {
   "cell_type": "code",
   "execution_count": null,
   "metadata": {},
   "outputs": [],
   "source": [
    "a = 4.5\n",
    "type(a)\n",
    "a"
   ]
  },
  {
   "cell_type": "markdown",
   "metadata": {},
   "source": [
    "### Lists"
   ]
  },
  {
   "cell_type": "code",
   "execution_count": null,
   "metadata": {},
   "outputs": [],
   "source": [
    "List_1 = [1,'a','sujeet',\"I am learning Python\", a]\n",
    "List_1"
   ]
  },
  {
   "cell_type": "code",
   "execution_count": null,
   "metadata": {},
   "outputs": [],
   "source": [
    "type(List_1)"
   ]
  },
  {
   "cell_type": "code",
   "execution_count": null,
   "metadata": {},
   "outputs": [],
   "source": [
    "len(List_1)"
   ]
  },
  {
   "cell_type": "code",
   "execution_count": null,
   "metadata": {},
   "outputs": [],
   "source": [
    "List_1[0]"
   ]
  },
  {
   "cell_type": "code",
   "execution_count": null,
   "metadata": {},
   "outputs": [],
   "source": [
    "List_1[5]"
   ]
  },
  {
   "cell_type": "code",
   "execution_count": null,
   "metadata": {},
   "outputs": [],
   "source": [
    "del a"
   ]
  },
  {
   "cell_type": "code",
   "execution_count": null,
   "metadata": {},
   "outputs": [],
   "source": [
    "a = 6"
   ]
  },
  {
   "cell_type": "code",
   "execution_count": null,
   "metadata": {},
   "outputs": [],
   "source": [
    "List_1"
   ]
  },
  {
   "cell_type": "code",
   "execution_count": null,
   "metadata": {},
   "outputs": [],
   "source": [
    "List_1 = [1,'a','sujeet',\"I am learning Python\", a]\n",
    "List_1"
   ]
  },
  {
   "cell_type": "code",
   "execution_count": null,
   "metadata": {},
   "outputs": [],
   "source": [
    "List_1.append('b')\n",
    "List_1"
   ]
  },
  {
   "cell_type": "code",
   "execution_count": null,
   "metadata": {},
   "outputs": [],
   "source": [
    "List_2 = list(range(1,15,2))\n",
    "List_2"
   ]
  },
  {
   "cell_type": "code",
   "execution_count": null,
   "metadata": {},
   "outputs": [],
   "source": [
    "List_1.extend(List_2)\n",
    "List_1"
   ]
  },
  {
   "cell_type": "code",
   "execution_count": null,
   "metadata": {},
   "outputs": [],
   "source": [
    "List_3 = [x for x in List_1 if type(x)==int]\n",
    "List_3"
   ]
  },
  {
   "cell_type": "code",
   "execution_count": null,
   "metadata": {},
   "outputs": [],
   "source": [
    "%%timeit\n",
    "[x**2 for x in List_1 if type(x)==int]"
   ]
  },
  {
   "cell_type": "code",
   "execution_count": null,
   "metadata": {},
   "outputs": [],
   "source": [
    "[x/5 for x in range(5,4000,100) if x<=1000]"
   ]
  },
  {
   "cell_type": "markdown",
   "metadata": {},
   "source": [
    "### Sets"
   ]
  },
  {
   "cell_type": "code",
   "execution_count": null,
   "metadata": {},
   "outputs": [],
   "source": [
    "Set_1 = {\"apple\", \"banana\", \"cherry\"}"
   ]
  },
  {
   "cell_type": "code",
   "execution_count": null,
   "metadata": {},
   "outputs": [],
   "source": [
    "'''\n",
    "https://www.w3schools.com/python/python_sets.asp\n",
    "add() # Adds an element to the set\n",
    "clear() # Removes all the elements from the set\n",
    "copy() # Returns a copy of the set\n",
    "difference() # Returns a set containing the difference between two or more sets\n",
    "difference_update() # Removes the items in this set that are also included in another, specified set\n",
    "discard() # Remove the specified item\n",
    "intersection() # Returns a set, that is the intersection of two other sets\n",
    "intersection_update() # Removes the items in this set that are not present in other, specified set(s)\n",
    "isdisjoint() # Returns whether two sets have a intersection or not\n",
    "issubset() # Returns whether another set contains this set or not\n",
    "issuperset() # Returns whether this set contains another set or not\n",
    "pop() # Removes an element from the set\n",
    "remove() # Removes the specified element\n",
    "symmetric_difference() # Returns a set with the symmetric differences of two sets\n",
    "symmetric_difference_update() # inserts the symmetric differences from this set and another\n",
    "union() # Return a set containing the union of sets\n",
    "update() # Update the set with the union of this set and others\n",
    "'''"
   ]
  },
  {
   "cell_type": "markdown",
   "metadata": {},
   "source": [
    "### Dictionaries"
   ]
  },
  {
   "cell_type": "code",
   "execution_count": null,
   "metadata": {},
   "outputs": [],
   "source": [
    "Dict_1 = {'A':1,'B':2,'C':3}"
   ]
  },
  {
   "cell_type": "code",
   "execution_count": null,
   "metadata": {},
   "outputs": [],
   "source": [
    "Dict_1['A']"
   ]
  },
  {
   "cell_type": "code",
   "execution_count": null,
   "metadata": {},
   "outputs": [],
   "source": [
    "Dict_1[0]"
   ]
  },
  {
   "cell_type": "markdown",
   "metadata": {},
   "source": [
    "### Tuple"
   ]
  },
  {
   "cell_type": "code",
   "execution_count": null,
   "metadata": {},
   "outputs": [],
   "source": [
    "Tuple_1 = (1,2,3)\n",
    "Tuple_1"
   ]
  },
  {
   "cell_type": "code",
   "execution_count": null,
   "metadata": {},
   "outputs": [],
   "source": [
    "List_1 = [1,2,3]\n",
    "List_1"
   ]
  },
  {
   "cell_type": "code",
   "execution_count": null,
   "metadata": {},
   "outputs": [],
   "source": [
    "print(List_1*5)\n",
    "print(Tuple_1*5)"
   ]
  },
  {
   "cell_type": "code",
   "execution_count": null,
   "metadata": {},
   "outputs": [],
   "source": [
    "print(List_1+[4])\n",
    "print((4,)+Tuple_1)"
   ]
  },
  {
   "cell_type": "code",
   "execution_count": null,
   "metadata": {},
   "outputs": [],
   "source": [
    "'''\n",
    "https://www.w3schools.com/python/python_tuples.asp\n",
    "count() # Returns the number of times a specified value occurs in a tuple\n",
    "index() # Searches the tuple for a specified value and returns the position of where it was found\n",
    "'''"
   ]
  },
  {
   "cell_type": "markdown",
   "metadata": {},
   "source": [
    "### Series"
   ]
  },
  {
   "cell_type": "code",
   "execution_count": null,
   "metadata": {},
   "outputs": [],
   "source": [
    "import pandas as pd\n",
    "df = pd.DataFrame([{'A':1,'B':2,'C':3}])\n",
    "df.loc[1,'A'] = 2\n",
    "df"
   ]
  },
  {
   "cell_type": "markdown",
   "metadata": {},
   "source": [
    "### Array"
   ]
  },
  {
   "cell_type": "code",
   "execution_count": null,
   "metadata": {},
   "outputs": [],
   "source": [
    "import numpy as np\n",
    "np.array(df['A'])"
   ]
  },
  {
   "cell_type": "markdown",
   "metadata": {},
   "source": [
    "# Matrix"
   ]
  },
  {
   "cell_type": "code",
   "execution_count": null,
   "metadata": {},
   "outputs": [],
   "source": [
    "np.matrix(df)"
   ]
  },
  {
   "cell_type": "markdown",
   "metadata": {},
   "source": [
    "# Data Types Review"
   ]
  },
  {
   "cell_type": "code",
   "execution_count": null,
   "metadata": {},
   "outputs": [],
   "source": [
    "'''\n",
    "x = \"Hello World\" #str\n",
    "x = 20 #int\n",
    "x = 20.5 #float\n",
    "x = 1j #complex\n",
    "x = [\"apple\", \"banana\", \"cherry\"] #list\n",
    "x = (\"apple\", \"banana\", \"cherry\") #tuple\n",
    "x = range(6) #range\n",
    "x = {\"name\" : \"John\", \"age\" : 36} #dict\n",
    "x = {\"apple\", \"banana\", \"cherry\"} #set\n",
    "x = frozenset({\"apple\", \"banana\", \"cherry\"}) #frozenset\n",
    "x = True #bool\n",
    "x = b\"Hello\" #bytes\n",
    "x = bytearray(5) #bytearray\n",
    "x = memoryview(bytes(5)) #memoryview\n",
    "'''"
   ]
  },
  {
   "cell_type": "markdown",
   "metadata": {},
   "source": [
    "# Type Casting"
   ]
  },
  {
   "cell_type": "code",
   "execution_count": null,
   "metadata": {},
   "outputs": [],
   "source": [
    "x = int(1)   # x will be 1\n",
    "y = int(2.8) # y will be 2\n",
    "z = int(\"3\") # z will be 3"
   ]
  },
  {
   "cell_type": "code",
   "execution_count": null,
   "metadata": {},
   "outputs": [],
   "source": [
    "x = float(1)     # x will be 1.0\n",
    "y = float(2.8)   # y will be 2.8\n",
    "z = float(\"3\")   # z will be 3.0"
   ]
  },
  {
   "cell_type": "code",
   "execution_count": null,
   "metadata": {},
   "outputs": [],
   "source": [
    "w = float(\"4.2\") # w will be 4.2\n",
    "x = str(\"s1\") # x will be 's1'\n",
    "y = str(2)    # y will be '2'\n",
    "z = str(3.0)  # z will be '3.0'"
   ]
  },
  {
   "cell_type": "markdown",
   "metadata": {},
   "source": [
    "# Logical Control Flow"
   ]
  },
  {
   "cell_type": "code",
   "execution_count": null,
   "metadata": {},
   "outputs": [],
   "source": [
    "a = int(input(\"Enter a value : \"))"
   ]
  },
  {
   "cell_type": "code",
   "execution_count": null,
   "metadata": {},
   "outputs": [],
   "source": [
    "if a > 5: print(a+3)\n",
    "else: print(a)"
   ]
  },
  {
   "cell_type": "code",
   "execution_count": null,
   "metadata": {},
   "outputs": [],
   "source": [
    "if (a>2)&(a<5): print(a+3)\n",
    "elif (a==1)&(a>=5): print(a+2)\n",
    "else: print(a)"
   ]
  },
  {
   "cell_type": "code",
   "execution_count": null,
   "metadata": {},
   "outputs": [],
   "source": [
    "if (a>=1)&(a<5): \n",
    "    if (a==1): print(a+2)\n",
    "    else: print(a+3)\n",
    "else: print(a)"
   ]
  },
  {
   "cell_type": "markdown",
   "metadata": {},
   "source": [
    "# Looping"
   ]
  },
  {
   "cell_type": "code",
   "execution_count": null,
   "metadata": {},
   "outputs": [],
   "source": [
    "%%timeit\n",
    "a = 2\n",
    "while a < 5:\n",
    "    a += 1\n",
    "    print(a)"
   ]
  },
  {
   "cell_type": "code",
   "execution_count": null,
   "metadata": {},
   "outputs": [],
   "source": [
    "%%timeit\n",
    "a = 2\n",
    "for i in range(1,5000):\n",
    "    a += 1\n",
    "    print(a)\n",
    "    if a >= 5: break"
   ]
  },
  {
   "cell_type": "markdown",
   "metadata": {},
   "source": [
    "# Functions"
   ]
  },
  {
   "cell_type": "code",
   "execution_count": 1,
   "metadata": {},
   "outputs": [
    {
     "data": {
      "text/plain": [
       "30"
      ]
     },
     "execution_count": 1,
     "metadata": {},
     "output_type": "execute_result"
    }
   ],
   "source": [
    "def area(a,b):\n",
    "    c = a*b\n",
    "    return c\n",
    "\n",
    "area(5,6)"
   ]
  },
  {
   "cell_type": "markdown",
   "metadata": {},
   "source": [
    "# Classes"
   ]
  },
  {
   "cell_type": "code",
   "execution_count": null,
   "metadata": {},
   "outputs": [],
   "source": [
    "# file1.py\n",
    "\n",
    "class class1():\n",
    "    a = 2"
   ]
  },
  {
   "cell_type": "code",
   "execution_count": 3,
   "metadata": {},
   "outputs": [
    {
     "data": {
      "text/plain": [
       "2"
      ]
     },
     "execution_count": 3,
     "metadata": {},
     "output_type": "execute_result"
    }
   ],
   "source": [
    "# file2.py\n",
    "\n",
    "import file1\n",
    "\n",
    "class1.a"
   ]
  }
 ],
 "metadata": {
  "kernelspec": {
   "display_name": "Python 3",
   "language": "python",
   "name": "python3"
  },
  "language_info": {
   "codemirror_mode": {
    "name": "ipython",
    "version": 3
   },
   "file_extension": ".py",
   "mimetype": "text/x-python",
   "name": "python",
   "nbconvert_exporter": "python",
   "pygments_lexer": "ipython3",
   "version": "3.7.7"
  }
 },
 "nbformat": 4,
 "nbformat_minor": 4
}
