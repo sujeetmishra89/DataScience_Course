{
 "cells": [
  {
   "cell_type": "markdown",
   "metadata": {},
   "source": [
    "Dataset from [here](https://www.kaggle.com/c/tensorflow-speech-recognition-challenge)."
   ]
  },
  {
   "cell_type": "code",
   "execution_count": 1,
   "metadata": {},
   "outputs": [],
   "source": [
    "from tensorflow.compat.v1 import ConfigProto\n",
    "from tensorflow.compat.v1 import Session\n",
    "import os\n",
    "import librosa\n",
    "import IPython.display as ipd\n",
    "import matplotlib.pyplot as plt\n",
    "import numpy as np\n",
    "from scipy.io import wavfile\n",
    "from tqdm import tqdm\n",
    "import warnings\n",
    "\n",
    "\n",
    "config = ConfigProto()\n",
    "config.gpu_options.allow_growth = True\n",
    "sess = Session(config=config)\n",
    "\n",
    "warnings.filterwarnings(\"ignore\")"
   ]
  },
  {
   "cell_type": "markdown",
   "metadata": {},
   "source": [
    "**Preprocessing the audio waves**"
   ]
  },
  {
   "cell_type": "code",
   "execution_count": 2,
   "metadata": {},
   "outputs": [],
   "source": [
    "# All samples\n",
    "# labels = [\n",
    "#     'left', 'cat', 'wow', 'six', 'go', 'one', 'dog', 'nine', 'sheila', 'yes',\n",
    "#     'down', 'bird', 'tree', 'up', 'eight', 'bed', 'three', 'on', 'house',\n",
    "#     'five', 'seven', 'zero', 'right', 'four', 'no', 'two', 'off', 'happy',\n",
    "#     'stop', 'marvin'\n",
    "# ]\n",
    "\n",
    "# Subsample\n",
    "labels = [\n",
    "    'left', 'go', 'yes', 'down', 'up', 'on', 'right', 'no', 'off', 'stop',\n",
    "]"
   ]
  },
  {
   "cell_type": "code",
   "execution_count": 3,
   "metadata": {},
   "outputs": [
    {
     "name": "stderr",
     "output_type": "stream",
     "text": [
      "100%|██████████| 10/10 [05:21<00:00, 32.15s/it]\n"
     ]
    }
   ],
   "source": [
    "train_audio_path = './train/audio/'\n",
    "\n",
    "all_wave = []\n",
    "all_label = []\n",
    "for label in tqdm(labels):\n",
    "    waves = [f for f in os.listdir(train_audio_path + '/'+ label) if f.endswith('.wav')]\n",
    "    for wav in waves:\n",
    "        samples, sample_rate = librosa.load(train_audio_path + '/' + label + '/' + wav, sr = 16000)\n",
    "        samples = librosa.resample(samples, sample_rate, 8000)\n",
    "        if(len(samples)== 8000) : \n",
    "            all_wave.append(samples)\n",
    "            all_label.append(label)"
   ]
  },
  {
   "cell_type": "markdown",
   "metadata": {},
   "source": [
    "Convert the output labels to integer encoded:"
   ]
  },
  {
   "cell_type": "code",
   "execution_count": 4,
   "metadata": {},
   "outputs": [
    {
     "name": "stderr",
     "output_type": "stream",
     "text": [
      "Using TensorFlow backend.\n"
     ]
    }
   ],
   "source": [
    "from sklearn.preprocessing import LabelEncoder\n",
    "from keras.utils import np_utils\n",
    "\n",
    "label_enconder = LabelEncoder()\n",
    "y = label_enconder.fit_transform(all_label)\n",
    "classes = list(label_enconder.classes_)\n",
    "y = np_utils.to_categorical(y, num_classes=len(labels))"
   ]
  },
  {
   "cell_type": "markdown",
   "metadata": {},
   "source": [
    "Reshape the 2D array to 3D since the input to the conv1d must be a 3D array:"
   ]
  },
  {
   "cell_type": "code",
   "execution_count": 5,
   "metadata": {},
   "outputs": [],
   "source": [
    "all_wave = np.array(all_wave).reshape(-1,8000,1)"
   ]
  },
  {
   "cell_type": "markdown",
   "metadata": {},
   "source": [
    "**Split into train and validation set**\n",
    "\n",
    "Next, we will train the model on 80% of the data and validate on the remaining 20%:\n"
   ]
  },
  {
   "cell_type": "code",
   "execution_count": 6,
   "metadata": {},
   "outputs": [],
   "source": [
    "from sklearn.model_selection import train_test_split\n",
    "x_train, x_valid, y_train, y_valid = train_test_split(np.array(all_wave),np.array(y),stratify=y,test_size = 0.2,random_state=777,shuffle=True)"
   ]
  },
  {
   "cell_type": "markdown",
   "metadata": {},
   "source": [
    "**Model Architecture**"
   ]
  },
  {
   "cell_type": "code",
   "execution_count": 7,
   "metadata": {},
   "outputs": [],
   "source": [
    "from keras.layers import Bidirectional, BatchNormalization, CuDNNGRU, TimeDistributed"
   ]
  },
  {
   "cell_type": "code",
   "execution_count": 8,
   "metadata": {},
   "outputs": [
    {
     "name": "stdout",
     "output_type": "stream",
     "text": [
      "WARNING:tensorflow:From /home/arthurfortes/anaconda3/envs/py37/lib/python3.7/site-packages/tensorflow_core/python/ops/resource_variable_ops.py:1630: calling BaseResourceVariable.__init__ (from tensorflow.python.ops.resource_variable_ops) with constraint is deprecated and will be removed in a future version.\n",
      "Instructions for updating:\n",
      "If using Keras pass *_constraint arguments to layers.\n",
      "WARNING:tensorflow:From /home/arthurfortes/anaconda3/envs/py37/lib/python3.7/site-packages/keras/backend/tensorflow_backend.py:4070: The name tf.nn.max_pool is deprecated. Please use tf.nn.max_pool2d instead.\n",
      "\n",
      "Model: \"model_1\"\n",
      "_________________________________________________________________\n",
      "Layer (type)                 Output Shape              Param #   \n",
      "=================================================================\n",
      "input_1 (InputLayer)         (None, 8000, 1)           0         \n",
      "_________________________________________________________________\n",
      "batch_normalization_1 (Batch (None, 8000, 1)           4         \n",
      "_________________________________________________________________\n",
      "conv1d_1 (Conv1D)            (None, 7988, 8)           112       \n",
      "_________________________________________________________________\n",
      "max_pooling1d_1 (MaxPooling1 (None, 2662, 8)           0         \n",
      "_________________________________________________________________\n",
      "dropout_1 (Dropout)          (None, 2662, 8)           0         \n",
      "_________________________________________________________________\n",
      "conv1d_2 (Conv1D)            (None, 2652, 16)          1424      \n",
      "_________________________________________________________________\n",
      "max_pooling1d_2 (MaxPooling1 (None, 884, 16)           0         \n",
      "_________________________________________________________________\n",
      "dropout_2 (Dropout)          (None, 884, 16)           0         \n",
      "_________________________________________________________________\n",
      "conv1d_3 (Conv1D)            (None, 876, 32)           4640      \n",
      "_________________________________________________________________\n",
      "max_pooling1d_3 (MaxPooling1 (None, 292, 32)           0         \n",
      "_________________________________________________________________\n",
      "dropout_3 (Dropout)          (None, 292, 32)           0         \n",
      "_________________________________________________________________\n",
      "batch_normalization_2 (Batch (None, 292, 32)           128       \n",
      "_________________________________________________________________\n",
      "bidirectional_1 (Bidirection (None, 292, 128)          124416    \n",
      "_________________________________________________________________\n",
      "bidirectional_2 (Bidirection (None, 292, 128)          198144    \n",
      "_________________________________________________________________\n",
      "bidirectional_3 (Bidirection (None, 128)               198144    \n",
      "_________________________________________________________________\n",
      "batch_normalization_3 (Batch (None, 128)               512       \n",
      "_________________________________________________________________\n",
      "dense_1 (Dense)              (None, 256)               33024     \n",
      "_________________________________________________________________\n",
      "dense_2 (Dense)              (None, 10)                2570      \n",
      "=================================================================\n",
      "Total params: 563,118\n",
      "Trainable params: 562,796\n",
      "Non-trainable params: 322\n",
      "_________________________________________________________________\n"
     ]
    }
   ],
   "source": [
    "from keras.layers import Dense, Dropout, Flatten, Conv1D, Input, MaxPooling1D\n",
    "from keras.models import Model\n",
    "from keras.callbacks import EarlyStopping, ModelCheckpoint\n",
    "from keras import backend as K\n",
    "K.clear_session()\n",
    "\n",
    "inputs = Input(shape=(8000,1))\n",
    "x = BatchNormalization(axis=-1, momentum=0.99, epsilon=1e-3, center=True, scale=True)(inputs)\n",
    "\n",
    "#First Conv1D layer\n",
    "x = Conv1D(8,13, padding='valid', activation='relu', strides=1)(x)\n",
    "x = MaxPooling1D(3)(x)\n",
    "x = Dropout(0.3)(x)\n",
    "\n",
    "#Second Conv1D layer\n",
    "x = Conv1D(16, 11, padding='valid', activation='relu', strides=1)(x)\n",
    "x = MaxPooling1D(3)(x)\n",
    "x = Dropout(0.3)(x)\n",
    "\n",
    "#Third Conv1D layer\n",
    "x = Conv1D(32, 9, padding='valid', activation='relu', strides=1)(x)\n",
    "x = MaxPooling1D(3)(x)\n",
    "x = Dropout(0.3)(x)\n",
    "\n",
    "x = BatchNormalization(axis=-1, momentum=0.99, epsilon=1e-3, center=True, scale=True)(x)\n",
    "\n",
    "x = Bidirectional(CuDNNGRU(128, return_sequences=True), merge_mode='sum')(x)\n",
    "x = Bidirectional(CuDNNGRU(128, return_sequences=True), merge_mode='sum')(x)\n",
    "x = Bidirectional(CuDNNGRU(128, return_sequences=False), merge_mode='sum')(x)\n",
    "\n",
    "x = BatchNormalization(axis=-1, momentum=0.99, epsilon=1e-3, center=True, scale=True)(x)\n",
    "\n",
    "#Flatten layer\n",
    "# x = Flatten()(x)\n",
    "\n",
    "#Dense Layer 1\n",
    "x = Dense(256, activation='relu')(x)\n",
    "outputs = Dense(len(labels), activation=\"softmax\")(x)\n",
    "\n",
    "model = Model(inputs, outputs)\n",
    "model.summary()"
   ]
  },
  {
   "cell_type": "markdown",
   "metadata": {},
   "source": [
    "Define the loss function to be categorical cross-entropy since it is a multi-classification problem:"
   ]
  },
  {
   "cell_type": "code",
   "execution_count": 9,
   "metadata": {},
   "outputs": [],
   "source": [
    "model.compile(loss='categorical_crossentropy',optimizer='nadam',metrics=['accuracy'])"
   ]
  },
  {
   "cell_type": "markdown",
   "metadata": {},
   "source": [
    "Early stopping and model checkpoints are the callbacks to stop training the neural network at the right time and to save the best model after every epoch:"
   ]
  },
  {
   "cell_type": "code",
   "execution_count": 10,
   "metadata": {},
   "outputs": [],
   "source": [
    "early_stop = EarlyStopping(monitor='val_loss', mode='min', \n",
    "                           verbose=1, patience=10, min_delta=0.0001)\n",
    "\n",
    "checkpoint = ModelCheckpoint('speech2text_model.hdf5', monitor='val_acc', \n",
    "                             verbose=1, save_best_only=True, mode='max')"
   ]
  },
  {
   "cell_type": "markdown",
   "metadata": {},
   "source": [
    "Let us train the model on a batch size of 32 and evaluate the performance on the holdout set:"
   ]
  },
  {
   "cell_type": "code",
   "execution_count": 11,
   "metadata": {},
   "outputs": [
    {
     "name": "stdout",
     "output_type": "stream",
     "text": [
      "WARNING:tensorflow:From /home/arthurfortes/anaconda3/envs/py37/lib/python3.7/site-packages/keras/backend/tensorflow_backend.py:422: The name tf.global_variables is deprecated. Please use tf.compat.v1.global_variables instead.\n",
      "\n",
      "Train on 17049 samples, validate on 4263 samples\n",
      "Epoch 1/100\n",
      "17049/17049 [==============================] - 70s 4ms/step - loss: 1.3567 - accuracy: 0.5088 - val_loss: 0.9602 - val_accuracy: 0.6507\n",
      "Epoch 2/100\n",
      "17049/17049 [==============================] - 69s 4ms/step - loss: 0.6217 - accuracy: 0.7839 - val_loss: 0.6659 - val_accuracy: 0.7703\n",
      "Epoch 3/100\n",
      "17049/17049 [==============================] - 69s 4ms/step - loss: 0.4527 - accuracy: 0.8471 - val_loss: 0.4288 - val_accuracy: 0.8529\n",
      "Epoch 4/100\n",
      "17049/17049 [==============================] - 68s 4ms/step - loss: 0.3674 - accuracy: 0.8751 - val_loss: 0.3817 - val_accuracy: 0.8811\n",
      "Epoch 5/100\n",
      "17049/17049 [==============================] - 68s 4ms/step - loss: 0.3468 - accuracy: 0.8801 - val_loss: 0.3211 - val_accuracy: 0.8933\n",
      "Epoch 6/100\n",
      "17049/17049 [==============================] - 68s 4ms/step - loss: 0.3097 - accuracy: 0.8948 - val_loss: 0.3064 - val_accuracy: 0.9045\n",
      "Epoch 7/100\n",
      "17049/17049 [==============================] - 68s 4ms/step - loss: 0.2975 - accuracy: 0.8976 - val_loss: 0.3251 - val_accuracy: 0.8890\n",
      "Epoch 8/100\n",
      "17049/17049 [==============================] - 68s 4ms/step - loss: 0.2896 - accuracy: 0.9035 - val_loss: 0.4217 - val_accuracy: 0.8696\n",
      "Epoch 9/100\n",
      "17049/17049 [==============================] - 69s 4ms/step - loss: 0.2841 - accuracy: 0.9036 - val_loss: 0.3219 - val_accuracy: 0.8958\n",
      "Epoch 10/100\n",
      "17049/17049 [==============================] - 68s 4ms/step - loss: 0.2642 - accuracy: 0.9093 - val_loss: 0.3236 - val_accuracy: 0.8942\n",
      "Epoch 11/100\n",
      "17049/17049 [==============================] - 68s 4ms/step - loss: 0.2517 - accuracy: 0.9145 - val_loss: 0.3521 - val_accuracy: 0.8900\n",
      "Epoch 12/100\n",
      "17049/17049 [==============================] - 70s 4ms/step - loss: 0.2462 - accuracy: 0.9154 - val_loss: 0.2899 - val_accuracy: 0.9052\n",
      "Epoch 13/100\n",
      "17049/17049 [==============================] - 70s 4ms/step - loss: 0.2527 - accuracy: 0.9156 - val_loss: 0.3375 - val_accuracy: 0.8895\n",
      "Epoch 14/100\n",
      "17049/17049 [==============================] - 68s 4ms/step - loss: 0.2342 - accuracy: 0.9203 - val_loss: 0.3263 - val_accuracy: 0.8961\n",
      "Epoch 15/100\n",
      "17049/17049 [==============================] - 67s 4ms/step - loss: 0.2393 - accuracy: 0.9203 - val_loss: 0.3765 - val_accuracy: 0.8822\n",
      "Epoch 16/100\n",
      "17049/17049 [==============================] - 69s 4ms/step - loss: 0.2298 - accuracy: 0.9235 - val_loss: 0.3383 - val_accuracy: 0.8914\n",
      "Epoch 17/100\n",
      "17049/17049 [==============================] - 68s 4ms/step - loss: 0.2330 - accuracy: 0.9229 - val_loss: 0.2798 - val_accuracy: 0.9078\n",
      "Epoch 18/100\n",
      "17049/17049 [==============================] - 69s 4ms/step - loss: 0.2284 - accuracy: 0.9233 - val_loss: 0.2852 - val_accuracy: 0.9064\n",
      "Epoch 19/100\n",
      "17049/17049 [==============================] - 67s 4ms/step - loss: 0.2334 - accuracy: 0.9219 - val_loss: 0.2963 - val_accuracy: 0.9041\n",
      "Epoch 20/100\n",
      "17049/17049 [==============================] - 68s 4ms/step - loss: 0.2434 - accuracy: 0.9164 - val_loss: 0.3104 - val_accuracy: 0.9034\n",
      "Epoch 21/100\n",
      "17049/17049 [==============================] - 68s 4ms/step - loss: 0.2166 - accuracy: 0.9278 - val_loss: 0.2420 - val_accuracy: 0.9249\n",
      "Epoch 22/100\n",
      "17049/17049 [==============================] - 68s 4ms/step - loss: 0.2146 - accuracy: 0.9273 - val_loss: 0.2584 - val_accuracy: 0.9207\n",
      "Epoch 23/100\n",
      "17049/17049 [==============================] - 68s 4ms/step - loss: 0.2189 - accuracy: 0.9266 - val_loss: 0.2452 - val_accuracy: 0.9233\n",
      "Epoch 24/100\n",
      "17049/17049 [==============================] - 70s 4ms/step - loss: 0.2204 - accuracy: 0.9264 - val_loss: 0.2524 - val_accuracy: 0.9207\n",
      "Epoch 25/100\n",
      "17049/17049 [==============================] - 70s 4ms/step - loss: 0.2079 - accuracy: 0.9294 - val_loss: 0.3941 - val_accuracy: 0.8785\n",
      "Epoch 26/100\n",
      "17049/17049 [==============================] - 68s 4ms/step - loss: 0.2268 - accuracy: 0.9232 - val_loss: 0.2908 - val_accuracy: 0.9029\n",
      "Epoch 27/100\n",
      "17049/17049 [==============================] - 68s 4ms/step - loss: 0.2060 - accuracy: 0.9307 - val_loss: 0.2318 - val_accuracy: 0.9270\n",
      "Epoch 28/100\n",
      "17049/17049 [==============================] - 71s 4ms/step - loss: 0.2151 - accuracy: 0.9270 - val_loss: 0.3003 - val_accuracy: 0.9069\n",
      "Epoch 29/100\n",
      "17049/17049 [==============================] - 75s 4ms/step - loss: 0.2130 - accuracy: 0.9284 - val_loss: 0.2694 - val_accuracy: 0.9191\n",
      "Epoch 30/100\n",
      "17049/17049 [==============================] - 75s 4ms/step - loss: 0.2048 - accuracy: 0.9301 - val_loss: 0.2765 - val_accuracy: 0.9148\n",
      "Epoch 31/100\n",
      "17049/17049 [==============================] - 74s 4ms/step - loss: 0.2077 - accuracy: 0.9297 - val_loss: 0.3000 - val_accuracy: 0.9092\n",
      "Epoch 32/100\n",
      "17049/17049 [==============================] - 72s 4ms/step - loss: 0.2223 - accuracy: 0.9236 - val_loss: 0.2431 - val_accuracy: 0.9214\n",
      "Epoch 33/100\n",
      "17049/17049 [==============================] - 72s 4ms/step - loss: 0.2122 - accuracy: 0.9265 - val_loss: 0.2616 - val_accuracy: 0.9188\n",
      "Epoch 34/100\n",
      "17049/17049 [==============================] - 73s 4ms/step - loss: 0.2190 - accuracy: 0.9272 - val_loss: 0.3133 - val_accuracy: 0.9059\n",
      "Epoch 35/100\n",
      "17049/17049 [==============================] - 71s 4ms/step - loss: 0.2225 - accuracy: 0.9266 - val_loss: 0.2813 - val_accuracy: 0.9141\n",
      "Epoch 36/100\n",
      "17049/17049 [==============================] - 72s 4ms/step - loss: 0.2207 - accuracy: 0.9244 - val_loss: 0.2782 - val_accuracy: 0.9076\n",
      "Epoch 37/100\n",
      "17049/17049 [==============================] - 71s 4ms/step - loss: 0.2087 - accuracy: 0.9300 - val_loss: 0.2486 - val_accuracy: 0.9205\n",
      "Epoch 00037: early stopping\n"
     ]
    }
   ],
   "source": [
    "hist = model.fit(\n",
    "    x=x_train, \n",
    "    y=y_train,\n",
    "    epochs=100, \n",
    "    callbacks=[early_stop, checkpoint], \n",
    "    batch_size=32, \n",
    "    validation_data=(x_valid,y_valid)\n",
    ")"
   ]
  },
  {
   "cell_type": "markdown",
   "metadata": {},
   "source": [
    "**Diagnostic plot**\n",
    "\n",
    "I’m going to lean on visualization again to understand the performance of the model over a period of time:"
   ]
  },
  {
   "cell_type": "code",
   "execution_count": 12,
   "metadata": {
    "scrolled": true
   },
   "outputs": [
    {
     "data": {
      "image/png": "[encoded data removed]",
      "text/plain": [
       "<Figure size 432x288 with 1 Axes>"
      ]
     },
     "metadata": {
      "needs_background": "light"
     },
     "output_type": "display_data"
    }
   ],
   "source": [
    "from matplotlib import pyplot\n",
    "pyplot.plot(hist.history['loss'], label='train')\n",
    "pyplot.plot(hist.history['val_loss'], label='test')\n",
    "pyplot.legend()\n",
    "pyplot.show()"
   ]
  },
  {
   "cell_type": "markdown",
   "metadata": {},
   "source": [
    "### Save or Loading the best model"
   ]
  },
  {
   "cell_type": "code",
   "execution_count": 16,
   "metadata": {},
   "outputs": [],
   "source": [
    "model.save('speech2text_model.hdf5')"
   ]
  },
  {
   "cell_type": "code",
   "execution_count": 17,
   "metadata": {},
   "outputs": [],
   "source": [
    "from keras.models import load_model\n",
    "model = load_model('speech2text_model.hdf5')"
   ]
  },
  {
   "cell_type": "markdown",
   "metadata": {},
   "source": [
    "Define the function that predicts text for the given audio:"
   ]
  },
  {
   "cell_type": "code",
   "execution_count": 18,
   "metadata": {},
   "outputs": [],
   "source": [
    "def s2t_predict(audio, shape_num=8000):\n",
    "    prob=model.predict(audio.reshape(1,shape_num,1))\n",
    "    index=np.argmax(prob[0])\n",
    "    return classes[index]"
   ]
  },
  {
   "cell_type": "markdown",
   "metadata": {},
   "source": [
    "Prediction time! Make predictions on the validation data:"
   ]
  },
  {
   "cell_type": "code",
   "execution_count": 19,
   "metadata": {},
   "outputs": [
    {
     "name": "stdout",
     "output_type": "stream",
     "text": [
      "Audio: down\n"
     ]
    },
    {
     "data": {
      "text/html": [
       "\n",
       "                <audio  controls=\"controls\" >\n",
       "                    <source src=\"data:audio/wav;base64,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\" type=\"audio/wav\" />\n",
       "                    Your browser does not support the audio element.\n",
       "                </audio>\n",
       "              "
      ],
      "text/plain": [
       "<IPython.lib.display.Audio object>"
      ]
     },
     "execution_count": 19,
     "metadata": {},
     "output_type": "execute_result"
    }
   ],
   "source": [
    "import random\n",
    "index=random.randint(0,len(x_valid)-1)\n",
    "samples=x_valid[index].ravel()\n",
    "print(\"Audio:\",classes[np.argmax(y_valid[index])])\n",
    "ipd.Audio(samples, rate=8000)"
   ]
  },
  {
   "cell_type": "code",
   "execution_count": 20,
   "metadata": {},
   "outputs": [
    {
     "data": {
      "text/plain": [
       "(8000,)"
      ]
     },
     "execution_count": 20,
     "metadata": {},
     "output_type": "execute_result"
    }
   ],
   "source": [
    "samples.shape"
   ]
  },
  {
   "cell_type": "code",
   "execution_count": 21,
   "metadata": {},
   "outputs": [
    {
     "name": "stdout",
     "output_type": "stream",
     "text": [
      "Text: down\n"
     ]
    }
   ],
   "source": [
    "print(\"Text:\",s2t_predict(samples))"
   ]
  },
  {
   "cell_type": "markdown",
   "metadata": {},
   "source": [
    "The best part is yet to come! Here is a script that prompts a user to record voice commands. Record your own voice commands and test it on the model:"
   ]
  },
  {
   "cell_type": "markdown",
   "metadata": {},
   "source": [
    "Let us now read the saved voice command and convert it to text:"
   ]
  },
  {
   "cell_type": "code",
   "execution_count": 47,
   "metadata": {},
   "outputs": [
    {
     "name": "stdout",
     "output_type": "stream",
     "text": [
      "start\n",
      "end\n"
     ]
    }
   ],
   "source": [
    "import sounddevice as sd\n",
    "import soundfile as sf\n",
    "\n",
    "samplerate = 16000  \n",
    "duration = 1 # seconds\n",
    "filename = 'yes.wav'\n",
    "print(\"start\")\n",
    "mydata = sd.rec(int(samplerate * duration), samplerate=samplerate,\n",
    "    channels=1, blocking=True)\n",
    "print(\"end\")\n",
    "sd.wait()\n",
    "sf.write(filename, mydata, samplerate)"
   ]
  },
  {
   "cell_type": "code",
   "execution_count": 48,
   "metadata": {},
   "outputs": [
    {
     "name": "stdout",
     "output_type": "stream",
     "text": [
      "(8000,)\n"
     ]
    },
    {
     "data": {
      "text/html": [
       "\n",
       "                <audio  controls=\"controls\" >\n",
       "                    <source src=\"data:audio/wav;base64,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\" type=\"audio/wav\" />\n",
       "                    Your browser does not support the audio element.\n",
       "                </audio>\n",
       "              "
      ],
      "text/plain": [
       "<IPython.lib.display.Audio object>"
      ]
     },
     "execution_count": 48,
     "metadata": {},
     "output_type": "execute_result"
    }
   ],
   "source": [
    "#reading the voice commands\n",
    "test, test_rate = librosa.load('yes.wav', sr = 16000)\n",
    "test_sample = librosa.resample(test, test_rate, 8000)\n",
    "print(test_sample.shape)\n",
    "ipd.Audio(test_sample,rate=8000)              "
   ]
  },
  {
   "cell_type": "code",
   "execution_count": 49,
   "metadata": {},
   "outputs": [
    {
     "data": {
      "text/plain": [
       "'yes'"
      ]
     },
     "execution_count": 49,
     "metadata": {},
     "output_type": "execute_result"
    }
   ],
   "source": [
    "#converting voice commands to text\n",
    "s2t_predict(test_sample)"
   ]
  }
 ],
 "metadata": {
  "kernelspec": {
   "display_name": "Python 3",
   "language": "python",
   "name": "python3"
  },
  "language_info": {
   "codemirror_mode": {
    "name": "ipython",
    "version": 3
   },
   "file_extension": ".py",
   "mimetype": "text/x-python",
   "name": "python",
   "nbconvert_exporter": "python",
   "pygments_lexer": "ipython3",
   "version": "3.7.7"
  }
 },
 "nbformat": 4,
 "nbformat_minor": 1
}
