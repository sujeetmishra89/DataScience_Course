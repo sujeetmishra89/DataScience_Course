{
 "cells": [
  {
   "cell_type": "code",
   "execution_count": 1,
   "metadata": {},
   "outputs": [
    {
     "name": "stdout",
     "output_type": "stream",
     "text": [
      "Loaded System Packages\n",
      "Loaded Dataframe Packages\n",
      "Loaded Visualisation Packages\n",
      "Loaded Datetime Packages\n",
      "Loaded Statistical Packages\n",
      "Loaded Scikit-learn Packages\n",
      "Loaded Keras-Tensorflow Packages\n",
      "Loaded SQl Packages\n",
      "Loaded NLP Packages\n",
      "Loaded Deep Learning Packages\n",
      "Loaded Web Packages\n",
      "Loaded Notebook Packages\n"
     ]
    }
   ],
   "source": [
    "exec(open('..\\\\..\\\\funcs_modules.py').read())"
   ]
  },
  {
   "cell_type": "code",
   "execution_count": 45,
   "metadata": {
    "scrolled": true
   },
   "outputs": [
    {
     "name": "stdout",
     "output_type": "stream",
     "text": [
      "Date object\n",
      "Game int64\n",
      "Team object\n",
      "Vs object\n",
      "Match int64\n",
      "Venue object\n",
      "Toss object\n",
      "Inn object\n",
      "Result object\n",
      "Top01% float64\n",
      "Top02% float64\n",
      "Top03% float64\n",
      "Top04% float64\n",
      "Top05% float64\n",
      "Top06% float64\n",
      "Top07% float64\n",
      "Top08% float64\n",
      "Top09% float64\n",
      "Top10% float64\n",
      "Top11% float64\n",
      "Top01C% float64\n",
      "Top02VC% float64\n",
      "D11 float64\n",
      "WK float64\n",
      "Bat float64\n",
      "AR float64\n",
      "Bowl float64\n",
      "Frgnr float64\n",
      "C object\n",
      "VC object\n",
      "Top1 object\n",
      "Top2 object\n",
      "Top3 object\n",
      "Top4 object\n",
      "Top5 object\n",
      "ovrs float64\n",
      "runs float64\n",
      "run_rate float64\n",
      "runs_pp% float64\n",
      "runs_last5% float64\n",
      "wkts_pp_taken float64\n",
      "wkts_by_spin float64\n",
      "wkts_by_pacer float64\n"
     ]
    }
   ],
   "source": [
    "finaldf = pd.read_csv(\"IPL_T20_D11.csv\")\n",
    "df = finaldf.dropna().reset_index(drop=True)\n",
    "for c in df.columns: print(c, df[c].dtype)\n",
    "\n",
    "# df = df.merge(df[['Game','Vs','WK', 'Bat', 'AR', 'Bowl', 'Frgnr']], how='inner', left_on=['Game','Team'], right_on=['Game','Vs'])\n",
    "# df = df.rename({'Vs_x':'Vs'},axis=1).drop('Vs_y', axis=1)\n",
    "# for c in ['WK', 'Bat', 'AR', 'Bowl', 'Frgnr']:\n",
    "#     df[c] = df[c+'_x']+df[c+'_y']\n",
    "\n",
    "P_List = list(df['Top1'].unique())+list(df['Top2'].unique())+list(df['Top3'].unique())+list(df['Top4'].unique())+list(df['Top5'].unique())\n",
    "# print(np.unique(P_List))\n",
    "\n",
    "WK = ['WK','Bairstow', 'Buttler', 'DeKock', 'DeVilliers', 'Dhoni',\n",
    "      'Jagdeesan', 'Karthik', 'Kishan', 'Pant', 'Pooran', 'Saha',\n",
    "      'Samson']\n",
    "Bat = ['Bat','Agarwal', 'Dhawan', 'DuPlesis', 'Finch', 'Garg', 'Gayle', 'Gill',\n",
    "       'Hardik','Hetmayer', 'Iyer', 'Jadhav', 'Jaiswal', 'Kohli', 'Lomror',\n",
    "       'Mandeep', 'Morgan', 'Padikkal', 'Pandey', 'Parag', 'Rahul',\n",
    "       'Rana', 'Rayudu', 'Rohit', 'Sarfaraj', 'Shaw', 'Smith', 'Tiwary',\n",
    "       'Tripathi','Uthappa', 'Warner', 'Watson', 'Williamson']\n",
    "AR = ['AR','Abhishek', 'Axar', 'Bravo', 'Curran', 'Dube', 'Gowtham', 'Jadeja',\n",
    "      'Krunal', 'Maxwell', 'Moin', 'Morris', 'Narine', 'Pollard', 'Russell',\n",
    "      'Samad', 'Shankar', 'Siraj', 'Stoinis', 'Stokes', 'Sundar', 'Tewatia']\n",
    "Bowl = ['Bowl','Archer', 'Arshdeep', 'AshwinM', 'AshwinR', 'Bishnoi', 'Boult', 'Bumrah', 'Chahal',\n",
    "        'ChaharD', 'ChaharR', 'Chawla', 'Cottrell', 'Cummins', 'Deshpande', 'Gopal', 'Fergusan',\n",
    "        'Harshal', 'Jordan', 'Kaul', 'Khaleel', 'Krishna', 'Kumar', 'Mavi', 'Mishra', 'Nagarkotti', 'Natrajan',\n",
    "        'Ngidi', 'Nortje', 'Pattinson', 'Rabada', 'Rajput', 'Rashid', 'Saini',\n",
    "        'Sandeep', 'Shami', 'Thakur', 'Tyagi', 'Tye', 'Udana', 'Unadkat', 'Varun', 'Yadav']\n",
    "\n",
    "for c in ['Top1', 'Top2', 'Top3', 'Top4','Top5','C','VC']:\n",
    "    df[c] = np.where(df[c].isin(WK)==True,0,df[c])\n",
    "    df[c] = np.where(df[c].isin(Bat)==True,1,df[c])\n",
    "    df[c] = np.where(df[c].isin(AR)==True,2,df[c])\n",
    "    df[c] = np.where(df[c].isin(Bowl)==True,3,df[c])\n",
    "    df[c] = np.where(df[c]=='None',4,df[c])\n",
    "\n",
    "le = LabelEncoder()\n",
    "for c in ['Team', 'Vs', 'Venue', 'Toss', 'Inn', 'Result']:\n",
    "    df[c] = le.fit_transform(df[c])\n",
    "    # print(le.classes_)\n",
    "    \n",
    "# # 'Team', 'Vs', 'Venue', 'Toss', 'Inn',\n",
    "# print(sorted(finaldf['Team'].unique()))\n",
    "# print(sorted(finaldf['Venue'].unique()))\n",
    "\n",
    "Team_Dict = {'CSK':0, 'DC':1, 'KKR':2, 'KXIP':3, 'MI':4, 'RCB':5, 'RR':6, 'SRH':7}\n",
    "Venue_Dict = {'Abu Dhabi':0, 'Dubai':1, 'Sharjah':2}\n",
    "Toss_Dict = {'Lost':0, 'Won':1}\n",
    "Inn_Dict = {'First':0, 'Second':1}"
   ]
  },
  {
   "cell_type": "code",
   "execution_count": 46,
   "metadata": {
    "scrolled": true
   },
   "outputs": [
    {
     "name": "stdout",
     "output_type": "stream",
     "text": [
      "         0    0\n",
      "Team   3.0  4.0\n",
      "Vs     4.0  3.0\n",
      "Venue  1.0  1.0\n",
      "Toss   0.0  1.0\n",
      "Inn    1.0  0.0\n"
     ]
    }
   ],
   "source": [
    "T1 = 'KXIP'\n",
    "T2 = 'MI'\n",
    "V = 'Dubai'\n",
    "Toss = 'Lost'\n",
    "Inn = 'Second'\n",
    "\n",
    "B = pd.DataFrame([])\n",
    "B.loc[0,'Team'] = Team_Dict[T1]\n",
    "B.loc[0,'Vs'] = Team_Dict[T2]\n",
    "B.loc[0,'Venue'] = Venue_Dict[V]\n",
    "B.loc[0,'Toss'] = Toss_Dict[Toss]\n",
    "B.loc[0,'Inn'] = Inn_Dict[Inn]\n",
    "B1 = B.copy()\n",
    "\n",
    "C = pd.DataFrame([])\n",
    "C.loc[0,'Team'] = Team_Dict[T2]\n",
    "C.loc[0,'Vs'] = Team_Dict[T1]\n",
    "C.loc[0,'Venue'] = Venue_Dict[V]\n",
    "C.loc[0,'Toss'] = 1 - Toss_Dict[Toss]\n",
    "C.loc[0,'Inn'] = 1 - Inn_Dict[Inn]\n",
    "C1 = C.copy()\n",
    "\n",
    "print(pd.concat([B,C], axis=0).T)"
   ]
  },
  {
   "cell_type": "code",
   "execution_count": 47,
   "metadata": {
    "scrolled": true
   },
   "outputs": [
    {
     "name": "stdout",
     "output_type": "stream",
     "text": [
      "[4 1 2 0 3]\n",
      "[4 1 3 0 2]\n",
      "[1 2 3 0]\n",
      "[3 1 2 0]\n",
      "[0 3 2 1]\n",
      "[3 2 1 0]\n",
      "[2 0 3 1]\n",
      "[1. 0. 2.]\n",
      "[1. 2. 3. 0. 4.]\n",
      "[0. 2. 1. 3.]\n",
      "[2. 3. 1. 4. 0.]\n",
      "[2. 3. 1. 4. 0.]\n",
      "[4 1 2 0 3]\n",
      "[4 1 3 0 2]\n",
      "[14.0, 14.0, 21.0, 21.0, 42.0, 42.0, 47.0, 47.0, 59.0, 59.0, 61.0, 61.0, 64.0, 64.0, 80.0, 80.0, 82.0, 82.0, 85.0, 85.0, 91.0, 91.0]\n",
      "              0      0\n",
      "Team        3.0    4.0\n",
      "Vs          4.0    3.0\n",
      "Venue       1.0    1.0\n",
      "Toss        0.0    1.0\n",
      "Inn         1.0    0.0\n",
      "Result      0.0    1.0\n",
      "Top01%     91.0   91.0\n",
      "Top02%     59.0   59.0\n",
      "Top03%     80.0   80.0\n",
      "Top04%     61.0   61.0\n",
      "Top05%     64.0   64.0\n",
      "Top06%     82.0   82.0\n",
      "Top07%     14.0   14.0\n",
      "Top08%     47.0   47.0\n",
      "Top09%     42.0   42.0\n",
      "Top10%     21.0   21.0\n",
      "Top11%     85.0   85.0\n",
      "Top01C%     3.0    3.0\n",
      "Top02VC%    1.0    1.0\n",
      "D11       342.0  386.0\n",
      "C           4.0    1.0\n",
      "VC          4.0    4.0\n",
      "Top1        3.0    3.0\n",
      "Top2        1.0    2.0\n",
      "Top3        3.0    3.0\n",
      "Top4        0.0    2.0\n",
      "Top5        1.0    1.0\n",
      "WK          1.0    1.0\n",
      "Bat         1.0    2.0\n",
      "AR          0.0    2.0\n",
      "Bowl        2.0    3.0\n",
      "Frgnr       1.0    2.0\n"
     ]
    }
   ],
   "source": [
    "X = df[['Team', 'Vs', 'Venue', 'Toss', 'Inn']].values\n",
    "for c in ['Result','Top01%', 'Top02%', 'Top03%', 'Top04%', 'Top05%',\n",
    "          'Top06%', 'Top07%', 'Top08%', 'Top09%', 'Top10%',\n",
    "          'Top11%','Top01C%','Top02VC%','D11']:\n",
    "    Y = df[c].round(0).values\n",
    "\n",
    "    # X_train, X_test, y_train, y_test = train_test_split(X, Y, test_size=0.2, random_state=42)\n",
    "    X_train, y_train = X, Y\n",
    "\n",
    "    model = LogisticRegression()\n",
    "    # model = LinearRegression()\n",
    "    model.fit(X_train,y_train)\n",
    "\n",
    "    y_pred = model.predict(X_train)\n",
    "    # print(accuracy_score(y_train,y_pred))\n",
    "    # print(r2_score(y_train,y_pred))\n",
    "    # if c!='D11': plt.scatter(y_train,y_pred)\n",
    "    # print(pd.concat([pd.DataFrame(y_train).reset_index(drop=True),pd.DataFrame(y_pred).reset_index(drop=True)],axis=1))\n",
    "\n",
    "    # print(c,model.predict(B1.values)[0],model.predict(C1.values)[0])\n",
    "    B.loc[0,c] = model.predict(B1.values)[0]\n",
    "    C.loc[0,c] = model.predict(C1.values)[0]\n",
    "\n",
    "B1 = B.copy()\n",
    "C1 = C.copy()\n",
    "X = df[['Team', 'Vs', 'Venue', 'Toss', 'Inn','Result',\n",
    "        'Top01%', 'Top02%', 'Top03%', 'Top04%', 'Top05%',\n",
    "        'Top06%', 'Top07%', 'Top08%', 'Top09%', 'Top10%',\n",
    "        'Top11%','Top01C%','Top02VC%','D11']].values\n",
    "for c in ['C', 'VC', 'Top1', 'Top2','Top3', 'Top4', 'Top5',\n",
    "          'WK', 'Bat', 'AR', 'Bowl', 'Frgnr','C','VC']:\n",
    "    Y = df[[c]].values\n",
    "    # print(df[c].unique())\n",
    "\n",
    "    # X_train, X_test, y_train, y_test = train_test_split(X, Y, test_size=0.2, random_state=42)\n",
    "    X_train, y_train = X, Y\n",
    "\n",
    "    model = XGBClassifier()\n",
    "    model.fit(X_train,y_train)\n",
    "\n",
    "    y_pred = model.predict(X_train)\n",
    "    # print(r2_score(y_train,y_pred))\n",
    "    # print(pd.concat([pd.DataFrame(y_train).reset_index(drop=True),pd.DataFrame(y_pred).reset_index(drop=True)],axis=1))\n",
    "\n",
    "    # print(c,model.predict(B1.values)[0],model.predict(C1.values)[0])\n",
    "    B.loc[0,c] = model.predict(B1.values)[0]\n",
    "    C.loc[0,c] = model.predict(C1.values)[0]\n",
    "\n",
    "print(sorted(list(B.iloc[0,6:17])+list(C.iloc[0,6:17])))\n",
    "print(pd.concat([B,C], axis=0).T)"
   ]
  },
  {
   "cell_type": "code",
   "execution_count": 7,
   "metadata": {},
   "outputs": [
    {
     "name": "stdout",
     "output_type": "stream",
     "text": [
      "[0, 1, 2] [0, 1, 2, 3, 4, 5, 6, 7]\n"
     ]
    },
    {
     "ename": "NameError",
     "evalue": "name 'T1' is not defined",
     "output_type": "error",
     "traceback": [
      "\u001b[1;31m---------------------------------------------------------------------------\u001b[0m",
      "\u001b[1;31mNameError\u001b[0m                                 Traceback (most recent call last)",
      "\u001b[1;32m<ipython-input-7-9cb69120ff4d>\u001b[0m in \u001b[0;36m<module>\u001b[1;34m\u001b[0m\n\u001b[0;32m      7\u001b[0m \u001b[0mdf\u001b[0m \u001b[1;33m=\u001b[0m \u001b[0mdf\u001b[0m\u001b[1;33m[\u001b[0m\u001b[1;33m~\u001b[0m\u001b[1;33m(\u001b[0m\u001b[0mdf\u001b[0m\u001b[1;33m.\u001b[0m\u001b[0mindex\u001b[0m\u001b[1;33m.\u001b[0m\u001b[0misin\u001b[0m\u001b[1;33m(\u001b[0m\u001b[0mdf1\u001b[0m\u001b[1;33m.\u001b[0m\u001b[0mindex\u001b[0m\u001b[1;33m)\u001b[0m\u001b[1;33m)\u001b[0m\u001b[1;33m]\u001b[0m\u001b[1;33m\u001b[0m\u001b[1;33m\u001b[0m\u001b[0m\n\u001b[0;32m      8\u001b[0m \u001b[0mdf1\u001b[0m \u001b[1;33m=\u001b[0m \u001b[0mdf1\u001b[0m\u001b[1;33m.\u001b[0m\u001b[0mgroupby\u001b[0m\u001b[1;33m(\u001b[0m\u001b[1;33m[\u001b[0m\u001b[1;34m'Team'\u001b[0m\u001b[1;33m]\u001b[0m\u001b[1;33m)\u001b[0m\u001b[1;33m.\u001b[0m\u001b[0mmean\u001b[0m\u001b[1;33m(\u001b[0m\u001b[1;33m)\u001b[0m\u001b[1;33m.\u001b[0m\u001b[0mreset_index\u001b[0m\u001b[1;33m(\u001b[0m\u001b[1;33m)\u001b[0m\u001b[1;33m.\u001b[0m\u001b[0mT\u001b[0m\u001b[1;33m.\u001b[0m\u001b[0mdrop\u001b[0m\u001b[1;33m(\u001b[0m\u001b[1;34m'Team'\u001b[0m\u001b[1;33m,\u001b[0m \u001b[0maxis\u001b[0m\u001b[1;33m=\u001b[0m\u001b[1;36m0\u001b[0m\u001b[1;33m)\u001b[0m\u001b[1;33m\u001b[0m\u001b[1;33m\u001b[0m\u001b[0m\n\u001b[1;32m----> 9\u001b[1;33m \u001b[0mdf1\u001b[0m\u001b[1;33m.\u001b[0m\u001b[0mrename\u001b[0m\u001b[1;33m(\u001b[0m\u001b[1;33m{\u001b[0m\u001b[1;36m0\u001b[0m\u001b[1;33m:\u001b[0m\u001b[0mT1\u001b[0m\u001b[1;33m,\u001b[0m\u001b[1;36m1\u001b[0m\u001b[1;33m:\u001b[0m\u001b[0mT2\u001b[0m\u001b[1;33m}\u001b[0m\u001b[1;33m,\u001b[0m\u001b[0maxis\u001b[0m\u001b[1;33m=\u001b[0m\u001b[1;36m1\u001b[0m\u001b[1;33m,\u001b[0m\u001b[0minplace\u001b[0m\u001b[1;33m=\u001b[0m\u001b[1;32mTrue\u001b[0m\u001b[1;33m)\u001b[0m\u001b[1;33m\u001b[0m\u001b[1;33m\u001b[0m\u001b[0m\n\u001b[0m\u001b[0;32m     10\u001b[0m \u001b[0mdf1\u001b[0m\u001b[1;33m\u001b[0m\u001b[1;33m\u001b[0m\u001b[0m\n\u001b[0;32m     11\u001b[0m \u001b[1;33m\u001b[0m\u001b[0m\n",
      "\u001b[1;31mNameError\u001b[0m: name 'T1' is not defined"
     ]
    }
   ],
   "source": [
    "Venues = sorted(list(df['Venue'].unique()))\n",
    "Teams = sorted(list(df['Team'].unique()))\n",
    "print(Venues,Teams)\n",
    "\n",
    "# Validation\n",
    "df1 = df[df['Date']=='2020-10-02']\n",
    "df = df[~(df.index.isin(df1.index))]\n",
    "df1 = df1.groupby(['Team']).mean().reset_index().T.drop('Team', axis=0)\n",
    "df1.rename({0:T1,1:T2},axis=1,inplace=True)\n",
    "df1\n",
    "\n",
    "A = df.groupby(['Inn']).mean().reset_index().T\n",
    "A.rename({0:'IPL_1stInn',1:'IPL_2ndInn'},axis=1,inplace=True)\n",
    "\n",
    "B = df.groupby(['Venue']).mean().reset_index()\n",
    "B = B[B['Venue']==V].drop('Venue', axis=1).reset_index(drop=True).T\n",
    "B.rename({0:V+'_perf'},axis=1,inplace=True)\n",
    "\n",
    "C = df.groupby(['Team']).mean().reset_index()\n",
    "C = C[C['Team'].isin([T1,T2])].sort_values('Team').reset_index(drop=True).T.drop('Team', axis=0)\n",
    "C.rename({0:T1+'_perf',1:T2+'_perf'},axis=1,inplace=True)\n",
    "\n",
    "D = df.groupby(['Venue','Inn']).mean().reset_index()\n",
    "D = D[D['Venue']==V].drop('Venue', axis=1).reset_index(drop=True).T\n",
    "D.rename({0:V+'_1stInn',1:V+'_2ndInn'},axis=1,inplace=True)\n",
    "\n",
    "E = df.groupby(['Team','Inn']).mean().reset_index()\n",
    "E1 = E[E['Team']==T1].drop('Team', axis=1).reset_index(drop=True).T\n",
    "E1.rename({0:T1+'_1stInn',1:T1+'_2ndInn'},axis=1,inplace=True)\n",
    "E2 = E[E['Team']==T2].drop('Team', axis=1).reset_index(drop=True).T\n",
    "E2.rename({0:T2+'_1stInn',1:T2+'_2ndInn'},axis=1,inplace=True)\n",
    "\n",
    "# # Predict\n",
    "# F = pd.concat([A,B,C,D,E1,E2],axis=1)\n",
    "\n",
    "# Validate\n",
    "F = pd.concat([A,B,C,D,E1,E2,df1],axis=1).drop('Inn', axis=0)\n",
    "F"
   ]
  },
  {
   "cell_type": "code",
   "execution_count": null,
   "metadata": {},
   "outputs": [],
   "source": [
    "plt.hist(df[df['Venue']==V]['C'])\n",
    "plt.hist(df[df['Venue']==V]['VC'])"
   ]
  },
  {
   "cell_type": "code",
   "execution_count": null,
   "metadata": {},
   "outputs": [],
   "source": [
    "plt.hist(df[df['Inn']=='First']['C'])\n",
    "plt.hist(df[df['Inn']=='First']['VC'])"
   ]
  },
  {
   "cell_type": "code",
   "execution_count": null,
   "metadata": {},
   "outputs": [],
   "source": [
    "plt.hist(df[df['Inn']=='Second']['C'])\n",
    "plt.hist(df[df['Inn']=='Second']['VC'])"
   ]
  }
 ],
 "metadata": {
  "kernelspec": {
   "display_name": "Python 3",
   "language": "python",
   "name": "python3"
  },
  "language_info": {
   "codemirror_mode": {
    "name": "ipython",
    "version": 3
   },
   "file_extension": ".py",
   "mimetype": "text/x-python",
   "name": "python",
   "nbconvert_exporter": "python",
   "pygments_lexer": "ipython3",
   "version": "3.7.7"
  }
 },
 "nbformat": 4,
 "nbformat_minor": 4
}
