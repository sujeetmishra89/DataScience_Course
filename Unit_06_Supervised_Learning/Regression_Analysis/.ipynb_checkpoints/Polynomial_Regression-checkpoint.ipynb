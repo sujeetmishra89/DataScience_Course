{
 "cells": [
  {
   "cell_type": "markdown",
   "id": "republican-taiwan",
   "metadata": {},
   "source": [
    "# Polynomial Regression"
   ]
  },
  {
   "cell_type": "code",
   "execution_count": null,
   "id": "numeric-hawaii",
   "metadata": {},
   "outputs": [],
   "source": [
    "import numpy as np\n",
    "import matplotlib.pyplot as plt\n",
    "import pandas as pd"
   ]
  },
  {
   "cell_type": "code",
   "execution_count": null,
   "id": "directed-terry",
   "metadata": {},
   "outputs": [],
   "source": [
    "# Importing the datasets\n",
    "\n",
    "datasets = pd.read_csv('..\\\\Data\\\\Position_Salaries.csv')"
   ]
  },
  {
   "cell_type": "code",
   "execution_count": null,
   "id": "ranging-greenhouse",
   "metadata": {},
   "outputs": [],
   "source": [
    "X = datasets.iloc[:, 1:2].values\n",
    "Y = datasets.iloc[:, 2].values"
   ]
  },
  {
   "cell_type": "code",
   "execution_count": null,
   "id": "committed-johnston",
   "metadata": {},
   "outputs": [],
   "source": [
    "# Fitting Polynomial Regression to the dataset\n",
    "\n",
    "from sklearn.linear_model import LinearRegression\n",
    "from sklearn.preprocessing import PolynomialFeatures\n",
    "poly_reg = PolynomialFeatures(degree = 4)\n",
    "X_Poly = poly_reg.fit_transform(X)"
   ]
  },
  {
   "cell_type": "code",
   "execution_count": null,
   "id": "selective-startup",
   "metadata": {},
   "outputs": [],
   "source": [
    "lin_reg_2 = LinearRegression()\n",
    "lin_reg_2.fit(X_Poly, Y)"
   ]
  },
  {
   "cell_type": "code",
   "execution_count": null,
   "id": "narrative-sympathy",
   "metadata": {},
   "outputs": [],
   "source": [
    "# Visualising the Polynomial Regression results\n",
    "\n",
    "X_Grid = np.arange(min(X), max(X), 0.1)\n",
    "X_Grid = X_Grid.reshape((len(X_Grid), 1))\n",
    "plt.scatter(X,Y, color = 'red')\n",
    "plt.plot(X_Grid, lin_reg_2.predict(poly_reg.fit_transform(X_Grid)), color = 'blue')\n",
    "plt.title('Polynomial Regression results')\n",
    "plt.xlabel('Position level')\n",
    "plt.ylabel('Salary')\n",
    "plt.show()"
   ]
  },
  {
   "cell_type": "code",
   "execution_count": null,
   "id": "independent-talent",
   "metadata": {},
   "outputs": [],
   "source": [
    "# Predicting a new result with the Polynomial Regression \n",
    "\n",
    "lin_reg_2.predict(poly_reg.fit_transform(6.5))"
   ]
  }
 ],
 "metadata": {
  "kernelspec": {
   "display_name": "Python 3",
   "language": "python",
   "name": "python3"
  },
  "language_info": {
   "codemirror_mode": {
    "name": "ipython",
    "version": 3
   },
   "file_extension": ".py",
   "mimetype": "text/x-python",
   "name": "python",
   "nbconvert_exporter": "python",
   "pygments_lexer": "ipython3",
   "version": "3.8.5"
  }
 },
 "nbformat": 4,
 "nbformat_minor": 5
}
