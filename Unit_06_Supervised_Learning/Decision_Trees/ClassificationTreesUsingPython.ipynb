{
 "cells": [
  {
   "cell_type": "markdown",
   "metadata": {},
   "source": [
    "<h1 align=\"center\"> Classification Trees using Python </h1>"
   ]
  },
  {
   "cell_type": "code",
   "execution_count": 1,
   "metadata": {},
   "outputs": [],
   "source": [
    "%matplotlib inline\n",
    "import matplotlib.pyplot as plt\n",
    "from sklearn.datasets import load_iris\n",
    "from sklearn.tree import DecisionTreeClassifier\n",
    "from sklearn.model_selection import train_test_split\n",
    "import pandas as pd\n",
    "import numpy as np\n",
    "from sklearn import tree"
   ]
  },
  {
   "cell_type": "markdown",
   "metadata": {
    "collapsed": true
   },
   "source": [
    "## Load the Data\n",
    "The Iris dataset is one of datasets scikit-learn comes with that do not require the downloading of any file from some external website. The code below loads the iris dataset."
   ]
  },
  {
   "cell_type": "code",
   "execution_count": 2,
   "metadata": {},
   "outputs": [
    {
     "data": {
      "text/html": [
       "<div>\n",
       "<style scoped>\n",
       "    .dataframe tbody tr th:only-of-type {\n",
       "        vertical-align: middle;\n",
       "    }\n",
       "\n",
       "    .dataframe tbody tr th {\n",
       "        vertical-align: top;\n",
       "    }\n",
       "\n",
       "    .dataframe thead th {\n",
       "        text-align: right;\n",
       "    }\n",
       "</style>\n",
       "<table border=\"1\" class=\"dataframe\">\n",
       "  <thead>\n",
       "    <tr style=\"text-align: right;\">\n",
       "      <th></th>\n",
       "      <th>sepal length (cm)</th>\n",
       "      <th>sepal width (cm)</th>\n",
       "      <th>petal length (cm)</th>\n",
       "      <th>petal width (cm)</th>\n",
       "      <th>target</th>\n",
       "    </tr>\n",
       "  </thead>\n",
       "  <tbody>\n",
       "    <tr>\n",
       "      <th>0</th>\n",
       "      <td>5.1</td>\n",
       "      <td>3.5</td>\n",
       "      <td>1.4</td>\n",
       "      <td>0.2</td>\n",
       "      <td>0</td>\n",
       "    </tr>\n",
       "    <tr>\n",
       "      <th>1</th>\n",
       "      <td>4.9</td>\n",
       "      <td>3.0</td>\n",
       "      <td>1.4</td>\n",
       "      <td>0.2</td>\n",
       "      <td>0</td>\n",
       "    </tr>\n",
       "    <tr>\n",
       "      <th>2</th>\n",
       "      <td>4.7</td>\n",
       "      <td>3.2</td>\n",
       "      <td>1.3</td>\n",
       "      <td>0.2</td>\n",
       "      <td>0</td>\n",
       "    </tr>\n",
       "    <tr>\n",
       "      <th>3</th>\n",
       "      <td>4.6</td>\n",
       "      <td>3.1</td>\n",
       "      <td>1.5</td>\n",
       "      <td>0.2</td>\n",
       "      <td>0</td>\n",
       "    </tr>\n",
       "    <tr>\n",
       "      <th>4</th>\n",
       "      <td>5.0</td>\n",
       "      <td>3.6</td>\n",
       "      <td>1.4</td>\n",
       "      <td>0.2</td>\n",
       "      <td>0</td>\n",
       "    </tr>\n",
       "  </tbody>\n",
       "</table>\n",
       "</div>"
      ],
      "text/plain": [
       "   sepal length (cm)  sepal width (cm)  petal length (cm)  petal width (cm)  \\\n",
       "0                5.1               3.5                1.4               0.2   \n",
       "1                4.9               3.0                1.4               0.2   \n",
       "2                4.7               3.2                1.3               0.2   \n",
       "3                4.6               3.1                1.5               0.2   \n",
       "4                5.0               3.6                1.4               0.2   \n",
       "\n",
       "   target  \n",
       "0       0  \n",
       "1       0  \n",
       "2       0  \n",
       "3       0  \n",
       "4       0  "
      ]
     },
     "execution_count": 2,
     "metadata": {},
     "output_type": "execute_result"
    }
   ],
   "source": [
    "data = load_iris()\n",
    "df = pd.DataFrame(data.data, columns=data.feature_names)\n",
    "df['target'] = data.target\n",
    "df.head()"
   ]
  },
  {
   "cell_type": "markdown",
   "metadata": {},
   "source": [
    "## Splitting Data into Training and Test Sets\n",
    "One of the benefits of Decision Trees is that you don't have to standardize your data unlike PCA and logistic regression which are [sensitive to effects of not standardizing your data](https://scikit-learn.org/stable/auto_examples/preprocessing/plot_scaling_importance.html#sphx-glr-auto-examples-preprocessing-plot-scaling-importance-py)."
   ]
  },
  {
   "cell_type": "code",
   "execution_count": 3,
   "metadata": {},
   "outputs": [],
   "source": [
    "# test_size: what proportion of original data is used for test set\n",
    "X_train, X_test, Y_train, Y_test = train_test_split(df[data.feature_names], df['target'], random_state=0)"
   ]
  },
  {
   "cell_type": "markdown",
   "metadata": {},
   "source": [
    "## Ignore these Cells (just to show train test split for the blog)\n",
    "\n",
    "A relatively new feature of pandas is conditional formatting. https://pandas.pydata.org/pandas-docs/stable/user_guide/style.html"
   ]
  },
  {
   "cell_type": "code",
   "execution_count": 4,
   "metadata": {},
   "outputs": [],
   "source": [
    "X_train['split'] = 'train'\n",
    "X_test['split'] = 'test'"
   ]
  },
  {
   "cell_type": "code",
   "execution_count": 5,
   "metadata": {},
   "outputs": [],
   "source": [
    "X_train['target'] = Y_train\n",
    "X_test['target'] = Y_test"
   ]
  },
  {
   "cell_type": "code",
   "execution_count": 6,
   "metadata": {},
   "outputs": [],
   "source": [
    "fullDF = pd.concat([X_train, X_test], axis = 0)"
   ]
  },
  {
   "cell_type": "code",
   "execution_count": 7,
   "metadata": {},
   "outputs": [
    {
     "data": {
      "text/html": [
       "<div>\n",
       "<style scoped>\n",
       "    .dataframe tbody tr th:only-of-type {\n",
       "        vertical-align: middle;\n",
       "    }\n",
       "\n",
       "    .dataframe tbody tr th {\n",
       "        vertical-align: top;\n",
       "    }\n",
       "\n",
       "    .dataframe thead th {\n",
       "        text-align: right;\n",
       "    }\n",
       "</style>\n",
       "<table border=\"1\" class=\"dataframe\">\n",
       "  <thead>\n",
       "    <tr style=\"text-align: right;\">\n",
       "      <th></th>\n",
       "      <th>sepal length (cm)</th>\n",
       "      <th>sepal width (cm)</th>\n",
       "      <th>petal length (cm)</th>\n",
       "      <th>petal width (cm)</th>\n",
       "      <th>split</th>\n",
       "      <th>target</th>\n",
       "    </tr>\n",
       "  </thead>\n",
       "  <tbody>\n",
       "    <tr>\n",
       "      <th>61</th>\n",
       "      <td>5.9</td>\n",
       "      <td>3.0</td>\n",
       "      <td>4.2</td>\n",
       "      <td>1.5</td>\n",
       "      <td>train</td>\n",
       "      <td>1</td>\n",
       "    </tr>\n",
       "    <tr>\n",
       "      <th>92</th>\n",
       "      <td>5.8</td>\n",
       "      <td>2.6</td>\n",
       "      <td>4.0</td>\n",
       "      <td>1.2</td>\n",
       "      <td>train</td>\n",
       "      <td>1</td>\n",
       "    </tr>\n",
       "    <tr>\n",
       "      <th>112</th>\n",
       "      <td>6.8</td>\n",
       "      <td>3.0</td>\n",
       "      <td>5.5</td>\n",
       "      <td>2.1</td>\n",
       "      <td>train</td>\n",
       "      <td>2</td>\n",
       "    </tr>\n",
       "    <tr>\n",
       "      <th>2</th>\n",
       "      <td>4.7</td>\n",
       "      <td>3.2</td>\n",
       "      <td>1.3</td>\n",
       "      <td>0.2</td>\n",
       "      <td>train</td>\n",
       "      <td>0</td>\n",
       "    </tr>\n",
       "    <tr>\n",
       "      <th>141</th>\n",
       "      <td>6.9</td>\n",
       "      <td>3.1</td>\n",
       "      <td>5.1</td>\n",
       "      <td>2.3</td>\n",
       "      <td>train</td>\n",
       "      <td>2</td>\n",
       "    </tr>\n",
       "  </tbody>\n",
       "</table>\n",
       "</div>"
      ],
      "text/plain": [
       "     sepal length (cm)  sepal width (cm)  petal length (cm)  petal width (cm)  \\\n",
       "61                 5.9               3.0                4.2               1.5   \n",
       "92                 5.8               2.6                4.0               1.2   \n",
       "112                6.8               3.0                5.5               2.1   \n",
       "2                  4.7               3.2                1.3               0.2   \n",
       "141                6.9               3.1                5.1               2.3   \n",
       "\n",
       "     split  target  \n",
       "61   train       1  \n",
       "92   train       1  \n",
       "112  train       2  \n",
       "2    train       0  \n",
       "141  train       2  "
      ]
     },
     "execution_count": 7,
     "metadata": {},
     "output_type": "execute_result"
    }
   ],
   "source": [
    "fullDF.head()"
   ]
  },
  {
   "cell_type": "code",
   "execution_count": 8,
   "metadata": {},
   "outputs": [],
   "source": [
    "fullDFsplit = fullDF.copy()\n",
    "fullDF = fullDF.drop(columns = ['split'])"
   ]
  },
  {
   "cell_type": "code",
   "execution_count": 9,
   "metadata": {},
   "outputs": [
    {
     "data": {
      "text/html": [
       "<style  type=\"text/css\" >\n",
       "#T_6f7ca_row0_col0,#T_6f7ca_row0_col1,#T_6f7ca_row0_col2,#T_6f7ca_row0_col3,#T_6f7ca_row1_col0,#T_6f7ca_row1_col1,#T_6f7ca_row1_col2,#T_6f7ca_row1_col3,#T_6f7ca_row2_col0,#T_6f7ca_row2_col1,#T_6f7ca_row2_col2,#T_6f7ca_row2_col3,#T_6f7ca_row3_col0,#T_6f7ca_row3_col1,#T_6f7ca_row3_col2,#T_6f7ca_row3_col3,#T_6f7ca_row4_col0,#T_6f7ca_row4_col1,#T_6f7ca_row4_col2,#T_6f7ca_row4_col3,#T_6f7ca_row5_col0,#T_6f7ca_row5_col1,#T_6f7ca_row5_col2,#T_6f7ca_row5_col3,#T_6f7ca_row6_col0,#T_6f7ca_row6_col1,#T_6f7ca_row6_col2,#T_6f7ca_row6_col3,#T_6f7ca_row9_col0,#T_6f7ca_row9_col1,#T_6f7ca_row9_col2,#T_6f7ca_row9_col3{\n",
       "            background-color:  #40E0D0;\n",
       "            border-color:  black;\n",
       "            border:  1px solid black;\n",
       "        }#T_6f7ca_row0_col4,#T_6f7ca_row1_col4,#T_6f7ca_row2_col4,#T_6f7ca_row3_col4,#T_6f7ca_row4_col4,#T_6f7ca_row5_col4,#T_6f7ca_row6_col4,#T_6f7ca_row9_col4{\n",
       "            background-color:  #FFD700;\n",
       "            border-color:  black;\n",
       "            border:  1px solid black;\n",
       "        }#T_6f7ca_row7_col0,#T_6f7ca_row7_col1,#T_6f7ca_row7_col2,#T_6f7ca_row7_col3,#T_6f7ca_row8_col0,#T_6f7ca_row8_col1,#T_6f7ca_row8_col2,#T_6f7ca_row8_col3{\n",
       "            background-color:  #00FFFF;\n",
       "            border-color:  black;\n",
       "            border:  1px solid black;\n",
       "        }#T_6f7ca_row7_col4,#T_6f7ca_row8_col4{\n",
       "            background-color:  #FFFF00;\n",
       "            border-color:  black;\n",
       "            border:  1px solid black;\n",
       "        }</style><table id=\"T_6f7ca_\" ><thead>    <tr>        <th class=\"blank level0\" ></th>        <th class=\"col_heading level0 col0\" >sepal length (cm)</th>        <th class=\"col_heading level0 col1\" >sepal width (cm)</th>        <th class=\"col_heading level0 col2\" >petal length (cm)</th>        <th class=\"col_heading level0 col3\" >petal width (cm)</th>        <th class=\"col_heading level0 col4\" >target</th>    </tr></thead><tbody>\n",
       "                <tr>\n",
       "                        <th id=\"T_6f7ca_level0_row0\" class=\"row_heading level0 row0\" >0</th>\n",
       "                        <td id=\"T_6f7ca_row0_col0\" class=\"data row0 col0\" >5.100000</td>\n",
       "                        <td id=\"T_6f7ca_row0_col1\" class=\"data row0 col1\" >3.500000</td>\n",
       "                        <td id=\"T_6f7ca_row0_col2\" class=\"data row0 col2\" >1.400000</td>\n",
       "                        <td id=\"T_6f7ca_row0_col3\" class=\"data row0 col3\" >0.200000</td>\n",
       "                        <td id=\"T_6f7ca_row0_col4\" class=\"data row0 col4\" >0</td>\n",
       "            </tr>\n",
       "            <tr>\n",
       "                        <th id=\"T_6f7ca_level0_row1\" class=\"row_heading level0 row1\" >1</th>\n",
       "                        <td id=\"T_6f7ca_row1_col0\" class=\"data row1 col0\" >4.900000</td>\n",
       "                        <td id=\"T_6f7ca_row1_col1\" class=\"data row1 col1\" >3.000000</td>\n",
       "                        <td id=\"T_6f7ca_row1_col2\" class=\"data row1 col2\" >1.400000</td>\n",
       "                        <td id=\"T_6f7ca_row1_col3\" class=\"data row1 col3\" >0.200000</td>\n",
       "                        <td id=\"T_6f7ca_row1_col4\" class=\"data row1 col4\" >0</td>\n",
       "            </tr>\n",
       "            <tr>\n",
       "                        <th id=\"T_6f7ca_level0_row2\" class=\"row_heading level0 row2\" >2</th>\n",
       "                        <td id=\"T_6f7ca_row2_col0\" class=\"data row2 col0\" >4.700000</td>\n",
       "                        <td id=\"T_6f7ca_row2_col1\" class=\"data row2 col1\" >3.200000</td>\n",
       "                        <td id=\"T_6f7ca_row2_col2\" class=\"data row2 col2\" >1.300000</td>\n",
       "                        <td id=\"T_6f7ca_row2_col3\" class=\"data row2 col3\" >0.200000</td>\n",
       "                        <td id=\"T_6f7ca_row2_col4\" class=\"data row2 col4\" >0</td>\n",
       "            </tr>\n",
       "            <tr>\n",
       "                        <th id=\"T_6f7ca_level0_row3\" class=\"row_heading level0 row3\" >3</th>\n",
       "                        <td id=\"T_6f7ca_row3_col0\" class=\"data row3 col0\" >4.600000</td>\n",
       "                        <td id=\"T_6f7ca_row3_col1\" class=\"data row3 col1\" >3.100000</td>\n",
       "                        <td id=\"T_6f7ca_row3_col2\" class=\"data row3 col2\" >1.500000</td>\n",
       "                        <td id=\"T_6f7ca_row3_col3\" class=\"data row3 col3\" >0.200000</td>\n",
       "                        <td id=\"T_6f7ca_row3_col4\" class=\"data row3 col4\" >0</td>\n",
       "            </tr>\n",
       "            <tr>\n",
       "                        <th id=\"T_6f7ca_level0_row4\" class=\"row_heading level0 row4\" >4</th>\n",
       "                        <td id=\"T_6f7ca_row4_col0\" class=\"data row4 col0\" >5.000000</td>\n",
       "                        <td id=\"T_6f7ca_row4_col1\" class=\"data row4 col1\" >3.600000</td>\n",
       "                        <td id=\"T_6f7ca_row4_col2\" class=\"data row4 col2\" >1.400000</td>\n",
       "                        <td id=\"T_6f7ca_row4_col3\" class=\"data row4 col3\" >0.200000</td>\n",
       "                        <td id=\"T_6f7ca_row4_col4\" class=\"data row4 col4\" >0</td>\n",
       "            </tr>\n",
       "            <tr>\n",
       "                        <th id=\"T_6f7ca_level0_row5\" class=\"row_heading level0 row5\" >5</th>\n",
       "                        <td id=\"T_6f7ca_row5_col0\" class=\"data row5 col0\" >5.400000</td>\n",
       "                        <td id=\"T_6f7ca_row5_col1\" class=\"data row5 col1\" >3.900000</td>\n",
       "                        <td id=\"T_6f7ca_row5_col2\" class=\"data row5 col2\" >1.700000</td>\n",
       "                        <td id=\"T_6f7ca_row5_col3\" class=\"data row5 col3\" >0.400000</td>\n",
       "                        <td id=\"T_6f7ca_row5_col4\" class=\"data row5 col4\" >0</td>\n",
       "            </tr>\n",
       "            <tr>\n",
       "                        <th id=\"T_6f7ca_level0_row6\" class=\"row_heading level0 row6\" >6</th>\n",
       "                        <td id=\"T_6f7ca_row6_col0\" class=\"data row6 col0\" >4.600000</td>\n",
       "                        <td id=\"T_6f7ca_row6_col1\" class=\"data row6 col1\" >3.400000</td>\n",
       "                        <td id=\"T_6f7ca_row6_col2\" class=\"data row6 col2\" >1.400000</td>\n",
       "                        <td id=\"T_6f7ca_row6_col3\" class=\"data row6 col3\" >0.300000</td>\n",
       "                        <td id=\"T_6f7ca_row6_col4\" class=\"data row6 col4\" >0</td>\n",
       "            </tr>\n",
       "            <tr>\n",
       "                        <th id=\"T_6f7ca_level0_row7\" class=\"row_heading level0 row7\" >7</th>\n",
       "                        <td id=\"T_6f7ca_row7_col0\" class=\"data row7 col0\" >5.000000</td>\n",
       "                        <td id=\"T_6f7ca_row7_col1\" class=\"data row7 col1\" >3.400000</td>\n",
       "                        <td id=\"T_6f7ca_row7_col2\" class=\"data row7 col2\" >1.500000</td>\n",
       "                        <td id=\"T_6f7ca_row7_col3\" class=\"data row7 col3\" >0.200000</td>\n",
       "                        <td id=\"T_6f7ca_row7_col4\" class=\"data row7 col4\" >0</td>\n",
       "            </tr>\n",
       "            <tr>\n",
       "                        <th id=\"T_6f7ca_level0_row8\" class=\"row_heading level0 row8\" >8</th>\n",
       "                        <td id=\"T_6f7ca_row8_col0\" class=\"data row8 col0\" >4.400000</td>\n",
       "                        <td id=\"T_6f7ca_row8_col1\" class=\"data row8 col1\" >2.900000</td>\n",
       "                        <td id=\"T_6f7ca_row8_col2\" class=\"data row8 col2\" >1.400000</td>\n",
       "                        <td id=\"T_6f7ca_row8_col3\" class=\"data row8 col3\" >0.200000</td>\n",
       "                        <td id=\"T_6f7ca_row8_col4\" class=\"data row8 col4\" >0</td>\n",
       "            </tr>\n",
       "            <tr>\n",
       "                        <th id=\"T_6f7ca_level0_row9\" class=\"row_heading level0 row9\" >9</th>\n",
       "                        <td id=\"T_6f7ca_row9_col0\" class=\"data row9 col0\" >4.900000</td>\n",
       "                        <td id=\"T_6f7ca_row9_col1\" class=\"data row9 col1\" >3.100000</td>\n",
       "                        <td id=\"T_6f7ca_row9_col2\" class=\"data row9 col2\" >1.500000</td>\n",
       "                        <td id=\"T_6f7ca_row9_col3\" class=\"data row9 col3\" >0.100000</td>\n",
       "                        <td id=\"T_6f7ca_row9_col4\" class=\"data row9 col4\" >0</td>\n",
       "            </tr>\n",
       "    </tbody></table>"
      ],
      "text/plain": [
       "<pandas.io.formats.style.Styler at 0x274b2c42040>"
      ]
     },
     "execution_count": 9,
     "metadata": {},
     "output_type": "execute_result"
    }
   ],
   "source": [
    "\n",
    "def highlight_color(s, fullDFsplit):\n",
    "    '''\n",
    "    highlight the the entire dataframe cyan.\n",
    "    '''\n",
    "\n",
    "    colorDF = s.copy()\n",
    "\n",
    "\n",
    "    colorDF.loc[fullDFsplit['split'] == 'train', data.feature_names] = 'background-color: #40E0D0'\n",
    "\n",
    "\n",
    "    colorDF.loc[fullDFsplit['split'] == 'test', data.feature_names] = 'background-color: #00FFFF'\n",
    "\n",
    "    # #9370DB\n",
    "    # FF D7 00\n",
    "    colorDF.loc[fullDFsplit['split'] == 'train', ['target']] = 'background-color: #FFD700'\n",
    "\n",
    "    # EE82EE\n",
    "    # BD B7 6B\n",
    "    colorDF.loc[fullDFsplit['split'] == 'test', ['target']] = 'background-color: #FFFF00'\n",
    "\n",
    "    return(colorDF)\n",
    "\n",
    "temp = fullDF.sort_index().loc[0:9,:].style.apply(lambda x: highlight_color(x,pd.DataFrame(fullDFsplit['split'])), axis = None)\n",
    "temp.set_properties(**{'border-color': 'black',\n",
    "                       'border': '1px solid black',\n",
    "                       })"
   ]
  },
  {
   "cell_type": "code",
   "execution_count": 10,
   "metadata": {},
   "outputs": [],
   "source": [
    "# test_size: what proportion of original data is used for test set\n",
    "X_train, X_test, Y_train, Y_test = train_test_split(df[data.feature_names], df['target'], random_state=0)"
   ]
  },
  {
   "cell_type": "markdown",
   "metadata": {},
   "source": [
    "## Decision Tree"
   ]
  },
  {
   "cell_type": "markdown",
   "metadata": {},
   "source": [
    "<b>Step 1:</b> Import the model you want to use"
   ]
  },
  {
   "cell_type": "markdown",
   "metadata": {},
   "source": [
    "In sklearn, all machine learning models are implemented as Python classes"
   ]
  },
  {
   "cell_type": "code",
   "execution_count": 11,
   "metadata": {},
   "outputs": [],
   "source": [
    "from sklearn.tree import DecisionTreeClassifier"
   ]
  },
  {
   "cell_type": "markdown",
   "metadata": {},
   "source": [
    "<b>Step 2:</b> Make an instance of the Model"
   ]
  },
  {
   "cell_type": "code",
   "execution_count": 12,
   "metadata": {},
   "outputs": [],
   "source": [
    "clf = DecisionTreeClassifier(max_depth = 2, \n",
    "                             random_state = 0)"
   ]
  },
  {
   "cell_type": "markdown",
   "metadata": {},
   "source": [
    "<b>Step 3:</b> Training the model on the data, storing the information learned from the data"
   ]
  },
  {
   "cell_type": "markdown",
   "metadata": {},
   "source": [
    "Model is learning the relationship between x (features sepal width, sepal height etc) and y (labels-which species of iris)"
   ]
  },
  {
   "cell_type": "code",
   "execution_count": 13,
   "metadata": {},
   "outputs": [
    {
     "data": {
      "text/plain": [
       "DecisionTreeClassifier(max_depth=2, random_state=0)"
      ]
     },
     "execution_count": 13,
     "metadata": {},
     "output_type": "execute_result"
    }
   ],
   "source": [
    "clf.fit(X_train, Y_train)"
   ]
  },
  {
   "cell_type": "markdown",
   "metadata": {},
   "source": [
    "<b>Step 4:</b> Predict the labels of new data (new flowers)\n"
   ]
  },
  {
   "cell_type": "markdown",
   "metadata": {},
   "source": [
    "Uses the information the model learned during the model training process"
   ]
  },
  {
   "cell_type": "code",
   "execution_count": 14,
   "metadata": {},
   "outputs": [
    {
     "data": {
      "text/plain": [
       "array([2])"
      ]
     },
     "execution_count": 14,
     "metadata": {},
     "output_type": "execute_result"
    }
   ],
   "source": [
    "# Returns a NumPy Array\n",
    "# Predict for One Observation (image)\n",
    "clf.predict(X_test.iloc[0].values.reshape(1, -1))"
   ]
  },
  {
   "cell_type": "markdown",
   "metadata": {},
   "source": [
    "Predict for Multiple Observations (images) at Once"
   ]
  },
  {
   "cell_type": "code",
   "execution_count": 15,
   "metadata": {},
   "outputs": [
    {
     "data": {
      "text/plain": [
       "array([2, 1, 0, 2, 0, 2, 0, 1, 1, 1])"
      ]
     },
     "execution_count": 15,
     "metadata": {},
     "output_type": "execute_result"
    }
   ],
   "source": [
    "clf.predict(X_test[0:10])"
   ]
  },
  {
   "cell_type": "markdown",
   "metadata": {},
   "source": [
    "## Measuring Model Performance"
   ]
  },
  {
   "cell_type": "markdown",
   "metadata": {},
   "source": [
    "While there are other ways of measuring model performance (precision, recall, F1 Score, [ROC Curve](https://towardsdatascience.com/receiver-operating-characteristic-curves-demystified-in-python-bd531a4364d0), etc), we are going to keep this simple and use accuracy as our metric. \n",
    "To do this are going to see how the model performs on new data (test set)\n",
    "\n",
    "Accuracy is defined as:\n",
    "(fraction of correct predictions): correct predictions / total number of data points"
   ]
  },
  {
   "cell_type": "code",
   "execution_count": 16,
   "metadata": {},
   "outputs": [
    {
     "name": "stdout",
     "output_type": "stream",
     "text": [
      "0.8947368421052632\n"
     ]
    }
   ],
   "source": [
    "score = clf.score(X_test, Y_test)\n",
    "print(score)"
   ]
  },
  {
   "cell_type": "markdown",
   "metadata": {},
   "source": [
    "## Finding the Optimal `max_depth`"
   ]
  },
  {
   "cell_type": "code",
   "execution_count": 17,
   "metadata": {},
   "outputs": [],
   "source": [
    "# List of values to try for max_depth:\n",
    "max_depth_range = list(range(1, 6))\n",
    "\n",
    "# List to store the average RMSE for each value of max_depth:\n",
    "accuracy = []\n",
    "\n",
    "for depth in max_depth_range:\n",
    "    \n",
    "    clf = DecisionTreeClassifier(max_depth = depth, \n",
    "                             random_state = 0)\n",
    "    clf.fit(X_train, Y_train)\n",
    "\n",
    "    score = clf.score(X_test, Y_test)\n",
    "    accuracy.append(score)"
   ]
  },
  {
   "cell_type": "code",
   "execution_count": 18,
   "metadata": {},
   "outputs": [
    {
     "name": "stderr",
     "output_type": "stream",
     "text": [
      "<ipython-input-18-8e0fe2e82e7f>:37: UserWarning: FixedFormatter should only be used together with FixedLocator\n",
      "  ax.set_yticklabels(y_ticklist)\n"
     ]
    },
    {
     "data": {
      "image/png": "[encoded data removed]",
      "text/plain": [
       "<Figure size 720x504 with 1 Axes>"
      ]
     },
     "metadata": {
      "needs_background": "light"
     },
     "output_type": "display_data"
    }
   ],
   "source": [
    "fig, ax = plt.subplots(nrows = 1, ncols = 1, figsize = (10,7));\n",
    "\n",
    "marker_style = dict(color='tab:blue', linestyle=':', marker='o',\n",
    "                    markersize=15, markerfacecoloralt='tab:red')\n",
    "\n",
    "ax.plot(max_depth_range,\n",
    "        accuracy,\n",
    "        lw=2,\n",
    "        color='k',\n",
    "        zorder = 0)\n",
    "\n",
    "s = ax.scatter(max_depth_range[2],\n",
    "           accuracy[2],\n",
    "           color = 'r',\n",
    "           s = 200,\n",
    "           alpha = 1,\n",
    "           zorder = 10,\n",
    "           marker = 'o',)\n",
    "\n",
    "s.set_edgecolor( 'black' )\n",
    "\n",
    "\n",
    "\n",
    "ax.set_xlim([1, 5])\n",
    "ax.set_ylim([.50, 1.00])\n",
    "ax.grid(True,\n",
    "        axis = 'both',\n",
    "        zorder = 1,\n",
    "        linestyle = ':',\n",
    "        color = 'k')\n",
    "\n",
    "yticks = ax.get_yticks()\n",
    "\n",
    "y_ticklist = []\n",
    "for tick in yticks:\n",
    "    y_ticklist.append(str(tick).ljust(4, '0')[0:4])\n",
    "ax.set_yticklabels(y_ticklist)\n",
    "ax.tick_params(labelsize = 18)\n",
    "ax.set_xticks([1,2,3,4,5])\n",
    "ax.set_xlabel('max_depth', fontsize = 24)\n",
    "ax.set_ylabel('Accuracy', fontsize = 24)\n",
    "fig.tight_layout()\n",
    "fig.savefig('./images/max_depth_vs_entropy.png', dpi = 300)"
   ]
  },
  {
   "cell_type": "markdown",
   "metadata": {},
   "source": [
    "## Depth is Not Always Equal to Max_Depth"
   ]
  },
  {
   "cell_type": "code",
   "execution_count": 19,
   "metadata": {},
   "outputs": [],
   "source": [
    "from subprocess import call\n",
    "#call(['dot', '-Tpng', 'tree.dot', '-o', 'tree.png', '-Gdpi=600'])\n",
    "\n",
    "# List of values to try for max_depth:\n",
    "max_depth_range = list(range(1, 6))\n",
    "\n",
    "# List to store the average RMSE for each value of max_depth:\n",
    "\n",
    "accuracy = []\n",
    "depth_list = []\n",
    "for max_depth in max_depth_range:\n",
    "    \n",
    "    clf = DecisionTreeClassifier(max_depth = max_depth, \n",
    "                             random_state = 0)\n",
    "    clf.fit(X_train, Y_train)\n",
    "    score = clf.score(X_test, Y_test)\n",
    "    depth = clf.get_depth()\n",
    "    depth_list.append(depth)\n",
    "    accuracy.append(score)\n",
    "    \n",
    "    outputFileDot = \"./images/BadDepthExample\" + str(max_depth)+'_actual'+str(depth)+ \".dot\"\n",
    "    outputFilePng = \"./images/BadDepthExample\" + str(max_depth)+'_actual'+str(depth)+ \".png\"\n"
   ]
  },
  {
   "cell_type": "markdown",
   "metadata": {},
   "source": [
    "## Feature Importance\n",
    "\n",
    "Scikit-learn allows you to calculate feature importance which is the total amount that Gini index or Entropy decrease due to splits over a given feature"
   ]
  },
  {
   "cell_type": "code",
   "execution_count": 20,
   "metadata": {},
   "outputs": [],
   "source": [
    "clf = DecisionTreeClassifier(max_depth = 3, \n",
    "                         random_state = 0)\n",
    "clf.fit(X_train, Y_train)\n",
    "\n",
    "score = clf.score(X_test, Y_test)"
   ]
  },
  {
   "cell_type": "code",
   "execution_count": 21,
   "metadata": {},
   "outputs": [
    {
     "data": {
      "text/html": [
       "<div>\n",
       "<style scoped>\n",
       "    .dataframe tbody tr th:only-of-type {\n",
       "        vertical-align: middle;\n",
       "    }\n",
       "\n",
       "    .dataframe tbody tr th {\n",
       "        vertical-align: top;\n",
       "    }\n",
       "\n",
       "    .dataframe thead th {\n",
       "        text-align: right;\n",
       "    }\n",
       "</style>\n",
       "<table border=\"1\" class=\"dataframe\">\n",
       "  <thead>\n",
       "    <tr style=\"text-align: right;\">\n",
       "      <th></th>\n",
       "      <th>feature</th>\n",
       "      <th>importance</th>\n",
       "    </tr>\n",
       "  </thead>\n",
       "  <tbody>\n",
       "    <tr>\n",
       "      <th>3</th>\n",
       "      <td>petal width (cm)</td>\n",
       "      <td>0.578</td>\n",
       "    </tr>\n",
       "    <tr>\n",
       "      <th>2</th>\n",
       "      <td>petal length (cm)</td>\n",
       "      <td>0.422</td>\n",
       "    </tr>\n",
       "    <tr>\n",
       "      <th>0</th>\n",
       "      <td>sepal length (cm)</td>\n",
       "      <td>0.000</td>\n",
       "    </tr>\n",
       "    <tr>\n",
       "      <th>1</th>\n",
       "      <td>sepal width (cm)</td>\n",
       "      <td>0.000</td>\n",
       "    </tr>\n",
       "  </tbody>\n",
       "</table>\n",
       "</div>"
      ],
      "text/plain": [
       "             feature  importance\n",
       "3   petal width (cm)       0.578\n",
       "2  petal length (cm)       0.422\n",
       "0  sepal length (cm)       0.000\n",
       "1   sepal width (cm)       0.000"
      ]
     },
     "execution_count": 21,
     "metadata": {},
     "output_type": "execute_result"
    }
   ],
   "source": [
    "importances = pd.DataFrame({'feature':X_train.columns,'importance':np.round(clf.feature_importances_,3)})\n",
    "importances = importances.sort_values('importance',ascending=False)\n",
    "importances"
   ]
  },
  {
   "cell_type": "markdown",
   "metadata": {},
   "source": [
    "If a feature has a low feature importance value, it doesnt necessarily mean that the feature isnt important for prediction, it just means that the particular feature wasnt chosen at a particularly early level of the tree. Could be that the feature could be identical or highly correlated with another informative feature. Feature importance values dont tell you which class they are very predictive for or relationships between features which may influence prediction"
   ]
  },
  {
   "cell_type": "markdown",
   "metadata": {
    "collapsed": true
   },
   "source": [
    "## Decision Path\n",
    "Can also explore other features of decision trees"
   ]
  },
  {
   "cell_type": "code",
   "execution_count": 22,
   "metadata": {},
   "outputs": [
    {
     "name": "stdout",
     "output_type": "stream",
     "text": [
      "|--- petal width (cm) <= 0.80\n",
      "|   |--- class: 0\n",
      "|--- petal width (cm) >  0.80\n",
      "|   |--- petal length (cm) <= 4.95\n",
      "|   |   |--- petal width (cm) <= 1.65\n",
      "|   |   |   |--- class: 1\n",
      "|   |   |--- petal width (cm) >  1.65\n",
      "|   |   |   |--- class: 2\n",
      "|   |--- petal length (cm) >  4.95\n",
      "|   |   |--- petal length (cm) <= 5.05\n",
      "|   |   |   |--- class: 2\n",
      "|   |   |--- petal length (cm) >  5.05\n",
      "|   |   |   |--- class: 2\n",
      "\n"
     ]
    }
   ],
   "source": [
    "from sklearn.tree import export_text\n",
    "\n",
    "print(export_text(clf, feature_names=data.feature_names))"
   ]
  },
  {
   "cell_type": "markdown",
   "metadata": {},
   "source": [
    "## Visualizing Decision Tree \n",
    "Image Here\n",
    "If you are curious about how to visualize your decision tree, please see my tutorial. \n",
    "\n",
    "This is something I will cover in a future tutorial"
   ]
  }
 ],
 "metadata": {
  "anaconda-cloud": {},
  "kernelspec": {
   "display_name": "Python 3",
   "language": "python",
   "name": "python3"
  },
  "language_info": {
   "codemirror_mode": {
    "name": "ipython",
    "version": 3
   },
   "file_extension": ".py",
   "mimetype": "text/x-python",
   "name": "python",
   "nbconvert_exporter": "python",
   "pygments_lexer": "ipython3",
   "version": "3.8.8"
  }
 },
 "nbformat": 4,
 "nbformat_minor": 1
}
