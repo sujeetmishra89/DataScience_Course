{
 "cells": [
  {
   "cell_type": "markdown",
   "id": "5f4dba57",
   "metadata": {},
   "source": [
    "# What (is it?):\n",
    "\n",
    "- A decision tree is a flowchart that helps determine a course of action or show a statistical probability\n",
    "- A decision tree learns a sequence of if then questions with each question involving one feature and one split point.\n",
    "- Anatomy of decision trees (depth of a tree, root nodes, decision nodes, leaf nodes/terminal nodes)\n",
    "- Start at the root node, and traverse the tree until you reach a leaf (terminal) node.\n",
    "\n",
    "# Why (to use?):\n",
    "\n",
    "- Can be used for both regression and classification.\n",
    "- Easy to interpret, simple model.\n",
    "- The tree can be visualized and hence, for non-technical users, it is easier to explain model implementation\n",
    "- Don’t require feature scaling.\n",
    "- Don’t have to standardize data unlike PCA and logistic regression which are sensitive to effects of not standardizing data.\n",
    "- Allow you to calculate feature importance\n",
    "\n",
    "# When/Where (to use?):\n",
    "\n",
    "- For data exploration to understand the data relationship in a tree hierarchy structure.\n",
    "- When handling non-linear data sets effectively.\n",
    "- When entire dataset and features can be used\n",
    "- When we have limited computational power\n",
    "- When we are not worried about accuracy on future datasets.\n",
    "- When the data is more non-parametric in nature\n",
    "\n",
    "# How (to use?):\n",
    "\n",
    "- Popular algorithms are ID3, C4.5, C5.0, CART, CHAID, MARSplines.\n",
    "- Scikit-learn uses an optimized version of the CART algorithm.\n",
    "- https://www.kdnuggets.com/2020/01/decision-tree-algorithm-explained.html\n",
    "- https://towardsdatascience.com/understanding-decision-trees-for-classification-python-9663d683c952\n",
    "- https://towardsdatascience.com/decision-trees-for-classification-id3-algorithm-explained-89df76e72df1\n",
    "- https://towardsdatascience.com/clearly-explained-top-2-types-of-decision-trees-chaid-cart-8695e441e73e\n",
    "\n",
    "\n",
    "# Limitation:\n",
    "\n",
    "- Prone to overfitting"
   ]
  }
 ],
 "metadata": {
  "kernelspec": {
   "display_name": "Python 3",
   "language": "python",
   "name": "python3"
  },
  "language_info": {
   "codemirror_mode": {
    "name": "ipython",
    "version": 3
   },
   "file_extension": ".py",
   "mimetype": "text/x-python",
   "name": "python",
   "nbconvert_exporter": "python",
   "pygments_lexer": "ipython3",
   "version": "3.8.8"
  }
 },
 "nbformat": 4,
 "nbformat_minor": 5
}
