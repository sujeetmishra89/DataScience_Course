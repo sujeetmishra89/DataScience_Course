{
 "cells": [
  {
   "cell_type": "code",
   "execution_count": null,
   "metadata": {},
   "outputs": [],
   "source": [
    "import csv\n",
    "import statistics as st\n",
    "import math"
   ]
  },
  {
   "cell_type": "code",
   "execution_count": null,
   "metadata": {},
   "outputs": [],
   "source": [
    "def loadCsv(filename):\n",
    "    lines = csv.reader(open(filename, \"r\"));\n",
    "    dataset = list(lines)\n",
    "    for i in range(len(dataset)):\n",
    "        dataset[i] = [float(x) for x in dataset[i]]\n",
    "    return dataset"
   ]
  },
  {
   "cell_type": "code",
   "execution_count": null,
   "metadata": {},
   "outputs": [],
   "source": [
    "#The gaussian distribution\n",
    "def calprob(x, mean, stdev):\n",
    "    exponent = math.exp(-(math.pow(x-mean,2)/(2*math.pow(stdev,2))))\n",
    "    return (1 / (math.sqrt(2*math.pi) * stdev*stdev)) * exponent"
   ]
  },
  {
   "cell_type": "code",
   "execution_count": null,
   "metadata": {},
   "outputs": [],
   "source": [
    "dataset=loadCsv('pima-indians-diabetes.csv')\n",
    "size=0.5 #split ratio- the size of testing set\n",
    "train=[] #training set initialized as an empty list\n",
    "test=[]  #testing set initialized as an empty list"
   ]
  },
  {
   "cell_type": "code",
   "execution_count": null,
   "metadata": {},
   "outputs": [],
   "source": [
    "#splitting the dataset into training and testing\n",
    "for i in range(int(len(dataset)*size)): test.append(dataset[i])\n",
    "for i in range(int(len(dataset)*size+1),len(dataset)): train.append(dataset[i])\n",
    "print('The lenth of the training set',len(train))\n",
    "print('The length of the testing set',len(test))"
   ]
  },
  {
   "cell_type": "code",
   "execution_count": null,
   "metadata": {},
   "outputs": [],
   "source": [
    "classes=[]\n",
    "for i in dataset:\n",
    "    if(i[-1] not in classes):\n",
    "        classes.append(i[-1]) #list of all unique class values stored in the list named classes"
   ]
  },
  {
   "cell_type": "code",
   "execution_count": null,
   "metadata": {},
   "outputs": [],
   "source": [
    "classdict={} #dictionary that is intended to contain all the rows associated with each class value\n",
    "classdict1={} #dictionary that is intended to contain (mean,standard deviation) of every attribute associated with each class value\n",
    "classprob={} #dictionary that is intended to contain probabilites of the given sample falling into the class values"
   ]
  },
  {
   "cell_type": "code",
   "execution_count": null,
   "metadata": {},
   "outputs": [],
   "source": [
    "#initialization\n",
    "for i in classes:\n",
    "    classdict[i]=[]\n",
    "    classdict1[i]=[]\n",
    "    classprob[i]=1"
   ]
  },
  {
   "cell_type": "code",
   "execution_count": null,
   "metadata": {},
   "outputs": [],
   "source": [
    "#for each class value, all the rows having that class value are appended\n",
    "for i in classes:\n",
    "    for row in train:\n",
    "        if row[-1]==i:\n",
    "            classdict[i].append(row[:-1])"
   ]
  },
  {
   "cell_type": "code",
   "execution_count": null,
   "metadata": {},
   "outputs": [],
   "source": [
    "#for each class value, the tuple(mean, stdev) for each attribute is appended\n",
    "for classval,datt in classdict.items():\n",
    "    for col in zip(*datt):\n",
    "        classdict1[classval].append((st.mean(col),st.stdev(col)))"
   ]
  },
  {
   "cell_type": "code",
   "execution_count": null,
   "metadata": {},
   "outputs": [],
   "source": [
    "count=0 #counter to count the number of correctly classified instances\n",
    "#calculating class probabilites\n",
    "for row in test:\n",
    "    for i in classes:\n",
    "        classprob[i]=1\n",
    "    for classval,datt in classdict1.items():\n",
    "        for i in range(len(row[:-1])):\n",
    "            mean,std=datt[i]\n",
    "            x=row[i]\n",
    "            classprob[classval]*=calprob(x,mean,std) #refer gaussian naive bayes theory\n",
    "    print(classprob,\" for row \",row)\n",
    "    #calculating accuracy\n",
    "    mini=0\n",
    "    cl=0\n",
    "    for c,d in classprob.items():\n",
    "        if d>mini:\n",
    "            mini=d\n",
    "            cl=c\n",
    "\n",
    "    if row[-1]==cl:\n",
    "        count+=1"
   ]
  },
  {
   "cell_type": "code",
   "execution_count": null,
   "metadata": {},
   "outputs": [],
   "source": [
    "acc=count/len(test)\n",
    "print(\"Accuracy of classifier \",acc)"
   ]
  }
 ],
 "metadata": {
  "kernelspec": {
   "display_name": "Python 3",
   "language": "python",
   "name": "python3"
  },
  "language_info": {
   "codemirror_mode": {
    "name": "ipython",
    "version": 3
   },
   "file_extension": ".py",
   "mimetype": "text/x-python",
   "name": "python",
   "nbconvert_exporter": "python",
   "pygments_lexer": "ipython3",
   "version": "3.7.7"
  }
 },
 "nbformat": 4,
 "nbformat_minor": 4
}
