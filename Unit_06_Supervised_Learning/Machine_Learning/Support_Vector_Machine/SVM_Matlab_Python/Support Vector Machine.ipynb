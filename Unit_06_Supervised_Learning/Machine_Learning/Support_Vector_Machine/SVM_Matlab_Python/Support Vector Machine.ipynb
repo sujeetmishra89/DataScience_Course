{
 "metadata": {
  "language_info": {
   "codemirror_mode": {
    "name": "ipython",
    "version": 3
   },
   "file_extension": ".py",
   "mimetype": "text/x-python",
   "name": "python",
   "nbconvert_exporter": "python",
   "pygments_lexer": "ipython3",
   "version": "3.7.4-final"
  },
  "orig_nbformat": 2,
  "kernelspec": {
   "name": "python37464bit21185b14fb78409fbfa39465651b8601",
   "display_name": "Python 3.7.4 64-bit"
  }
 },
 "nbformat": 4,
 "nbformat_minor": 2,
 "cells": [
  {
   "cell_type": "code",
   "execution_count": 1,
   "metadata": {},
   "outputs": [],
   "source": [
    "%load_ext autoreload\n",
    "%autoreload 2"
   ]
  },
  {
   "cell_type": "markdown",
   "metadata": {},
   "source": [
    "# Import Libraries"
   ]
  },
  {
   "cell_type": "code",
   "execution_count": 2,
   "metadata": {},
   "outputs": [],
   "source": [
    "from pathlib import Path\n",
    "import numpy as np\n",
    "from scipy.io import loadmat\n",
    "from sklearn.metrics import confusion_matrix as conf_matrix\n",
    "\n",
    "from utils import parameter_search\n",
    "from SVM import SVM, linear_kernel, polynomial_kernel, gaussian_kernel, confusion_matrix"
   ]
  },
  {
   "cell_type": "code",
   "execution_count": 3,
   "metadata": {},
   "outputs": [],
   "source": [
    "BASE_DIR = Path.cwd()\n",
    "DATA_DIR = BASE_DIR / 'dataset'"
   ]
  },
  {
   "cell_type": "code",
   "execution_count": 4,
   "metadata": {},
   "outputs": [],
   "source": [
    "train = loadmat(DATA_DIR/ 'spamTrain.mat')\n",
    "test = loadmat(DATA_DIR/ 'spamTest.mat')"
   ]
  },
  {
   "cell_type": "code",
   "execution_count": 5,
   "metadata": {},
   "outputs": [],
   "source": [
    "X_train = np.double(train.get('X'))\n",
    "y_train = np.double(train.get('y'))\n",
    "X_test = np.double(test.get('Xtest'))\n",
    "y_test = np.double(test.get('ytest'))"
   ]
  },
  {
   "cell_type": "code",
   "execution_count": 6,
   "metadata": {},
   "outputs": [
    {
     "output_type": "execute_result",
     "data": {
      "text/plain": "(4000, 1899)"
     },
     "metadata": {},
     "execution_count": 6
    }
   ],
   "source": [
    "X_train.shape"
   ]
  },
  {
   "cell_type": "code",
   "execution_count": 7,
   "metadata": {},
   "outputs": [
    {
     "output_type": "execute_result",
     "data": {
      "text/plain": "SVM(kernel=linear_kernel, tol=0.001, C=0.1, max_passes=5, sigma=0.1)"
     },
     "metadata": {},
     "execution_count": 7
    }
   ],
   "source": [
    "model = SVM()\n",
    "model"
   ]
  },
  {
   "cell_type": "code",
   "execution_count": 8,
   "metadata": {
    "tags": []
   },
   "outputs": [
    {
     "output_type": "stream",
     "name": "stdout",
     "text": "Pre-computing linear_kernel matrix\nTraining...\nThis may take 1 to 2 minutes\n....................................................................................................................................................................................................................................................................\n DONE! \nWall time: 2min 10s\n"
    }
   ],
   "source": [
    "%%time\n",
    "model.svmTrain(X_train, y_train)"
   ]
  },
  {
   "cell_type": "code",
   "execution_count": 9,
   "metadata": {
    "tags": []
   },
   "outputs": [
    {
     "output_type": "stream",
     "name": "stdout",
     "text": "Accuracy -->  0.9985\nConfusion Matrix -->  [[2722, 1], [5, 1272]]\n"
    }
   ],
   "source": [
    "y_predicted = model.svmPredict(X_train)\n",
    "cm, acc, fm = confusion_matrix(y_train, y_predicted)\n",
    "print('Accuracy --> ', acc)\n",
    "print('Confusion Matrix --> ', cm)"
   ]
  },
  {
   "cell_type": "code",
   "execution_count": 10,
   "metadata": {},
   "outputs": [
    {
     "output_type": "execute_result",
     "data": {
      "text/plain": "array([[2722,    1],\n       [   5, 1272]], dtype=int64)"
     },
     "metadata": {},
     "execution_count": 10
    }
   ],
   "source": [
    "conf_matrix(y_train, y_predicted)"
   ]
  },
  {
   "cell_type": "code",
   "execution_count": 11,
   "metadata": {
    "tags": []
   },
   "outputs": [
    {
     "output_type": "stream",
     "name": "stdout",
     "text": "Accuracy -->  0.989\nConfusion Matrix -->  [[685, 7], [4, 304]]\n"
    }
   ],
   "source": [
    "y_predicted = model.svmPredict(X_test)\n",
    "cm, acc, fm = confusion_matrix(y_test, y_predicted)\n",
    "print('Accuracy --> ', acc)\n",
    "print('Confusion Matrix --> ', cm)"
   ]
  },
  {
   "cell_type": "code",
   "execution_count": 12,
   "metadata": {},
   "outputs": [
    {
     "output_type": "execute_result",
     "data": {
      "text/plain": "array([[685,   7],\n       [  4, 304]], dtype=int64)"
     },
     "metadata": {},
     "execution_count": 12
    }
   ],
   "source": [
    "conf_matrix(y_test, y_predicted)"
   ]
  },
  {
   "cell_type": "code",
   "execution_count": null,
   "metadata": {},
   "outputs": [],
   "source": []
  }
 ]
}