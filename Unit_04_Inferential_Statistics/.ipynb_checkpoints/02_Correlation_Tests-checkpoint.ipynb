{
 "cells": [
  {
   "cell_type": "markdown",
   "metadata": {},
   "source": [
    "# Correlation Tests\n",
    "\n",
    "Statistical tests that you can use to check if two samples are related. \n",
    "\n",
    "Variable Relationship Tests (correlation)\n",
    "\n",
    "1. Chi-Squared Test\n",
    "2. Pearson’s Correlation Coefficient\n",
    "3. Spearman’s Rank Correlation\n",
    "4. Kendall’s Rank Correlation\n",
    "\n",
    "## 1. Chi-Squared Test\n",
    "Tests whether two categorical variables are related or independent.\n",
    "Also known as \"Karl Pearson Test\""
   ]
  },
  {
   "cell_type": "code",
   "execution_count": 3,
   "metadata": {},
   "outputs": [],
   "source": [
    "'''\n",
    "#### Definition\n",
    "A test for independence between categorical variables, it tests for an association of significance between\n",
    "two categorical variables in a population sample. Typically used with random sampling.\n",
    "\n",
    "#### Statistical Understanding :\n",
    "The chi-square test of independence works by comparing\n",
    "the categorically coded data that you have collected (known as the observed frequencies) with\n",
    "the frequencies that you would expect to get in each cell of a table by chance alone (known as the expected frequencies).\n",
    "\n",
    "Null hypothesis (H0): The observed frequencies for a categorical variable match the expected frequencies for\n",
    "the categorical variable.\n",
    "\n",
    "Alternate hypothesis (H1): The observed frequencies for a categorical variable does not match the expected frequencies for\n",
    "the categorical variable.\n",
    "\n",
    "#### Contingency Table:\n",
    "A table summarization of two categorical variables.\n",
    "e.g.\n",
    "        Science,\tMath,\tArt\n",
    "Male         20,      30,    15\n",
    "Female       20,      15,    30\n",
    "\n",
    "## Assumptions\n",
    "Observations used in the calculation of the contingency table are independent.\n",
    "25 or more examples in each cell of the contingency table.\n",
    "\n",
    "## Interpretation\n",
    "H0: the two samples are independent.\n",
    "H1: there is a dependency between the samples.\n",
    "\n",
    "If Statistic >= Critical Value: significant result, reject null hypothesis (H0), dependent.\n",
    "If Statistic < Critical Value: not significant result, fail to reject null hypothesis (H0), independent.\\\n",
    "\n",
    "If p-value <= alpha: significant result, reject null hypothesis (H0), dependent.\n",
    "If p-value > alpha: not significant result, fail to reject null hypothesis (H0), independent.\n",
    "\n",
    "#### Application:\n",
    "While doing feature selection in applied machine learning, it determines whether input features are relevant to\n",
    "the outcome to be predicted.\n",
    "\n",
    "## Python Code\n",
    "# Example of the Chi-Squared Test\n",
    "'''\n",
    "from scipy.stats import chisquare, chi2_contingency, chi2\n",
    "\n",
    "# chisquare : Calculate a one-way chi-square test.\n",
    "# chi2_contingency : Chi-square test of independence of variables in a contingency table.\n",
    "# chi2 : A chi-squared continuous random variable."
   ]
  },
  {
   "cell_type": "code",
   "execution_count": 2,
   "metadata": {
    "scrolled": true
   },
   "outputs": [
    {
     "name": "stdout",
     "output_type": "stream",
     "text": [
      "Power_divergenceResult(statistic=2.0, pvalue=0.8491450360846096)\n"
     ]
    }
   ],
   "source": [
    "# When just `f_obs` is given, it is assumed that the expected frequencies are uniform and\n",
    "# given by the mean of the observed frequencies.\n",
    "\n",
    "print(chisquare([16, 18, 16, 14, 12, 12]))"
   ]
  },
  {
   "cell_type": "code",
   "execution_count": 3,
   "metadata": {},
   "outputs": [
    {
     "name": "stdout",
     "output_type": "stream",
     "text": [
      "Power_divergenceResult(statistic=3.5, pvalue=0.6233876277495822)\n"
     ]
    }
   ],
   "source": [
    "# With f_exp the expected frequencies can be given.\n",
    "\n",
    "print(chisquare([16, 18, 16, 14, 12, 12], f_exp=[16, 16, 16, 16, 16, 8]))"
   ]
  },
  {
   "cell_type": "code",
   "execution_count": 4,
   "metadata": {},
   "outputs": [
    {
     "name": "stdout",
     "output_type": "stream",
     "text": [
      "Power_divergenceResult(statistic=array([2.        , 6.66666667]), pvalue=array([0.84914504, 0.24663415]))\n",
      "Power_divergenceResult(statistic=23.31034482758621, pvalue=0.015975692534127565)\n",
      "Power_divergenceResult(statistic=23.310344827586206, pvalue=0.01597569253412758)\n"
     ]
    }
   ],
   "source": [
    "# When f_obs is 2-D, by default the test is applied to each column.\n",
    "import numpy as np\n",
    "\n",
    "obs = np.array([[16, 18, 16, 14, 12, 12], [32, 24, 16, 28, 20, 24]]).T\n",
    "print(chisquare(obs))\n",
    "\n",
    "# By setting axis=None, the test is applied to all data in the array,\n",
    "# which is equivalent to applying the test to the flattened array.\n",
    "\n",
    "print(chisquare(obs, axis=None))\n",
    "print(chisquare(obs.ravel()))"
   ]
  },
  {
   "cell_type": "code",
   "execution_count": 5,
   "metadata": {},
   "outputs": [
    {
     "name": "stdout",
     "output_type": "stream",
     "text": [
      "Power_divergenceResult(statistic=2.0, pvalue=0.7357588823428847)\n"
     ]
    }
   ],
   "source": [
    "# ddof is the change to make to the default degrees of freedom.\n",
    "\n",
    "print(chisquare([16, 18, 16, 14, 12, 12], ddof=1))"
   ]
  },
  {
   "cell_type": "code",
   "execution_count": 6,
   "metadata": {},
   "outputs": [
    {
     "name": "stdout",
     "output_type": "stream",
     "text": [
      "Power_divergenceResult(statistic=2.0, pvalue=array([0.84914504, 0.73575888, 0.5724067 ]))\n"
     ]
    }
   ],
   "source": [
    "# The calculation of the p-values is done by broadcasting the chi-squared statistic with ddof.\n",
    "\n",
    "print(chisquare([16, 18, 16, 14, 12, 12], ddof=[0,1,2]))"
   ]
  },
  {
   "cell_type": "code",
   "execution_count": 7,
   "metadata": {},
   "outputs": [
    {
     "name": "stdout",
     "output_type": "stream",
     "text": [
      "Power_divergenceResult(statistic=array([3.5 , 9.25]), pvalue=array([0.62338763, 0.09949846]))\n"
     ]
    }
   ],
   "source": [
    "# f_obs and f_exp are also broadcast. In the following, f_obs has shape (6,) and f_exp has shape (2, 6),\n",
    "# so the result of broadcasting f_obs and f_exp has shape (2, 6). To compute the desired chi-squared statistics,\n",
    "# we use axis=1:\n",
    "\n",
    "print(chisquare([16, 18, 16, 14, 12, 12], f_exp=[[16, 16, 16, 16, 16, 8], [8, 20, 20, 16, 12, 12]], axis=1))"
   ]
  },
  {
   "cell_type": "markdown",
   "metadata": {},
   "source": [
    "# chi-squared test with similar proportions"
   ]
  },
  {
   "cell_type": "code",
   "execution_count": 7,
   "metadata": {},
   "outputs": [],
   "source": [
    "# contingency table\n",
    "table = [[10, 20, 30],\n",
    "         [6,  9,  17]]"
   ]
  },
  {
   "cell_type": "code",
   "execution_count": 8,
   "metadata": {},
   "outputs": [
    {
     "name": "stdout",
     "output_type": "stream",
     "text": [
      "stat=0.272, p=0.873\n",
      "dof=2\n",
      "[[10.43478261 18.91304348 30.65217391]\n",
      " [ 5.56521739 10.08695652 16.34782609]]\n"
     ]
    }
   ],
   "source": [
    "stat, p, dof, expected = chi2_contingency(table)\n",
    "\n",
    "# degrees of freedom: (rows - 1) * (cols - 1) = (2-1)*(3-1) = 1*2 = 2\n",
    "print('stat=%.3f, p=%.3f' % (stat, p))\n",
    "print('dof=%d' % dof)\n",
    "print(expected)"
   ]
  },
  {
   "cell_type": "code",
   "execution_count": 9,
   "metadata": {},
   "outputs": [
    {
     "name": "stdout",
     "output_type": "stream",
     "text": [
      "probability=0.950, critical=5.991, stat=0.272\n",
      "Independent (fail to reject H0)\n"
     ]
    }
   ],
   "source": [
    "# interpret test-statistic\n",
    "prob = 0.95\n",
    "\n",
    "critical = chi2.ppf(prob, dof)\n",
    "\n",
    "print('probability=%.3f, critical=%.3f, stat=%.3f' % (prob, critical, stat))\n",
    "\n",
    "if abs(stat) >= critical:\n",
    "    print('Dependent (reject H0)')\n",
    "else:\n",
    "    print('Independent (fail to reject H0)')"
   ]
  },
  {
   "cell_type": "code",
   "execution_count": 11,
   "metadata": {},
   "outputs": [
    {
     "name": "stdout",
     "output_type": "stream",
     "text": [
      "significance=0.050, p=0.873\n",
      "Independent (fail to reject H0)\n"
     ]
    }
   ],
   "source": [
    "# interpret p-value\n",
    "alpha = 1.0 - prob\n",
    "\n",
    "print('significance=%.3f, p=%.3f' % (alpha, p))\n",
    "\n",
    "if p <= alpha:\n",
    "    print('Dependent (reject H0)')\n",
    "else:\n",
    "    print('Independent (fail to reject H0)')"
   ]
  },
  {
   "cell_type": "markdown",
   "metadata": {},
   "source": [
    "## 2. Pearson’s Correlation Coefficient\n",
    "Tests whether two samples have a linear relationship."
   ]
  },
  {
   "cell_type": "code",
   "execution_count": 24,
   "metadata": {},
   "outputs": [
    {
     "name": "stdout",
     "output_type": "stream",
     "text": [
      "stat=0.688, p=0.028\n",
      "Probably dependent\n"
     ]
    }
   ],
   "source": [
    "'''\n",
    "## Assumptions\n",
    "Observations in each sample are independent and identically distributed (iid).\n",
    "Observations in each sample are normally distributed.\n",
    "Observations in each sample have the same variance.\n",
    "\n",
    "## Interpretation\n",
    "H0: the two samples are independent.\n",
    "H1: there is a dependency between the samples.\n",
    "\n",
    "## Python Code\n",
    "# Example of the Pearson's Correlation test\n",
    "'''\n",
    "from scipy.stats import pearsonr\n",
    "\n",
    "data1 = [0.873, 2.817, 0.121, -0.945, -0.055, -1.436, 0.360, -1.478, -1.637, -1.869]\n",
    "data2 = [0.353, 3.517, 0.125, -7.545, -0.555, -1.536, 3.350, -1.578, -3.537, -1.579]\n",
    "\n",
    "stat, p = pearsonr(data1, data2)\n",
    "print('stat=%.3f, p=%.3f' % (stat, p))\n",
    "\n",
    "if p > 0.05:\n",
    "    print('Probably independent')\n",
    "else:\n",
    "    print('Probably dependent')"
   ]
  },
  {
   "cell_type": "markdown",
   "metadata": {},
   "source": [
    "## 3. Spearman’s Rank Correlation\n",
    "Tests whether two samples have a monotonic relationship."
   ]
  },
  {
   "cell_type": "code",
   "execution_count": 23,
   "metadata": {},
   "outputs": [
    {
     "name": "stdout",
     "output_type": "stream",
     "text": [
      "stat=0.855, p=0.002\n",
      "Probably dependent\n"
     ]
    }
   ],
   "source": [
    "'''\n",
    "## Assumptions\n",
    "Observations in each sample are independent and identically distributed (iid).\n",
    "Observations in each sample can be ranked.\n",
    "\n",
    "## Interpretation\n",
    "H0: the two samples are independent.\n",
    "H1: there is a dependency between the samples.\n",
    "\n",
    "## Python Code\n",
    "# Example of the Spearman's Rank Correlation Test\n",
    "'''\n",
    "from scipy.stats import spearmanr\n",
    "\n",
    "data1 = [0.873, 2.817, 0.121, -0.945, -0.055, -1.436, 0.360, -1.478, -1.637, -1.869]\n",
    "data2 = [0.353, 3.517, 0.125, -7.545, -0.555, -1.536, 3.350, -1.578, -3.537, -1.579]\n",
    "\n",
    "stat, p = spearmanr(data1, data2)\n",
    "print('stat=%.3f, p=%.3f' % (stat, p))\n",
    "\n",
    "if p > 0.05:\n",
    "    print('Probably independent')\n",
    "else:\n",
    "    print('Probably dependent')"
   ]
  },
  {
   "cell_type": "markdown",
   "metadata": {},
   "source": [
    "## 4. Kendall’s Rank Correlation\n",
    "Tests whether two samples have a monotonic relationship."
   ]
  },
  {
   "cell_type": "code",
   "execution_count": null,
   "metadata": {},
   "outputs": [],
   "source": [
    "'''\n",
    "## Assumptions\n",
    "Observations in each sample are independent and identically distributed (iid).\n",
    "Observations in each sample can be ranked.\n",
    "\n",
    "## Interpretation\n",
    "H0: the two samples are independent.\n",
    "H1: there is a dependency between the samples.\n",
    "\n",
    "## Python Code\n",
    "# Example of the Kendall's Rank Correlation Test\n",
    "'''\n",
    "from scipy.stats import kendalltau\n",
    "\n",
    "data1 = [0.873, 2.817, 0.121, -0.945, -0.055, -1.436, 0.360, -1.478, -1.637, -1.869]\n",
    "data2 = [0.353, 3.517, 0.125, -7.545, -0.555, -1.536, 3.350, -1.578, -3.537, -1.579]\n",
    "\n",
    "stat, p = kendalltau(data1, data2)\n",
    "print('stat=%.3f, p=%.3f' % (stat, p))\n",
    "\n",
    "if p > 0.05:\n",
    "    print('Probably independent')\n",
    "else:\n",
    "    print('Probably dependent')"
   ]
  },
  {
   "cell_type": "markdown",
   "metadata": {},
   "source": [
    "# Correlation Analysis\n",
    "\n",
    "Correlation is the statistical summary of the relationship between two variables.\n",
    "\n",
    "1. Covariance\n",
    "2. Pearson’s Correlation\n",
    "3. Spearman’s Correlation"
   ]
  },
  {
   "cell_type": "code",
   "execution_count": 17,
   "metadata": {},
   "outputs": [
    {
     "name": "stdout",
     "output_type": "stream",
     "text": [
      "data1: mean=100.776 stdv=19.620\n",
      "data2: mean=151.050 stdv=22.358\n"
     ]
    },
    {
     "data": {
      "image/png": "[encoded data removed]",
      "text/plain": [
       "<Figure size 432x288 with 1 Axes>"
      ]
     },
     "metadata": {
      "needs_background": "light"
     },
     "output_type": "display_data"
    }
   ],
   "source": [
    "'''\n",
    "Positive Correlation: both variables change in the same direction.\n",
    "Neutral Correlation: No relationship in the change of the variables.\n",
    "Negative Correlation: variables change in opposite directions.\n",
    "\n",
    "The performance of some algorithms can deteriorate if two or more variables are tightly related, called multicollinearity.\n",
    "'''\n",
    "\n",
    "# generate related variables\n",
    "import numpy as np\n",
    "import matplotlib.pyplot as plt\n",
    "\n",
    "# seed random number generator\n",
    "np.random.seed(1)\n",
    "\n",
    "# prepare data\n",
    "data1 = 20 * np.random.randn(1000) + 100\n",
    "data2 = data1 + (10 * np.random.randn(1000) + 50)\n",
    "\n",
    "# summarize\n",
    "print('data1: mean=%.3f stdv=%.3f' % (np.mean(data1), np.std(data1)))\n",
    "print('data2: mean=%.3f stdv=%.3f' % (np.mean(data2), np.std(data2)))\n",
    "\n",
    "# plot\n",
    "plt.scatter(data1, data2)\n",
    "plt.show()"
   ]
  },
  {
   "cell_type": "markdown",
   "metadata": {},
   "source": [
    "## 1. Covariance\n",
    "\n",
    "Variables can be related by a linear relationship that is consistently additive across the two data samples."
   ]
  },
  {
   "cell_type": "code",
   "execution_count": 13,
   "metadata": {},
   "outputs": [
    {
     "name": "stdout",
     "output_type": "stream",
     "text": [
      "[[385.33297729 389.7545618 ]\n",
      " [389.7545618  500.38006058]]\n"
     ]
    }
   ],
   "source": [
    "'''\n",
    "This relationship can be summarized between two variables, called the covariance.\n",
    "It is calculated as the average of the product between the values from each sample,\n",
    "where the values haven been centered (had their mean subtracted).\n",
    "\n",
    "cov(X, Y) = (sum (x - mean(X)) * (y - mean(Y)) ) * 1/(n-1)\n",
    "\n",
    "The sign of the covariance can be interpreted as whether the two variables change in the same direction (positive)\n",
    "or change in different directions (negative).\n",
    "\n",
    "The magnitude of the covariance is not easily interpreted.\n",
    "\n",
    "A covariance value of zero indicates that both variables are completely independent.\n",
    "\n",
    "The covariance and covariance matrix are used widely within statistics and multivariate analysis to characterize\n",
    "the relationships between two or more variables.\n",
    "\n",
    "## calculate covariance matrix\n",
    "'''\n",
    "covariance = np.cov(data1, data2)\n",
    "print(covariance)"
   ]
  },
  {
   "cell_type": "markdown",
   "metadata": {},
   "source": [
    "## 2. Pearson’s Correlation Coefficient\n",
    "\n",
    "Used to summarize the strength of the linear relationship between two data samples, named for Karl Pearson."
   ]
  },
  {
   "cell_type": "code",
   "execution_count": 15,
   "metadata": {},
   "outputs": [
    {
     "name": "stdout",
     "output_type": "stream",
     "text": [
      "Pearsons correlation: 0.888\n"
     ]
    }
   ],
   "source": [
    "'''\n",
    "The Pearson’s correlation coefficient is calculated as the covariance of the two variables divided by\n",
    "the product of the standard deviation of each data sample.\n",
    "\n",
    "It is the normalization of the covariance between the two variables to give an interpretable score.\n",
    "\n",
    "Pearson's correlation coefficient = covariance(X, Y) / (stdv(X) * stdv(Y))\n",
    "\n",
    "The coefficient returns a value between -1 and 1 that represents\n",
    "the limits of correlation from a full negative correlation to a full positive correlation.\n",
    "\n",
    "A value of 0 means no correlation.\n",
    "\n",
    "The value must be interpreted, where often a value below -0.5 or above 0.5 indicates a notable correlation,\n",
    "and values below those values suggests a less notable correlation.\n",
    "\n",
    "# calculate Pearson's correlation\n",
    "'''\n",
    "from scipy.stats import pearsonr\n",
    "\n",
    "corr, _ = pearsonr(data1, data2)\n",
    "print('Pearsons correlation: %.3f' % corr)"
   ]
  },
  {
   "cell_type": "markdown",
   "metadata": {},
   "source": [
    "## 3. Spearman’s Correlation Coefficient\n",
    "\n",
    "Two variables may be related by a nonlinear relationship, such that the relationship is stronger or weaker across the distribution of the variables, named for Charles Spearman."
   ]
  },
  {
   "cell_type": "code",
   "execution_count": 16,
   "metadata": {},
   "outputs": [
    {
     "name": "stdout",
     "output_type": "stream",
     "text": [
      "Spearmans correlation: 0.872\n"
     ]
    }
   ],
   "source": [
    "'''\n",
    "Further, the two variables being considered may have a non-Gaussian distribution.\n",
    "\n",
    "In this case, the Spearman’s correlation coefficient can be used to summarize the strength between the two data samples.\n",
    "This test of relationship can also be used if there is a linear relationship between the variables,\n",
    "but will have slightly less power (e.g. may result in lower coefficient scores).\n",
    "\n",
    "As with the Pearson correlation coefficient, the scores are between -1 and 1 for\n",
    "perfectly negatively correlated variables and perfectly positively correlated respectively.\n",
    "\n",
    "Instead of calculating the coefficient using covariance and standard deviations on the samples themselves,\n",
    "these statistics are calculated from the relative rank of values on each sample.\n",
    "This is a common approach used in non-parametric statistics,\n",
    "e.g. statistical methods where we do not assume a distribution of the data such as Gaussian.\n",
    "\n",
    "Spearman's correlation coefficient = covariance(rank(X), rank(Y)) / (stdv(rank(X)) * stdv(rank(Y)))\n",
    "\n",
    "If you are unsure of the distribution and possible relationships between two variables,\n",
    "Spearman correlation coefficient is a good tool to use.\n",
    "\n",
    "# calculate spearman's correlation\n",
    "'''\n",
    "from scipy.stats import spearmanr\n",
    "\n",
    "corr, _ = spearmanr(data1, data2)\n",
    "print('Spearmans correlation: %.3f' % corr)"
   ]
  },
  {
   "cell_type": "markdown",
   "metadata": {},
   "source": [
    "# Nonparametric Rank Correlation\n",
    "\n",
    "1. Spearman’s Rank Correlation.\n",
    "2. Kendall’s Rank Correlation.\n",
    "3. Goodman and Kruskal’s Rank Correlation.\n",
    "4. Somers’ Rank Correlation."
   ]
  },
  {
   "cell_type": "code",
   "execution_count": 18,
   "metadata": {},
   "outputs": [
    {
     "data": {
      "image/png": "[encoded data removed]",
      "text/plain": [
       "<Figure size 432x288 with 1 Axes>"
      ]
     },
     "metadata": {
      "needs_background": "light"
     },
     "output_type": "display_data"
    }
   ],
   "source": [
    "'''\n",
    "Rank correlation refers to methods that quantify the association between variables using the ordinal relationship between\n",
    "the values rather than the specific values.\n",
    "\n",
    "Ordinal data is data that has label values and has an order or rank relationship; for example: ‘low‘, ‘medium‘, and ‘high‘.\n",
    "\n",
    "Because no distribution for the values is assumed, rank correlation methods are referred to as\n",
    "distribution-free correlation or nonparametric correlation.\n",
    "'''\n",
    "# generate related variables\n",
    "import numpy as np\n",
    "import matplotlib.pyplot as plt\n",
    "\n",
    "# seed random number generator\n",
    "np.random.seed(1)\n",
    "\n",
    "# prepare data\n",
    "data1 = np.random.rand(1000) * 20\n",
    "data2 = data1 + (np.random.rand(1000) * 10)\n",
    "\n",
    "# plot\n",
    "plt.scatter(data1, data2)\n",
    "plt.show()"
   ]
  },
  {
   "cell_type": "markdown",
   "metadata": {},
   "source": [
    "## 1. Spearman’s Rank Correlation\n",
    "\n",
    "It may also be called Spearman’s correlation coefficient and is denoted by the lowercase greek letter rho (p).\n",
    "As such, it may be referred to as Spearman’s rho, named for Charles Spearman."
   ]
  },
  {
   "cell_type": "code",
   "execution_count": 19,
   "metadata": {},
   "outputs": [
    {
     "name": "stdout",
     "output_type": "stream",
     "text": [
      "Spearmans correlation coefficient: 0.900\n",
      "Samples are correlated (reject H0) p=0.000\n"
     ]
    }
   ],
   "source": [
    "'''\n",
    "This statistical method quantifies the degree to which ranked variables are associated by a monotonic function,\n",
    "meaning an increasing or decreasing relationship.\n",
    "As a statistical hypothesis test, the method assumes that the samples are uncorrelated (fail to reject H0).\n",
    "\n",
    "The Spearman rank-order correlation is a statistical procedure that is designed to measure the relationship between\n",
    "two variables on an ordinal scale of measurement.\n",
    "\n",
    "The intuition for the Spearman’s rank correlation is that it calculates a Pearson’s correlation\n",
    "(e.g. a parametric measure of correlation) using the rank values instead of the real values.\n",
    "Where the Pearson’s correlation is the calculation of the covariance (or expected difference of observations from the mean)\n",
    "between the two variables normalized by the variance or spread of both variables.\n",
    "\n",
    "The function takes two real-valued samples as arguments and returns both the correlation coefficient\n",
    "in the range between -1 and 1 and the p-value for interpreting the significance of the coefficient.\n",
    "\n",
    "# calculate the spearman's correlation between two variables\n",
    "'''\n",
    "from scipy.stats import spearmanr\n",
    "\n",
    "coef, p = spearmanr(data1, data2)\n",
    "print('Spearmans correlation coefficient: %.3f' % coef)\n",
    "\n",
    "# interpret the significance\n",
    "alpha = 0.05\n",
    "if p > alpha:\n",
    "    print('Samples are uncorrelated (fail to reject H0) p=%.3f' % p)\n",
    "else:\n",
    "    print('Samples are correlated (reject H0) p=%.3f' % p)"
   ]
  },
  {
   "cell_type": "markdown",
   "metadata": {},
   "source": [
    "## 2. Kendall’s Rank Correlation\n",
    "\n",
    "It is also called Kendall’s correlation coefficient, and the coefficient is often referred to by the lowercase Greek letter tau (t).\n",
    "In turn, the test may be called Kendall’s tau, named for Maurice Kendall."
   ]
  },
  {
   "cell_type": "code",
   "execution_count": 20,
   "metadata": {},
   "outputs": [
    {
     "name": "stdout",
     "output_type": "stream",
     "text": [
      "Kendall correlation coefficient: 0.709\n",
      "Samples are correlated (reject H0) p=0.000\n"
     ]
    }
   ],
   "source": [
    "'''\n",
    "The intuition for the test is that it calculates a normalized score for the number of matching or\n",
    "concordant rankings between the two samples. As such, the test is also referred to as Kendall’s concordance test.\n",
    "\n",
    "# calculate the kendall's correlation between two variables\n",
    "'''\n",
    "from scipy.stats import kendalltau\n",
    "\n",
    "coef, p = kendalltau(data1, data2)\n",
    "print('Kendall correlation coefficient: %.3f' % coef)\n",
    "\n",
    "# interpret the significance\n",
    "alpha = 0.05\n",
    "if p > alpha:\n",
    "    print('Samples are uncorrelated (fail to reject H0) p=%.3f' % p)\n",
    "else:\n",
    "    print('Samples are correlated (reject H0) p=%.3f' % p)"
   ]
  },
  {
   "cell_type": "markdown",
   "metadata": {},
   "source": [
    "## 3. Goodman and Kruskal’s Rank Correlation\n",
    "\n",
    "Goodman and Kruskal's gamma is a measure of rank correlation, i.e., the similarity of the orderings of the data when ranked by each of the quantities, named after Leo Goodman and William Kruskal."
   ]
  },
  {
   "cell_type": "code",
   "execution_count": 22,
   "metadata": {},
   "outputs": [
    {
     "data": {
      "text/plain": [
       "'\\nIt measures the strength of association of the cross tabulated data when both variables are measured at the ordinal level.\\nIt makes no adjustment for either table size or ties.\\n\\nValues range from −1 (100% negative association, or perfect inversion) to +1 (100% positive association, or perfect agreement).\\n\\nA value of zero indicates the absence of association.\\n'"
      ]
     },
     "execution_count": 22,
     "metadata": {},
     "output_type": "execute_result"
    }
   ],
   "source": [
    "'''\n",
    "It measures the strength of association of the cross tabulated data when both variables are measured at the ordinal level.\n",
    "It makes no adjustment for either table size or ties.\n",
    "\n",
    "Values range from −1 (100% negative association, or perfect inversion) to +1 (100% positive association, or perfect agreement).\n",
    "\n",
    "A value of zero indicates the absence of association.\n",
    "'''"
   ]
  },
  {
   "cell_type": "markdown",
   "metadata": {},
   "source": [
    "## 4. Somers’ D Rank Correlation\n",
    "\n",
    "Somers’ D, is a measure of ordinal association between two possibly dependent random variables X and Y, named after Robert H. Somers."
   ]
  },
  {
   "cell_type": "code",
   "execution_count": 21,
   "metadata": {},
   "outputs": [
    {
     "data": {
      "text/plain": [
       "'\\nSomers’ D takes values between -1 when all pairs of the variables disagree and 1 when all pairs of the variables agree\\n\\nSomers’ D plays a central role in rank statistics and is the parameter behind many nonparametric methods.\\n\\nIt is also used as a quality measure of binary choice or ordinal regression (e.g., logistic regressions) and\\ncredit scoring models.\\n'"
      ]
     },
     "execution_count": 21,
     "metadata": {},
     "output_type": "execute_result"
    }
   ],
   "source": [
    "'''\n",
    "Somers’ D takes values between -1 when all pairs of the variables disagree and 1 when all pairs of the variables agree\n",
    "\n",
    "Somers’ D plays a central role in rank statistics and is the parameter behind many nonparametric methods.\n",
    "\n",
    "It is also used as a quality measure of binary choice or ordinal regression (e.g., logistic regressions) and\n",
    "credit scoring models.\n",
    "'''"
   ]
  }
 ],
 "metadata": {
  "kernelspec": {
   "display_name": "Python 3",
   "language": "python",
   "name": "python3"
  },
  "language_info": {
   "codemirror_mode": {
    "name": "ipython",
    "version": 3
   },
   "file_extension": ".py",
   "mimetype": "text/x-python",
   "name": "python",
   "nbconvert_exporter": "python",
   "pygments_lexer": "ipython3",
   "version": "3.8.5"
  }
 },
 "nbformat": 4,
 "nbformat_minor": 4
}
