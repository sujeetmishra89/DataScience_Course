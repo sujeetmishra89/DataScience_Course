{
 "cells": [
  {
   "cell_type": "markdown",
   "id": "southeast-bibliography",
   "metadata": {},
   "source": [
    "# Normality Test :\n",
    "\n",
    "There are a range of techniques that we can use to check if the data sample deviates from a Gaussian distribution, called normality tests.\n",
    "\n",
    "tests for normal distribution in a population sample."
   ]
  },
  {
   "cell_type": "raw",
   "id": "southwest-nigeria",
   "metadata": {},
   "source": [
    "Graphical Methods : These are methods for plotting the data and qualitatively evaluating whether the data looks Gaussian.\n",
    "\n",
    "Statistical Tests : These are methods that calculate statistics on the data and quantify how likely it is that the data was drawn from a Gaussian distribution.\n",
    "\n",
    "Variable Distribution Type Tests (Gaussian)\n",
    "\n",
    "1. Shapiro-Wilk Test\n",
    "2. D’Agostino’s K^2 Test\n",
    "3. Anderson-Darling Test\n",
    "4. Kolmogorov-Smirnov test\n",
    "\n",
    "If Data Is Gaussian:\n",
    "    Use Parametric Statistical Methods\n",
    "Else:\n",
    "\tUse Nonparametric Statistical Methods"
   ]
  },
  {
   "cell_type": "code",
   "execution_count": 26,
   "id": "aging-seeking",
   "metadata": {},
   "outputs": [],
   "source": [
    "import numpy as np\n",
    "\n",
    "# seed the random number generator\n",
    "np.random.seed(1)\n",
    "\n",
    "# generate gaussian data\n",
    "# generate univariate observations\n",
    "data = 5 * np.random.randn(100) + 50"
   ]
  },
  {
   "cell_type": "code",
   "execution_count": 27,
   "id": "based-first",
   "metadata": {},
   "outputs": [
    {
     "data": {
      "text/plain": [
       "100"
      ]
     },
     "execution_count": 27,
     "metadata": {},
     "output_type": "execute_result"
    }
   ],
   "source": [
    "len(data)"
   ]
  },
  {
   "cell_type": "code",
   "execution_count": 28,
   "id": "smart-ideal",
   "metadata": {},
   "outputs": [
    {
     "name": "stdout",
     "output_type": "stream",
     "text": [
      "mean=50.628 stdv=5.213\n"
     ]
    }
   ],
   "source": [
    "# summarize\n",
    "print('mean=%.3f stdv=%.3f' % (np.mean(data), np.std(data)))"
   ]
  },
  {
   "cell_type": "code",
   "execution_count": 7,
   "id": "about-wheel",
   "metadata": {},
   "outputs": [
    {
     "data": {
      "image/png": "[encoded data removed]",
      "text/plain": [
       "<Figure size 432x288 with 1 Axes>"
      ]
     },
     "metadata": {
      "needs_background": "light"
     },
     "output_type": "display_data"
    }
   ],
   "source": [
    "# histogram plot\n",
    "import matplotlib.pyplot as plt\n",
    "\n",
    "plt.hist(data)\n",
    "plt.show()"
   ]
  },
  {
   "cell_type": "code",
   "execution_count": 9,
   "id": "lovely-advertising",
   "metadata": {},
   "outputs": [
    {
     "data": {
      "image/png": "[encoded data removed]",
      "text/plain": [
       "<Figure size 432x288 with 1 Axes>"
      ]
     },
     "metadata": {
      "needs_background": "light"
     },
     "output_type": "display_data"
    }
   ],
   "source": [
    "from statsmodels.graphics.gofplots import qqplot\n",
    "\n",
    "# Quantile-Quantile Plot\n",
    "qqplot(data, line='s')\n",
    "plt.show()"
   ]
  },
  {
   "cell_type": "markdown",
   "id": "athletic-praise",
   "metadata": {},
   "source": [
    "## 1. Shapiro-Wilk Test\n",
    "Tests whether a data sample has a Gaussian distribution."
   ]
  },
  {
   "cell_type": "code",
   "execution_count": 11,
   "id": "desirable-brief",
   "metadata": {},
   "outputs": [
    {
     "name": "stdout",
     "output_type": "stream",
     "text": [
      "stat=0.989, p=0.572\n",
      "Sample looks Gaussian (fail to reject H0)\n"
     ]
    }
   ],
   "source": [
    "'''\n",
    "## Assumptions\n",
    "Observations in each sample are independent and identically distributed (iid).\n",
    "\n",
    "## Interpretation\n",
    "H0: the sample has a Gaussian distribution.\n",
    "H1: the sample does not have a Gaussian distribution.\n",
    "\n",
    "## Python Code\n",
    "# Example of the Shapiro-Wilk Normality Test\n",
    "'''\n",
    "from scipy.stats import shapiro\n",
    "\n",
    "# data = [0.873, 2.817, 0.121, -0.945, -0.055, -1.436, 0.360, -1.478, -1.637, -1.869]\n",
    "\n",
    "stat, p = shapiro(data)\n",
    "print('stat=%.3f, p=%.3f' % (stat, p))\n",
    "\n",
    "# interpret\n",
    "if p > 0.05:\n",
    "    print('Sample looks Gaussian (fail to reject H0)')\n",
    "else:\n",
    "    print('Sample does not look Gaussian (reject H0)')"
   ]
  },
  {
   "cell_type": "markdown",
   "id": "alert-racing",
   "metadata": {},
   "source": [
    "## 2. D’Agostino’s K^2 Test\n",
    "Tests whether a data sample has a Gaussian distribution.\n",
    "\n",
    "The D’Agostino’s K^2 test calculates summary statistics from the data, namely kurtosis and skewness, to determine if the data distribution departs from the normal distribution, named for Ralph D’Agostino.\n",
    "\n",
    "Skew : a quantification of how much a distribution is pushed left or right, a measure of asymmetry in the distribution.\n",
    "\n",
    "Kurtosis : quantifies how much of the distribution is in the tail. It is a simple and commonly used statistical test for normality."
   ]
  },
  {
   "cell_type": "code",
   "execution_count": 2,
   "id": "constitutional-stationery",
   "metadata": {},
   "outputs": [
    {
     "name": "stdout",
     "output_type": "stream",
     "text": [
      "stat=3.392, p=0.183\n",
      "Probably Gaussian\n"
     ]
    },
    {
     "name": "stderr",
     "output_type": "stream",
     "text": [
      "C:\\Users\\PR269KB\\Anaconda3\\lib\\site-packages\\scipy\\stats\\stats.py:1603: UserWarning: kurtosistest only valid for n>=20 ... continuing anyway, n=10\n",
      "  warnings.warn(\"kurtosistest only valid for n>=20 ... continuing \"\n"
     ]
    }
   ],
   "source": [
    "'''\n",
    "## Assumptions\n",
    "Observations in each sample are independent and identically distributed (iid).\n",
    "\n",
    "## Interpretation\n",
    "H0: the sample has a Gaussian distribution.\n",
    "H1: the sample does not have a Gaussian distribution.\n",
    "\n",
    "## Python Code\n",
    "# Example of the D'Agostino's K^2 Normality Test\n",
    "'''\n",
    "from scipy.stats import normaltest\n",
    "\n",
    "data = [0.873, 2.817, 0.121, -0.945, -0.055, -1.436, 0.360, -1.478, -1.637, -1.869]\n",
    "\n",
    "stat, p = normaltest(data)\n",
    "print('stat=%.3f, p=%.3f' % (stat, p))\n",
    "\n",
    "if p > 0.05:\n",
    "    print('Probably Gaussian')\n",
    "else:\n",
    "    print('Probably not Gaussian')"
   ]
  },
  {
   "cell_type": "markdown",
   "id": "corporate-title",
   "metadata": {},
   "source": [
    "## 3. Anderson-Darling Test\n",
    "Tests whether a data sample has a Gaussian distribution.\n",
    "\n",
    "Anderson-Darling Test is a statistical test that can be used to evaluate whether a data sample comes from one of among many known data samples, named for Theodore Anderson and Donald Darling.\n",
    "\n",
    "It can be used to check whether a data sample is normal. The test is a modified version of a more sophisticated nonparametric goodness-of-fit statistical test called the Kolmogorov-Smirnov test.\n",
    "\n",
    "A feature of the Anderson-Darling test is that it returns a list of critical values rather than a single p-value. This can provide the basis for a more thorough interpretation of the result."
   ]
  },
  {
   "cell_type": "code",
   "execution_count": 3,
   "id": "inappropriate-prime",
   "metadata": {},
   "outputs": [
    {
     "name": "stdout",
     "output_type": "stream",
     "text": [
      "stat=0.424\n",
      "Probably Gaussian at the 15.0% level\n",
      "Probably Gaussian at the 10.0% level\n",
      "Probably Gaussian at the 5.0% level\n",
      "Probably Gaussian at the 2.5% level\n",
      "Probably Gaussian at the 1.0% level\n"
     ]
    }
   ],
   "source": [
    "'''\n",
    "## Assumptions\n",
    "Observations in each sample are independent and identically distributed (iid).\n",
    "\n",
    "## Interpretation\n",
    "H0: the sample has a Gaussian distribution.\n",
    "H1: the sample does not have a Gaussian distribution.\n",
    "\n",
    "## Python Code\n",
    "# Example of the Anderson-Darling Normality Test\n",
    "'''\n",
    "from scipy.stats import anderson\n",
    "\n",
    "data = [0.873, 2.817, 0.121, -0.945, -0.055, -1.436, 0.360, -1.478, -1.637, -1.869]\n",
    "\n",
    "result = anderson(data)\n",
    "print('stat=%.3f' % (result.statistic))\n",
    "\n",
    "for i in range(len(result.critical_values)):\n",
    "    sl, cv = result.significance_level[i], result.critical_values[i]\n",
    "    if result.statistic < cv:\n",
    "        print('Probably Gaussian at the %.1f%% level' % (sl))\n",
    "    else:\n",
    "        print('Probably not Gaussian at the %.1f%% level' % (sl))"
   ]
  },
  {
   "cell_type": "markdown",
   "id": "minute-ceiling",
   "metadata": {},
   "source": [
    "# 4. Kolmogorov-Smirnov test:\n",
    "Performs the one sample or two samples test for goodness of fit."
   ]
  },
  {
   "cell_type": "code",
   "execution_count": 30,
   "id": "starting-hebrew",
   "metadata": {},
   "outputs": [],
   "source": [
    "from scipy.stats import kstest, norm, t\n",
    "\n",
    "# set random seed to get the same result\n",
    "np.random.seed(987654321)"
   ]
  },
  {
   "cell_type": "code",
   "execution_count": 31,
   "id": "olive-scroll",
   "metadata": {},
   "outputs": [
    {
     "data": {
      "text/plain": [
       "KstestResult(statistic=0.4443560271592436, pvalue=0.03885014008678811)"
      ]
     },
     "execution_count": 31,
     "metadata": {},
     "output_type": "execute_result"
    }
   ],
   "source": [
    "x = np.linspace(-15, 15, 9)\n",
    "print(kstest(x, 'norm'))"
   ]
  },
  {
   "cell_type": "code",
   "execution_count": 32,
   "id": "different-generic",
   "metadata": {},
   "outputs": [
    {
     "data": {
      "text/plain": [
       "KstestResult(statistic=0.058352892479417884, pvalue=0.8653960860778898)"
      ]
     },
     "execution_count": 32,
     "metadata": {},
     "output_type": "execute_result"
    }
   ],
   "source": [
    "print(kstest(norm.rvs(size=100), norm.cdf))"
   ]
  },
  {
   "cell_type": "code",
   "execution_count": 16,
   "id": "metallic-investment",
   "metadata": {},
   "outputs": [
    {
     "data": {
      "text/plain": [
       "KstestResult(statistic=0.04800317028247314, pvalue=0.9668132834668092)"
      ]
     },
     "execution_count": 16,
     "metadata": {},
     "output_type": "execute_result"
    }
   ],
   "source": [
    "print(kstest(norm.rvs, 'norm', N=100))"
   ]
  },
  {
   "cell_type": "code",
   "execution_count": 17,
   "id": "entitled-richmond",
   "metadata": {},
   "outputs": [
    {
     "data": {
      "text/plain": [
       "KstestResult(statistic=0.07905316403593618, pvalue=0.27210235764750884)"
      ]
     },
     "execution_count": 17,
     "metadata": {},
     "output_type": "execute_result"
    }
   ],
   "source": [
    "# Test against one-sided alternative hypothesis\n",
    "# Shift distribution to larger values, so that CDF(x) < norm.cdf(x):\n",
    "\n",
    "x = norm.rvs(loc=0.2, size=100)\n",
    "print(kstest(x, 'norm', alternative='less'))"
   ]
  },
  {
   "cell_type": "code",
   "execution_count": 18,
   "id": "handled-symphony",
   "metadata": {},
   "outputs": [
    {
     "data": {
      "text/plain": [
       "KstestResult(statistic=0.039459739311587264, pvalue=0.713828651849974)"
      ]
     },
     "execution_count": 18,
     "metadata": {},
     "output_type": "execute_result"
    }
   ],
   "source": [
    "# Reject equal distribution against alternative hypothesis: less\n",
    "\n",
    "print(kstest(x, 'norm', alternative='greater'))"
   ]
  },
  {
   "cell_type": "code",
   "execution_count": 19,
   "id": "analyzed-pleasure",
   "metadata": {},
   "outputs": [
    {
     "data": {
      "text/plain": [
       "KstestResult(statistic=0.07905316403593618, pvalue=0.5334586665938388)"
      ]
     },
     "execution_count": 19,
     "metadata": {},
     "output_type": "execute_result"
    }
   ],
   "source": [
    "# Don’t reject equal distribution against alternative hypothesis: greater\n",
    "\n",
    "print(kstest(x, 'norm'))"
   ]
  },
  {
   "cell_type": "code",
   "execution_count": 20,
   "id": "british-bolivia",
   "metadata": {},
   "outputs": [
    {
     "data": {
      "text/plain": [
       "KstestResult(statistic=0.10927659201120843, pvalue=0.1703707471117808)"
      ]
     },
     "execution_count": 20,
     "metadata": {},
     "output_type": "execute_result"
    }
   ],
   "source": [
    "# Testing t distributed random variables against normal distribution\n",
    "# With 100 degrees of freedom the t distribution looks close to the normal distribution, and the K-S test does not reject the hypothesis that the sample came from the normal distribution:\n",
    "\n",
    "print(kstest(t.rvs(100, size=100), 'norm'))"
   ]
  },
  {
   "cell_type": "code",
   "execution_count": 21,
   "id": "atmospheric-recording",
   "metadata": {},
   "outputs": [
    {
     "data": {
      "text/plain": [
       "KstestResult(statistic=0.060516215932486295, pvalue=0.8355461126016654)"
      ]
     },
     "execution_count": 21,
     "metadata": {},
     "output_type": "execute_result"
    }
   ],
   "source": [
    "# With 3 degrees of freedom the t distribution looks sufficiently different from the normal distribution, that we can reject the hypothesis that the sample came from the normal distribution at the 10% level:\n",
    "\n",
    "print(kstest(t.rvs(3, size=100), 'norm'))"
   ]
  }
 ],
 "metadata": {
  "kernelspec": {
   "display_name": "Python 3",
   "language": "python",
   "name": "python3"
  },
  "language_info": {
   "codemirror_mode": {
    "name": "ipython",
    "version": 3
   },
   "file_extension": ".py",
   "mimetype": "text/x-python",
   "name": "python",
   "nbconvert_exporter": "python",
   "pygments_lexer": "ipython3",
   "version": "3.8.5"
  }
 },
 "nbformat": 4,
 "nbformat_minor": 5
}
