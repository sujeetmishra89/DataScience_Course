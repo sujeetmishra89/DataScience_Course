{
 "cells": [
  {
   "cell_type": "markdown",
   "id": "amazing-situation",
   "metadata": {},
   "source": [
    "# Stationary Tests\n",
    "\n",
    "Statistical tests that you can use to check if a time series is stationary or not.\n",
    "\n",
    "1. Augmented Dickey-Fuller\n",
    "2. Kwiatkowski-Phillips-Schmidt-Shin\n",
    "\n",
    "## 1. Augmented Dickey-Fuller Unit Root Test\n",
    "Tests whether a time series has a unit root, e.g. has a trend or more generally is autoregressive."
   ]
  },
  {
   "cell_type": "code",
   "execution_count": null,
   "id": "novel-mailing",
   "metadata": {},
   "outputs": [],
   "source": [
    "'''\n",
    "## Assumptions\n",
    "Observations in are temporally ordered.\n",
    "\n",
    "## Interpretation\n",
    "H0: a unit root is present (series is non-stationary).\n",
    "H1: a unit root is not present (series is stationary).\n",
    "\n",
    "## Python Code\n",
    "# Example of the Augmented Dickey-Fuller unit root test\n",
    "'''\n",
    "from statsmodels.tsa.stattools import adfuller\n",
    "\n",
    "data = [0, 1, 2, 3, 4, 5, 6, 7, 8, 9]\n",
    "\n",
    "stat, p, lags, obs, crit, t = adfuller(data)\n",
    "print('stat=%.3f, p=%.3f' % (stat, p))\n",
    "\n",
    "if p > 0.05:\n",
    "    print('Probably not Stationary')\n",
    "else:\n",
    "    print('Probably Stationary')"
   ]
  },
  {
   "cell_type": "markdown",
   "id": "scenic-milan",
   "metadata": {},
   "source": [
    "## 2. Kwiatkowski-Phillips-Schmidt-Shin\n",
    "Tests whether a time series is trend stationary or not."
   ]
  },
  {
   "cell_type": "code",
   "execution_count": null,
   "id": "several-mobile",
   "metadata": {},
   "outputs": [],
   "source": [
    "'''\n",
    "## Assumptions\n",
    "Observations in are temporally ordered.\n",
    "\n",
    "## Interpretation\n",
    "H0: the time series is not trend-stationary.\n",
    "H1: the time series is trend-stationary.\n",
    "\n",
    "## Python Code\n",
    "# Example of the Kwiatkowski-Phillips-Schmidt-Shin test\n",
    "'''\n",
    "from statsmodels.tsa.stattools import kpss\n",
    "\n",
    "data = [0, 1, 2, 3, 4, 5, 6, 7, 8, 9]\n",
    "\n",
    "stat, p, lags, crit = kpss(data)\n",
    "print('stat=%.3f, p=%.3f' % (stat, p))\n",
    "\n",
    "if p > 0.05:\n",
    "    print('Probably not Stationary')\n",
    "else:\n",
    "    print('Probably Stationary')"
   ]
  }
 ],
 "metadata": {
  "kernelspec": {
   "display_name": "Python 3",
   "language": "python",
   "name": "python3"
  },
  "language_info": {
   "codemirror_mode": {
    "name": "ipython",
    "version": 3
   },
   "file_extension": ".py",
   "mimetype": "text/x-python",
   "name": "python",
   "nbconvert_exporter": "python",
   "pygments_lexer": "ipython3",
   "version": "3.8.5"
  }
 },
 "nbformat": 4,
 "nbformat_minor": 5
}
