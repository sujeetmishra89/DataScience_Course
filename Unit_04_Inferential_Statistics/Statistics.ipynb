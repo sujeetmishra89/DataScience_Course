{
 "cells": [
  {
   "cell_type": "markdown",
   "id": "certified-complex",
   "metadata": {},
   "source": [
    "# Why do we need Statistics?"
   ]
  },
  {
   "cell_type": "raw",
   "id": "international-strike",
   "metadata": {},
   "source": [
    "'''\n",
    "Statistics is a collection of tools that you can use to get answers to important questions about data.\n",
    "\n",
    "1. You can use descriptive statistical methods to transform raw observations into information that you can understand and share.\n",
    "2. You can use inferential statistical methods to reason from small samples of data to whole domains.\n",
    "\n",
    "Raw observations alone are data, but they are not information or knowledge.\n",
    "\n",
    "Data raises questions, such as:\n",
    "\n",
    "1. What is the most common or expected observation?\n",
    "2. What are the limits on the observations?\n",
    "3. What does the data look like?\n",
    "4. What variables are most relevant?\n",
    "5. What is the difference between two experiments?\n",
    "6. Are the differences real or the result of noise in the data?\n",
    "\n",
    "These Questions Are Important. The results matter to the project, to stakeholders, and to effective decision making. Statistical methods are required to find answers to the questions that we have about data.\n",
    "'''"
   ]
  },
  {
   "cell_type": "markdown",
   "id": "reverse-organ",
   "metadata": {},
   "source": [
    "# As a machine learning practitioner, you must have an understanding of statistical methods."
   ]
  },
  {
   "cell_type": "raw",
   "id": "seasonal-raleigh",
   "metadata": {},
   "source": [
    "'''\n",
    "We can see that in order to both understand the data used to train a machine learning model and to interpret the results of testing different machine learning models, that statistical methods are required.\n",
    "\n",
    "This is just the tip of the iceberg as each step in a predictive modeling project will require the use of a statistical method.\n",
    "\n",
    "Below are 10 examples of where statistical methods are used in an applied machine learning project.\n",
    "\n",
    "1. Problem Framing: Requires the use of exploratory data analysis and data mining.\n",
    "2. Data Understanding: Requires the use of summary statistics and data visualization.\n",
    "3. Data Cleaning. Requires the use of outlier detection, imputation and more.\n",
    "4. Data Selection. Requires the use of data sampling and feature selection methods.\n",
    "5. Data Preparation. Requires the use of data transforms, scaling, encoding and much more.\n",
    "6. Model Evaluation. Requires experimental design and resampling methods.\n",
    "7. Model Configuration. Requires the use of statistical hypothesis tests and estimation statistics.\n",
    "8. Model Selection. Requires the use of statistical hypothesis tests and estimation statistics.\n",
    "9. Model Presentation. Requires the use of estimation statistics such as confidence intervals.\n",
    "10. Model Predictions. Requires the use of estimation statistics such as prediction intervals.\n",
    "'''"
   ]
  },
  {
   "cell_type": "markdown",
   "id": "sweet-isolation",
   "metadata": {},
   "source": [
    "# The 3 Mistakes Made By Beginners"
   ]
  },
  {
   "cell_type": "raw",
   "id": "motivated-netherlands",
   "metadata": {},
   "source": [
    "'''\n",
    "Once you discover the importance of statistics to machine learning, there are three key mistakes that beginners make:\n",
    "\n",
    "1. Practitioners Don’t Know Stats\n",
    "\n",
    "Developers don’t know statistics and this is a huge problem.\n",
    "Programmers don’t need to know and use statistical methods in order to develop software.\n",
    "Software engineering and computer science courses generally don’t include courses on statistics, let alone advanced statistical tests. As such, it is common for machine learning practitioners coming from the computer science or developer tradition to not know and not value statistical methods.\n",
    "This is a problem given the pervasive use of statistical methods and statistical thinking in the preparation of data, evaluation of learned models, and all other steps in a predictive modeling project.\n",
    "\n",
    "2. Practitioners Study The Wrong Stats\n",
    "\n",
    "Often, machine learning practitioners cotton-on to the need for skills in statistics.\n",
    "This might start with a need to better interpret descriptive statistics or data visualizations and may progress to the need to start using sophisticated hypothesis tests. The problem is, they don’t seek out the statistical information they need.\n",
    "Instead, they try to read through a text book on statistics or work through the material for an undergraduate course on statistics.\n",
    "This approach is slow, it’s boring, and it covers a breadth and depth of material on statistics that is beyond the needs of the machine learning practitioner.\n",
    "\n",
    "3. Practitioners Study Stats The Wrong Way\n",
    "\n",
    "It’s worse than this.\n",
    "Regardless of the medium used to learn statistics, be it books, videos, or course material, machine learning practitioners study statistics the wrong way.\n",
    "Because the material is intended for undergraduate students that need to pass a test, the material is focused on the theory, on proofs, on derivations. This is great for testing students but terrible for practitioners that need results.\n",
    "Practitioners need methods that clearly state when they are appropriate and instruction on how to interpret the result.\n",
    "They need code examples that they can use immediately on their project.\n",
    "'''"
   ]
  },
  {
   "cell_type": "markdown",
   "id": "sublime-twins",
   "metadata": {},
   "source": [
    "# Objective"
   ]
  },
  {
   "cell_type": "raw",
   "id": "current-stability",
   "metadata": {},
   "source": [
    "'''\n",
    "1. About the field of statistics, how it relates to machine learning, and how to harness statistical methods on a machine learning project.\n",
    "2. How to calculate and interpret common summary statistics and how to present data using standard data visualization techniques.\n",
    "3. Findings from mathematical statistics that underlie much of the field, such as the central limit theorem and the law of large numbers.\n",
    "4. How to evaluate and interpret the relationship between variables and the independence of variables.\n",
    "5. How to calculate and interpret parametric statistical hypothesis tests for comparing two or more data samples.\n",
    "6. How to calculate and interpret interval statistics for distributions, population parameters, and observations.\n",
    "7. How to use statistical resampling to make good economic use of available data in order to evaluate predictive models.\n",
    "8. How to calculate and interpret nonparametric statistical hypothesis tests for comparing two or more data samples that do not conform to the expectations of parametric tests.\n",
    "'''"
   ]
  }
 ],
 "metadata": {
  "kernelspec": {
   "display_name": "Python 3",
   "language": "python",
   "name": "python3"
  },
  "language_info": {
   "codemirror_mode": {
    "name": "ipython",
    "version": 3
   },
   "file_extension": ".py",
   "mimetype": "text/x-python",
   "name": "python",
   "nbconvert_exporter": "python",
   "pygments_lexer": "ipython3",
   "version": "3.8.5"
  }
 },
 "nbformat": 4,
 "nbformat_minor": 5
}
