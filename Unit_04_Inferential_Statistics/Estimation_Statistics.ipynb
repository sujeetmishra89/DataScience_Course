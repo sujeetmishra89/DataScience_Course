{
 "cells": [
  {
   "cell_type": "markdown",
   "id": "adjacent-anxiety",
   "metadata": {},
   "source": [
    "# Estimation_Statistics\n",
    "\n",
    "The alternative and complementary methods to hypothesis testing called estimation statistics."
   ]
  },
  {
   "cell_type": "raw",
   "id": "divine-google",
   "metadata": {},
   "source": [
    "The calculation of tolerance intervals to quantify expected range of values from a data distribution."
   ]
  },
  {
   "cell_type": "raw",
   "id": "single-vanilla",
   "metadata": {},
   "source": [
    "The calculation of confidence intervals to quantify the expected range of values for a population parameter."
   ]
  },
  {
   "cell_type": "raw",
   "id": "controlling-paintball",
   "metadata": {},
   "source": [
    "The calculation of prediction intervals to quantify the expected range of values for a predicted point value."
   ]
  }
 ],
 "metadata": {
  "kernelspec": {
   "display_name": "Python 3",
   "language": "python",
   "name": "python3"
  },
  "language_info": {
   "codemirror_mode": {
    "name": "ipython",
    "version": 3
   },
   "file_extension": ".py",
   "mimetype": "text/x-python",
   "name": "python",
   "nbconvert_exporter": "python",
   "pygments_lexer": "ipython3",
   "version": "3.8.5"
  }
 },
 "nbformat": 4,
 "nbformat_minor": 5
}
