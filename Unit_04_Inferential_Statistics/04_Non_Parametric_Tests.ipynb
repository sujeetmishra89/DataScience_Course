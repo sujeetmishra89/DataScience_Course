{
 "cells": [
  {
   "cell_type": "markdown",
   "id": "hourly-commodity",
   "metadata": {},
   "source": [
    "# Nonparametric Statistical Hypothesis Tests\n",
    "\n",
    "If a data sample is not Gaussian, then the assumptions of parametric statistical tests are violated and nonparametric statistical methods must be used.\n",
    " \n",
    "Compare Sample Means (nonparametric)\n",
    "\n",
    "1. Mann-Whitney U Test\n",
    "2. Wilcoxon Signed-Rank Test\n",
    "3. Kruskal-Wallis H Test\n",
    "4. Friedman Test"
   ]
  },
  {
   "cell_type": "code",
   "execution_count": 2,
   "id": "southwest-mexico",
   "metadata": {},
   "outputs": [
    {
     "name": "stdout",
     "output_type": "stream",
     "text": [
      "data1: mean=52.429 stdv=1.472\n",
      "data2: mean=53.424 stdv=1.581\n"
     ]
    }
   ],
   "source": [
    "import numpy as np\n",
    "\n",
    "# seed the random number generator\n",
    "np.random.seed(1)\n",
    "\n",
    "# generate two sets of univariate observations\n",
    "# data1 = [0.873, 2.817, 0.121, -0.945, -0.055, -1.436, 0.360, -1.478, -1.637, -1.869]\n",
    "# data2 = [1.142, -0.432, -0.938, -0.729, -0.846, -0.157, 0.500, 1.183, -1.075, -0.169]\n",
    "# data3 = [-0.208, 0.696, 0.928, -1.148, -0.213, 0.229, 0.137, 0.269, -0.870, -1.204]\n",
    "\n",
    "data1 = 5 * np.random.rand(100) + 50\n",
    "data2 = 5 * np.random.rand(100) + 51\n",
    "\n",
    "# summarize\n",
    "print('data1: mean=%.3f stdv=%.3f' % (np.mean(data1), np.std(data1)))\n",
    "print('data2: mean=%.3f stdv=%.3f' % (np.mean(data2), np.std(data2)))"
   ]
  },
  {
   "cell_type": "markdown",
   "id": "recovered-modern",
   "metadata": {},
   "source": [
    "# 1. Mann-Whitney U Test\n",
    "\n",
    "The Mann-Whitney U test is a nonparametric statistical significance test for determining whether two independent samples were drawn from a population with the same distribution, named for Henry Mann and Donald Whitney, although it is sometimes called the Wilcoxon-Mann-Whitney test, also named for Frank Wilcoxon, who also developed a variation of the test."
   ]
  },
  {
   "cell_type": "code",
   "execution_count": 3,
   "id": "geological-control",
   "metadata": {},
   "outputs": [
    {
     "name": "stdout",
     "output_type": "stream",
     "text": [
      "stat=3225.000, p=0.000\n",
      "Different distribution (reject H0)\n"
     ]
    }
   ],
   "source": [
    "'''\n",
    "Tests whether the distributions of two independent samples are equal or not.\n",
    "\n",
    "The nonparametric version of the Student t-test.\n",
    "\n",
    "The two samples are combined and rank ordered together.\n",
    "The strategy is to determine if the values from the two samples are randomly mixed in the rank ordering or\n",
    "if they are clustered at opposite ends when combined. A random rank order would mean that the two samples are not different,\n",
    "while a cluster of one sample values would indicate a difference between them.\n",
    "\n",
    "## Assumptions\n",
    "Observations in each sample are independent and identically distributed (iid).\n",
    "Observations in each sample can be ranked.\n",
    "\n",
    "## Interpretation\n",
    "H0: the distributions of both samples are equal.\n",
    "H1: the distributions of both samples are not equal.\n",
    "\n",
    "## Python Code\n",
    "# Example of the Mann-Whitney U Test\n",
    "'''\n",
    "from scipy.stats import mannwhitneyu\n",
    "\n",
    "stat, p = mannwhitneyu(data1, data2)\n",
    "print('stat=%.3f, p=%.3f' % (stat, p))\n",
    "\n",
    "if p > 0.05:\n",
    "    print('Same distribution (fail to reject H0)')\n",
    "else:\n",
    "    print('Different distribution (reject H0)')"
   ]
  },
  {
   "cell_type": "markdown",
   "id": "tight-original",
   "metadata": {},
   "source": [
    "# 2. Wilcoxon Signed-Rank Test\n",
    "\n",
    "The Wilcoxon signed ranks test is a nonparametric statistical procedure for comparing two samples that are paired, or related.\n",
    "The parametric equivalent to the Wilcoxon signed ranks test goes by names such as\n",
    "the Student’s t-test, t-test for matched pairs, t-test for paired samples, or t-test for dependent samples, also called the Wilcoxon T test, named for Frank Wilcoxon."
   ]
  },
  {
   "cell_type": "code",
   "execution_count": 4,
   "id": "native-alliance",
   "metadata": {},
   "outputs": [
    {
     "name": "stdout",
     "output_type": "stream",
     "text": [
      "stat=1373.000, p=0.000\n",
      "Probably different distributions\n"
     ]
    }
   ],
   "source": [
    "'''\n",
    "Tests whether the distributions of two paired samples are equal or not.\n",
    "\n",
    "The samples are not independent, therefore the Mann-Whitney U test cannot be used.\n",
    "Instead, the Wilcoxon signed-rank test is used.\n",
    "\n",
    "It is the equivalent of the paired Student T-test, but for ranked data instead of real valued data with a Gaussian distribution.\n",
    "\n",
    "## Assumptions\n",
    "Observations in each sample are independent and identically distributed (iid).\n",
    "Observations in each sample can be ranked.\n",
    "Observations across each sample are paired.\n",
    "\n",
    "## Interpretation\n",
    "H0: the distributions of both samples are equal.\n",
    "H1: the distributions of both samples are not equal.\n",
    "\n",
    "## Python Code\n",
    "# Example of the Wilcoxon Signed-Rank Test\n",
    "'''\n",
    "from scipy.stats import wilcoxon\n",
    "\n",
    "stat, p = wilcoxon(data1, data2)\n",
    "print('stat=%.3f, p=%.3f' % (stat, p))\n",
    "\n",
    "if p > 0.05:\n",
    "    print('Probably the same distribution')\n",
    "else:\n",
    "    print('Probably different distributions')"
   ]
  },
  {
   "cell_type": "markdown",
   "id": "divine-archive",
   "metadata": {},
   "source": [
    "# 3. Kruskal-Wallis H Test\n",
    "\n",
    "Tests whether the distributions of two or more independent samples are equal or not.\n",
    "compares two or more groups with an independent variable, based on a dependent variable.\n",
    "one-way ANOVA on ranks, named for William Kruskal and Wilson Wallis."
   ]
  },
  {
   "cell_type": "code",
   "execution_count": 5,
   "id": "atlantic-experience",
   "metadata": {},
   "outputs": [
    {
     "name": "stdout",
     "output_type": "stream",
     "text": [
      "stat=9.877, p=0.007\n",
      "Different distributions (reject H0)\n"
     ]
    }
   ],
   "source": [
    "'''\n",
    "When working with significance tests, such as Mann-Whitney U and the Wilcoxon signed-rank tests,\n",
    "comparisons between data samples must be performed pair-wise.\n",
    "\n",
    "This can be inefficient if you have many data samples and you are only interested in whether\n",
    "two or more samples have a different distribution.\n",
    "\n",
    "The Kruskal-Wallis test is a nonparametric version of the one-way analysis of variance test or ANOVA for short.\n",
    "This test can be used to determine whether more than two independent samples have a different distribution.\n",
    "It can be thought of as the generalization of the Mann-Whitney U test.\n",
    "\n",
    "When the Kruskal-Wallis H-test leads to significant results, then at least one of the samples is different from the other samples.\n",
    "However, the test does not identify where the difference(s) occur. Moreover, it does not identify how many differences occur.\n",
    "To identify the particular differences between sample pairs, a researcher might use sample contrasts, or post hoc tests,\n",
    "to analyze the specific sample pairs for significant difference(s).\n",
    "\n",
    "The Mann-Whitney U-test is a useful method for performing sample contrasts between individual sample sets.\n",
    "\n",
    "## Assumptions\n",
    "Observations in each sample are independent and identically distributed (iid).\n",
    "Observations in each sample can be ranked.\n",
    "\n",
    "## Interpretation\n",
    "H0: the distributions of all samples are equal.\n",
    "H1: the distributions of one or more samples are not equal.\n",
    "\n",
    "## Python Code\n",
    "# Example of the Kruskal-Wallis H Test\n",
    "'''\n",
    "data1 = 5 * np.random.randn(100) + 50\n",
    "data2 = 5 * np.random.randn(100) + 50\n",
    "data3 = 5 * np.random.randn(100) + 52\n",
    "\n",
    "from scipy.stats import kruskal\n",
    "\n",
    "stat, p = kruskal(data1, data2, data3)\n",
    "print('stat=%.3f, p=%.3f' % (stat, p))\n",
    "\n",
    "# interpret\n",
    "alpha = 0.05\n",
    "if p > alpha:\n",
    "    print('Same distributions (fail to reject H0)')\n",
    "else:\n",
    "    print('Different distributions (reject H0)')"
   ]
  },
  {
   "cell_type": "markdown",
   "id": "administrative-tobago",
   "metadata": {},
   "source": [
    "# 4. Friedman Test\n",
    "\n",
    "If the samples are paired in some way, such as repeated measures, then the Kruskal-Wallis H test would not be appropriate.\n",
    "Instead, the Friedman test can be used, named for Milton Friedman."
   ]
  },
  {
   "cell_type": "code",
   "execution_count": 6,
   "id": "practical-crisis",
   "metadata": {},
   "outputs": [
    {
     "name": "stdout",
     "output_type": "stream",
     "text": [
      "stat=5.180, p=0.075\n",
      "Probably the same distribution\n"
     ]
    }
   ],
   "source": [
    "'''\n",
    "Tests whether the distributions of two or more paired samples are equal or not.\n",
    "\n",
    "The Friedman test is the nonparametric version of the repeated measures analysis of variance test, or repeated measures ANOVA.\n",
    "The test can be thought of as a generalization of the Kruskal-Wallis H Test to more than two samples.\n",
    "\n",
    "The Friedman test is a nonparametric statistical procedure for comparing more than two samples that are related.\n",
    "The parametric equivalent to this test is the repeated measures analysis of variance (ANOVA).\n",
    "When the Friedman test leads to significant results, at least one of the samples is different from the other samples.\n",
    "\n",
    "## Assumptions\n",
    "Observations in each sample are independent and identically distributed (iid).\n",
    "Observations in each sample can be ranked.\n",
    "Observations across each sample are paired.\n",
    "\n",
    "## Interpretation\n",
    "H0: the distributions of all samples are equal.\n",
    "H1: the distributions of one or more samples are not equal.\n",
    "\n",
    "## Python Code\n",
    "# Example of the Friedman Test\n",
    "'''\n",
    "from scipy.stats import friedmanchisquare\n",
    "\n",
    "stat, p = friedmanchisquare(data1, data2, data3)\n",
    "print('stat=%.3f, p=%.3f' % (stat, p))\n",
    "\n",
    "if p > 0.05:\n",
    "    print('Probably the same distribution')\n",
    "else:\n",
    "    print('Probably different distributions')"
   ]
  }
 ],
 "metadata": {
  "kernelspec": {
   "display_name": "Python 3",
   "language": "python",
   "name": "python3"
  },
  "language_info": {
   "codemirror_mode": {
    "name": "ipython",
    "version": 3
   },
   "file_extension": ".py",
   "mimetype": "text/x-python",
   "name": "python",
   "nbconvert_exporter": "python",
   "pygments_lexer": "ipython3",
   "version": "3.8.5"
  }
 },
 "nbformat": 4,
 "nbformat_minor": 5
}
